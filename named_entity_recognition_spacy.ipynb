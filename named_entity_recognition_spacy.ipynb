{
 "cells": [
  {
   "attachments": {},
   "cell_type": "markdown",
   "metadata": {},
   "source": [
    "#### This file will concern itself with the *Named Entity Recognition (NER)* part of the project."
   ]
  },
  {
   "attachments": {},
   "cell_type": "markdown",
   "metadata": {},
   "source": [
    "The pre-trained model is loaded only with the EntityRecognizer pipeline enabled to improve loading and inference speed. Other pipelines are disabled such as ones concerned with POS tagging, lemmatization, parsing, etc."
   ]
  },
  {
   "cell_type": "code",
   "execution_count": 1,
   "metadata": {},
   "outputs": [
    {
     "name": "stdout",
     "output_type": "stream",
     "text": [
      "Spacy NLP model named 'en_core_web_sm' successfully loaded\n"
     ]
    }
   ],
   "source": [
    "import spacy\n",
    "from spacy import displacy\n",
    "\n",
    "spacy.prefer_gpu()\n",
    "model_name = \"en_core_web_sm\"\n",
    "nlp = spacy.load(model_name, enable = ['ner'])\n",
    "print(\"Spacy NLP model named '{}' successfully loaded\".format(model_name))"
   ]
  },
  {
   "attachments": {},
   "cell_type": "markdown",
   "metadata": {},
   "source": [
    "The *Named Entity Recognition* pipeline that the model is equipped with is able to detect the following tags by default.\n",
    "\n",
    "In **our** case, we are only interested in the GPE, LAW, LOC, PERSON, and PRODUCT tags."
   ]
  },
  {
   "cell_type": "code",
   "execution_count": 2,
   "metadata": {},
   "outputs": [
    {
     "data": {
      "text/plain": [
       "['CARDINAL',\n",
       " 'DATE',\n",
       " 'EVENT',\n",
       " 'FAC',\n",
       " 'GPE',\n",
       " 'LANGUAGE',\n",
       " 'LAW',\n",
       " 'LOC',\n",
       " 'MONEY',\n",
       " 'NORP',\n",
       " 'ORDINAL',\n",
       " 'ORG',\n",
       " 'PERCENT',\n",
       " 'PERSON',\n",
       " 'PRODUCT',\n",
       " 'QUANTITY',\n",
       " 'TIME',\n",
       " 'WORK_OF_ART']"
      ]
     },
     "execution_count": 2,
     "metadata": {},
     "output_type": "execute_result"
    }
   ],
   "source": [
    "nlp.pipe_labels['ner']"
   ]
  },
  {
   "attachments": {},
   "cell_type": "markdown",
   "metadata": {},
   "source": [
    "A pretrained model is loaded from the NLP library *Spacy* which takes sentences as input and performs several sentence tagging tasks including NER which we are interested in.\n",
    "\n",
    "A great visualization of the entity recognition process is displayed by the *displacy* suite."
   ]
  },
  {
   "cell_type": "code",
   "execution_count": 3,
   "metadata": {},
   "outputs": [
    {
     "name": "stdout",
     "output_type": "stream",
     "text": [
      "Example I: \n"
     ]
    },
    {
     "data": {
      "text/html": [
       "<span class=\"tex2jax_ignore\"><div class=\"entities\" style=\"line-height: 2.5; direction: ltr\">\n",
       "<mark class=\"entity\" style=\"background: #aa9cfc; padding: 0.45em 0.6em; margin: 0 0.25em; line-height: 1; border-radius: 0.35em;\">\n",
       "    klevio\n",
       "    <span style=\"font-size: 0.8em; font-weight: bold; line-height: 1; border-radius: 0.35em; vertical-align: middle; margin-left: 0.5rem\">PERSON</span>\n",
       "</mark>\n",
       " is a singer from \n",
       "<mark class=\"entity\" style=\"background: #feca74; padding: 0.45em 0.6em; margin: 0 0.25em; line-height: 1; border-radius: 0.35em;\">\n",
       "    Albania\n",
       "    <span style=\"font-size: 0.8em; font-weight: bold; line-height: 1; border-radius: 0.35em; vertical-align: middle; margin-left: 0.5rem\">GPE</span>\n",
       "</mark>\n",
       " who usually goes to \n",
       "<mark class=\"entity\" style=\"background: #feca74; padding: 0.45em 0.6em; margin: 0 0.25em; line-height: 1; border-radius: 0.35em;\">\n",
       "    Greece\n",
       "    <span style=\"font-size: 0.8em; font-weight: bold; line-height: 1; border-radius: 0.35em; vertical-align: middle; margin-left: 0.5rem\">GPE</span>\n",
       "</mark>\n",
       " and works in \n",
       "<mark class=\"entity\" style=\"background: #7aecec; padding: 0.45em 0.6em; margin: 0 0.25em; line-height: 1; border-radius: 0.35em;\">\n",
       "    UBS\n",
       "    <span style=\"font-size: 0.8em; font-weight: bold; line-height: 1; border-radius: 0.35em; vertical-align: middle; margin-left: 0.5rem\">ORG</span>\n",
       "</mark>\n",
       ". He lives in \n",
       "<mark class=\"entity\" style=\"background: #ff9561; padding: 0.45em 0.6em; margin: 0 0.25em; line-height: 1; border-radius: 0.35em;\">\n",
       "    Lake Geneva\n",
       "    <span style=\"font-size: 0.8em; font-weight: bold; line-height: 1; border-radius: 0.35em; vertical-align: middle; margin-left: 0.5rem\">LOC</span>\n",
       "</mark>\n",
       " and owns a \n",
       "<mark class=\"entity\" style=\"background: #bfeeb7; padding: 0.45em 0.6em; margin: 0 0.25em; line-height: 1; border-radius: 0.35em;\">\n",
       "    Mercedes\n",
       "    <span style=\"font-size: 0.8em; font-weight: bold; line-height: 1; border-radius: 0.35em; vertical-align: middle; margin-left: 0.5rem\">PRODUCT</span>\n",
       "</mark>\n",
       " car.</div></span>"
      ],
      "text/plain": [
       "<IPython.core.display.HTML object>"
      ]
     },
     "metadata": {},
     "output_type": "display_data"
    },
    {
     "name": "stdout",
     "output_type": "stream",
     "text": [
      "Example II: \n"
     ]
    },
    {
     "data": {
      "text/html": [
       "<span class=\"tex2jax_ignore\"><div class=\"entities\" style=\"line-height: 2.5; direction: ltr\">The government in \n",
       "<mark class=\"entity\" style=\"background: #feca74; padding: 0.45em 0.6em; margin: 0 0.25em; line-height: 1; border-radius: 0.35em;\">\n",
       "    Senegal\n",
       "    <span style=\"font-size: 0.8em; font-weight: bold; line-height: 1; border-radius: 0.35em; vertical-align: middle; margin-left: 0.5rem\">GPE</span>\n",
       "</mark>\n",
       " just passed a law on \n",
       "<mark class=\"entity\" style=\"background: #bfe1d9; padding: 0.45em 0.6em; margin: 0 0.25em; line-height: 1; border-radius: 0.35em;\">\n",
       "    the 2nd of February\n",
       "    <span style=\"font-size: 0.8em; font-weight: bold; line-height: 1; border-radius: 0.35em; vertical-align: middle; margin-left: 0.5rem\">DATE</span>\n",
       "</mark>\n",
       " regarding universal healthcare, named \n",
       "<mark class=\"entity\" style=\"background: #ff8197; padding: 0.45em 0.6em; margin: 0 0.25em; line-height: 1; border-radius: 0.35em;\">\n",
       "    Universal Care Act\n",
       "    <span style=\"font-size: 0.8em; font-weight: bold; line-height: 1; border-radius: 0.35em; vertical-align: middle; margin-left: 0.5rem\">LAW</span>\n",
       "</mark>\n",
       ", passed in parliament also in \n",
       "<mark class=\"entity\" style=\"background: #ff8197; padding: 0.45em 0.6em; margin: 0 0.25em; line-height: 1; border-radius: 0.35em;\">\n",
       "    French\n",
       "    <span style=\"font-size: 0.8em; font-weight: bold; line-height: 1; border-radius: 0.35em; vertical-align: middle; margin-left: 0.5rem\">LANGUAGE</span>\n",
       "</mark>\n",
       "</div></span>"
      ],
      "text/plain": [
       "<IPython.core.display.HTML object>"
      ]
     },
     "metadata": {},
     "output_type": "display_data"
    },
    {
     "name": "stdout",
     "output_type": "stream",
     "text": [
      "Example III: \n"
     ]
    },
    {
     "data": {
      "text/html": [
       "<span class=\"tex2jax_ignore\"><div class=\"entities\" style=\"line-height: 2.5; direction: ltr\">\n",
       "<mark class=\"entity\" style=\"background: #7aecec; padding: 0.45em 0.6em; margin: 0 0.25em; line-height: 1; border-radius: 0.35em;\">\n",
       "    World Health Organization\n",
       "    <span style=\"font-size: 0.8em; font-weight: bold; line-height: 1; border-radius: 0.35em; vertical-align: middle; margin-left: 0.5rem\">ORG</span>\n",
       "</mark>\n",
       " in \n",
       "<mark class=\"entity\" style=\"background: #feca74; padding: 0.45em 0.6em; margin: 0 0.25em; line-height: 1; border-radius: 0.35em;\">\n",
       "    Geneva\n",
       "    <span style=\"font-size: 0.8em; font-weight: bold; line-height: 1; border-radius: 0.35em; vertical-align: middle; margin-left: 0.5rem\">GPE</span>\n",
       "</mark>\n",
       "</div></span>"
      ],
      "text/plain": [
       "<IPython.core.display.HTML object>"
      ]
     },
     "metadata": {},
     "output_type": "display_data"
    }
   ],
   "source": [
    "example_text_1 = \"klevio is a singer from Albania who usually goes to Greece and works in UBS. He lives in Lake Geneva and owns a Mercedes car.\"\n",
    "doc1 = nlp(example_text_1)\n",
    "print('Example I: ')\n",
    "displacy.render(doc1, style = 'ent')\n",
    "\n",
    "doc2 = nlp('The government in Senegal just passed a law on the 2nd of February regarding universal healthcare, named Universal Care Act, passed in parliament also in French')\n",
    "print('Example II: ')\n",
    "displacy.render(doc2, style = 'ent')\n",
    "\n",
    "doc3 = nlp('World Health Organization in Geneva')\n",
    "print('Example III: ')\n",
    "displacy.render(doc3, style = 'ent')"
   ]
  },
  {
   "attachments": {},
   "cell_type": "markdown",
   "metadata": {},
   "source": [
    "An example of how entities found in the text are saved."
   ]
  },
  {
   "cell_type": "code",
   "execution_count": 4,
   "metadata": {},
   "outputs": [
    {
     "name": "stdout",
     "output_type": "stream",
     "text": [
      "Entity: klevio, Label: PERSON, Label ID: 380 \n",
      "Entity: Albania, Label: GPE, Label ID: 384 \n",
      "Entity: Greece, Label: GPE, Label ID: 384 \n",
      "Entity: UBS, Label: ORG, Label ID: 383 \n",
      "Entity: Lake Geneva, Label: LOC, Label ID: 385 \n",
      "Entity: Mercedes, Label: PRODUCT, Label ID: 386 \n"
     ]
    }
   ],
   "source": [
    "for ent in doc1.ents:\n",
    "    print(\"Entity: {}, Label: {}, Label ID: {} \".format(ent.text, ent.label_, ent.label))"
   ]
  },
  {
   "attachments": {},
   "cell_type": "markdown",
   "metadata": {},
   "source": [
    "Our custom dataset containing different sentences related to global digital health organizations, products, people, countries, and laws will be loaded from Prodigy in a format which is friendly to the Spacy library.\n",
    "\n",
    "This dataset will be used for our supervised entity recognition learning task."
   ]
  },
  {
   "cell_type": "code",
   "execution_count": 5,
   "metadata": {},
   "outputs": [
    {
     "name": "stdout",
     "output_type": "stream",
     "text": [
      "Custom Health NER Dataset loaded and shuffled\n"
     ]
    }
   ],
   "source": [
    "import random\n",
    "from prodigy.components.db import connect\n",
    "from spacy.scorer import Scorer\n",
    "\n",
    "def evaluate_model(nlp, examples_list):\n",
    "    scorer = nlp.evaluate(examples_list)\n",
    "    return scorer.scores\n",
    "\n",
    "\n",
    "#### Load and shuffle dataset\n",
    "seed = 596\n",
    "random.seed(seed)\n",
    "db = connect()\n",
    "ner_dataset = db.get_dataset('ner_500_health')\n",
    "random.shuffle(ner_dataset)\n",
    "print('Custom Health NER Dataset loaded and shuffled')"
   ]
  },
  {
   "attachments": {},
   "cell_type": "markdown",
   "metadata": {},
   "source": [
    "One sample from the loaded dataset. Sentences with annotated entities are saved in a *JSONL* format with the *'text'* field holding the text input and the *'spans'* field holding the annotated entity spans. "
   ]
  },
  {
   "cell_type": "code",
   "execution_count": 6,
   "metadata": {},
   "outputs": [
    {
     "data": {
      "text/plain": [
       "{'text': 'The Web site operators, based outside the United States, forwarded his request and associated questionnaires to Colorado psychiatrist Dr Christian Hageseth.',\n",
       " '_input_hash': -1967958515,\n",
       " '_task_hash': 1622678098,\n",
       " 'tokens': [{'text': 'The', 'start': 0, 'end': 3, 'id': 0, 'ws': True},\n",
       "  {'text': 'Web', 'start': 4, 'end': 7, 'id': 1, 'ws': True},\n",
       "  {'text': 'site', 'start': 8, 'end': 12, 'id': 2, 'ws': True},\n",
       "  {'text': 'operators', 'start': 13, 'end': 22, 'id': 3, 'ws': False},\n",
       "  {'text': ',', 'start': 22, 'end': 23, 'id': 4, 'ws': True},\n",
       "  {'text': 'based', 'start': 24, 'end': 29, 'id': 5, 'ws': True},\n",
       "  {'text': 'outside', 'start': 30, 'end': 37, 'id': 6, 'ws': True},\n",
       "  {'text': 'the', 'start': 38, 'end': 41, 'id': 7, 'ws': True},\n",
       "  {'text': 'United', 'start': 42, 'end': 48, 'id': 8, 'ws': True},\n",
       "  {'text': 'States', 'start': 49, 'end': 55, 'id': 9, 'ws': False},\n",
       "  {'text': ',', 'start': 55, 'end': 56, 'id': 10, 'ws': True},\n",
       "  {'text': 'forwarded', 'start': 57, 'end': 66, 'id': 11, 'ws': True},\n",
       "  {'text': 'his', 'start': 67, 'end': 70, 'id': 12, 'ws': True},\n",
       "  {'text': 'request', 'start': 71, 'end': 78, 'id': 13, 'ws': True},\n",
       "  {'text': 'and', 'start': 79, 'end': 82, 'id': 14, 'ws': True},\n",
       "  {'text': 'associated', 'start': 83, 'end': 93, 'id': 15, 'ws': True},\n",
       "  {'text': 'questionnaires', 'start': 94, 'end': 108, 'id': 16, 'ws': True},\n",
       "  {'text': 'to', 'start': 109, 'end': 111, 'id': 17, 'ws': True},\n",
       "  {'text': 'Colorado', 'start': 112, 'end': 120, 'id': 18, 'ws': True},\n",
       "  {'text': 'psychiatrist', 'start': 121, 'end': 133, 'id': 19, 'ws': True},\n",
       "  {'text': 'Dr', 'start': 134, 'end': 136, 'id': 20, 'ws': True},\n",
       "  {'text': 'Christian', 'start': 137, 'end': 146, 'id': 21, 'ws': True},\n",
       "  {'text': 'Hageseth', 'start': 147, 'end': 155, 'id': 22, 'ws': False},\n",
       "  {'text': '.', 'start': 155, 'end': 156, 'id': 23, 'ws': False}],\n",
       " 'spans': [{'start': 42,\n",
       "   'end': 55,\n",
       "   'token_start': 8,\n",
       "   'token_end': 9,\n",
       "   'label': 'GPE'},\n",
       "  {'start': 112,\n",
       "   'end': 120,\n",
       "   'text': 'Colorado',\n",
       "   'source': 'en_core_web_sm',\n",
       "   'input_hash': -1967958515,\n",
       "   'token_start': 18,\n",
       "   'token_end': 18,\n",
       "   'label': 'GPE'},\n",
       "  {'start': 134,\n",
       "   'end': 155,\n",
       "   'token_start': 20,\n",
       "   'token_end': 22,\n",
       "   'label': 'PERSON'}],\n",
       " '_is_binary': False,\n",
       " '_view_id': 'ner_manual',\n",
       " 'answer': 'accept',\n",
       " '_timestamp': 1681324887}"
      ]
     },
     "execution_count": 6,
     "metadata": {},
     "output_type": "execute_result"
    }
   ],
   "source": [
    "test_sample = ner_dataset[0]\n",
    "test_sample"
   ]
  },
  {
   "attachments": {},
   "cell_type": "markdown",
   "metadata": {},
   "source": [
    "##### NER Evaluation"
   ]
  },
  {
   "cell_type": "code",
   "execution_count": 7,
   "metadata": {},
   "outputs": [
    {
     "name": "stdout",
     "output_type": "stream",
     "text": [
      "{'text': 'The Web site operators, based outside the United States, forwarded his request and associated questionnaires to Colorado psychiatrist Dr Christian Hageseth.', '_input_hash': -1967958515, '_task_hash': 1622678098, 'tokens': [{'text': 'The', 'start': 0, 'end': 3, 'id': 0, 'ws': True}, {'text': 'Web', 'start': 4, 'end': 7, 'id': 1, 'ws': True}, {'text': 'site', 'start': 8, 'end': 12, 'id': 2, 'ws': True}, {'text': 'operators', 'start': 13, 'end': 22, 'id': 3, 'ws': False}, {'text': ',', 'start': 22, 'end': 23, 'id': 4, 'ws': True}, {'text': 'based', 'start': 24, 'end': 29, 'id': 5, 'ws': True}, {'text': 'outside', 'start': 30, 'end': 37, 'id': 6, 'ws': True}, {'text': 'the', 'start': 38, 'end': 41, 'id': 7, 'ws': True}, {'text': 'United', 'start': 42, 'end': 48, 'id': 8, 'ws': True}, {'text': 'States', 'start': 49, 'end': 55, 'id': 9, 'ws': False}, {'text': ',', 'start': 55, 'end': 56, 'id': 10, 'ws': True}, {'text': 'forwarded', 'start': 57, 'end': 66, 'id': 11, 'ws': True}, {'text': 'his', 'start': 67, 'end': 70, 'id': 12, 'ws': True}, {'text': 'request', 'start': 71, 'end': 78, 'id': 13, 'ws': True}, {'text': 'and', 'start': 79, 'end': 82, 'id': 14, 'ws': True}, {'text': 'associated', 'start': 83, 'end': 93, 'id': 15, 'ws': True}, {'text': 'questionnaires', 'start': 94, 'end': 108, 'id': 16, 'ws': True}, {'text': 'to', 'start': 109, 'end': 111, 'id': 17, 'ws': True}, {'text': 'Colorado', 'start': 112, 'end': 120, 'id': 18, 'ws': True}, {'text': 'psychiatrist', 'start': 121, 'end': 133, 'id': 19, 'ws': True}, {'text': 'Dr', 'start': 134, 'end': 136, 'id': 20, 'ws': True}, {'text': 'Christian', 'start': 137, 'end': 146, 'id': 21, 'ws': True}, {'text': 'Hageseth', 'start': 147, 'end': 155, 'id': 22, 'ws': False}, {'text': '.', 'start': 155, 'end': 156, 'id': 23, 'ws': False}], 'spans': [{'start': 42, 'end': 55, 'token_start': 8, 'token_end': 9, 'label': 'GPE'}, {'start': 112, 'end': 120, 'text': 'Colorado', 'source': 'en_core_web_sm', 'input_hash': -1967958515, 'token_start': 18, 'token_end': 18, 'label': 'GPE'}, {'start': 134, 'end': 155, 'token_start': 20, 'token_end': 22, 'label': 'PERSON'}], '_is_binary': False, '_view_id': 'ner_manual', 'answer': 'accept', '_timestamp': 1681324887}\n",
      "{'text': 'No relevant rulings by Swiss Federal courts are present to help guide practice.', '_input_hash': 2089285372, '_task_hash': 1688047717, 'tokens': [{'text': 'No', 'start': 0, 'end': 2, 'id': 0, 'ws': True}, {'text': 'relevant', 'start': 3, 'end': 11, 'id': 1, 'ws': True}, {'text': 'rulings', 'start': 12, 'end': 19, 'id': 2, 'ws': True}, {'text': 'by', 'start': 20, 'end': 22, 'id': 3, 'ws': True}, {'text': 'Swiss', 'start': 23, 'end': 28, 'id': 4, 'ws': True}, {'text': 'Federal', 'start': 29, 'end': 36, 'id': 5, 'ws': True}, {'text': 'courts', 'start': 37, 'end': 43, 'id': 6, 'ws': True}, {'text': 'are', 'start': 44, 'end': 47, 'id': 7, 'ws': True}, {'text': 'present', 'start': 48, 'end': 55, 'id': 8, 'ws': True}, {'text': 'to', 'start': 56, 'end': 58, 'id': 9, 'ws': True}, {'text': 'help', 'start': 59, 'end': 63, 'id': 10, 'ws': True}, {'text': 'guide', 'start': 64, 'end': 69, 'id': 11, 'ws': True}, {'text': 'practice', 'start': 70, 'end': 78, 'id': 12, 'ws': False}, {'text': '.', 'start': 78, 'end': 79, 'id': 13, 'ws': True}], 'spans': [{'start': 23, 'end': 43, 'token_start': 4, 'token_end': 6, 'label': 'ORG'}], '_is_binary': False, '_view_id': 'ner_manual', 'answer': 'accept', '_timestamp': 1681321272}\n",
      "{'text': 'As the GLOBOCAN statistics produced by the International Agency for Research on Cancer (IARC) predict a sharp increase in cancers by 2040, particularly in LMICs, more healthcare workers and more hospitals will be engaged in cancer care and chemotherapy drug use.', '_input_hash': 1879046103, '_task_hash': 68578069, 'tokens': [{'text': 'As', 'start': 0, 'end': 2, 'id': 0, 'ws': True}, {'text': 'the', 'start': 3, 'end': 6, 'id': 1, 'ws': True}, {'text': 'GLOBOCAN', 'start': 7, 'end': 15, 'id': 2, 'ws': True}, {'text': 'statistics', 'start': 16, 'end': 26, 'id': 3, 'ws': True}, {'text': 'produced', 'start': 27, 'end': 35, 'id': 4, 'ws': True}, {'text': 'by', 'start': 36, 'end': 38, 'id': 5, 'ws': True}, {'text': 'the', 'start': 39, 'end': 42, 'id': 6, 'ws': True}, {'text': 'International', 'start': 43, 'end': 56, 'id': 7, 'ws': True}, {'text': 'Agency', 'start': 57, 'end': 63, 'id': 8, 'ws': True}, {'text': 'for', 'start': 64, 'end': 67, 'id': 9, 'ws': True}, {'text': 'Research', 'start': 68, 'end': 76, 'id': 10, 'ws': True}, {'text': 'on', 'start': 77, 'end': 79, 'id': 11, 'ws': True}, {'text': 'Cancer', 'start': 80, 'end': 86, 'id': 12, 'ws': True}, {'text': '(', 'start': 87, 'end': 88, 'id': 13, 'ws': False}, {'text': 'IARC', 'start': 88, 'end': 92, 'id': 14, 'ws': False}, {'text': ')', 'start': 92, 'end': 93, 'id': 15, 'ws': True}, {'text': 'predict', 'start': 94, 'end': 101, 'id': 16, 'ws': True}, {'text': 'a', 'start': 102, 'end': 103, 'id': 17, 'ws': True}, {'text': 'sharp', 'start': 104, 'end': 109, 'id': 18, 'ws': True}, {'text': 'increase', 'start': 110, 'end': 118, 'id': 19, 'ws': True}, {'text': 'in', 'start': 119, 'end': 121, 'id': 20, 'ws': True}, {'text': 'cancers', 'start': 122, 'end': 129, 'id': 21, 'ws': True}, {'text': 'by', 'start': 130, 'end': 132, 'id': 22, 'ws': True}, {'text': '2040', 'start': 133, 'end': 137, 'id': 23, 'ws': False}, {'text': ',', 'start': 137, 'end': 138, 'id': 24, 'ws': True}, {'text': 'particularly', 'start': 139, 'end': 151, 'id': 25, 'ws': True}, {'text': 'in', 'start': 152, 'end': 154, 'id': 26, 'ws': True}, {'text': 'LMICs', 'start': 155, 'end': 160, 'id': 27, 'ws': False}, {'text': ',', 'start': 160, 'end': 161, 'id': 28, 'ws': True}, {'text': 'more', 'start': 162, 'end': 166, 'id': 29, 'ws': True}, {'text': 'healthcare', 'start': 167, 'end': 177, 'id': 30, 'ws': True}, {'text': 'workers', 'start': 178, 'end': 185, 'id': 31, 'ws': True}, {'text': 'and', 'start': 186, 'end': 189, 'id': 32, 'ws': True}, {'text': 'more', 'start': 190, 'end': 194, 'id': 33, 'ws': True}, {'text': 'hospitals', 'start': 195, 'end': 204, 'id': 34, 'ws': True}, {'text': 'will', 'start': 205, 'end': 209, 'id': 35, 'ws': True}, {'text': 'be', 'start': 210, 'end': 212, 'id': 36, 'ws': True}, {'text': 'engaged', 'start': 213, 'end': 220, 'id': 37, 'ws': True}, {'text': 'in', 'start': 221, 'end': 223, 'id': 38, 'ws': True}, {'text': 'cancer', 'start': 224, 'end': 230, 'id': 39, 'ws': True}, {'text': 'care', 'start': 231, 'end': 235, 'id': 40, 'ws': True}, {'text': 'and', 'start': 236, 'end': 239, 'id': 41, 'ws': True}, {'text': 'chemotherapy', 'start': 240, 'end': 252, 'id': 42, 'ws': True}, {'text': 'drug', 'start': 253, 'end': 257, 'id': 43, 'ws': True}, {'text': 'use', 'start': 258, 'end': 261, 'id': 44, 'ws': False}, {'text': '.', 'start': 261, 'end': 262, 'id': 45, 'ws': False}], 'spans': [{'start': 43, 'end': 93, 'token_start': 7, 'token_end': 15, 'label': 'ORG'}, {'start': 155, 'end': 160, 'token_start': 27, 'token_end': 27, 'label': 'GPE'}], '_is_binary': False, '_view_id': 'ner_manual', 'answer': 'accept', '_timestamp': 1681322401}\n",
      "{'text': 'Rayos Contra Cancer (RCC) is a nonprofit organization that seeks to provide needed education and training to radiation oncology clinicians in LMICs using the Project ECHO', '_input_hash': 1261232074, '_task_hash': 504244435, 'tokens': [{'text': 'Rayos', 'start': 0, 'end': 5, 'id': 0, 'ws': True}, {'text': 'Contra', 'start': 6, 'end': 12, 'id': 1, 'ws': True}, {'text': 'Cancer', 'start': 13, 'end': 19, 'id': 2, 'ws': True}, {'text': '(', 'start': 20, 'end': 21, 'id': 3, 'ws': False}, {'text': 'RCC', 'start': 21, 'end': 24, 'id': 4, 'ws': False}, {'text': ')', 'start': 24, 'end': 25, 'id': 5, 'ws': True}, {'text': 'is', 'start': 26, 'end': 28, 'id': 6, 'ws': True}, {'text': 'a', 'start': 29, 'end': 30, 'id': 7, 'ws': True}, {'text': 'nonprofit', 'start': 31, 'end': 40, 'id': 8, 'ws': True}, {'text': 'organization', 'start': 41, 'end': 53, 'id': 9, 'ws': True}, {'text': 'that', 'start': 54, 'end': 58, 'id': 10, 'ws': True}, {'text': 'seeks', 'start': 59, 'end': 64, 'id': 11, 'ws': True}, {'text': 'to', 'start': 65, 'end': 67, 'id': 12, 'ws': True}, {'text': 'provide', 'start': 68, 'end': 75, 'id': 13, 'ws': True}, {'text': 'needed', 'start': 76, 'end': 82, 'id': 14, 'ws': True}, {'text': 'education', 'start': 83, 'end': 92, 'id': 15, 'ws': True}, {'text': 'and', 'start': 93, 'end': 96, 'id': 16, 'ws': True}, {'text': 'training', 'start': 97, 'end': 105, 'id': 17, 'ws': True}, {'text': 'to', 'start': 106, 'end': 108, 'id': 18, 'ws': True}, {'text': 'radiation', 'start': 109, 'end': 118, 'id': 19, 'ws': True}, {'text': 'oncology', 'start': 119, 'end': 127, 'id': 20, 'ws': True}, {'text': 'clinicians', 'start': 128, 'end': 138, 'id': 21, 'ws': True}, {'text': 'in', 'start': 139, 'end': 141, 'id': 22, 'ws': True}, {'text': 'LMICs', 'start': 142, 'end': 147, 'id': 23, 'ws': True}, {'text': 'using', 'start': 148, 'end': 153, 'id': 24, 'ws': True}, {'text': 'the', 'start': 154, 'end': 157, 'id': 25, 'ws': True}, {'text': 'Project', 'start': 158, 'end': 165, 'id': 26, 'ws': True}, {'text': 'ECHO', 'start': 166, 'end': 170, 'id': 27, 'ws': False}], 'spans': [{'start': 0, 'end': 25, 'token_start': 0, 'token_end': 5, 'label': 'ORG'}, {'start': 142, 'end': 147, 'token_start': 23, 'token_end': 23, 'label': 'ORG'}, {'start': 158, 'end': 170, 'token_start': 26, 'token_end': 27, 'label': 'PRODUCT'}], '_is_binary': False, '_view_id': 'ner_manual', 'answer': 'accept', '_timestamp': 1681321318}\n",
      "{'text': 'Bertarelli Foundation holds its second global conference in Prague to discuss ‘Infertility in the Third Millennium’; an overview article is published in Human Reproduction Update', '_input_hash': -76576387, '_task_hash': -1601603321, 'tokens': [{'text': 'Bertarelli', 'start': 0, 'end': 10, 'id': 0, 'ws': True}, {'text': 'Foundation', 'start': 11, 'end': 21, 'id': 1, 'ws': True}, {'text': 'holds', 'start': 22, 'end': 27, 'id': 2, 'ws': True}, {'text': 'its', 'start': 28, 'end': 31, 'id': 3, 'ws': True}, {'text': 'second', 'start': 32, 'end': 38, 'id': 4, 'ws': True}, {'text': 'global', 'start': 39, 'end': 45, 'id': 5, 'ws': True}, {'text': 'conference', 'start': 46, 'end': 56, 'id': 6, 'ws': True}, {'text': 'in', 'start': 57, 'end': 59, 'id': 7, 'ws': True}, {'text': 'Prague', 'start': 60, 'end': 66, 'id': 8, 'ws': True}, {'text': 'to', 'start': 67, 'end': 69, 'id': 9, 'ws': True}, {'text': 'discuss', 'start': 70, 'end': 77, 'id': 10, 'ws': True}, {'text': '‘', 'start': 78, 'end': 79, 'id': 11, 'ws': False}, {'text': 'Infertility', 'start': 79, 'end': 90, 'id': 12, 'ws': True}, {'text': 'in', 'start': 91, 'end': 93, 'id': 13, 'ws': True}, {'text': 'the', 'start': 94, 'end': 97, 'id': 14, 'ws': True}, {'text': 'Third', 'start': 98, 'end': 103, 'id': 15, 'ws': True}, {'text': 'Millennium', 'start': 104, 'end': 114, 'id': 16, 'ws': False}, {'text': '’', 'start': 114, 'end': 115, 'id': 17, 'ws': False}, {'text': ';', 'start': 115, 'end': 116, 'id': 18, 'ws': True}, {'text': 'an', 'start': 117, 'end': 119, 'id': 19, 'ws': True}, {'text': 'overview', 'start': 120, 'end': 128, 'id': 20, 'ws': True}, {'text': 'article', 'start': 129, 'end': 136, 'id': 21, 'ws': True}, {'text': 'is', 'start': 137, 'end': 139, 'id': 22, 'ws': True}, {'text': 'published', 'start': 140, 'end': 149, 'id': 23, 'ws': True}, {'text': 'in', 'start': 150, 'end': 152, 'id': 24, 'ws': True}, {'text': 'Human', 'start': 153, 'end': 158, 'id': 25, 'ws': True}, {'text': 'Reproduction', 'start': 159, 'end': 171, 'id': 26, 'ws': True}, {'text': 'Update', 'start': 172, 'end': 178, 'id': 27, 'ws': False}], 'spans': [{'token_start': 0, 'token_end': 1, 'start': 0, 'end': 21, 'text': 'Bertarelli Foundation', 'label': 'ORG', 'source': 'en_core_web_sm', 'input_hash': -76576387}, {'token_start': 8, 'token_end': 8, 'start': 60, 'end': 66, 'text': 'Prague', 'label': 'GPE', 'source': 'en_core_web_sm', 'input_hash': -76576387}], '_is_binary': False, '_view_id': 'ner_manual', 'answer': 'accept', '_timestamp': 1681323867}\n"
     ]
    }
   ],
   "source": [
    "for sample in ner_dataset[:5]:\n",
    "    print(sample)"
   ]
  },
  {
   "cell_type": "code",
   "execution_count": 8,
   "metadata": {},
   "outputs": [],
   "source": [
    "from spacy.training import Example, offsets_to_biluo_tags, biluo_to_iob\n",
    "\n",
    "##### Modified version of the converter from an Iterable of Entities to IOB2 format\n",
    "##### The results are first converted to the BILOU Schema and then the IOB2 Schema\n",
    "##### Example: Original ['O', 'B-GPE', 'I-GPE', 'L-GPE', 'O'] => Converted ['O', 'B-GPE', 'I-GPE', 'I-GPE', 'O']\n",
    "##### To be used to compute A more Lenient Classification Score for entities on a token level\n",
    "def single_token_tags(doc, entities):\n",
    "        bilou_tags = offsets_to_biluo_tags(doc, entities)\n",
    "        iob_tags = biluo_to_iob(bilou_tags)\n",
    "        return iob_tags\n",
    "\n",
    "\n",
    "def get_entities_from_jsonl(jsonl_sample):\n",
    "        spans = []\n",
    "        single_entities = []\n",
    "        for span in jsonl_sample['spans']:\n",
    "                start, end, label = span['start'], span['end'], span['label']\n",
    "                single_entities.append({\"start\": start, \"end\": end, \"label\": label})\n",
    "                spans.append((start, end, label))\n",
    "        return spans, single_entities\n",
    "\n",
    "def make_prediction(nlp_model, text):\n",
    "        prediction = nlp_model(text)\n",
    "        pass "
   ]
  },
  {
   "attachments": {},
   "cell_type": "markdown",
   "metadata": {},
   "source": [
    "Testing Loop"
   ]
  },
  {
   "cell_type": "code",
   "execution_count": 9,
   "metadata": {},
   "outputs": [
    {
     "name": "stdout",
     "output_type": "stream",
     "text": [
      "Visualization: \n",
      "Predicted Entity Spans: \n"
     ]
    },
    {
     "data": {
      "text/html": [
       "<span class=\"tex2jax_ignore\"><div class=\"entities\" style=\"line-height: 2.5; direction: ltr\">The Web site operators, based outside \n",
       "<mark class=\"entity\" style=\"background: #feca74; padding: 0.45em 0.6em; margin: 0 0.25em; line-height: 1; border-radius: 0.35em;\">\n",
       "    the United States\n",
       "    <span style=\"font-size: 0.8em; font-weight: bold; line-height: 1; border-radius: 0.35em; vertical-align: middle; margin-left: 0.5rem\">GPE</span>\n",
       "</mark>\n",
       ", forwarded his request and associated questionnaires to \n",
       "<mark class=\"entity\" style=\"background: #feca74; padding: 0.45em 0.6em; margin: 0 0.25em; line-height: 1; border-radius: 0.35em;\">\n",
       "    Colorado\n",
       "    <span style=\"font-size: 0.8em; font-weight: bold; line-height: 1; border-radius: 0.35em; vertical-align: middle; margin-left: 0.5rem\">GPE</span>\n",
       "</mark>\n",
       " psychiatrist Dr \n",
       "<mark class=\"entity\" style=\"background: #aa9cfc; padding: 0.45em 0.6em; margin: 0 0.25em; line-height: 1; border-radius: 0.35em;\">\n",
       "    Christian Hageseth\n",
       "    <span style=\"font-size: 0.8em; font-weight: bold; line-height: 1; border-radius: 0.35em; vertical-align: middle; margin-left: 0.5rem\">PERSON</span>\n",
       "</mark>\n",
       ".</div></span>"
      ],
      "text/plain": [
       "<IPython.core.display.HTML object>"
      ]
     },
     "metadata": {},
     "output_type": "display_data"
    },
    {
     "name": "stdout",
     "output_type": "stream",
     "text": [
      "True Entity Spans: \n"
     ]
    },
    {
     "data": {
      "text/html": [
       "<span class=\"tex2jax_ignore\"><div class=\"entities\" style=\"line-height: 2.5; direction: ltr\">The Web site operators, based outside the \n",
       "<mark class=\"entity\" style=\"background: #feca74; padding: 0.45em 0.6em; margin: 0 0.25em; line-height: 1; border-radius: 0.35em;\">\n",
       "    United States\n",
       "    <span style=\"font-size: 0.8em; font-weight: bold; line-height: 1; border-radius: 0.35em; vertical-align: middle; margin-left: 0.5rem\">GPE</span>\n",
       "</mark>\n",
       ", forwarded his request and associated questionnaires to \n",
       "<mark class=\"entity\" style=\"background: #feca74; padding: 0.45em 0.6em; margin: 0 0.25em; line-height: 1; border-radius: 0.35em;\">\n",
       "    Colorado\n",
       "    <span style=\"font-size: 0.8em; font-weight: bold; line-height: 1; border-radius: 0.35em; vertical-align: middle; margin-left: 0.5rem\">GPE</span>\n",
       "</mark>\n",
       " psychiatrist \n",
       "<mark class=\"entity\" style=\"background: #aa9cfc; padding: 0.45em 0.6em; margin: 0 0.25em; line-height: 1; border-radius: 0.35em;\">\n",
       "    Dr Christian Hageseth\n",
       "    <span style=\"font-size: 0.8em; font-weight: bold; line-height: 1; border-radius: 0.35em; vertical-align: middle; margin-left: 0.5rem\">PERSON</span>\n",
       "</mark>\n",
       ".</div></span>"
      ],
      "text/plain": [
       "<IPython.core.display.HTML object>"
      ]
     },
     "metadata": {},
     "output_type": "display_data"
    },
    {
     "name": "stdout",
     "output_type": "stream",
     "text": [
      "Visualization: \n",
      "Predicted Entity Spans: \n"
     ]
    },
    {
     "data": {
      "text/html": [
       "<span class=\"tex2jax_ignore\"><div class=\"entities\" style=\"line-height: 2.5; direction: ltr\">No relevant rulings by \n",
       "<mark class=\"entity\" style=\"background: #7aecec; padding: 0.45em 0.6em; margin: 0 0.25em; line-height: 1; border-radius: 0.35em;\">\n",
       "    Swiss Federal\n",
       "    <span style=\"font-size: 0.8em; font-weight: bold; line-height: 1; border-radius: 0.35em; vertical-align: middle; margin-left: 0.5rem\">ORG</span>\n",
       "</mark>\n",
       " courts are present to help guide practice.</div></span>"
      ],
      "text/plain": [
       "<IPython.core.display.HTML object>"
      ]
     },
     "metadata": {},
     "output_type": "display_data"
    },
    {
     "name": "stdout",
     "output_type": "stream",
     "text": [
      "True Entity Spans: \n"
     ]
    },
    {
     "data": {
      "text/html": [
       "<span class=\"tex2jax_ignore\"><div class=\"entities\" style=\"line-height: 2.5; direction: ltr\">No relevant rulings by \n",
       "<mark class=\"entity\" style=\"background: #7aecec; padding: 0.45em 0.6em; margin: 0 0.25em; line-height: 1; border-radius: 0.35em;\">\n",
       "    Swiss Federal courts\n",
       "    <span style=\"font-size: 0.8em; font-weight: bold; line-height: 1; border-radius: 0.35em; vertical-align: middle; margin-left: 0.5rem\">ORG</span>\n",
       "</mark>\n",
       " are present to help guide practice.</div></span>"
      ],
      "text/plain": [
       "<IPython.core.display.HTML object>"
      ]
     },
     "metadata": {},
     "output_type": "display_data"
    },
    {
     "name": "stdout",
     "output_type": "stream",
     "text": [
      "Visualization: \n",
      "Predicted Entity Spans: \n"
     ]
    },
    {
     "data": {
      "text/html": [
       "<span class=\"tex2jax_ignore\"><div class=\"entities\" style=\"line-height: 2.5; direction: ltr\">As the \n",
       "<mark class=\"entity\" style=\"background: #7aecec; padding: 0.45em 0.6em; margin: 0 0.25em; line-height: 1; border-radius: 0.35em;\">\n",
       "    GLOBOCAN\n",
       "    <span style=\"font-size: 0.8em; font-weight: bold; line-height: 1; border-radius: 0.35em; vertical-align: middle; margin-left: 0.5rem\">ORG</span>\n",
       "</mark>\n",
       " statistics produced by \n",
       "<mark class=\"entity\" style=\"background: #7aecec; padding: 0.45em 0.6em; margin: 0 0.25em; line-height: 1; border-radius: 0.35em;\">\n",
       "    the International Agency for Research on Cancer\n",
       "    <span style=\"font-size: 0.8em; font-weight: bold; line-height: 1; border-radius: 0.35em; vertical-align: middle; margin-left: 0.5rem\">ORG</span>\n",
       "</mark>\n",
       " (\n",
       "<mark class=\"entity\" style=\"background: #c887fb; padding: 0.45em 0.6em; margin: 0 0.25em; line-height: 1; border-radius: 0.35em;\">\n",
       "    IARC\n",
       "    <span style=\"font-size: 0.8em; font-weight: bold; line-height: 1; border-radius: 0.35em; vertical-align: middle; margin-left: 0.5rem\">NORP</span>\n",
       "</mark>\n",
       ") predict a sharp increase in cancers by \n",
       "<mark class=\"entity\" style=\"background: #bfe1d9; padding: 0.45em 0.6em; margin: 0 0.25em; line-height: 1; border-radius: 0.35em;\">\n",
       "    2040\n",
       "    <span style=\"font-size: 0.8em; font-weight: bold; line-height: 1; border-radius: 0.35em; vertical-align: middle; margin-left: 0.5rem\">DATE</span>\n",
       "</mark>\n",
       ", particularly in LMICs, more healthcare workers and more hospitals will be engaged in cancer care and chemotherapy drug use.</div></span>"
      ],
      "text/plain": [
       "<IPython.core.display.HTML object>"
      ]
     },
     "metadata": {},
     "output_type": "display_data"
    },
    {
     "name": "stdout",
     "output_type": "stream",
     "text": [
      "True Entity Spans: \n"
     ]
    },
    {
     "data": {
      "text/html": [
       "<span class=\"tex2jax_ignore\"><div class=\"entities\" style=\"line-height: 2.5; direction: ltr\">As the GLOBOCAN statistics produced by the \n",
       "<mark class=\"entity\" style=\"background: #7aecec; padding: 0.45em 0.6em; margin: 0 0.25em; line-height: 1; border-radius: 0.35em;\">\n",
       "    International Agency for Research on Cancer (IARC)\n",
       "    <span style=\"font-size: 0.8em; font-weight: bold; line-height: 1; border-radius: 0.35em; vertical-align: middle; margin-left: 0.5rem\">ORG</span>\n",
       "</mark>\n",
       " predict a sharp increase in cancers by 2040, particularly in \n",
       "<mark class=\"entity\" style=\"background: #feca74; padding: 0.45em 0.6em; margin: 0 0.25em; line-height: 1; border-radius: 0.35em;\">\n",
       "    LMICs\n",
       "    <span style=\"font-size: 0.8em; font-weight: bold; line-height: 1; border-radius: 0.35em; vertical-align: middle; margin-left: 0.5rem\">GPE</span>\n",
       "</mark>\n",
       ", more healthcare workers and more hospitals will be engaged in cancer care and chemotherapy drug use.</div></span>"
      ],
      "text/plain": [
       "<IPython.core.display.HTML object>"
      ]
     },
     "metadata": {},
     "output_type": "display_data"
    },
    {
     "name": "stdout",
     "output_type": "stream",
     "text": [
      "Visualization: \n",
      "Predicted Entity Spans: \n"
     ]
    },
    {
     "data": {
      "text/html": [
       "<span class=\"tex2jax_ignore\"><div class=\"entities\" style=\"line-height: 2.5; direction: ltr\">\n",
       "<mark class=\"entity\" style=\"background: #7aecec; padding: 0.45em 0.6em; margin: 0 0.25em; line-height: 1; border-radius: 0.35em;\">\n",
       "    Rayos Contra Cancer\n",
       "    <span style=\"font-size: 0.8em; font-weight: bold; line-height: 1; border-radius: 0.35em; vertical-align: middle; margin-left: 0.5rem\">ORG</span>\n",
       "</mark>\n",
       " (\n",
       "<mark class=\"entity\" style=\"background: #7aecec; padding: 0.45em 0.6em; margin: 0 0.25em; line-height: 1; border-radius: 0.35em;\">\n",
       "    RCC\n",
       "    <span style=\"font-size: 0.8em; font-weight: bold; line-height: 1; border-radius: 0.35em; vertical-align: middle; margin-left: 0.5rem\">ORG</span>\n",
       "</mark>\n",
       ") is a nonprofit organization that seeks to provide needed education and training to radiation oncology \n",
       "<mark class=\"entity\" style=\"background: #c887fb; padding: 0.45em 0.6em; margin: 0 0.25em; line-height: 1; border-radius: 0.35em;\">\n",
       "    clinicians\n",
       "    <span style=\"font-size: 0.8em; font-weight: bold; line-height: 1; border-radius: 0.35em; vertical-align: middle; margin-left: 0.5rem\">NORP</span>\n",
       "</mark>\n",
       " in LMICs using \n",
       "<mark class=\"entity\" style=\"background: #7aecec; padding: 0.45em 0.6em; margin: 0 0.25em; line-height: 1; border-radius: 0.35em;\">\n",
       "    the Project ECHO\n",
       "    <span style=\"font-size: 0.8em; font-weight: bold; line-height: 1; border-radius: 0.35em; vertical-align: middle; margin-left: 0.5rem\">ORG</span>\n",
       "</mark>\n",
       "</div></span>"
      ],
      "text/plain": [
       "<IPython.core.display.HTML object>"
      ]
     },
     "metadata": {},
     "output_type": "display_data"
    },
    {
     "name": "stdout",
     "output_type": "stream",
     "text": [
      "True Entity Spans: \n"
     ]
    },
    {
     "data": {
      "text/html": [
       "<span class=\"tex2jax_ignore\"><div class=\"entities\" style=\"line-height: 2.5; direction: ltr\">\n",
       "<mark class=\"entity\" style=\"background: #7aecec; padding: 0.45em 0.6em; margin: 0 0.25em; line-height: 1; border-radius: 0.35em;\">\n",
       "    Rayos Contra Cancer (RCC)\n",
       "    <span style=\"font-size: 0.8em; font-weight: bold; line-height: 1; border-radius: 0.35em; vertical-align: middle; margin-left: 0.5rem\">ORG</span>\n",
       "</mark>\n",
       " is a nonprofit organization that seeks to provide needed education and training to radiation oncology clinicians in \n",
       "<mark class=\"entity\" style=\"background: #7aecec; padding: 0.45em 0.6em; margin: 0 0.25em; line-height: 1; border-radius: 0.35em;\">\n",
       "    LMICs\n",
       "    <span style=\"font-size: 0.8em; font-weight: bold; line-height: 1; border-radius: 0.35em; vertical-align: middle; margin-left: 0.5rem\">ORG</span>\n",
       "</mark>\n",
       " using the \n",
       "<mark class=\"entity\" style=\"background: #bfeeb7; padding: 0.45em 0.6em; margin: 0 0.25em; line-height: 1; border-radius: 0.35em;\">\n",
       "    Project ECHO\n",
       "    <span style=\"font-size: 0.8em; font-weight: bold; line-height: 1; border-radius: 0.35em; vertical-align: middle; margin-left: 0.5rem\">PRODUCT</span>\n",
       "</mark>\n",
       "</div></span>"
      ],
      "text/plain": [
       "<IPython.core.display.HTML object>"
      ]
     },
     "metadata": {},
     "output_type": "display_data"
    },
    {
     "name": "stdout",
     "output_type": "stream",
     "text": [
      "Visualization: \n",
      "Predicted Entity Spans: \n"
     ]
    },
    {
     "data": {
      "text/html": [
       "<span class=\"tex2jax_ignore\"><div class=\"entities\" style=\"line-height: 2.5; direction: ltr\">\n",
       "<mark class=\"entity\" style=\"background: #7aecec; padding: 0.45em 0.6em; margin: 0 0.25em; line-height: 1; border-radius: 0.35em;\">\n",
       "    Bertarelli Foundation\n",
       "    <span style=\"font-size: 0.8em; font-weight: bold; line-height: 1; border-radius: 0.35em; vertical-align: middle; margin-left: 0.5rem\">ORG</span>\n",
       "</mark>\n",
       " holds its \n",
       "<mark class=\"entity\" style=\"background: #e4e7d2; padding: 0.45em 0.6em; margin: 0 0.25em; line-height: 1; border-radius: 0.35em;\">\n",
       "    second\n",
       "    <span style=\"font-size: 0.8em; font-weight: bold; line-height: 1; border-radius: 0.35em; vertical-align: middle; margin-left: 0.5rem\">ORDINAL</span>\n",
       "</mark>\n",
       " global conference in \n",
       "<mark class=\"entity\" style=\"background: #feca74; padding: 0.45em 0.6em; margin: 0 0.25em; line-height: 1; border-radius: 0.35em;\">\n",
       "    Prague\n",
       "    <span style=\"font-size: 0.8em; font-weight: bold; line-height: 1; border-radius: 0.35em; vertical-align: middle; margin-left: 0.5rem\">GPE</span>\n",
       "</mark>\n",
       " to discuss ‘Infertility in the Third Millennium’; an overview article is published in \n",
       "<mark class=\"entity\" style=\"background: #f0d0ff; padding: 0.45em 0.6em; margin: 0 0.25em; line-height: 1; border-radius: 0.35em;\">\n",
       "    Human Reproduction Update\n",
       "    <span style=\"font-size: 0.8em; font-weight: bold; line-height: 1; border-radius: 0.35em; vertical-align: middle; margin-left: 0.5rem\">WORK_OF_ART</span>\n",
       "</mark>\n",
       "</div></span>"
      ],
      "text/plain": [
       "<IPython.core.display.HTML object>"
      ]
     },
     "metadata": {},
     "output_type": "display_data"
    },
    {
     "name": "stdout",
     "output_type": "stream",
     "text": [
      "True Entity Spans: \n"
     ]
    },
    {
     "data": {
      "text/html": [
       "<span class=\"tex2jax_ignore\"><div class=\"entities\" style=\"line-height: 2.5; direction: ltr\">\n",
       "<mark class=\"entity\" style=\"background: #7aecec; padding: 0.45em 0.6em; margin: 0 0.25em; line-height: 1; border-radius: 0.35em;\">\n",
       "    Bertarelli Foundation\n",
       "    <span style=\"font-size: 0.8em; font-weight: bold; line-height: 1; border-radius: 0.35em; vertical-align: middle; margin-left: 0.5rem\">ORG</span>\n",
       "</mark>\n",
       " holds its second global conference in \n",
       "<mark class=\"entity\" style=\"background: #feca74; padding: 0.45em 0.6em; margin: 0 0.25em; line-height: 1; border-radius: 0.35em;\">\n",
       "    Prague\n",
       "    <span style=\"font-size: 0.8em; font-weight: bold; line-height: 1; border-radius: 0.35em; vertical-align: middle; margin-left: 0.5rem\">GPE</span>\n",
       "</mark>\n",
       " to discuss ‘Infertility in the Third Millennium’; an overview article is published in Human Reproduction Update</div></span>"
      ],
      "text/plain": [
       "<IPython.core.display.HTML object>"
      ]
     },
     "metadata": {},
     "output_type": "display_data"
    }
   ],
   "source": [
    "all_examples = []\n",
    "all_tags = {\"true\" : [], \"predicted\": []}\n",
    "\n",
    "for sample in ner_dataset[:5]:\n",
    "        visualization = True\n",
    "        true_entity_spans, true_entities = get_entities_from_jsonl(sample)\n",
    "        sentence = sample['text']\n",
    "        prediction = nlp(sentence)\n",
    "        predicted_ent_spans = [(ent.start_char, ent.end_char, ent.label_) for ent in prediction.ents]\n",
    "        \n",
    "        ##### Converting each true and predicted entity span to the IOB2 tags schema\n",
    "        predicted_ent_tags = single_token_tags(prediction, predicted_ent_spans)\n",
    "        true_ent_tags = single_token_tags(prediction, true_entity_spans)\n",
    "\n",
    "        ##### Uncomment for debug        \n",
    "        # print('For Sentence: {}\\n'.format(test_sample['text']))\n",
    "        # print('True Entity Span: {}'.format(true_entity_spans))\n",
    "        # print('Model Prediction: {}\\n'.format(predicted_ent_spans))\n",
    "        # print('Predicted Tags: {}'.format(predicted_ent_tags))\n",
    "        # print('True Tags: {}\\n'.format(true_ent_tags))\n",
    "\n",
    "        all_examples.append([Example.from_dict(prediction, {'entities': true_entity_spans})])\n",
    "        all_tags['true'].append(true_ent_tags)\n",
    "        all_tags['predicted'].append(predicted_ent_tags)        \n",
    "\n",
    "        if visualization:\n",
    "        ##### Visualization Debug\n",
    "                print('Visualization: ')\n",
    "                print('Predicted Entity Spans: ')\n",
    "                displacy.render(prediction, style = 'ent', jupyter = True)\n",
    "                true_example = {\"text\": prediction.text, \"ents\": true_entities, \"title\": None}\n",
    "                print('True Entity Spans: ')\n",
    "                displacy.render(true_example, style = 'ent', jupyter = True, manual = True)"
   ]
  },
  {
   "cell_type": "code",
   "execution_count": 10,
   "metadata": {},
   "outputs": [
    {
     "name": "stdout",
     "output_type": "stream",
     "text": [
      "Score: {'ents_p': 0.3333333333333333, 'ents_r': 0.3333333333333333, 'ents_f': 0.3333333333333333, 'ents_per_type': {'GPE': {'p': 0.5, 'r': 0.5, 'f': 0.5}, 'PERSON': {'p': 0.0, 'r': 0.0, 'f': 0.0}}}\n",
      "Score: {'ents_p': 0.0, 'ents_r': 0.0, 'ents_f': 0.0, 'ents_per_type': {'ORG': {'p': 0.0, 'r': 0.0, 'f': 0.0}}}\n",
      "Score: {'ents_p': 0.0, 'ents_r': 0.0, 'ents_f': 0.0, 'ents_per_type': {'GPE': {'p': 0.0, 'r': 0.0, 'f': 0.0}, 'NORP': {'p': 0.0, 'r': 0.0, 'f': 0.0}, 'ORG': {'p': 0.0, 'r': 0.0, 'f': 0.0}, 'DATE': {'p': 0.0, 'r': 0.0, 'f': 0.0}}}\n",
      "Score: {'ents_p': 0.0, 'ents_r': 0.0, 'ents_f': 0.0, 'ents_per_type': {'NORP': {'p': 0.0, 'r': 0.0, 'f': 0.0}, 'ORG': {'p': 0.0, 'r': 0.0, 'f': 0.0}, 'PRODUCT': {'p': 0.0, 'r': 0.0, 'f': 0.0}}}\n",
      "Score: {'ents_p': 0.5, 'ents_r': 1.0, 'ents_f': 0.6666666666666666, 'ents_per_type': {'GPE': {'p': 1.0, 'r': 1.0, 'f': 1.0}, 'WORK_OF_ART': {'p': 0.0, 'r': 0.0, 'f': 0.0}, 'ORDINAL': {'p': 0.0, 'r': 0.0, 'f': 0.0}, 'ORG': {'p': 1.0, 'r': 1.0, 'f': 1.0}}}\n"
     ]
    }
   ],
   "source": [
    "scorer = Scorer(nlp)\n",
    "\n",
    "##### Exact Span Prediction Working Score\n",
    "for example in all_examples:\n",
    "    print('Score: {}'.format(scorer.score_spans(example, attr=\"ents\")))\n",
    "# print('Score: {}'.format(scorer.score(examples)))"
   ]
  },
  {
   "cell_type": "code",
   "execution_count": 11,
   "metadata": {},
   "outputs": [],
   "source": [
    "#### Remove unwanted labels (set them to Others ('O'), so errors still count)\n",
    "def set_tags_to_fixed_labels(tags_lists):\n",
    "    our_labels = ['GPE', 'LAW', 'LOC', 'ORG', 'PERSON', 'PRODUCT']\n",
    "    for tags in tags_lists:\n",
    "        # print('Before: {}'.format(tags))\n",
    "        for i in range(len(tags)):\n",
    "            if tags[i][2:] not in our_labels:\n",
    "                tags[i] = 'O'\n",
    "        # print('After: {} \\n'.format(tags))\n",
    "    return tags_lists"
   ]
  },
  {
   "cell_type": "code",
   "execution_count": 12,
   "metadata": {},
   "outputs": [
    {
     "name": "stdout",
     "output_type": "stream",
     "text": [
      "Performance with all tags: \n"
     ]
    },
    {
     "data": {
      "text/plain": [
       "['              precision    recall  f1-score   support',\n",
       " '',\n",
       " '        DATE       0.00      1.00      0.00         0',\n",
       " '         GPE       0.67      0.50      0.57         4',\n",
       " '        NORP       0.00      1.00      0.00         0',\n",
       " '     ORDINAL       0.00      1.00      0.00         0',\n",
       " '         ORG       0.14      0.20      0.17         5',\n",
       " '      PERSON       0.00      0.00      0.00         1',\n",
       " '     PRODUCT       1.00      0.00      0.00         1',\n",
       " ' WORK_OF_ART       0.00      1.00      0.00         0',\n",
       " '',\n",
       " '   micro avg       0.19      0.27      0.22        11',\n",
       " '   macro avg       0.23      0.59      0.09        11',\n",
       " 'weighted avg       0.40      0.27      0.28        11']"
      ]
     },
     "execution_count": 12,
     "metadata": {},
     "output_type": "execute_result"
    }
   ],
   "source": [
    "from seqeval.metrics import classification_report as seqclassify\n",
    "\n",
    "# print('Predicted Tags: {}'.format(predicted_ent_tags))\n",
    "# print('True Tags: {}\\n'.format(true_ent_tags))\n",
    "\n",
    "print('Performance with all tags: ')\n",
    "report_1 = seqclassify(all_tags['true'], all_tags['predicted'], zero_division = 1)\n",
    "report_1.splitlines()"
   ]
  },
  {
   "cell_type": "code",
   "execution_count": 13,
   "metadata": {},
   "outputs": [
    {
     "name": "stdout",
     "output_type": "stream",
     "text": [
      "\n",
      " Performance with only our needed tags: \n"
     ]
    },
    {
     "data": {
      "text/plain": [
       "['              precision    recall  f1-score   support',\n",
       " '',\n",
       " '         GPE       0.67      0.50      0.57         4',\n",
       " '         ORG       0.14      0.20      0.17         5',\n",
       " '      PERSON       0.00      0.00      0.00         1',\n",
       " '     PRODUCT       1.00      0.00      0.00         1',\n",
       " '',\n",
       " '   micro avg       0.27      0.27      0.27        11',\n",
       " '   macro avg       0.45      0.17      0.18        11',\n",
       " 'weighted avg       0.40      0.27      0.28        11']"
      ]
     },
     "execution_count": 13,
     "metadata": {},
     "output_type": "execute_result"
    }
   ],
   "source": [
    "print('\\n Performance with only our needed tags: ')\n",
    "fixed_predicted_labels = set_tags_to_fixed_labels(all_tags['predicted'])\n",
    "report_2 = seqclassify(all_tags['true'], fixed_predicted_labels, zero_division = 1)\n",
    "report_2.splitlines()"
   ]
  }
 ],
 "metadata": {
  "kernelspec": {
   "display_name": "Python 3",
   "language": "python",
   "name": "python3"
  },
  "language_info": {
   "codemirror_mode": {
    "name": "ipython",
    "version": 3
   },
   "file_extension": ".py",
   "mimetype": "text/x-python",
   "name": "python",
   "nbconvert_exporter": "python",
   "pygments_lexer": "ipython3",
   "version": "3.9.7"
  },
  "orig_nbformat": 4,
  "vscode": {
   "interpreter": {
    "hash": "6290ab70aa2c9e6859d722745d4fdeafb895ca1190e93c7ac9c8d926153eb965"
   }
  }
 },
 "nbformat": 4,
 "nbformat_minor": 2
}
