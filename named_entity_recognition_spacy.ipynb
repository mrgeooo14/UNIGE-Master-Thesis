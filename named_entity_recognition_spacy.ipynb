{
 "cells": [
  {
   "attachments": {},
   "cell_type": "markdown",
   "metadata": {},
   "source": [
    "#### This file will concern itself with the *Named Entity Recognition (NER)* part of the project."
   ]
  },
  {
   "attachments": {},
   "cell_type": "markdown",
   "metadata": {},
   "source": [
    "The pre-trained model is loaded only with the EntityRecognizer pipeline enabled to improve loading and inference speed. Other pipelines are disabled such as ones concerned with POS tagging, lemmatization, parsing, etc."
   ]
  },
  {
   "cell_type": "code",
   "execution_count": 1,
   "metadata": {},
   "outputs": [
    {
     "name": "stdout",
     "output_type": "stream",
     "text": [
      "Spacy NLP model named 'en_core_web_trf' successfully loaded\n"
     ]
    }
   ],
   "source": [
    "import spacy\n",
    "from spacy import displacy\n",
    "\n",
    "spacy.prefer_gpu()\n",
    "model_name = \"en_core_web_trf\"\n",
    "\n",
    "if model_name == \"en_core_web_trf\":\n",
    "    nlp = spacy.load(model_name, enable = ['transformer', 'ner'])\n",
    "else:\n",
    "    nlp = spacy.load(model_name, enable = ['tok2vec', 'ner'])\n",
    "    \n",
    "# nlp = spacy.load(model_name, disable = ['tagger', 'parser', 'attribute_ruler', 'lemmatizer'])\n",
    "print(\"Spacy NLP model named '{}' successfully loaded\".format(model_name))"
   ]
  },
  {
   "attachments": {},
   "cell_type": "markdown",
   "metadata": {},
   "source": [
    "The *Named Entity Recognition* pipeline that the model is equipped with is able to detect the following tags by default.\n",
    "\n",
    "In **our** case, we are only interested in the GPE, ORG, LAW, PERSON, and PRODUCT tags."
   ]
  },
  {
   "cell_type": "code",
   "execution_count": 2,
   "metadata": {},
   "outputs": [
    {
     "name": "stdout",
     "output_type": "stream",
     "text": [
      "Pretrained NER model's supported labels: CARDINAL, DATE, EVENT, FAC, GPE, LANGUAGE, LAW, LOC, MONEY, NORP, ORDINAL, ORG, PERCENT, PERSON, PRODUCT, QUANTITY, TIME, WORK_OF_ART\n"
     ]
    }
   ],
   "source": [
    "print(\"Pretrained NER model's supported labels: \" + ', '.join(nlp.pipe_labels['ner']))"
   ]
  },
  {
   "attachments": {},
   "cell_type": "markdown",
   "metadata": {},
   "source": [
    "A pretrained model is loaded from the NLP library *Spacy* which takes sentences as input and performs several sentence tagging tasks including NER which we are interested in.\n",
    "\n",
    "A great visualization of the entity recognition process is displayed by the *displacy* suite."
   ]
  },
  {
   "cell_type": "code",
   "execution_count": 3,
   "metadata": {},
   "outputs": [
    {
     "name": "stdout",
     "output_type": "stream",
     "text": [
      "Example I: \n"
     ]
    },
    {
     "data": {
      "text/html": [
       "<span class=\"tex2jax_ignore\"><div class=\"entities\" style=\"line-height: 2.5; direction: ltr\">\n",
       "<mark class=\"entity\" style=\"background: #aa9cfc; padding: 0.45em 0.6em; margin: 0 0.25em; line-height: 1; border-radius: 0.35em;\">\n",
       "    klevio\n",
       "    <span style=\"font-size: 0.8em; font-weight: bold; line-height: 1; border-radius: 0.35em; vertical-align: middle; margin-left: 0.5rem\">PERSON</span>\n",
       "</mark>\n",
       " is a singer from \n",
       "<mark class=\"entity\" style=\"background: #feca74; padding: 0.45em 0.6em; margin: 0 0.25em; line-height: 1; border-radius: 0.35em;\">\n",
       "    Albania\n",
       "    <span style=\"font-size: 0.8em; font-weight: bold; line-height: 1; border-radius: 0.35em; vertical-align: middle; margin-left: 0.5rem\">GPE</span>\n",
       "</mark>\n",
       " who usually goes to \n",
       "<mark class=\"entity\" style=\"background: #feca74; padding: 0.45em 0.6em; margin: 0 0.25em; line-height: 1; border-radius: 0.35em;\">\n",
       "    Greece\n",
       "    <span style=\"font-size: 0.8em; font-weight: bold; line-height: 1; border-radius: 0.35em; vertical-align: middle; margin-left: 0.5rem\">GPE</span>\n",
       "</mark>\n",
       " and works in \n",
       "<mark class=\"entity\" style=\"background: #7aecec; padding: 0.45em 0.6em; margin: 0 0.25em; line-height: 1; border-radius: 0.35em;\">\n",
       "    UBS\n",
       "    <span style=\"font-size: 0.8em; font-weight: bold; line-height: 1; border-radius: 0.35em; vertical-align: middle; margin-left: 0.5rem\">ORG</span>\n",
       "</mark>\n",
       ". He lives in \n",
       "<mark class=\"entity\" style=\"background: #ff9561; padding: 0.45em 0.6em; margin: 0 0.25em; line-height: 1; border-radius: 0.35em;\">\n",
       "    Lake Geneva\n",
       "    <span style=\"font-size: 0.8em; font-weight: bold; line-height: 1; border-radius: 0.35em; vertical-align: middle; margin-left: 0.5rem\">LOC</span>\n",
       "</mark>\n",
       " and owns a \n",
       "<mark class=\"entity\" style=\"background: #7aecec; padding: 0.45em 0.6em; margin: 0 0.25em; line-height: 1; border-radius: 0.35em;\">\n",
       "    Mercedes\n",
       "    <span style=\"font-size: 0.8em; font-weight: bold; line-height: 1; border-radius: 0.35em; vertical-align: middle; margin-left: 0.5rem\">ORG</span>\n",
       "</mark>\n",
       " car.</div></span>"
      ],
      "text/plain": [
       "<IPython.core.display.HTML object>"
      ]
     },
     "metadata": {},
     "output_type": "display_data"
    },
    {
     "name": "stdout",
     "output_type": "stream",
     "text": [
      "Example II: \n"
     ]
    },
    {
     "data": {
      "text/html": [
       "<span class=\"tex2jax_ignore\"><div class=\"entities\" style=\"line-height: 2.5; direction: ltr\">The government in \n",
       "<mark class=\"entity\" style=\"background: #feca74; padding: 0.45em 0.6em; margin: 0 0.25em; line-height: 1; border-radius: 0.35em;\">\n",
       "    Senegal\n",
       "    <span style=\"font-size: 0.8em; font-weight: bold; line-height: 1; border-radius: 0.35em; vertical-align: middle; margin-left: 0.5rem\">GPE</span>\n",
       "</mark>\n",
       " just passed a law on \n",
       "<mark class=\"entity\" style=\"background: #bfe1d9; padding: 0.45em 0.6em; margin: 0 0.25em; line-height: 1; border-radius: 0.35em;\">\n",
       "    the 2nd of February\n",
       "    <span style=\"font-size: 0.8em; font-weight: bold; line-height: 1; border-radius: 0.35em; vertical-align: middle; margin-left: 0.5rem\">DATE</span>\n",
       "</mark>\n",
       " regarding universal healthcare, named \n",
       "<mark class=\"entity\" style=\"background: #ff8197; padding: 0.45em 0.6em; margin: 0 0.25em; line-height: 1; border-radius: 0.35em;\">\n",
       "    Universal Care Act\n",
       "    <span style=\"font-size: 0.8em; font-weight: bold; line-height: 1; border-radius: 0.35em; vertical-align: middle; margin-left: 0.5rem\">LAW</span>\n",
       "</mark>\n",
       ", passed in parliament also in \n",
       "<mark class=\"entity\" style=\"background: #ff8197; padding: 0.45em 0.6em; margin: 0 0.25em; line-height: 1; border-radius: 0.35em;\">\n",
       "    French\n",
       "    <span style=\"font-size: 0.8em; font-weight: bold; line-height: 1; border-radius: 0.35em; vertical-align: middle; margin-left: 0.5rem\">LANGUAGE</span>\n",
       "</mark>\n",
       "</div></span>"
      ],
      "text/plain": [
       "<IPython.core.display.HTML object>"
      ]
     },
     "metadata": {},
     "output_type": "display_data"
    },
    {
     "name": "stdout",
     "output_type": "stream",
     "text": [
      "Example III: \n"
     ]
    },
    {
     "data": {
      "text/html": [
       "<span class=\"tex2jax_ignore\"><div class=\"entities\" style=\"line-height: 2.5; direction: ltr\">\n",
       "<mark class=\"entity\" style=\"background: #7aecec; padding: 0.45em 0.6em; margin: 0 0.25em; line-height: 1; border-radius: 0.35em;\">\n",
       "    World Health Organization\n",
       "    <span style=\"font-size: 0.8em; font-weight: bold; line-height: 1; border-radius: 0.35em; vertical-align: middle; margin-left: 0.5rem\">ORG</span>\n",
       "</mark>\n",
       " in \n",
       "<mark class=\"entity\" style=\"background: #feca74; padding: 0.45em 0.6em; margin: 0 0.25em; line-height: 1; border-radius: 0.35em;\">\n",
       "    Geneva\n",
       "    <span style=\"font-size: 0.8em; font-weight: bold; line-height: 1; border-radius: 0.35em; vertical-align: middle; margin-left: 0.5rem\">GPE</span>\n",
       "</mark>\n",
       "</div></span>"
      ],
      "text/plain": [
       "<IPython.core.display.HTML object>"
      ]
     },
     "metadata": {},
     "output_type": "display_data"
    }
   ],
   "source": [
    "example_text_1 = \"klevio is a singer from Albania who usually goes to Greece and works in UBS. He lives in Lake Geneva and owns a Mercedes car.\"\n",
    "doc1 = nlp(example_text_1)\n",
    "print('Example I: ')\n",
    "displacy.render(doc1, style = 'ent')\n",
    "\n",
    "doc2 = nlp('The government in Senegal just passed a law on the 2nd of February regarding universal healthcare, named Universal Care Act, passed in parliament also in French')\n",
    "print('Example II: ')\n",
    "displacy.render(doc2, style = 'ent')\n",
    "\n",
    "doc3 = nlp('World Health Organization in Geneva')\n",
    "print('Example III: ')\n",
    "displacy.render(doc3, style = 'ent')"
   ]
  },
  {
   "cell_type": "code",
   "execution_count": 4,
   "metadata": {},
   "outputs": [
    {
     "data": {
      "text/plain": [
       "klevio is a singer from Albania who usually goes to Greece and works in UBS. He lives in Lake Geneva and owns a Mercedes car . "
      ]
     },
     "execution_count": 4,
     "metadata": {},
     "output_type": "execute_result"
    }
   ],
   "source": [
    "from ner_train_functions import add_pos_tags_to_sentence\n",
    "\n",
    "add_pos_tags_to_sentence(nlp, example_text_1) "
   ]
  },
  {
   "attachments": {},
   "cell_type": "markdown",
   "metadata": {},
   "source": [
    "An example of how entities found in the text are saved."
   ]
  },
  {
   "cell_type": "code",
   "execution_count": 5,
   "metadata": {},
   "outputs": [
    {
     "name": "stdout",
     "output_type": "stream",
     "text": [
      "Entity: klevio, Label: PERSON, Label ID: 380 \n",
      "Entity: Albania, Label: GPE, Label ID: 384 \n",
      "Entity: Greece, Label: GPE, Label ID: 384 \n",
      "Entity: UBS, Label: ORG, Label ID: 383 \n",
      "Entity: Lake Geneva, Label: LOC, Label ID: 385 \n",
      "Entity: Mercedes, Label: ORG, Label ID: 383 \n"
     ]
    }
   ],
   "source": [
    "for ent in doc1.ents:\n",
    "    print(\"Entity: {}, Label: {}, Label ID: {} \".format(ent.text, ent.label_, ent.label))"
   ]
  },
  {
   "attachments": {},
   "cell_type": "markdown",
   "metadata": {},
   "source": [
    "Our custom dataset containing different sentences related to global digital health organizations, products, people, countries, and laws will be loaded from Prodigy in a format which is friendly to the Spacy library.\n",
    "\n",
    "This dataset will be used for our supervised entity recognition learning task."
   ]
  },
  {
   "cell_type": "code",
   "execution_count": 6,
   "metadata": {},
   "outputs": [
    {
     "name": "stdout",
     "output_type": "stream",
     "text": [
      "Custom Health NER Dataset (named ner_1000_health) loaded and shuffled\n"
     ]
    }
   ],
   "source": [
    "import random\n",
    "from prodigy.components.db import connect\n",
    "\n",
    "\n",
    "#### Load and shuffle dataset\n",
    "prodigy_dataset_name = 'ner_1000_health'\n",
    "seed = 596\n",
    "random.seed(seed)\n",
    "db = connect()\n",
    "ner_dataset = db.get_dataset(prodigy_dataset_name)\n",
    "random.shuffle(ner_dataset)\n",
    "print('Custom Health NER Dataset (named {}) loaded and shuffled'.format(prodigy_dataset_name))"
   ]
  },
  {
   "attachments": {},
   "cell_type": "markdown",
   "metadata": {},
   "source": [
    "One sample from the loaded dataset. Sentences with annotated entities are saved in a *JSONL* format with the *'text'* field holding the text input and the *'spans'* field holding the annotated entity spans. "
   ]
  },
  {
   "cell_type": "code",
   "execution_count": 7,
   "metadata": {},
   "outputs": [
    {
     "data": {
      "text/plain": [
       "{'text': 'Compared to many countries, the United Kingdom’s facility for COVID-19 RT-PCR testing has been very limited.',\n",
       " '_input_hash': -214486349,\n",
       " '_task_hash': -781034035,\n",
       " 'tokens': [{'text': 'Compared', 'start': 0, 'end': 8, 'id': 0, 'ws': True},\n",
       "  {'text': 'to', 'start': 9, 'end': 11, 'id': 1, 'ws': True},\n",
       "  {'text': 'many', 'start': 12, 'end': 16, 'id': 2, 'ws': True},\n",
       "  {'text': 'countries', 'start': 17, 'end': 26, 'id': 3, 'ws': False},\n",
       "  {'text': ',', 'start': 26, 'end': 27, 'id': 4, 'ws': True},\n",
       "  {'text': 'the', 'start': 28, 'end': 31, 'id': 5, 'ws': True},\n",
       "  {'text': 'United', 'start': 32, 'end': 38, 'id': 6, 'ws': True},\n",
       "  {'text': 'Kingdom', 'start': 39, 'end': 46, 'id': 7, 'ws': False},\n",
       "  {'text': '’s', 'start': 46, 'end': 48, 'id': 8, 'ws': True},\n",
       "  {'text': 'facility', 'start': 49, 'end': 57, 'id': 9, 'ws': True},\n",
       "  {'text': 'for', 'start': 58, 'end': 61, 'id': 10, 'ws': True},\n",
       "  {'text': 'COVID-19', 'start': 62, 'end': 70, 'id': 11, 'ws': True},\n",
       "  {'text': 'RT', 'start': 71, 'end': 73, 'id': 12, 'ws': False},\n",
       "  {'text': '-', 'start': 73, 'end': 74, 'id': 13, 'ws': False},\n",
       "  {'text': 'PCR', 'start': 74, 'end': 77, 'id': 14, 'ws': True},\n",
       "  {'text': 'testing', 'start': 78, 'end': 85, 'id': 15, 'ws': True},\n",
       "  {'text': 'has', 'start': 86, 'end': 89, 'id': 16, 'ws': True},\n",
       "  {'text': 'been', 'start': 90, 'end': 94, 'id': 17, 'ws': True},\n",
       "  {'text': 'very', 'start': 95, 'end': 99, 'id': 18, 'ws': True},\n",
       "  {'text': 'limited', 'start': 100, 'end': 107, 'id': 19, 'ws': False},\n",
       "  {'text': '.', 'start': 107, 'end': 108, 'id': 20, 'ws': False}],\n",
       " 'spans': [{'start': 32,\n",
       "   'end': 46,\n",
       "   'token_start': 6,\n",
       "   'token_end': 7,\n",
       "   'label': 'GPE'}],\n",
       " '_is_binary': False,\n",
       " '_view_id': 'ner_manual',\n",
       " 'answer': 'accept',\n",
       " '_timestamp': 1682154299}"
      ]
     },
     "execution_count": 7,
     "metadata": {},
     "output_type": "execute_result"
    }
   ],
   "source": [
    "test_sample = ner_dataset[0]\n",
    "test_sample"
   ]
  },
  {
   "attachments": {},
   "cell_type": "markdown",
   "metadata": {},
   "source": [
    "##### NER Evaluation\n",
    "\n",
    "The part of the code that concerns itself with the model's evaluation on a testing set. It outputs a classification report based on the true entity spans and predicted entity spans following **IOB2** schema format."
   ]
  },
  {
   "cell_type": "code",
   "execution_count": 8,
   "metadata": {},
   "outputs": [
    {
     "name": "stdout",
     "output_type": "stream",
     "text": [
      "{'text': 'Compared to many countries, the United Kingdom’s facility for COVID-19 RT-PCR testing has been very limited.', '_input_hash': -214486349, '_task_hash': -781034035, 'tokens': [{'text': 'Compared', 'start': 0, 'end': 8, 'id': 0, 'ws': True}, {'text': 'to', 'start': 9, 'end': 11, 'id': 1, 'ws': True}, {'text': 'many', 'start': 12, 'end': 16, 'id': 2, 'ws': True}, {'text': 'countries', 'start': 17, 'end': 26, 'id': 3, 'ws': False}, {'text': ',', 'start': 26, 'end': 27, 'id': 4, 'ws': True}, {'text': 'the', 'start': 28, 'end': 31, 'id': 5, 'ws': True}, {'text': 'United', 'start': 32, 'end': 38, 'id': 6, 'ws': True}, {'text': 'Kingdom', 'start': 39, 'end': 46, 'id': 7, 'ws': False}, {'text': '’s', 'start': 46, 'end': 48, 'id': 8, 'ws': True}, {'text': 'facility', 'start': 49, 'end': 57, 'id': 9, 'ws': True}, {'text': 'for', 'start': 58, 'end': 61, 'id': 10, 'ws': True}, {'text': 'COVID-19', 'start': 62, 'end': 70, 'id': 11, 'ws': True}, {'text': 'RT', 'start': 71, 'end': 73, 'id': 12, 'ws': False}, {'text': '-', 'start': 73, 'end': 74, 'id': 13, 'ws': False}, {'text': 'PCR', 'start': 74, 'end': 77, 'id': 14, 'ws': True}, {'text': 'testing', 'start': 78, 'end': 85, 'id': 15, 'ws': True}, {'text': 'has', 'start': 86, 'end': 89, 'id': 16, 'ws': True}, {'text': 'been', 'start': 90, 'end': 94, 'id': 17, 'ws': True}, {'text': 'very', 'start': 95, 'end': 99, 'id': 18, 'ws': True}, {'text': 'limited', 'start': 100, 'end': 107, 'id': 19, 'ws': False}, {'text': '.', 'start': 107, 'end': 108, 'id': 20, 'ws': False}], 'spans': [{'start': 32, 'end': 46, 'token_start': 6, 'token_end': 7, 'label': 'GPE'}], '_is_binary': False, '_view_id': 'ner_manual', 'answer': 'accept', '_timestamp': 1682154299}\n",
      "{'text': 'A European Commission directive has set the task of creating a centralized European health record system by 2020.', '_input_hash': -1738612507, '_task_hash': 400613406, 'tokens': [{'text': 'A', 'start': 0, 'end': 1, 'id': 0, 'ws': True}, {'text': 'European', 'start': 2, 'end': 10, 'id': 1, 'ws': True}, {'text': 'Commission', 'start': 11, 'end': 21, 'id': 2, 'ws': True}, {'text': 'directive', 'start': 22, 'end': 31, 'id': 3, 'ws': True}, {'text': 'has', 'start': 32, 'end': 35, 'id': 4, 'ws': True}, {'text': 'set', 'start': 36, 'end': 39, 'id': 5, 'ws': True}, {'text': 'the', 'start': 40, 'end': 43, 'id': 6, 'ws': True}, {'text': 'task', 'start': 44, 'end': 48, 'id': 7, 'ws': True}, {'text': 'of', 'start': 49, 'end': 51, 'id': 8, 'ws': True}, {'text': 'creating', 'start': 52, 'end': 60, 'id': 9, 'ws': True}, {'text': 'a', 'start': 61, 'end': 62, 'id': 10, 'ws': True}, {'text': 'centralized', 'start': 63, 'end': 74, 'id': 11, 'ws': True}, {'text': 'European', 'start': 75, 'end': 83, 'id': 12, 'ws': True}, {'text': 'health', 'start': 84, 'end': 90, 'id': 13, 'ws': True}, {'text': 'record', 'start': 91, 'end': 97, 'id': 14, 'ws': True}, {'text': 'system', 'start': 98, 'end': 104, 'id': 15, 'ws': True}, {'text': 'by', 'start': 105, 'end': 107, 'id': 16, 'ws': True}, {'text': '2020', 'start': 108, 'end': 112, 'id': 17, 'ws': False}, {'text': '.', 'start': 112, 'end': 113, 'id': 18, 'ws': False}], 'spans': [{'token_start': 1, 'token_end': 2, 'start': 2, 'end': 21, 'text': 'European Commission', 'label': 'ORG', 'source': 'en_core_web_md', 'input_hash': -1738612507}], '_is_binary': False, '_view_id': 'ner_manual', 'answer': 'accept', '_timestamp': 1682161260}\n",
      "{'text': 'The recent SARS-CoV-2 pandemic, the impact of which on the mortality in Switzerland in 2020 and 2021 is easily discernible from figure 2, has demonstrated to be no exemption to that rule, today known as “Farr’s law”.', '_input_hash': 1355150471, '_task_hash': -1543518610, 'tokens': [{'text': 'The', 'start': 0, 'end': 3, 'id': 0, 'ws': True}, {'text': 'recent', 'start': 4, 'end': 10, 'id': 1, 'ws': True}, {'text': 'SARS', 'start': 11, 'end': 15, 'id': 2, 'ws': False}, {'text': '-', 'start': 15, 'end': 16, 'id': 3, 'ws': False}, {'text': 'CoV-2', 'start': 16, 'end': 21, 'id': 4, 'ws': True}, {'text': 'pandemic', 'start': 22, 'end': 30, 'id': 5, 'ws': False}, {'text': ',', 'start': 30, 'end': 31, 'id': 6, 'ws': True}, {'text': 'the', 'start': 32, 'end': 35, 'id': 7, 'ws': True}, {'text': 'impact', 'start': 36, 'end': 42, 'id': 8, 'ws': True}, {'text': 'of', 'start': 43, 'end': 45, 'id': 9, 'ws': True}, {'text': 'which', 'start': 46, 'end': 51, 'id': 10, 'ws': True}, {'text': 'on', 'start': 52, 'end': 54, 'id': 11, 'ws': True}, {'text': 'the', 'start': 55, 'end': 58, 'id': 12, 'ws': True}, {'text': 'mortality', 'start': 59, 'end': 68, 'id': 13, 'ws': True}, {'text': 'in', 'start': 69, 'end': 71, 'id': 14, 'ws': True}, {'text': 'Switzerland', 'start': 72, 'end': 83, 'id': 15, 'ws': True}, {'text': 'in', 'start': 84, 'end': 86, 'id': 16, 'ws': True}, {'text': '2020', 'start': 87, 'end': 91, 'id': 17, 'ws': True}, {'text': 'and', 'start': 92, 'end': 95, 'id': 18, 'ws': True}, {'text': '2021', 'start': 96, 'end': 100, 'id': 19, 'ws': True}, {'text': 'is', 'start': 101, 'end': 103, 'id': 20, 'ws': True}, {'text': 'easily', 'start': 104, 'end': 110, 'id': 21, 'ws': True}, {'text': 'discernible', 'start': 111, 'end': 122, 'id': 22, 'ws': True}, {'text': 'from', 'start': 123, 'end': 127, 'id': 23, 'ws': True}, {'text': 'figure', 'start': 128, 'end': 134, 'id': 24, 'ws': True}, {'text': '2', 'start': 135, 'end': 136, 'id': 25, 'ws': False}, {'text': ',', 'start': 136, 'end': 137, 'id': 26, 'ws': True}, {'text': 'has', 'start': 138, 'end': 141, 'id': 27, 'ws': True}, {'text': 'demonstrated', 'start': 142, 'end': 154, 'id': 28, 'ws': True}, {'text': 'to', 'start': 155, 'end': 157, 'id': 29, 'ws': True}, {'text': 'be', 'start': 158, 'end': 160, 'id': 30, 'ws': True}, {'text': 'no', 'start': 161, 'end': 163, 'id': 31, 'ws': True}, {'text': 'exemption', 'start': 164, 'end': 173, 'id': 32, 'ws': True}, {'text': 'to', 'start': 174, 'end': 176, 'id': 33, 'ws': True}, {'text': 'that', 'start': 177, 'end': 181, 'id': 34, 'ws': True}, {'text': 'rule', 'start': 182, 'end': 186, 'id': 35, 'ws': False}, {'text': ',', 'start': 186, 'end': 187, 'id': 36, 'ws': True}, {'text': 'today', 'start': 188, 'end': 193, 'id': 37, 'ws': True}, {'text': 'known', 'start': 194, 'end': 199, 'id': 38, 'ws': True}, {'text': 'as', 'start': 200, 'end': 202, 'id': 39, 'ws': True}, {'text': '“', 'start': 203, 'end': 204, 'id': 40, 'ws': False}, {'text': 'Farr', 'start': 204, 'end': 208, 'id': 41, 'ws': False}, {'text': '’s', 'start': 208, 'end': 210, 'id': 42, 'ws': True}, {'text': 'law', 'start': 211, 'end': 214, 'id': 43, 'ws': False}, {'text': '”', 'start': 214, 'end': 215, 'id': 44, 'ws': False}, {'text': '.', 'start': 215, 'end': 216, 'id': 45, 'ws': False}], 'spans': [{'start': 72, 'end': 83, 'text': 'Switzerland', 'source': 'en_core_web_md', 'input_hash': 1355150471, 'token_start': 15, 'token_end': 15, 'label': 'GPE'}, {'start': 203, 'end': 215, 'token_start': 40, 'token_end': 44, 'label': 'LAW'}], '_is_binary': False, '_view_id': 'ner_manual', 'answer': 'accept', '_timestamp': 1682156846}\n",
      "{'text': 'In order to support cultural businesses and creative artists, the Federal Office of Culture (FOC) may enter into service agreements with one or more cantons.', '_input_hash': 1179980134, '_task_hash': 1248976789, 'tokens': [{'text': 'In', 'start': 0, 'end': 2, 'id': 0, 'ws': True}, {'text': 'order', 'start': 3, 'end': 8, 'id': 1, 'ws': True}, {'text': 'to', 'start': 9, 'end': 11, 'id': 2, 'ws': True}, {'text': 'support', 'start': 12, 'end': 19, 'id': 3, 'ws': True}, {'text': 'cultural', 'start': 20, 'end': 28, 'id': 4, 'ws': True}, {'text': 'businesses', 'start': 29, 'end': 39, 'id': 5, 'ws': True}, {'text': 'and', 'start': 40, 'end': 43, 'id': 6, 'ws': True}, {'text': 'creative', 'start': 44, 'end': 52, 'id': 7, 'ws': True}, {'text': 'artists', 'start': 53, 'end': 60, 'id': 8, 'ws': False}, {'text': ',', 'start': 60, 'end': 61, 'id': 9, 'ws': True}, {'text': 'the', 'start': 62, 'end': 65, 'id': 10, 'ws': True}, {'text': 'Federal', 'start': 66, 'end': 73, 'id': 11, 'ws': True}, {'text': 'Office', 'start': 74, 'end': 80, 'id': 12, 'ws': True}, {'text': 'of', 'start': 81, 'end': 83, 'id': 13, 'ws': True}, {'text': 'Culture', 'start': 84, 'end': 91, 'id': 14, 'ws': True}, {'text': '(', 'start': 92, 'end': 93, 'id': 15, 'ws': False}, {'text': 'FOC', 'start': 93, 'end': 96, 'id': 16, 'ws': False}, {'text': ')', 'start': 96, 'end': 97, 'id': 17, 'ws': True}, {'text': 'may', 'start': 98, 'end': 101, 'id': 18, 'ws': True}, {'text': 'enter', 'start': 102, 'end': 107, 'id': 19, 'ws': True}, {'text': 'into', 'start': 108, 'end': 112, 'id': 20, 'ws': True}, {'text': 'service', 'start': 113, 'end': 120, 'id': 21, 'ws': True}, {'text': 'agreements', 'start': 121, 'end': 131, 'id': 22, 'ws': True}, {'text': 'with', 'start': 132, 'end': 136, 'id': 23, 'ws': True}, {'text': 'one', 'start': 137, 'end': 140, 'id': 24, 'ws': True}, {'text': 'or', 'start': 141, 'end': 143, 'id': 25, 'ws': True}, {'text': 'more', 'start': 144, 'end': 148, 'id': 26, 'ws': True}, {'text': 'cantons', 'start': 149, 'end': 156, 'id': 27, 'ws': False}, {'text': '.', 'start': 156, 'end': 157, 'id': 28, 'ws': False}], 'spans': [{'start': 66, 'end': 97, 'token_start': 11, 'token_end': 17, 'label': 'ORG'}], '_is_binary': False, '_view_id': 'ner_manual', 'answer': 'accept', '_timestamp': 1682160349}\n",
      "{'text': 'Toulouse University Hospital agreed to comply with reference methodology MR-004 of the French National Commission for Informatics and Liberties', '_input_hash': -1754966209, '_task_hash': -1513304222, 'tokens': [{'text': 'Toulouse', 'start': 0, 'end': 8, 'id': 0, 'ws': True}, {'text': 'University', 'start': 9, 'end': 19, 'id': 1, 'ws': True}, {'text': 'Hospital', 'start': 20, 'end': 28, 'id': 2, 'ws': True}, {'text': 'agreed', 'start': 29, 'end': 35, 'id': 3, 'ws': True}, {'text': 'to', 'start': 36, 'end': 38, 'id': 4, 'ws': True}, {'text': 'comply', 'start': 39, 'end': 45, 'id': 5, 'ws': True}, {'text': 'with', 'start': 46, 'end': 50, 'id': 6, 'ws': True}, {'text': 'reference', 'start': 51, 'end': 60, 'id': 7, 'ws': True}, {'text': 'methodology', 'start': 61, 'end': 72, 'id': 8, 'ws': True}, {'text': 'MR-004', 'start': 73, 'end': 79, 'id': 9, 'ws': True}, {'text': 'of', 'start': 80, 'end': 82, 'id': 10, 'ws': True}, {'text': 'the', 'start': 83, 'end': 86, 'id': 11, 'ws': True}, {'text': 'French', 'start': 87, 'end': 93, 'id': 12, 'ws': True}, {'text': 'National', 'start': 94, 'end': 102, 'id': 13, 'ws': True}, {'text': 'Commission', 'start': 103, 'end': 113, 'id': 14, 'ws': True}, {'text': 'for', 'start': 114, 'end': 117, 'id': 15, 'ws': True}, {'text': 'Informatics', 'start': 118, 'end': 129, 'id': 16, 'ws': True}, {'text': 'and', 'start': 130, 'end': 133, 'id': 17, 'ws': True}, {'text': 'Liberties', 'start': 134, 'end': 143, 'id': 18, 'ws': False}], 'spans': [{'start': 0, 'end': 28, 'text': 'Toulouse University Hospital', 'source': 'en_core_web_md', 'input_hash': -1754966209, 'token_start': 0, 'token_end': 2, 'label': 'ORG'}, {'start': 87, 'end': 143, 'token_start': 12, 'token_end': 18, 'label': 'ORG'}], '_is_binary': False, '_view_id': 'ner_manual', 'answer': 'accept', '_timestamp': 1682155320}\n"
     ]
    }
   ],
   "source": [
    "for sample in ner_dataset[:5]:\n",
    "    print(sample)"
   ]
  },
  {
   "attachments": {},
   "cell_type": "markdown",
   "metadata": {},
   "source": [
    "Testing Loop"
   ]
  },
  {
   "cell_type": "code",
   "execution_count": 9,
   "metadata": {},
   "outputs": [
    {
     "name": "stdout",
     "output_type": "stream",
     "text": [
      "Model evaluation on the test set started | Visualization: True | POS Tagging: True\n",
      "Visualization: \n",
      "Predicted Entity Spans: \n"
     ]
    },
    {
     "data": {
      "text/html": [
       "<span class=\"tex2jax_ignore\"><div class=\"entities\" style=\"line-height: 2.5; direction: ltr\">Dermatosurgery is actively taught as part of the \n",
       "<mark class=\"entity\" style=\"background: #7aecec; padding: 0.45em 0.6em; margin: 0 0.25em; line-height: 1; border-radius: 0.35em;\">\n",
       "    MMed\n",
       "    <span style=\"font-size: 0.8em; font-weight: bold; line-height: 1; border-radius: 0.35em; vertical-align: middle; margin-left: 0.5rem\">ORG</span>\n",
       "</mark>\n",
       " with input from plastic surgeons from abroad.</div></span>"
      ],
      "text/plain": [
       "<IPython.core.display.HTML object>"
      ]
     },
     "metadata": {},
     "output_type": "display_data"
    },
    {
     "name": "stdout",
     "output_type": "stream",
     "text": [
      "True Entity Spans: \n"
     ]
    },
    {
     "data": {
      "text/html": [
       "<span class=\"tex2jax_ignore\"><div class=\"entities\" style=\"line-height: 2.5; direction: ltr\">Dermatosurgery is actively taught as part of the MMed with input from plastic surgeons from abroad.</div></span>"
      ],
      "text/plain": [
       "<IPython.core.display.HTML object>"
      ]
     },
     "metadata": {},
     "output_type": "display_data"
    },
    {
     "name": "stdout",
     "output_type": "stream",
     "text": [
      "Predicted Entity Spans: \n"
     ]
    },
    {
     "data": {
      "text/html": [
       "<span class=\"tex2jax_ignore\"><div class=\"entities\" style=\"line-height: 2.5; direction: ltr\">While much progress has been made with tuberculosis control, \n",
       "<mark class=\"entity\" style=\"background: #7aecec; padding: 0.45em 0.6em; margin: 0 0.25em; line-height: 1; border-radius: 0.35em;\">\n",
       "    the World Health Organization\n",
       "    <span style=\"font-size: 0.8em; font-weight: bold; line-height: 1; border-radius: 0.35em; vertical-align: middle; margin-left: 0.5rem\">ORG</span>\n",
       "</mark>\n",
       " (\n",
       "<mark class=\"entity\" style=\"background: #7aecec; padding: 0.45em 0.6em; margin: 0 0.25em; line-height: 1; border-radius: 0.35em;\">\n",
       "    WHO\n",
       "    <span style=\"font-size: 0.8em; font-weight: bold; line-height: 1; border-radius: 0.35em; vertical-align: middle; margin-left: 0.5rem\">ORG</span>\n",
       "</mark>\n",
       ") estimates that \n",
       "<mark class=\"entity\" style=\"background: #e4e7d2; padding: 0.45em 0.6em; margin: 0 0.25em; line-height: 1; border-radius: 0.35em;\">\n",
       "    9 million\n",
       "    <span style=\"font-size: 0.8em; font-weight: bold; line-height: 1; border-radius: 0.35em; vertical-align: middle; margin-left: 0.5rem\">CARDINAL</span>\n",
       "</mark>\n",
       " people developed tuberculosis in \n",
       "<mark class=\"entity\" style=\"background: #bfe1d9; padding: 0.45em 0.6em; margin: 0 0.25em; line-height: 1; border-radius: 0.35em;\">\n",
       "    2013\n",
       "    <span style=\"font-size: 0.8em; font-weight: bold; line-height: 1; border-radius: 0.35em; vertical-align: middle; margin-left: 0.5rem\">DATE</span>\n",
       "</mark>\n",
       " and that \n",
       "<mark class=\"entity\" style=\"background: #e4e7d2; padding: 0.45em 0.6em; margin: 0 0.25em; line-height: 1; border-radius: 0.35em;\">\n",
       "    1.5 million\n",
       "    <span style=\"font-size: 0.8em; font-weight: bold; line-height: 1; border-radius: 0.35em; vertical-align: middle; margin-left: 0.5rem\">CARDINAL</span>\n",
       "</mark>\n",
       " died, including \n",
       "<mark class=\"entity\" style=\"background: #e4e7d2; padding: 0.45em 0.6em; margin: 0 0.25em; line-height: 1; border-radius: 0.35em;\">\n",
       "    360 000\n",
       "    <span style=\"font-size: 0.8em; font-weight: bold; line-height: 1; border-radius: 0.35em; vertical-align: middle; margin-left: 0.5rem\">CARDINAL</span>\n",
       "</mark>\n",
       " people who were infected with human immunodeficiency virus (HIV).</div></span>"
      ],
      "text/plain": [
       "<IPython.core.display.HTML object>"
      ]
     },
     "metadata": {},
     "output_type": "display_data"
    },
    {
     "name": "stdout",
     "output_type": "stream",
     "text": [
      "True Entity Spans: \n"
     ]
    },
    {
     "data": {
      "text/html": [
       "<span class=\"tex2jax_ignore\"><div class=\"entities\" style=\"line-height: 2.5; direction: ltr\">While much progress has been made with tuberculosis control, the \n",
       "<mark class=\"entity\" style=\"background: #7aecec; padding: 0.45em 0.6em; margin: 0 0.25em; line-height: 1; border-radius: 0.35em;\">\n",
       "    World Health Organization (WHO)\n",
       "    <span style=\"font-size: 0.8em; font-weight: bold; line-height: 1; border-radius: 0.35em; vertical-align: middle; margin-left: 0.5rem\">ORG</span>\n",
       "</mark>\n",
       " estimates that 9 million people developed tuberculosis in 2013 and that 1.5 million died, including 360 000 people who were infected with human immunodeficiency virus (HIV).</div></span>"
      ],
      "text/plain": [
       "<IPython.core.display.HTML object>"
      ]
     },
     "metadata": {},
     "output_type": "display_data"
    },
    {
     "name": "stdout",
     "output_type": "stream",
     "text": [
      "Predicted Entity Spans: \n"
     ]
    },
    {
     "name": "stderr",
     "output_type": "stream",
     "text": [
      "c:\\Users\\Genis\\AppData\\Local\\Programs\\Python\\Python39\\lib\\site-packages\\spacy\\displacy\\__init__.py:215: UserWarning: [W006] No entities to visualize found in Doc object. If this is surprising to you, make sure the Doc was processed using a model that supports named entity recognition, and check the `doc.ents` property manually if necessary.\n",
      "  warnings.warn(Warnings.W006)\n"
     ]
    },
    {
     "data": {
      "text/html": [
       "<span class=\"tex2jax_ignore\"><div class=\"entities\" style=\"line-height: 2.5; direction: ltr\">Calls to Poison Control Centers have reported an increase in marijuana exposure among younger children.</div></span>"
      ],
      "text/plain": [
       "<IPython.core.display.HTML object>"
      ]
     },
     "metadata": {},
     "output_type": "display_data"
    },
    {
     "name": "stdout",
     "output_type": "stream",
     "text": [
      "True Entity Spans: \n"
     ]
    },
    {
     "data": {
      "text/html": [
       "<span class=\"tex2jax_ignore\"><div class=\"entities\" style=\"line-height: 2.5; direction: ltr\">Calls to \n",
       "<mark class=\"entity\" style=\"background: #7aecec; padding: 0.45em 0.6em; margin: 0 0.25em; line-height: 1; border-radius: 0.35em;\">\n",
       "    Poison Control Centers\n",
       "    <span style=\"font-size: 0.8em; font-weight: bold; line-height: 1; border-radius: 0.35em; vertical-align: middle; margin-left: 0.5rem\">ORG</span>\n",
       "</mark>\n",
       " have reported an increase in marijuana exposure among younger children.</div></span>"
      ],
      "text/plain": [
       "<IPython.core.display.HTML object>"
      ]
     },
     "metadata": {},
     "output_type": "display_data"
    },
    {
     "name": "stdout",
     "output_type": "stream",
     "text": [
      "Predicted Entity Spans: \n"
     ]
    },
    {
     "data": {
      "text/html": [
       "<span class=\"tex2jax_ignore\"><div class=\"entities\" style=\"line-height: 2.5; direction: ltr\">\n",
       "<mark class=\"entity\" style=\"background: #7aecec; padding: 0.45em 0.6em; margin: 0 0.25em; line-height: 1; border-radius: 0.35em;\">\n",
       "    The Bureau of Economic Analysis\n",
       "    <span style=\"font-size: 0.8em; font-weight: bold; line-height: 1; border-radius: 0.35em; vertical-align: middle; margin-left: 0.5rem\">ORG</span>\n",
       "</mark>\n",
       " of \n",
       "<mark class=\"entity\" style=\"background: #7aecec; padding: 0.45em 0.6em; margin: 0 0.25em; line-height: 1; border-radius: 0.35em;\">\n",
       "    the U.S. Department of Commerce\n",
       "    <span style=\"font-size: 0.8em; font-weight: bold; line-height: 1; border-radius: 0.35em; vertical-align: middle; margin-left: 0.5rem\">ORG</span>\n",
       "</mark>\n",
       " should lead the development of bioeconomy satellite accounts linked to central national accounts.</div></span>"
      ],
      "text/plain": [
       "<IPython.core.display.HTML object>"
      ]
     },
     "metadata": {},
     "output_type": "display_data"
    },
    {
     "name": "stdout",
     "output_type": "stream",
     "text": [
      "True Entity Spans: \n"
     ]
    },
    {
     "data": {
      "text/html": [
       "<span class=\"tex2jax_ignore\"><div class=\"entities\" style=\"line-height: 2.5; direction: ltr\">The \n",
       "<mark class=\"entity\" style=\"background: #7aecec; padding: 0.45em 0.6em; margin: 0 0.25em; line-height: 1; border-radius: 0.35em;\">\n",
       "    Bureau of Economic Analysis of the U.S. Department of Commerce\n",
       "    <span style=\"font-size: 0.8em; font-weight: bold; line-height: 1; border-radius: 0.35em; vertical-align: middle; margin-left: 0.5rem\">ORG</span>\n",
       "</mark>\n",
       " should lead the development of bioeconomy satellite accounts linked to central national accounts.</div></span>"
      ],
      "text/plain": [
       "<IPython.core.display.HTML object>"
      ]
     },
     "metadata": {},
     "output_type": "display_data"
    },
    {
     "name": "stdout",
     "output_type": "stream",
     "text": [
      "Predicted Entity Spans: \n"
     ]
    },
    {
     "data": {
      "text/html": [
       "<span class=\"tex2jax_ignore\"><div class=\"entities\" style=\"line-height: 2.5; direction: ltr\">\n",
       "<mark class=\"entity\" style=\"background: #7aecec; padding: 0.45em 0.6em; margin: 0 0.25em; line-height: 1; border-radius: 0.35em;\">\n",
       "    Apollo\n",
       "    <span style=\"font-size: 0.8em; font-weight: bold; line-height: 1; border-radius: 0.35em; vertical-align: middle; margin-left: 0.5rem\">ORG</span>\n",
       "</mark>\n",
       " has integrated its AI-powered CVD solution with preventative health check-ups across its hospital network and has also formed \n",
       "<mark class=\"entity\" style=\"background: #7aecec; padding: 0.45em 0.6em; margin: 0 0.25em; line-height: 1; border-radius: 0.35em;\">\n",
       "    a National Clinical Coordination Committee\n",
       "    <span style=\"font-size: 0.8em; font-weight: bold; line-height: 1; border-radius: 0.35em; vertical-align: middle; margin-left: 0.5rem\">ORG</span>\n",
       "</mark>\n",
       " that includes \n",
       "<mark class=\"entity\" style=\"background: #7aecec; padding: 0.45em 0.6em; margin: 0 0.25em; line-height: 1; border-radius: 0.35em;\">\n",
       "    the All India Institute of Medical Sciences\n",
       "    <span style=\"font-size: 0.8em; font-weight: bold; line-height: 1; border-radius: 0.35em; vertical-align: middle; margin-left: 0.5rem\">ORG</span>\n",
       "</mark>\n",
       " (\n",
       "<mark class=\"entity\" style=\"background: #7aecec; padding: 0.45em 0.6em; margin: 0 0.25em; line-height: 1; border-radius: 0.35em;\">\n",
       "    AIIMS\n",
       "    <span style=\"font-size: 0.8em; font-weight: bold; line-height: 1; border-radius: 0.35em; vertical-align: middle; margin-left: 0.5rem\">ORG</span>\n",
       "</mark>\n",
       "), \n",
       "<mark class=\"entity\" style=\"background: #feca74; padding: 0.45em 0.6em; margin: 0 0.25em; line-height: 1; border-radius: 0.35em;\">\n",
       "    New Delhi\n",
       "    <span style=\"font-size: 0.8em; font-weight: bold; line-height: 1; border-radius: 0.35em; vertical-align: middle; margin-left: 0.5rem\">GPE</span>\n",
       "</mark>\n",
       " and \n",
       "<mark class=\"entity\" style=\"background: #7aecec; padding: 0.45em 0.6em; margin: 0 0.25em; line-height: 1; border-radius: 0.35em;\">\n",
       "    King George’s Medical University\n",
       "    <span style=\"font-size: 0.8em; font-weight: bold; line-height: 1; border-radius: 0.35em; vertical-align: middle; margin-left: 0.5rem\">ORG</span>\n",
       "</mark>\n",
       " (\n",
       "<mark class=\"entity\" style=\"background: #7aecec; padding: 0.45em 0.6em; margin: 0 0.25em; line-height: 1; border-radius: 0.35em;\">\n",
       "    KGMU\n",
       "    <span style=\"font-size: 0.8em; font-weight: bold; line-height: 1; border-radius: 0.35em; vertical-align: middle; margin-left: 0.5rem\">ORG</span>\n",
       "</mark>\n",
       "), \n",
       "<mark class=\"entity\" style=\"background: #feca74; padding: 0.45em 0.6em; margin: 0 0.25em; line-height: 1; border-radius: 0.35em;\">\n",
       "    Lucknow\n",
       "    <span style=\"font-size: 0.8em; font-weight: bold; line-height: 1; border-radius: 0.35em; vertical-align: middle; margin-left: 0.5rem\">GPE</span>\n",
       "</mark>\n",
       " for an ongoing study on prospective validation in the \n",
       "<mark class=\"entity\" style=\"background: #c887fb; padding: 0.45em 0.6em; margin: 0 0.25em; line-height: 1; border-radius: 0.35em;\">\n",
       "    Indian\n",
       "    <span style=\"font-size: 0.8em; font-weight: bold; line-height: 1; border-radius: 0.35em; vertical-align: middle; margin-left: 0.5rem\">NORP</span>\n",
       "</mark>\n",
       " population.</div></span>"
      ],
      "text/plain": [
       "<IPython.core.display.HTML object>"
      ]
     },
     "metadata": {},
     "output_type": "display_data"
    },
    {
     "name": "stdout",
     "output_type": "stream",
     "text": [
      "True Entity Spans: \n"
     ]
    },
    {
     "data": {
      "text/html": [
       "<span class=\"tex2jax_ignore\"><div class=\"entities\" style=\"line-height: 2.5; direction: ltr\">\n",
       "<mark class=\"entity\" style=\"background: #7aecec; padding: 0.45em 0.6em; margin: 0 0.25em; line-height: 1; border-radius: 0.35em;\">\n",
       "    Apollo\n",
       "    <span style=\"font-size: 0.8em; font-weight: bold; line-height: 1; border-radius: 0.35em; vertical-align: middle; margin-left: 0.5rem\">ORG</span>\n",
       "</mark>\n",
       " has integrated its AI-powered CVD solution with preventative health check-ups across its hospital network and has also formed a National Clinical Coordination Committee that includes the \n",
       "<mark class=\"entity\" style=\"background: #7aecec; padding: 0.45em 0.6em; margin: 0 0.25em; line-height: 1; border-radius: 0.35em;\">\n",
       "    All India Institute of Medical Sciences (AIIMS)\n",
       "    <span style=\"font-size: 0.8em; font-weight: bold; line-height: 1; border-radius: 0.35em; vertical-align: middle; margin-left: 0.5rem\">ORG</span>\n",
       "</mark>\n",
       ", \n",
       "<mark class=\"entity\" style=\"background: #feca74; padding: 0.45em 0.6em; margin: 0 0.25em; line-height: 1; border-radius: 0.35em;\">\n",
       "    New Delhi\n",
       "    <span style=\"font-size: 0.8em; font-weight: bold; line-height: 1; border-radius: 0.35em; vertical-align: middle; margin-left: 0.5rem\">GPE</span>\n",
       "</mark>\n",
       " and \n",
       "<mark class=\"entity\" style=\"background: #7aecec; padding: 0.45em 0.6em; margin: 0 0.25em; line-height: 1; border-radius: 0.35em;\">\n",
       "    King George’s Medical University (KGMU)\n",
       "    <span style=\"font-size: 0.8em; font-weight: bold; line-height: 1; border-radius: 0.35em; vertical-align: middle; margin-left: 0.5rem\">ORG</span>\n",
       "</mark>\n",
       ", \n",
       "<mark class=\"entity\" style=\"background: #feca74; padding: 0.45em 0.6em; margin: 0 0.25em; line-height: 1; border-radius: 0.35em;\">\n",
       "    Lucknow\n",
       "    <span style=\"font-size: 0.8em; font-weight: bold; line-height: 1; border-radius: 0.35em; vertical-align: middle; margin-left: 0.5rem\">GPE</span>\n",
       "</mark>\n",
       " for an ongoing study on prospective validation in the Indian population.</div></span>"
      ],
      "text/plain": [
       "<IPython.core.display.HTML object>"
      ]
     },
     "metadata": {},
     "output_type": "display_data"
    },
    {
     "name": "stdout",
     "output_type": "stream",
     "text": [
      "Predicted Entity Spans: \n"
     ]
    },
    {
     "data": {
      "text/html": [
       "<span class=\"tex2jax_ignore\"><div class=\"entities\" style=\"line-height: 2.5; direction: ltr\">\n",
       "<mark class=\"entity\" style=\"background: #7aecec; padding: 0.45em 0.6em; margin: 0 0.25em; line-height: 1; border-radius: 0.35em;\">\n",
       "    The Forum on Emerging Infections\n",
       "    <span style=\"font-size: 0.8em; font-weight: bold; line-height: 1; border-radius: 0.35em; vertical-align: middle; margin-left: 0.5rem\">ORG</span>\n",
       "</mark>\n",
       " and the \n",
       "<mark class=\"entity\" style=\"background: #7aecec; padding: 0.45em 0.6em; margin: 0 0.25em; line-height: 1; border-radius: 0.35em;\">\n",
       "    IOM\n",
       "    <span style=\"font-size: 0.8em; font-weight: bold; line-height: 1; border-radius: 0.35em; vertical-align: middle; margin-left: 0.5rem\">ORG</span>\n",
       "</mark>\n",
       " wish to express their warmest appreciation to the individuals and organizations who gave valuable time to provide information and advice to the \n",
       "<mark class=\"entity\" style=\"background: #7aecec; padding: 0.45em 0.6em; margin: 0 0.25em; line-height: 1; border-radius: 0.35em;\">\n",
       "    Forum\n",
       "    <span style=\"font-size: 0.8em; font-weight: bold; line-height: 1; border-radius: 0.35em; vertical-align: middle; margin-left: 0.5rem\">ORG</span>\n",
       "</mark>\n",
       " through participation in the workshop.</div></span>"
      ],
      "text/plain": [
       "<IPython.core.display.HTML object>"
      ]
     },
     "metadata": {},
     "output_type": "display_data"
    },
    {
     "name": "stdout",
     "output_type": "stream",
     "text": [
      "True Entity Spans: \n"
     ]
    },
    {
     "data": {
      "text/html": [
       "<span class=\"tex2jax_ignore\"><div class=\"entities\" style=\"line-height: 2.5; direction: ltr\">\n",
       "<mark class=\"entity\" style=\"background: #7aecec; padding: 0.45em 0.6em; margin: 0 0.25em; line-height: 1; border-radius: 0.35em;\">\n",
       "    The Forum on Emerging Infections\n",
       "    <span style=\"font-size: 0.8em; font-weight: bold; line-height: 1; border-radius: 0.35em; vertical-align: middle; margin-left: 0.5rem\">ORG</span>\n",
       "</mark>\n",
       " and the \n",
       "<mark class=\"entity\" style=\"background: #7aecec; padding: 0.45em 0.6em; margin: 0 0.25em; line-height: 1; border-radius: 0.35em;\">\n",
       "    IOM\n",
       "    <span style=\"font-size: 0.8em; font-weight: bold; line-height: 1; border-radius: 0.35em; vertical-align: middle; margin-left: 0.5rem\">ORG</span>\n",
       "</mark>\n",
       " wish to express their warmest appreciation to the individuals and organizations who gave valuable time to provide information and advice to the Forum through participation in the workshop.</div></span>"
      ],
      "text/plain": [
       "<IPython.core.display.HTML object>"
      ]
     },
     "metadata": {},
     "output_type": "display_data"
    },
    {
     "name": "stdout",
     "output_type": "stream",
     "text": [
      "Predicted Entity Spans: \n"
     ]
    },
    {
     "data": {
      "text/html": [
       "<span class=\"tex2jax_ignore\"><div class=\"entities\" style=\"line-height: 2.5; direction: ltr\">Currently, the \n",
       "<mark class=\"entity\" style=\"background: #7aecec; padding: 0.45em 0.6em; margin: 0 0.25em; line-height: 1; border-radius: 0.35em;\">\n",
       "    FDA\n",
       "    <span style=\"font-size: 0.8em; font-weight: bold; line-height: 1; border-radius: 0.35em; vertical-align: middle; margin-left: 0.5rem\">ORG</span>\n",
       "</mark>\n",
       " monitors reports of device and drug adverse events and may require PMS to clarify possible adverse events associated with a device—or verify that efficacy of a device persists in the “real world”</div></span>"
      ],
      "text/plain": [
       "<IPython.core.display.HTML object>"
      ]
     },
     "metadata": {},
     "output_type": "display_data"
    },
    {
     "name": "stdout",
     "output_type": "stream",
     "text": [
      "True Entity Spans: \n"
     ]
    },
    {
     "data": {
      "text/html": [
       "<span class=\"tex2jax_ignore\"><div class=\"entities\" style=\"line-height: 2.5; direction: ltr\">Currently, the \n",
       "<mark class=\"entity\" style=\"background: #7aecec; padding: 0.45em 0.6em; margin: 0 0.25em; line-height: 1; border-radius: 0.35em;\">\n",
       "    FDA\n",
       "    <span style=\"font-size: 0.8em; font-weight: bold; line-height: 1; border-radius: 0.35em; vertical-align: middle; margin-left: 0.5rem\">ORG</span>\n",
       "</mark>\n",
       " monitors reports of device and drug adverse events and may require PMS to clarify possible adverse events associated with a device—or verify that efficacy of a device persists in the “real world”</div></span>"
      ],
      "text/plain": [
       "<IPython.core.display.HTML object>"
      ]
     },
     "metadata": {},
     "output_type": "display_data"
    },
    {
     "name": "stdout",
     "output_type": "stream",
     "text": [
      "Predicted Entity Spans: \n"
     ]
    },
    {
     "data": {
      "text/html": [
       "<span class=\"tex2jax_ignore\"><div class=\"entities\" style=\"line-height: 2.5; direction: ltr\">\n",
       "<mark class=\"entity\" style=\"background: #7aecec; padding: 0.45em 0.6em; margin: 0 0.25em; line-height: 1; border-radius: 0.35em;\">\n",
       "    The White House\n",
       "    <span style=\"font-size: 0.8em; font-weight: bold; line-height: 1; border-radius: 0.35em; vertical-align: middle; margin-left: 0.5rem\">ORG</span>\n",
       "</mark>\n",
       " \n",
       "<mark class=\"entity\" style=\"background: #7aecec; padding: 0.45em 0.6em; margin: 0 0.25em; line-height: 1; border-radius: 0.35em;\">\n",
       "    Office of Management and Budget\n",
       "    <span style=\"font-size: 0.8em; font-weight: bold; line-height: 1; border-radius: 0.35em; vertical-align: middle; margin-left: 0.5rem\">ORG</span>\n",
       "</mark>\n",
       " and \n",
       "<mark class=\"entity\" style=\"background: #7aecec; padding: 0.45em 0.6em; margin: 0 0.25em; line-height: 1; border-radius: 0.35em;\">\n",
       "    the Office of Science and Technology Policy\n",
       "    <span style=\"font-size: 0.8em; font-weight: bold; line-height: 1; border-radius: 0.35em; vertical-align: middle; margin-left: 0.5rem\">ORG</span>\n",
       "</mark>\n",
       " (\n",
       "<mark class=\"entity\" style=\"background: #7aecec; padding: 0.45em 0.6em; margin: 0 0.25em; line-height: 1; border-radius: 0.35em;\">\n",
       "    OSTP\n",
       "    <span style=\"font-size: 0.8em; font-weight: bold; line-height: 1; border-radius: 0.35em; vertical-align: middle; margin-left: 0.5rem\">ORG</span>\n",
       "</mark>\n",
       ") directed agencies to prioritize efforts to promote sustainable economic growth and job creation.</div></span>"
      ],
      "text/plain": [
       "<IPython.core.display.HTML object>"
      ]
     },
     "metadata": {},
     "output_type": "display_data"
    },
    {
     "name": "stdout",
     "output_type": "stream",
     "text": [
      "True Entity Spans: \n"
     ]
    },
    {
     "data": {
      "text/html": [
       "<span class=\"tex2jax_ignore\"><div class=\"entities\" style=\"line-height: 2.5; direction: ltr\">\n",
       "<mark class=\"entity\" style=\"background: #7aecec; padding: 0.45em 0.6em; margin: 0 0.25em; line-height: 1; border-radius: 0.35em;\">\n",
       "    The White House Office of Management and Budget\n",
       "    <span style=\"font-size: 0.8em; font-weight: bold; line-height: 1; border-radius: 0.35em; vertical-align: middle; margin-left: 0.5rem\">ORG</span>\n",
       "</mark>\n",
       " and the \n",
       "<mark class=\"entity\" style=\"background: #7aecec; padding: 0.45em 0.6em; margin: 0 0.25em; line-height: 1; border-radius: 0.35em;\">\n",
       "    Office of Science and Technology Policy (OSTP)\n",
       "    <span style=\"font-size: 0.8em; font-weight: bold; line-height: 1; border-radius: 0.35em; vertical-align: middle; margin-left: 0.5rem\">ORG</span>\n",
       "</mark>\n",
       " directed agencies to prioritize efforts to promote sustainable economic growth and job creation.</div></span>"
      ],
      "text/plain": [
       "<IPython.core.display.HTML object>"
      ]
     },
     "metadata": {},
     "output_type": "display_data"
    },
    {
     "name": "stdout",
     "output_type": "stream",
     "text": [
      "Predicted Entity Spans: \n"
     ]
    },
    {
     "data": {
      "text/html": [
       "<span class=\"tex2jax_ignore\"><div class=\"entities\" style=\"line-height: 2.5; direction: ltr\">These security and economic concerns provided the impetus for the study documented in this report, which was requested by \n",
       "<mark class=\"entity\" style=\"background: #7aecec; padding: 0.45em 0.6em; margin: 0 0.25em; line-height: 1; border-radius: 0.35em;\">\n",
       "    the Office of the Director of National Intelligence\n",
       "    <span style=\"font-size: 0.8em; font-weight: bold; line-height: 1; border-radius: 0.35em; vertical-align: middle; margin-left: 0.5rem\">ORG</span>\n",
       "</mark>\n",
       ".</div></span>"
      ],
      "text/plain": [
       "<IPython.core.display.HTML object>"
      ]
     },
     "metadata": {},
     "output_type": "display_data"
    },
    {
     "name": "stdout",
     "output_type": "stream",
     "text": [
      "True Entity Spans: \n"
     ]
    },
    {
     "data": {
      "text/html": [
       "<span class=\"tex2jax_ignore\"><div class=\"entities\" style=\"line-height: 2.5; direction: ltr\">These security and economic concerns provided the impetus for the study documented in this report, which was requested by the \n",
       "<mark class=\"entity\" style=\"background: #7aecec; padding: 0.45em 0.6em; margin: 0 0.25em; line-height: 1; border-radius: 0.35em;\">\n",
       "    Office of the Director of National Intelligence\n",
       "    <span style=\"font-size: 0.8em; font-weight: bold; line-height: 1; border-radius: 0.35em; vertical-align: middle; margin-left: 0.5rem\">ORG</span>\n",
       "</mark>\n",
       ".</div></span>"
      ],
      "text/plain": [
       "<IPython.core.display.HTML object>"
      ]
     },
     "metadata": {},
     "output_type": "display_data"
    },
    {
     "name": "stdout",
     "output_type": "stream",
     "text": [
      "Predicted Entity Spans: \n"
     ]
    },
    {
     "data": {
      "text/html": [
       "<span class=\"tex2jax_ignore\"><div class=\"entities\" style=\"line-height: 2.5; direction: ltr\">\n",
       "<mark class=\"entity\" style=\"background: #7aecec; padding: 0.45em 0.6em; margin: 0 0.25em; line-height: 1; border-radius: 0.35em;\">\n",
       "    The American Urological Association\n",
       "    <span style=\"font-size: 0.8em; font-weight: bold; line-height: 1; border-radius: 0.35em; vertical-align: middle; margin-left: 0.5rem\">ORG</span>\n",
       "</mark>\n",
       " (\n",
       "<mark class=\"entity\" style=\"background: #7aecec; padding: 0.45em 0.6em; margin: 0 0.25em; line-height: 1; border-radius: 0.35em;\">\n",
       "    AUA\n",
       "    <span style=\"font-size: 0.8em; font-weight: bold; line-height: 1; border-radius: 0.35em; vertical-align: middle; margin-left: 0.5rem\">ORG</span>\n",
       "</mark>\n",
       ") currently does not have any guidelines that recommend an initial urologist visit to establish care for men’s reproductive health</div></span>"
      ],
      "text/plain": [
       "<IPython.core.display.HTML object>"
      ]
     },
     "metadata": {},
     "output_type": "display_data"
    },
    {
     "name": "stdout",
     "output_type": "stream",
     "text": [
      "True Entity Spans: \n"
     ]
    },
    {
     "data": {
      "text/html": [
       "<span class=\"tex2jax_ignore\"><div class=\"entities\" style=\"line-height: 2.5; direction: ltr\">The \n",
       "<mark class=\"entity\" style=\"background: #7aecec; padding: 0.45em 0.6em; margin: 0 0.25em; line-height: 1; border-radius: 0.35em;\">\n",
       "    American Urological Association (AUA)\n",
       "    <span style=\"font-size: 0.8em; font-weight: bold; line-height: 1; border-radius: 0.35em; vertical-align: middle; margin-left: 0.5rem\">ORG</span>\n",
       "</mark>\n",
       " currently does not have any guidelines that recommend an initial urologist visit to establish care for men’s reproductive health</div></span>"
      ],
      "text/plain": [
       "<IPython.core.display.HTML object>"
      ]
     },
     "metadata": {},
     "output_type": "display_data"
    },
    {
     "name": "stdout",
     "output_type": "stream",
     "text": [
      "Testing finished...\n",
      "Total runtime in seconds: 80.1717\n",
      "Average Time to process one single sentence: 0.0764 seconds\n"
     ]
    }
   ],
   "source": [
    "import time\n",
    "from spacy.training import Example\n",
    "from ner_train_functions import get_entities_from_jsonl, single_token_tags, visualize_predictions\n",
    "\n",
    "\n",
    "all_examples = []\n",
    "all_tags = {\"true\" : [], \"predicted\": []}\n",
    "test_set = ner_dataset\n",
    "\n",
    "##### Enable or Disable entity prediction visualization using displacy\n",
    "##### NOTE: Preemptively decide which small sub-sample of the dataset to visualize to avoid bloating\n",
    "visualization_set = ner_dataset[5:15]\n",
    "visualization = True\n",
    "\n",
    "##### Enable or Disable the pipelines to also perform POS tagging in parallel with NER\n",
    "automatic_pos_tagging = True\n",
    "if automatic_pos_tagging:\n",
    "        nlp.enable_pipe('tagger')\n",
    "        nlp.enable_pipe('parser')\n",
    "        nlp.enable_pipe('attribute_ruler')\n",
    "\n",
    "\n",
    "start_time = time.time()\n",
    "print('Model evaluation on the test set started | Visualization: {} | POS Tagging: {}'.format(visualization, automatic_pos_tagging))\n",
    "for sample in test_set:\n",
    "        true_entity_spans, true_entities = get_entities_from_jsonl(sample)\n",
    "        sentence = sample['text']\n",
    "        \n",
    "        ##### Perform model prediction (Sentence input can be either a Spacy Doc object or a Text String)\n",
    "        prediction = nlp(sentence)\n",
    "        \n",
    "        ##### Debug: Uncomment if you want to print POS Tags (The case that automatic_pos_tagging is set to TRUE)\n",
    "        # for i, token in enumerate(prediction):\n",
    "        #         print(token.text, token.pos_)\n",
    "        \n",
    "        ##### Converting each true and predicted entity span to the IOB2 tag schema (instead of START and END indexes of entities)\n",
    "        predicted_ent_spans = [(ent.start_char, ent.end_char, ent.label_) for ent in prediction.ents]  \n",
    "        predicted_ent_tags = single_token_tags(prediction, predicted_ent_spans)\n",
    "        true_ent_tags = single_token_tags(prediction, true_entity_spans)\n",
    "        \n",
    "        ##### Create Examples\n",
    "        example = Example.from_dict(nlp.make_doc(sentence), {\"entities\": true_entity_spans})\n",
    "        example.predicted = prediction\n",
    "        all_examples.append(example)\n",
    "        \n",
    "        ##### Uncomment for debug        \n",
    "        # print('For Sentence: {}'.format(sentence))\n",
    "        # print('True Entity Span: {}'.format(true_entity_spans))\n",
    "        # print('Model Prediction: {}'.format(predicted_ent_spans))\n",
    "        # print('Predicted Tags: {}'.format(predicted_ent_tags))\n",
    "        # print('True Tags: {}\\n'.format(true_ent_tags))\n",
    "\n",
    "        # all_examples.append(Example.from_dict(prediction, {'entities': true_entity_spans}))\n",
    "        all_tags['true'].append(true_ent_tags)\n",
    "        all_tags['predicted'].append(predicted_ent_tags)        \n",
    "\n",
    "if visualization:\n",
    "##### Visualization Debug\n",
    "        visualize_predictions(visualization_set, nlp)\n",
    "        \n",
    "\n",
    "end_time = time.time()\n",
    "print('Testing finished...')\n",
    "print(\"Total runtime in seconds: {:.4f}\".format(end_time - start_time))\n",
    "print('Average Time to process one single sentence: {:.4f} seconds'.format((end_time - start_time) / len(test_set)))"
   ]
  },
  {
   "attachments": {},
   "cell_type": "markdown",
   "metadata": {},
   "source": [
    "##### Score Classification Report"
   ]
  },
  {
   "attachments": {},
   "cell_type": "markdown",
   "metadata": {},
   "source": [
    "TODO: Discuss the lenient approach"
   ]
  },
  {
   "cell_type": "code",
   "execution_count": 11,
   "metadata": {},
   "outputs": [],
   "source": [
    "##### NOTE: Experimental, removing the prefixes of the IOB tags (B-, I-) alltogether to create a more lenient scoring system based solely on accuracy per LABEL.\n",
    "##### Example: While much progress has been made with tuberculosis control, the World Health Organization (WHO) estimates that 9 million people developed tuberculosis.\n",
    "##### True: ['O', 'O', 'O', 'O', 'O', 'O', 'O', 'O', 'O', 'O', 'O', 'ORG', 'ORG', 'ORG', 'ORG', 'ORG', 'ORG', 'O', 'O', 'O', 'O', 'O', 'O', 'O']\n",
    "##### Prediction: ['O', 'O', 'O', 'O', 'O', 'O', 'O', 'O', 'O', 'O', 'ORG', 'ORG', 'ORG', 'ORG', 'O', 'ORG', 'O', 'O', 'O', 'O', 'O', 'O', 'O', 'O']\n",
    "\n",
    "def remove_iob(tags_list):\n",
    "    for tags in tags_list:\n",
    "        for i, tag in enumerate(tags):\n",
    "            if tag != 'O':\n",
    "                tags[i] = tag[2:]\n",
    "    return tags_list"
   ]
  },
  {
   "attachments": {},
   "cell_type": "markdown",
   "metadata": {},
   "source": [
    "Both strict and lenient scores"
   ]
  },
  {
   "cell_type": "code",
   "execution_count": 12,
   "metadata": {},
   "outputs": [
    {
     "name": "stdout",
     "output_type": "stream",
     "text": [
      "For model name: en_core_web_trf\n",
      "Performance with respect to only our fixed labels: \n",
      "\n",
      "Strict Score Report (Entity Span-Level):\n",
      "              precision    recall  f1-score   support\n",
      "\n",
      "         GPE       0.86      0.75      0.80       661\n",
      "         LAW       0.13      0.13      0.13       110\n",
      "         ORG       0.38      0.49      0.43       838\n",
      "      PERSON       0.76      0.75      0.75       216\n",
      "     PRODUCT       0.52      0.30      0.38       116\n",
      "\n",
      "   micro avg       0.54      0.57      0.56      1941\n",
      "   macro avg       0.53      0.48      0.50      1941\n",
      "weighted avg       0.58      0.57      0.57      1941\n",
      "\n",
      "Lenient Score Report (Token-Level):\n",
      "              precision    recall  f1-score   support\n",
      "\n",
      "         GPE       0.87      0.74      0.80       913\n",
      "         LAW       0.78      0.76      0.77       556\n",
      "         ORG       0.77      0.86      0.81      2912\n",
      "      PERSON       0.92      0.79      0.85       460\n",
      "     PRODUCT       0.64      0.31      0.42       208\n",
      "\n",
      "   micro avg       0.80      0.80      0.80      5049\n",
      "   macro avg       0.80      0.69      0.73      5049\n",
      "weighted avg       0.80      0.80      0.79      5049\n"
     ]
    }
   ],
   "source": [
    "from sklearn.metrics import classification_report\n",
    "from ner_score_report import set_tags_to_fixed_labels, compute_and_print_strict_scores\n",
    "\n",
    "##### Set any IOB tag that contains a different entity label than our wanted ones to 'O' (Others)\n",
    "##### Both the strict and lenient score functions need lists of these fixed labels\n",
    "our_labels = ['GPE', 'LAW', 'ORG', 'PERSON', 'PRODUCT']\n",
    "all_tags['true'] = set_tags_to_fixed_labels(our_labels, all_tags['true'])\n",
    "all_tags['predicted'] = set_tags_to_fixed_labels(our_labels, all_tags['predicted'])\n",
    "\n",
    "##### STRICT\n",
    "print('For model name: {}'.format(model_name))\n",
    "compute_and_print_strict_scores(all_tags)\n",
    "\n",
    "##### LENIENT\n",
    "true_tags_no_iob = remove_iob(all_tags['true'])\n",
    "predicted_tags_no_iob = remove_iob(all_tags['predicted'])\n",
    "\n",
    "true_tags_flat = [tag for seq in true_tags_no_iob for tag in seq]\n",
    "predicted_tags_flat = [tag for seq in predicted_tags_no_iob for tag in seq]\n",
    "\n",
    "lenient_report = classification_report(true_tags_flat, predicted_tags_flat, labels = our_labels)\n",
    "print('\\nLenient Score Report (Token-Level):')\n",
    "print('\\n'.join(lenient_report.splitlines()))"
   ]
  },
  {
   "attachments": {},
   "cell_type": "markdown",
   "metadata": {},
   "source": [
    "A more lenient scoring function based on token-level entities. "
   ]
  }
 ],
 "metadata": {
  "kernelspec": {
   "display_name": "Python 3",
   "language": "python",
   "name": "python3"
  },
  "language_info": {
   "codemirror_mode": {
    "name": "ipython",
    "version": 3
   },
   "file_extension": ".py",
   "mimetype": "text/x-python",
   "name": "python",
   "nbconvert_exporter": "python",
   "pygments_lexer": "ipython3",
   "version": "3.9.7"
  },
  "orig_nbformat": 4,
  "vscode": {
   "interpreter": {
    "hash": "6290ab70aa2c9e6859d722745d4fdeafb895ca1190e93c7ac9c8d926153eb965"
   }
  }
 },
 "nbformat": 4,
 "nbformat_minor": 2
}
