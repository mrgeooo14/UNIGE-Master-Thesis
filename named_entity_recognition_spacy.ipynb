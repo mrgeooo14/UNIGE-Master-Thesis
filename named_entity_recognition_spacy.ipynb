{
 "cells": [
  {
   "attachments": {},
   "cell_type": "markdown",
   "metadata": {},
   "source": [
    "#### This file will concern itself with the *Named Entity Recognition (NER)* part of the project."
   ]
  },
  {
   "attachments": {},
   "cell_type": "markdown",
   "metadata": {},
   "source": [
    "The pre-trained model is loaded only with the EntityRecognizer pipeline enabled to improve loading and inference speed. Other pipelines are disabled such as ones concerned with POS tagging, lemmatization, parsing, etc."
   ]
  },
  {
   "cell_type": "code",
   "execution_count": 1,
   "metadata": {},
   "outputs": [
    {
     "name": "stdout",
     "output_type": "stream",
     "text": [
      "Spacy NLP model named 'en_core_web_md' successfully loaded\n"
     ]
    }
   ],
   "source": [
    "import spacy\n",
    "from spacy import displacy\n",
    "\n",
    "spacy.prefer_gpu()\n",
    "model_name = \"en_core_web_md\"\n",
    "nlp = spacy.load(model_name, enable = ['ner'])\n",
    "print(\"Spacy NLP model named '{}' successfully loaded\".format(model_name))"
   ]
  },
  {
   "attachments": {},
   "cell_type": "markdown",
   "metadata": {},
   "source": [
    "The *Named Entity Recognition* pipeline that the model is equipped with is able to detect the following tags by default.\n",
    "\n",
    "In **our** case, we are only interested in the GPE, LAW, LOC, PERSON, and PRODUCT tags."
   ]
  },
  {
   "cell_type": "code",
   "execution_count": 2,
   "metadata": {},
   "outputs": [
    {
     "data": {
      "text/plain": [
       "['CARDINAL',\n",
       " 'DATE',\n",
       " 'EVENT',\n",
       " 'FAC',\n",
       " 'GPE',\n",
       " 'LANGUAGE',\n",
       " 'LAW',\n",
       " 'LOC',\n",
       " 'MONEY',\n",
       " 'NORP',\n",
       " 'ORDINAL',\n",
       " 'ORG',\n",
       " 'PERCENT',\n",
       " 'PERSON',\n",
       " 'PRODUCT',\n",
       " 'QUANTITY',\n",
       " 'TIME',\n",
       " 'WORK_OF_ART']"
      ]
     },
     "execution_count": 2,
     "metadata": {},
     "output_type": "execute_result"
    }
   ],
   "source": [
    "nlp.pipe_labels['ner']"
   ]
  },
  {
   "cell_type": "code",
   "execution_count": 3,
   "metadata": {},
   "outputs": [
    {
     "name": "stdout",
     "output_type": "stream",
     "text": [
      "This \n",
      "Digital \n",
      "Health \n",
      "project \n",
      "was \n",
      "funded \n",
      "by \n",
      "the \n",
      "WHO \n",
      "in \n",
      "cooperation \n",
      "with \n",
      "the \n",
      "United \n",
      "Kingdom \n",
      "and \n",
      "the \n",
      "United \n",
      "States \n",
      ", \n",
      "spearheaded \n",
      "by \n",
      "Dr. \n",
      "Christoph \n",
      "John \n"
     ]
    },
    {
     "data": {
      "text/html": [
       "<span class=\"tex2jax_ignore\"><div class=\"entities\" style=\"line-height: 2.5; direction: ltr\">This \n",
       "<mark class=\"entity\" style=\"background: #7aecec; padding: 0.45em 0.6em; margin: 0 0.25em; line-height: 1; border-radius: 0.35em;\">\n",
       "    Digital Health\n",
       "    <span style=\"font-size: 0.8em; font-weight: bold; line-height: 1; border-radius: 0.35em; vertical-align: middle; margin-left: 0.5rem\">ORG</span>\n",
       "</mark>\n",
       " project was funded by the \n",
       "<mark class=\"entity\" style=\"background: #7aecec; padding: 0.45em 0.6em; margin: 0 0.25em; line-height: 1; border-radius: 0.35em;\">\n",
       "    WHO\n",
       "    <span style=\"font-size: 0.8em; font-weight: bold; line-height: 1; border-radius: 0.35em; vertical-align: middle; margin-left: 0.5rem\">ORG</span>\n",
       "</mark>\n",
       " in cooperation with \n",
       "<mark class=\"entity\" style=\"background: #feca74; padding: 0.45em 0.6em; margin: 0 0.25em; line-height: 1; border-radius: 0.35em;\">\n",
       "    the United Kingdom\n",
       "    <span style=\"font-size: 0.8em; font-weight: bold; line-height: 1; border-radius: 0.35em; vertical-align: middle; margin-left: 0.5rem\">GPE</span>\n",
       "</mark>\n",
       " and \n",
       "<mark class=\"entity\" style=\"background: #feca74; padding: 0.45em 0.6em; margin: 0 0.25em; line-height: 1; border-radius: 0.35em;\">\n",
       "    the United States\n",
       "    <span style=\"font-size: 0.8em; font-weight: bold; line-height: 1; border-radius: 0.35em; vertical-align: middle; margin-left: 0.5rem\">GPE</span>\n",
       "</mark>\n",
       ", spearheaded by Dr. \n",
       "<mark class=\"entity\" style=\"background: #aa9cfc; padding: 0.45em 0.6em; margin: 0 0.25em; line-height: 1; border-radius: 0.35em;\">\n",
       "    Christoph John\n",
       "    <span style=\"font-size: 0.8em; font-weight: bold; line-height: 1; border-radius: 0.35em; vertical-align: middle; margin-left: 0.5rem\">PERSON</span>\n",
       "</mark>\n",
       "</div></span>"
      ],
      "text/plain": [
       "<IPython.core.display.HTML object>"
      ]
     },
     "metadata": {},
     "output_type": "display_data"
    }
   ],
   "source": [
    "example_texto = \"This Digital Health project was funded by the WHO in cooperation with the United Kingdom and the United States, spearheaded by Dr. Christoph John\"\n",
    "docers = nlp(example_texto)\n",
    "for i, token in enumerate(docers):\n",
    "    print(token, token.pos_)\n",
    "displacy.render(docers, style = 'ent')"
   ]
  },
  {
   "cell_type": "code",
   "execution_count": 4,
   "metadata": {},
   "outputs": [
    {
     "name": "stdout",
     "output_type": "stream",
     "text": [
      "This DET\n",
      "Digital NOUN\n",
      "Health NOUN\n",
      "project NOUN\n",
      "was VERB\n",
      "funded VERB\n",
      "by ADP\n",
      "the DET\n",
      "WHO NOUN\n",
      "in ADP\n",
      "cooperation NOUN\n",
      "with ADP\n",
      "the DET\n",
      "United NOUN\n",
      "Kingdom NOUN\n",
      "and CONJ\n",
      "the DET\n",
      "United NOUN\n",
      "States NOUN\n",
      ", PUNCT\n",
      "spearheaded VERB\n",
      "by ADP\n",
      "Dr. NOUN\n",
      "Christoph NOUN\n",
      "John NOUN\n"
     ]
    },
    {
     "data": {
      "text/html": [
       "<span class=\"tex2jax_ignore\"><div class=\"entities\" style=\"line-height: 2.5; direction: ltr\">This \n",
       "<mark class=\"entity\" style=\"background: #7aecec; padding: 0.45em 0.6em; margin: 0 0.25em; line-height: 1; border-radius: 0.35em;\">\n",
       "    Digital Health\n",
       "    <span style=\"font-size: 0.8em; font-weight: bold; line-height: 1; border-radius: 0.35em; vertical-align: middle; margin-left: 0.5rem\">ORG</span>\n",
       "</mark>\n",
       " project was funded by the \n",
       "<mark class=\"entity\" style=\"background: #7aecec; padding: 0.45em 0.6em; margin: 0 0.25em; line-height: 1; border-radius: 0.35em;\">\n",
       "    WHO\n",
       "    <span style=\"font-size: 0.8em; font-weight: bold; line-height: 1; border-radius: 0.35em; vertical-align: middle; margin-left: 0.5rem\">ORG</span>\n",
       "</mark>\n",
       " in cooperation with \n",
       "<mark class=\"entity\" style=\"background: #feca74; padding: 0.45em 0.6em; margin: 0 0.25em; line-height: 1; border-radius: 0.35em;\">\n",
       "    the United Kingdom\n",
       "    <span style=\"font-size: 0.8em; font-weight: bold; line-height: 1; border-radius: 0.35em; vertical-align: middle; margin-left: 0.5rem\">GPE</span>\n",
       "</mark>\n",
       " and \n",
       "<mark class=\"entity\" style=\"background: #feca74; padding: 0.45em 0.6em; margin: 0 0.25em; line-height: 1; border-radius: 0.35em;\">\n",
       "    the United States\n",
       "    <span style=\"font-size: 0.8em; font-weight: bold; line-height: 1; border-radius: 0.35em; vertical-align: middle; margin-left: 0.5rem\">GPE</span>\n",
       "</mark>\n",
       " , spearheaded by Dr. \n",
       "<mark class=\"entity\" style=\"background: #aa9cfc; padding: 0.45em 0.6em; margin: 0 0.25em; line-height: 1; border-radius: 0.35em;\">\n",
       "    Christoph John\n",
       "    <span style=\"font-size: 0.8em; font-weight: bold; line-height: 1; border-radius: 0.35em; vertical-align: middle; margin-left: 0.5rem\">PERSON</span>\n",
       "</mark>\n",
       " </div></span>"
      ],
      "text/plain": [
       "<IPython.core.display.HTML object>"
      ]
     },
     "metadata": {},
     "output_type": "display_data"
    }
   ],
   "source": [
    "import nltk\n",
    "from spacy.tokens import Doc\n",
    "from nltk.tokenize import sent_tokenize, word_tokenize\n",
    "from nltk.corpus import stopwords\n",
    "\n",
    "words = word_tokenize(example_texto)\n",
    "pos_tags = [tagged_word[1] for tagged_word in nltk.pos_tag(words, tagset = 'universal')]\n",
    "\n",
    "\n",
    "# Create a Doc object from the sentence\n",
    "doc = Doc(nlp.vocab, words = words)\n",
    "\n",
    "# Assign the POS tags to the tokens in the Doc object\n",
    "for i, token in enumerate(doc):\n",
    "    try:\n",
    "        token.pos_ = pos_tags[i]\n",
    "    except ValueError:\n",
    "        token.pos_ = 'PUNCT'\n",
    "    print(token, token.pos_)\n",
    "\n",
    "# Use spaCy's named entity recognition on the Doc object\n",
    "ner_results = nlp(doc)\n",
    "displacy.render(ner_results, style = 'ent')"
   ]
  },
  {
   "attachments": {},
   "cell_type": "markdown",
   "metadata": {},
   "source": [
    "A pretrained model is loaded from the NLP library *Spacy* which takes sentences as input and performs several sentence tagging tasks including NER which we are interested in.\n",
    "\n",
    "A great visualization of the entity recognition process is displayed by the *displacy* suite."
   ]
  },
  {
   "cell_type": "code",
   "execution_count": 3,
   "metadata": {},
   "outputs": [
    {
     "name": "stdout",
     "output_type": "stream",
     "text": [
      "Example I: \n"
     ]
    },
    {
     "data": {
      "text/html": [
       "<span class=\"tex2jax_ignore\"><div class=\"entities\" style=\"line-height: 2.5; direction: ltr\">\n",
       "<mark class=\"entity\" style=\"background: #aa9cfc; padding: 0.45em 0.6em; margin: 0 0.25em; line-height: 1; border-radius: 0.35em;\">\n",
       "    klevio\n",
       "    <span style=\"font-size: 0.8em; font-weight: bold; line-height: 1; border-radius: 0.35em; vertical-align: middle; margin-left: 0.5rem\">PERSON</span>\n",
       "</mark>\n",
       " is a singer from \n",
       "<mark class=\"entity\" style=\"background: #feca74; padding: 0.45em 0.6em; margin: 0 0.25em; line-height: 1; border-radius: 0.35em;\">\n",
       "    Albania\n",
       "    <span style=\"font-size: 0.8em; font-weight: bold; line-height: 1; border-radius: 0.35em; vertical-align: middle; margin-left: 0.5rem\">GPE</span>\n",
       "</mark>\n",
       " who usually goes to \n",
       "<mark class=\"entity\" style=\"background: #feca74; padding: 0.45em 0.6em; margin: 0 0.25em; line-height: 1; border-radius: 0.35em;\">\n",
       "    Greece\n",
       "    <span style=\"font-size: 0.8em; font-weight: bold; line-height: 1; border-radius: 0.35em; vertical-align: middle; margin-left: 0.5rem\">GPE</span>\n",
       "</mark>\n",
       " and works in \n",
       "<mark class=\"entity\" style=\"background: #7aecec; padding: 0.45em 0.6em; margin: 0 0.25em; line-height: 1; border-radius: 0.35em;\">\n",
       "    UBS\n",
       "    <span style=\"font-size: 0.8em; font-weight: bold; line-height: 1; border-radius: 0.35em; vertical-align: middle; margin-left: 0.5rem\">ORG</span>\n",
       "</mark>\n",
       ". He lives in \n",
       "<mark class=\"entity\" style=\"background: #ff9561; padding: 0.45em 0.6em; margin: 0 0.25em; line-height: 1; border-radius: 0.35em;\">\n",
       "    Lake Geneva\n",
       "    <span style=\"font-size: 0.8em; font-weight: bold; line-height: 1; border-radius: 0.35em; vertical-align: middle; margin-left: 0.5rem\">LOC</span>\n",
       "</mark>\n",
       " and owns a \n",
       "<mark class=\"entity\" style=\"background: #bfeeb7; padding: 0.45em 0.6em; margin: 0 0.25em; line-height: 1; border-radius: 0.35em;\">\n",
       "    Mercedes\n",
       "    <span style=\"font-size: 0.8em; font-weight: bold; line-height: 1; border-radius: 0.35em; vertical-align: middle; margin-left: 0.5rem\">PRODUCT</span>\n",
       "</mark>\n",
       " car.</div></span>"
      ],
      "text/plain": [
       "<IPython.core.display.HTML object>"
      ]
     },
     "metadata": {},
     "output_type": "display_data"
    },
    {
     "name": "stdout",
     "output_type": "stream",
     "text": [
      "Example II: \n"
     ]
    },
    {
     "data": {
      "text/html": [
       "<span class=\"tex2jax_ignore\"><div class=\"entities\" style=\"line-height: 2.5; direction: ltr\">The government in \n",
       "<mark class=\"entity\" style=\"background: #feca74; padding: 0.45em 0.6em; margin: 0 0.25em; line-height: 1; border-radius: 0.35em;\">\n",
       "    Senegal\n",
       "    <span style=\"font-size: 0.8em; font-weight: bold; line-height: 1; border-radius: 0.35em; vertical-align: middle; margin-left: 0.5rem\">GPE</span>\n",
       "</mark>\n",
       " just passed a law on \n",
       "<mark class=\"entity\" style=\"background: #bfe1d9; padding: 0.45em 0.6em; margin: 0 0.25em; line-height: 1; border-radius: 0.35em;\">\n",
       "    the 2nd of February\n",
       "    <span style=\"font-size: 0.8em; font-weight: bold; line-height: 1; border-radius: 0.35em; vertical-align: middle; margin-left: 0.5rem\">DATE</span>\n",
       "</mark>\n",
       " regarding universal healthcare, named \n",
       "<mark class=\"entity\" style=\"background: #ff8197; padding: 0.45em 0.6em; margin: 0 0.25em; line-height: 1; border-radius: 0.35em;\">\n",
       "    Universal Care Act\n",
       "    <span style=\"font-size: 0.8em; font-weight: bold; line-height: 1; border-radius: 0.35em; vertical-align: middle; margin-left: 0.5rem\">LAW</span>\n",
       "</mark>\n",
       ", passed in parliament also in \n",
       "<mark class=\"entity\" style=\"background: #ff8197; padding: 0.45em 0.6em; margin: 0 0.25em; line-height: 1; border-radius: 0.35em;\">\n",
       "    French\n",
       "    <span style=\"font-size: 0.8em; font-weight: bold; line-height: 1; border-radius: 0.35em; vertical-align: middle; margin-left: 0.5rem\">LANGUAGE</span>\n",
       "</mark>\n",
       "</div></span>"
      ],
      "text/plain": [
       "<IPython.core.display.HTML object>"
      ]
     },
     "metadata": {},
     "output_type": "display_data"
    },
    {
     "name": "stdout",
     "output_type": "stream",
     "text": [
      "Example III: \n"
     ]
    },
    {
     "data": {
      "text/html": [
       "<span class=\"tex2jax_ignore\"><div class=\"entities\" style=\"line-height: 2.5; direction: ltr\">\n",
       "<mark class=\"entity\" style=\"background: #7aecec; padding: 0.45em 0.6em; margin: 0 0.25em; line-height: 1; border-radius: 0.35em;\">\n",
       "    World Health Organization\n",
       "    <span style=\"font-size: 0.8em; font-weight: bold; line-height: 1; border-radius: 0.35em; vertical-align: middle; margin-left: 0.5rem\">ORG</span>\n",
       "</mark>\n",
       " in \n",
       "<mark class=\"entity\" style=\"background: #feca74; padding: 0.45em 0.6em; margin: 0 0.25em; line-height: 1; border-radius: 0.35em;\">\n",
       "    Geneva\n",
       "    <span style=\"font-size: 0.8em; font-weight: bold; line-height: 1; border-radius: 0.35em; vertical-align: middle; margin-left: 0.5rem\">GPE</span>\n",
       "</mark>\n",
       "</div></span>"
      ],
      "text/plain": [
       "<IPython.core.display.HTML object>"
      ]
     },
     "metadata": {},
     "output_type": "display_data"
    }
   ],
   "source": [
    "example_text_1 = \"klevio is a singer from Albania who usually goes to Greece and works in UBS. He lives in Lake Geneva and owns a Mercedes car.\"\n",
    "doc1 = nlp(example_text_1)\n",
    "print('Example I: ')\n",
    "displacy.render(doc1, style = 'ent')\n",
    "\n",
    "doc2 = nlp('The government in Senegal just passed a law on the 2nd of February regarding universal healthcare, named Universal Care Act, passed in parliament also in French')\n",
    "print('Example II: ')\n",
    "displacy.render(doc2, style = 'ent')\n",
    "\n",
    "doc3 = nlp('World Health Organization in Geneva')\n",
    "print('Example III: ')\n",
    "displacy.render(doc3, style = 'ent')"
   ]
  },
  {
   "attachments": {},
   "cell_type": "markdown",
   "metadata": {},
   "source": [
    "An example of how entities found in the text are saved."
   ]
  },
  {
   "cell_type": "code",
   "execution_count": 4,
   "metadata": {},
   "outputs": [
    {
     "name": "stdout",
     "output_type": "stream",
     "text": [
      "Entity: klevio, Label: PERSON, Label ID: 380 \n",
      "Entity: Albania, Label: GPE, Label ID: 384 \n",
      "Entity: Greece, Label: GPE, Label ID: 384 \n",
      "Entity: UBS, Label: ORG, Label ID: 383 \n",
      "Entity: Lake Geneva, Label: LOC, Label ID: 385 \n",
      "Entity: Mercedes, Label: PRODUCT, Label ID: 386 \n"
     ]
    }
   ],
   "source": [
    "for ent in doc1.ents:\n",
    "    print(\"Entity: {}, Label: {}, Label ID: {} \".format(ent.text, ent.label_, ent.label))"
   ]
  },
  {
   "attachments": {},
   "cell_type": "markdown",
   "metadata": {},
   "source": [
    "Our custom dataset containing different sentences related to global digital health organizations, products, people, countries, and laws will be loaded from Prodigy in a format which is friendly to the Spacy library.\n",
    "\n",
    "This dataset will be used for our supervised entity recognition learning task."
   ]
  },
  {
   "cell_type": "code",
   "execution_count": 5,
   "metadata": {},
   "outputs": [
    {
     "name": "stdout",
     "output_type": "stream",
     "text": [
      "Custom Health NER Dataset (named ner_1000_health) loaded and shuffled\n"
     ]
    }
   ],
   "source": [
    "import random\n",
    "from prodigy.components.db import connect\n",
    "\n",
    "\n",
    "#### Load and shuffle dataset\n",
    "prodigy_dataset_name = 'ner_1000_health'\n",
    "seed = 596\n",
    "random.seed(seed)\n",
    "db = connect()\n",
    "ner_dataset = db.get_dataset(prodigy_dataset_name)\n",
    "random.shuffle(ner_dataset)\n",
    "print('Custom Health NER Dataset (named {}) loaded and shuffled'.format(prodigy_dataset_name))"
   ]
  },
  {
   "attachments": {},
   "cell_type": "markdown",
   "metadata": {},
   "source": [
    "One sample from the loaded dataset. Sentences with annotated entities are saved in a *JSONL* format with the *'text'* field holding the text input and the *'spans'* field holding the annotated entity spans. "
   ]
  },
  {
   "cell_type": "code",
   "execution_count": 6,
   "metadata": {},
   "outputs": [
    {
     "data": {
      "text/plain": [
       "{'text': 'Compared to many countries, the United Kingdom’s facility for COVID-19 RT-PCR testing has been very limited.',\n",
       " '_input_hash': -214486349,\n",
       " '_task_hash': -781034035,\n",
       " 'tokens': [{'text': 'Compared', 'start': 0, 'end': 8, 'id': 0, 'ws': True},\n",
       "  {'text': 'to', 'start': 9, 'end': 11, 'id': 1, 'ws': True},\n",
       "  {'text': 'many', 'start': 12, 'end': 16, 'id': 2, 'ws': True},\n",
       "  {'text': 'countries', 'start': 17, 'end': 26, 'id': 3, 'ws': False},\n",
       "  {'text': ',', 'start': 26, 'end': 27, 'id': 4, 'ws': True},\n",
       "  {'text': 'the', 'start': 28, 'end': 31, 'id': 5, 'ws': True},\n",
       "  {'text': 'United', 'start': 32, 'end': 38, 'id': 6, 'ws': True},\n",
       "  {'text': 'Kingdom', 'start': 39, 'end': 46, 'id': 7, 'ws': False},\n",
       "  {'text': '’s', 'start': 46, 'end': 48, 'id': 8, 'ws': True},\n",
       "  {'text': 'facility', 'start': 49, 'end': 57, 'id': 9, 'ws': True},\n",
       "  {'text': 'for', 'start': 58, 'end': 61, 'id': 10, 'ws': True},\n",
       "  {'text': 'COVID-19', 'start': 62, 'end': 70, 'id': 11, 'ws': True},\n",
       "  {'text': 'RT', 'start': 71, 'end': 73, 'id': 12, 'ws': False},\n",
       "  {'text': '-', 'start': 73, 'end': 74, 'id': 13, 'ws': False},\n",
       "  {'text': 'PCR', 'start': 74, 'end': 77, 'id': 14, 'ws': True},\n",
       "  {'text': 'testing', 'start': 78, 'end': 85, 'id': 15, 'ws': True},\n",
       "  {'text': 'has', 'start': 86, 'end': 89, 'id': 16, 'ws': True},\n",
       "  {'text': 'been', 'start': 90, 'end': 94, 'id': 17, 'ws': True},\n",
       "  {'text': 'very', 'start': 95, 'end': 99, 'id': 18, 'ws': True},\n",
       "  {'text': 'limited', 'start': 100, 'end': 107, 'id': 19, 'ws': False},\n",
       "  {'text': '.', 'start': 107, 'end': 108, 'id': 20, 'ws': False}],\n",
       " 'spans': [{'start': 32,\n",
       "   'end': 46,\n",
       "   'token_start': 6,\n",
       "   'token_end': 7,\n",
       "   'label': 'GPE'}],\n",
       " '_is_binary': False,\n",
       " '_view_id': 'ner_manual',\n",
       " 'answer': 'accept',\n",
       " '_timestamp': 1682154299}"
      ]
     },
     "execution_count": 6,
     "metadata": {},
     "output_type": "execute_result"
    }
   ],
   "source": [
    "test_sample = ner_dataset[0]\n",
    "test_sample"
   ]
  },
  {
   "attachments": {},
   "cell_type": "markdown",
   "metadata": {},
   "source": [
    "##### NER Evaluation"
   ]
  },
  {
   "cell_type": "code",
   "execution_count": 7,
   "metadata": {},
   "outputs": [
    {
     "name": "stdout",
     "output_type": "stream",
     "text": [
      "{'text': 'Compared to many countries, the United Kingdom’s facility for COVID-19 RT-PCR testing has been very limited.', '_input_hash': -214486349, '_task_hash': -781034035, 'tokens': [{'text': 'Compared', 'start': 0, 'end': 8, 'id': 0, 'ws': True}, {'text': 'to', 'start': 9, 'end': 11, 'id': 1, 'ws': True}, {'text': 'many', 'start': 12, 'end': 16, 'id': 2, 'ws': True}, {'text': 'countries', 'start': 17, 'end': 26, 'id': 3, 'ws': False}, {'text': ',', 'start': 26, 'end': 27, 'id': 4, 'ws': True}, {'text': 'the', 'start': 28, 'end': 31, 'id': 5, 'ws': True}, {'text': 'United', 'start': 32, 'end': 38, 'id': 6, 'ws': True}, {'text': 'Kingdom', 'start': 39, 'end': 46, 'id': 7, 'ws': False}, {'text': '’s', 'start': 46, 'end': 48, 'id': 8, 'ws': True}, {'text': 'facility', 'start': 49, 'end': 57, 'id': 9, 'ws': True}, {'text': 'for', 'start': 58, 'end': 61, 'id': 10, 'ws': True}, {'text': 'COVID-19', 'start': 62, 'end': 70, 'id': 11, 'ws': True}, {'text': 'RT', 'start': 71, 'end': 73, 'id': 12, 'ws': False}, {'text': '-', 'start': 73, 'end': 74, 'id': 13, 'ws': False}, {'text': 'PCR', 'start': 74, 'end': 77, 'id': 14, 'ws': True}, {'text': 'testing', 'start': 78, 'end': 85, 'id': 15, 'ws': True}, {'text': 'has', 'start': 86, 'end': 89, 'id': 16, 'ws': True}, {'text': 'been', 'start': 90, 'end': 94, 'id': 17, 'ws': True}, {'text': 'very', 'start': 95, 'end': 99, 'id': 18, 'ws': True}, {'text': 'limited', 'start': 100, 'end': 107, 'id': 19, 'ws': False}, {'text': '.', 'start': 107, 'end': 108, 'id': 20, 'ws': False}], 'spans': [{'start': 32, 'end': 46, 'token_start': 6, 'token_end': 7, 'label': 'GPE'}], '_is_binary': False, '_view_id': 'ner_manual', 'answer': 'accept', '_timestamp': 1682154299}\n",
      "{'text': 'A European Commission directive has set the task of creating a centralized European health record system by 2020.', '_input_hash': -1738612507, '_task_hash': 400613406, 'tokens': [{'text': 'A', 'start': 0, 'end': 1, 'id': 0, 'ws': True}, {'text': 'European', 'start': 2, 'end': 10, 'id': 1, 'ws': True}, {'text': 'Commission', 'start': 11, 'end': 21, 'id': 2, 'ws': True}, {'text': 'directive', 'start': 22, 'end': 31, 'id': 3, 'ws': True}, {'text': 'has', 'start': 32, 'end': 35, 'id': 4, 'ws': True}, {'text': 'set', 'start': 36, 'end': 39, 'id': 5, 'ws': True}, {'text': 'the', 'start': 40, 'end': 43, 'id': 6, 'ws': True}, {'text': 'task', 'start': 44, 'end': 48, 'id': 7, 'ws': True}, {'text': 'of', 'start': 49, 'end': 51, 'id': 8, 'ws': True}, {'text': 'creating', 'start': 52, 'end': 60, 'id': 9, 'ws': True}, {'text': 'a', 'start': 61, 'end': 62, 'id': 10, 'ws': True}, {'text': 'centralized', 'start': 63, 'end': 74, 'id': 11, 'ws': True}, {'text': 'European', 'start': 75, 'end': 83, 'id': 12, 'ws': True}, {'text': 'health', 'start': 84, 'end': 90, 'id': 13, 'ws': True}, {'text': 'record', 'start': 91, 'end': 97, 'id': 14, 'ws': True}, {'text': 'system', 'start': 98, 'end': 104, 'id': 15, 'ws': True}, {'text': 'by', 'start': 105, 'end': 107, 'id': 16, 'ws': True}, {'text': '2020', 'start': 108, 'end': 112, 'id': 17, 'ws': False}, {'text': '.', 'start': 112, 'end': 113, 'id': 18, 'ws': False}], 'spans': [{'token_start': 1, 'token_end': 2, 'start': 2, 'end': 21, 'text': 'European Commission', 'label': 'ORG', 'source': 'en_core_web_md', 'input_hash': -1738612507}], '_is_binary': False, '_view_id': 'ner_manual', 'answer': 'accept', '_timestamp': 1682161260}\n",
      "{'text': 'The recent SARS-CoV-2 pandemic, the impact of which on the mortality in Switzerland in 2020 and 2021 is easily discernible from figure 2, has demonstrated to be no exemption to that rule, today known as “Farr’s law”.', '_input_hash': 1355150471, '_task_hash': -1543518610, 'tokens': [{'text': 'The', 'start': 0, 'end': 3, 'id': 0, 'ws': True}, {'text': 'recent', 'start': 4, 'end': 10, 'id': 1, 'ws': True}, {'text': 'SARS', 'start': 11, 'end': 15, 'id': 2, 'ws': False}, {'text': '-', 'start': 15, 'end': 16, 'id': 3, 'ws': False}, {'text': 'CoV-2', 'start': 16, 'end': 21, 'id': 4, 'ws': True}, {'text': 'pandemic', 'start': 22, 'end': 30, 'id': 5, 'ws': False}, {'text': ',', 'start': 30, 'end': 31, 'id': 6, 'ws': True}, {'text': 'the', 'start': 32, 'end': 35, 'id': 7, 'ws': True}, {'text': 'impact', 'start': 36, 'end': 42, 'id': 8, 'ws': True}, {'text': 'of', 'start': 43, 'end': 45, 'id': 9, 'ws': True}, {'text': 'which', 'start': 46, 'end': 51, 'id': 10, 'ws': True}, {'text': 'on', 'start': 52, 'end': 54, 'id': 11, 'ws': True}, {'text': 'the', 'start': 55, 'end': 58, 'id': 12, 'ws': True}, {'text': 'mortality', 'start': 59, 'end': 68, 'id': 13, 'ws': True}, {'text': 'in', 'start': 69, 'end': 71, 'id': 14, 'ws': True}, {'text': 'Switzerland', 'start': 72, 'end': 83, 'id': 15, 'ws': True}, {'text': 'in', 'start': 84, 'end': 86, 'id': 16, 'ws': True}, {'text': '2020', 'start': 87, 'end': 91, 'id': 17, 'ws': True}, {'text': 'and', 'start': 92, 'end': 95, 'id': 18, 'ws': True}, {'text': '2021', 'start': 96, 'end': 100, 'id': 19, 'ws': True}, {'text': 'is', 'start': 101, 'end': 103, 'id': 20, 'ws': True}, {'text': 'easily', 'start': 104, 'end': 110, 'id': 21, 'ws': True}, {'text': 'discernible', 'start': 111, 'end': 122, 'id': 22, 'ws': True}, {'text': 'from', 'start': 123, 'end': 127, 'id': 23, 'ws': True}, {'text': 'figure', 'start': 128, 'end': 134, 'id': 24, 'ws': True}, {'text': '2', 'start': 135, 'end': 136, 'id': 25, 'ws': False}, {'text': ',', 'start': 136, 'end': 137, 'id': 26, 'ws': True}, {'text': 'has', 'start': 138, 'end': 141, 'id': 27, 'ws': True}, {'text': 'demonstrated', 'start': 142, 'end': 154, 'id': 28, 'ws': True}, {'text': 'to', 'start': 155, 'end': 157, 'id': 29, 'ws': True}, {'text': 'be', 'start': 158, 'end': 160, 'id': 30, 'ws': True}, {'text': 'no', 'start': 161, 'end': 163, 'id': 31, 'ws': True}, {'text': 'exemption', 'start': 164, 'end': 173, 'id': 32, 'ws': True}, {'text': 'to', 'start': 174, 'end': 176, 'id': 33, 'ws': True}, {'text': 'that', 'start': 177, 'end': 181, 'id': 34, 'ws': True}, {'text': 'rule', 'start': 182, 'end': 186, 'id': 35, 'ws': False}, {'text': ',', 'start': 186, 'end': 187, 'id': 36, 'ws': True}, {'text': 'today', 'start': 188, 'end': 193, 'id': 37, 'ws': True}, {'text': 'known', 'start': 194, 'end': 199, 'id': 38, 'ws': True}, {'text': 'as', 'start': 200, 'end': 202, 'id': 39, 'ws': True}, {'text': '“', 'start': 203, 'end': 204, 'id': 40, 'ws': False}, {'text': 'Farr', 'start': 204, 'end': 208, 'id': 41, 'ws': False}, {'text': '’s', 'start': 208, 'end': 210, 'id': 42, 'ws': True}, {'text': 'law', 'start': 211, 'end': 214, 'id': 43, 'ws': False}, {'text': '”', 'start': 214, 'end': 215, 'id': 44, 'ws': False}, {'text': '.', 'start': 215, 'end': 216, 'id': 45, 'ws': False}], 'spans': [{'start': 72, 'end': 83, 'text': 'Switzerland', 'source': 'en_core_web_md', 'input_hash': 1355150471, 'token_start': 15, 'token_end': 15, 'label': 'GPE'}, {'start': 203, 'end': 215, 'token_start': 40, 'token_end': 44, 'label': 'LAW'}], '_is_binary': False, '_view_id': 'ner_manual', 'answer': 'accept', '_timestamp': 1682156846}\n",
      "{'text': 'In order to support cultural businesses and creative artists, the Federal Office of Culture (FOC) may enter into service agreements with one or more cantons.', '_input_hash': 1179980134, '_task_hash': 1248976789, 'tokens': [{'text': 'In', 'start': 0, 'end': 2, 'id': 0, 'ws': True}, {'text': 'order', 'start': 3, 'end': 8, 'id': 1, 'ws': True}, {'text': 'to', 'start': 9, 'end': 11, 'id': 2, 'ws': True}, {'text': 'support', 'start': 12, 'end': 19, 'id': 3, 'ws': True}, {'text': 'cultural', 'start': 20, 'end': 28, 'id': 4, 'ws': True}, {'text': 'businesses', 'start': 29, 'end': 39, 'id': 5, 'ws': True}, {'text': 'and', 'start': 40, 'end': 43, 'id': 6, 'ws': True}, {'text': 'creative', 'start': 44, 'end': 52, 'id': 7, 'ws': True}, {'text': 'artists', 'start': 53, 'end': 60, 'id': 8, 'ws': False}, {'text': ',', 'start': 60, 'end': 61, 'id': 9, 'ws': True}, {'text': 'the', 'start': 62, 'end': 65, 'id': 10, 'ws': True}, {'text': 'Federal', 'start': 66, 'end': 73, 'id': 11, 'ws': True}, {'text': 'Office', 'start': 74, 'end': 80, 'id': 12, 'ws': True}, {'text': 'of', 'start': 81, 'end': 83, 'id': 13, 'ws': True}, {'text': 'Culture', 'start': 84, 'end': 91, 'id': 14, 'ws': True}, {'text': '(', 'start': 92, 'end': 93, 'id': 15, 'ws': False}, {'text': 'FOC', 'start': 93, 'end': 96, 'id': 16, 'ws': False}, {'text': ')', 'start': 96, 'end': 97, 'id': 17, 'ws': True}, {'text': 'may', 'start': 98, 'end': 101, 'id': 18, 'ws': True}, {'text': 'enter', 'start': 102, 'end': 107, 'id': 19, 'ws': True}, {'text': 'into', 'start': 108, 'end': 112, 'id': 20, 'ws': True}, {'text': 'service', 'start': 113, 'end': 120, 'id': 21, 'ws': True}, {'text': 'agreements', 'start': 121, 'end': 131, 'id': 22, 'ws': True}, {'text': 'with', 'start': 132, 'end': 136, 'id': 23, 'ws': True}, {'text': 'one', 'start': 137, 'end': 140, 'id': 24, 'ws': True}, {'text': 'or', 'start': 141, 'end': 143, 'id': 25, 'ws': True}, {'text': 'more', 'start': 144, 'end': 148, 'id': 26, 'ws': True}, {'text': 'cantons', 'start': 149, 'end': 156, 'id': 27, 'ws': False}, {'text': '.', 'start': 156, 'end': 157, 'id': 28, 'ws': False}], 'spans': [{'start': 66, 'end': 97, 'token_start': 11, 'token_end': 17, 'label': 'ORG'}], '_is_binary': False, '_view_id': 'ner_manual', 'answer': 'accept', '_timestamp': 1682160349}\n",
      "{'text': 'Toulouse University Hospital agreed to comply with reference methodology MR-004 of the French National Commission for Informatics and Liberties', '_input_hash': -1754966209, '_task_hash': -1513304222, 'tokens': [{'text': 'Toulouse', 'start': 0, 'end': 8, 'id': 0, 'ws': True}, {'text': 'University', 'start': 9, 'end': 19, 'id': 1, 'ws': True}, {'text': 'Hospital', 'start': 20, 'end': 28, 'id': 2, 'ws': True}, {'text': 'agreed', 'start': 29, 'end': 35, 'id': 3, 'ws': True}, {'text': 'to', 'start': 36, 'end': 38, 'id': 4, 'ws': True}, {'text': 'comply', 'start': 39, 'end': 45, 'id': 5, 'ws': True}, {'text': 'with', 'start': 46, 'end': 50, 'id': 6, 'ws': True}, {'text': 'reference', 'start': 51, 'end': 60, 'id': 7, 'ws': True}, {'text': 'methodology', 'start': 61, 'end': 72, 'id': 8, 'ws': True}, {'text': 'MR-004', 'start': 73, 'end': 79, 'id': 9, 'ws': True}, {'text': 'of', 'start': 80, 'end': 82, 'id': 10, 'ws': True}, {'text': 'the', 'start': 83, 'end': 86, 'id': 11, 'ws': True}, {'text': 'French', 'start': 87, 'end': 93, 'id': 12, 'ws': True}, {'text': 'National', 'start': 94, 'end': 102, 'id': 13, 'ws': True}, {'text': 'Commission', 'start': 103, 'end': 113, 'id': 14, 'ws': True}, {'text': 'for', 'start': 114, 'end': 117, 'id': 15, 'ws': True}, {'text': 'Informatics', 'start': 118, 'end': 129, 'id': 16, 'ws': True}, {'text': 'and', 'start': 130, 'end': 133, 'id': 17, 'ws': True}, {'text': 'Liberties', 'start': 134, 'end': 143, 'id': 18, 'ws': False}], 'spans': [{'start': 0, 'end': 28, 'text': 'Toulouse University Hospital', 'source': 'en_core_web_md', 'input_hash': -1754966209, 'token_start': 0, 'token_end': 2, 'label': 'ORG'}, {'start': 87, 'end': 143, 'token_start': 12, 'token_end': 18, 'label': 'ORG'}], '_is_binary': False, '_view_id': 'ner_manual', 'answer': 'accept', '_timestamp': 1682155320}\n"
     ]
    }
   ],
   "source": [
    "for sample in ner_dataset[:5]:\n",
    "    print(sample)"
   ]
  },
  {
   "cell_type": "markdown",
   "metadata": {},
   "source": []
  },
  {
   "cell_type": "code",
   "execution_count": 8,
   "metadata": {},
   "outputs": [],
   "source": [
    "from spacy.training import Example, offsets_to_biluo_tags, biluo_to_iob\n",
    "\n",
    "##### Modified version of the converter from an Iterable of Entities to IOB2 format\n",
    "##### The results are first converted to the BILOU Schema and then the IOB2 Schema\n",
    "##### Example: Original ['O', 'B-GPE', 'I-GPE', 'L-GPE', 'O'] => Converted ['O', 'B-GPE', 'I-GPE', 'I-GPE', 'O']\n",
    "##### To be used to compute A more Lenient Classification Score for entities on a token level\n",
    "def single_token_tags(doc, entities):\n",
    "        bilou_tags = offsets_to_biluo_tags(doc, entities)\n",
    "        iob_tags = biluo_to_iob(bilou_tags)\n",
    "        return iob_tags\n",
    "\n",
    "\n",
    "def get_entities_from_jsonl(jsonl_sample):\n",
    "        spans = []\n",
    "        single_entities = []\n",
    "        for span in jsonl_sample['spans']:\n",
    "                start, end, label = span['start'], span['end'], span['label']\n",
    "                single_entities.append({\"start\": start, \"end\": end, \"label\": label})\n",
    "                spans.append((start, end, label))\n",
    "        return spans, single_entities\n",
    "\n",
    "def make_prediction(nlp_model, text):\n",
    "        prediction = nlp_model(text)\n",
    "        pass "
   ]
  },
  {
   "attachments": {},
   "cell_type": "markdown",
   "metadata": {},
   "source": [
    "Testing Loop"
   ]
  },
  {
   "cell_type": "code",
   "execution_count": 9,
   "metadata": {},
   "outputs": [
    {
     "name": "stdout",
     "output_type": "stream",
     "text": [
      "Visualization: \n",
      "Predicted Entity Spans: \n"
     ]
    },
    {
     "data": {
      "text/html": [
       "<span class=\"tex2jax_ignore\"><div class=\"entities\" style=\"line-height: 2.5; direction: ltr\">Compared to many countries, \n",
       "<mark class=\"entity\" style=\"background: #feca74; padding: 0.45em 0.6em; margin: 0 0.25em; line-height: 1; border-radius: 0.35em;\">\n",
       "    the United Kingdom’s\n",
       "    <span style=\"font-size: 0.8em; font-weight: bold; line-height: 1; border-radius: 0.35em; vertical-align: middle; margin-left: 0.5rem\">GPE</span>\n",
       "</mark>\n",
       " facility for \n",
       "<mark class=\"entity\" style=\"background: #7aecec; padding: 0.45em 0.6em; margin: 0 0.25em; line-height: 1; border-radius: 0.35em;\">\n",
       "    COVID-19 RT-PCR\n",
       "    <span style=\"font-size: 0.8em; font-weight: bold; line-height: 1; border-radius: 0.35em; vertical-align: middle; margin-left: 0.5rem\">ORG</span>\n",
       "</mark>\n",
       " testing has been very limited.</div></span>"
      ],
      "text/plain": [
       "<IPython.core.display.HTML object>"
      ]
     },
     "metadata": {},
     "output_type": "display_data"
    },
    {
     "name": "stdout",
     "output_type": "stream",
     "text": [
      "True Entity Spans: \n"
     ]
    },
    {
     "data": {
      "text/html": [
       "<span class=\"tex2jax_ignore\"><div class=\"entities\" style=\"line-height: 2.5; direction: ltr\">Compared to many countries, the \n",
       "<mark class=\"entity\" style=\"background: #feca74; padding: 0.45em 0.6em; margin: 0 0.25em; line-height: 1; border-radius: 0.35em;\">\n",
       "    United Kingdom\n",
       "    <span style=\"font-size: 0.8em; font-weight: bold; line-height: 1; border-radius: 0.35em; vertical-align: middle; margin-left: 0.5rem\">GPE</span>\n",
       "</mark>\n",
       "’s facility for COVID-19 RT-PCR testing has been very limited.</div></span>"
      ],
      "text/plain": [
       "<IPython.core.display.HTML object>"
      ]
     },
     "metadata": {},
     "output_type": "display_data"
    },
    {
     "name": "stdout",
     "output_type": "stream",
     "text": [
      "Visualization: \n",
      "Predicted Entity Spans: \n"
     ]
    },
    {
     "data": {
      "text/html": [
       "<span class=\"tex2jax_ignore\"><div class=\"entities\" style=\"line-height: 2.5; direction: ltr\">A \n",
       "<mark class=\"entity\" style=\"background: #7aecec; padding: 0.45em 0.6em; margin: 0 0.25em; line-height: 1; border-radius: 0.35em;\">\n",
       "    European Commission\n",
       "    <span style=\"font-size: 0.8em; font-weight: bold; line-height: 1; border-radius: 0.35em; vertical-align: middle; margin-left: 0.5rem\">ORG</span>\n",
       "</mark>\n",
       " directive has set the task of creating a centralized \n",
       "<mark class=\"entity\" style=\"background: #c887fb; padding: 0.45em 0.6em; margin: 0 0.25em; line-height: 1; border-radius: 0.35em;\">\n",
       "    European\n",
       "    <span style=\"font-size: 0.8em; font-weight: bold; line-height: 1; border-radius: 0.35em; vertical-align: middle; margin-left: 0.5rem\">NORP</span>\n",
       "</mark>\n",
       " health record system by \n",
       "<mark class=\"entity\" style=\"background: #bfe1d9; padding: 0.45em 0.6em; margin: 0 0.25em; line-height: 1; border-radius: 0.35em;\">\n",
       "    2020\n",
       "    <span style=\"font-size: 0.8em; font-weight: bold; line-height: 1; border-radius: 0.35em; vertical-align: middle; margin-left: 0.5rem\">DATE</span>\n",
       "</mark>\n",
       ".</div></span>"
      ],
      "text/plain": [
       "<IPython.core.display.HTML object>"
      ]
     },
     "metadata": {},
     "output_type": "display_data"
    },
    {
     "name": "stdout",
     "output_type": "stream",
     "text": [
      "True Entity Spans: \n"
     ]
    },
    {
     "data": {
      "text/html": [
       "<span class=\"tex2jax_ignore\"><div class=\"entities\" style=\"line-height: 2.5; direction: ltr\">A \n",
       "<mark class=\"entity\" style=\"background: #7aecec; padding: 0.45em 0.6em; margin: 0 0.25em; line-height: 1; border-radius: 0.35em;\">\n",
       "    European Commission\n",
       "    <span style=\"font-size: 0.8em; font-weight: bold; line-height: 1; border-radius: 0.35em; vertical-align: middle; margin-left: 0.5rem\">ORG</span>\n",
       "</mark>\n",
       " directive has set the task of creating a centralized European health record system by 2020.</div></span>"
      ],
      "text/plain": [
       "<IPython.core.display.HTML object>"
      ]
     },
     "metadata": {},
     "output_type": "display_data"
    },
    {
     "name": "stdout",
     "output_type": "stream",
     "text": [
      "Visualization: \n",
      "Predicted Entity Spans: \n"
     ]
    },
    {
     "data": {
      "text/html": [
       "<span class=\"tex2jax_ignore\"><div class=\"entities\" style=\"line-height: 2.5; direction: ltr\">The recent SARS-CoV-2 pandemic, the impact of which on the mortality in \n",
       "<mark class=\"entity\" style=\"background: #feca74; padding: 0.45em 0.6em; margin: 0 0.25em; line-height: 1; border-radius: 0.35em;\">\n",
       "    Switzerland\n",
       "    <span style=\"font-size: 0.8em; font-weight: bold; line-height: 1; border-radius: 0.35em; vertical-align: middle; margin-left: 0.5rem\">GPE</span>\n",
       "</mark>\n",
       " in \n",
       "<mark class=\"entity\" style=\"background: #bfe1d9; padding: 0.45em 0.6em; margin: 0 0.25em; line-height: 1; border-radius: 0.35em;\">\n",
       "    2020\n",
       "    <span style=\"font-size: 0.8em; font-weight: bold; line-height: 1; border-radius: 0.35em; vertical-align: middle; margin-left: 0.5rem\">DATE</span>\n",
       "</mark>\n",
       " and \n",
       "<mark class=\"entity\" style=\"background: #bfe1d9; padding: 0.45em 0.6em; margin: 0 0.25em; line-height: 1; border-radius: 0.35em;\">\n",
       "    2021\n",
       "    <span style=\"font-size: 0.8em; font-weight: bold; line-height: 1; border-radius: 0.35em; vertical-align: middle; margin-left: 0.5rem\">DATE</span>\n",
       "</mark>\n",
       " is easily discernible from figure \n",
       "<mark class=\"entity\" style=\"background: #e4e7d2; padding: 0.45em 0.6em; margin: 0 0.25em; line-height: 1; border-radius: 0.35em;\">\n",
       "    2\n",
       "    <span style=\"font-size: 0.8em; font-weight: bold; line-height: 1; border-radius: 0.35em; vertical-align: middle; margin-left: 0.5rem\">CARDINAL</span>\n",
       "</mark>\n",
       ", has demonstrated to be no exemption to that rule, \n",
       "<mark class=\"entity\" style=\"background: #bfe1d9; padding: 0.45em 0.6em; margin: 0 0.25em; line-height: 1; border-radius: 0.35em;\">\n",
       "    today\n",
       "    <span style=\"font-size: 0.8em; font-weight: bold; line-height: 1; border-radius: 0.35em; vertical-align: middle; margin-left: 0.5rem\">DATE</span>\n",
       "</mark>\n",
       " known as “\n",
       "<mark class=\"entity\" style=\"background: #f0d0ff; padding: 0.45em 0.6em; margin: 0 0.25em; line-height: 1; border-radius: 0.35em;\">\n",
       "    Farr’s\n",
       "    <span style=\"font-size: 0.8em; font-weight: bold; line-height: 1; border-radius: 0.35em; vertical-align: middle; margin-left: 0.5rem\">WORK_OF_ART</span>\n",
       "</mark>\n",
       " law”.</div></span>"
      ],
      "text/plain": [
       "<IPython.core.display.HTML object>"
      ]
     },
     "metadata": {},
     "output_type": "display_data"
    },
    {
     "name": "stdout",
     "output_type": "stream",
     "text": [
      "True Entity Spans: \n"
     ]
    },
    {
     "data": {
      "text/html": [
       "<span class=\"tex2jax_ignore\"><div class=\"entities\" style=\"line-height: 2.5; direction: ltr\">The recent SARS-CoV-2 pandemic, the impact of which on the mortality in \n",
       "<mark class=\"entity\" style=\"background: #feca74; padding: 0.45em 0.6em; margin: 0 0.25em; line-height: 1; border-radius: 0.35em;\">\n",
       "    Switzerland\n",
       "    <span style=\"font-size: 0.8em; font-weight: bold; line-height: 1; border-radius: 0.35em; vertical-align: middle; margin-left: 0.5rem\">GPE</span>\n",
       "</mark>\n",
       " in 2020 and 2021 is easily discernible from figure 2, has demonstrated to be no exemption to that rule, today known as \n",
       "<mark class=\"entity\" style=\"background: #ff8197; padding: 0.45em 0.6em; margin: 0 0.25em; line-height: 1; border-radius: 0.35em;\">\n",
       "    “Farr’s law”\n",
       "    <span style=\"font-size: 0.8em; font-weight: bold; line-height: 1; border-radius: 0.35em; vertical-align: middle; margin-left: 0.5rem\">LAW</span>\n",
       "</mark>\n",
       ".</div></span>"
      ],
      "text/plain": [
       "<IPython.core.display.HTML object>"
      ]
     },
     "metadata": {},
     "output_type": "display_data"
    },
    {
     "name": "stdout",
     "output_type": "stream",
     "text": [
      "Visualization: \n",
      "Predicted Entity Spans: \n"
     ]
    },
    {
     "data": {
      "text/html": [
       "<span class=\"tex2jax_ignore\"><div class=\"entities\" style=\"line-height: 2.5; direction: ltr\">In order to support cultural businesses and creative artists, \n",
       "<mark class=\"entity\" style=\"background: #7aecec; padding: 0.45em 0.6em; margin: 0 0.25em; line-height: 1; border-radius: 0.35em;\">\n",
       "    the Federal Office of Culture\n",
       "    <span style=\"font-size: 0.8em; font-weight: bold; line-height: 1; border-radius: 0.35em; vertical-align: middle; margin-left: 0.5rem\">ORG</span>\n",
       "</mark>\n",
       " (\n",
       "<mark class=\"entity\" style=\"background: #7aecec; padding: 0.45em 0.6em; margin: 0 0.25em; line-height: 1; border-radius: 0.35em;\">\n",
       "    FOC\n",
       "    <span style=\"font-size: 0.8em; font-weight: bold; line-height: 1; border-radius: 0.35em; vertical-align: middle; margin-left: 0.5rem\">ORG</span>\n",
       "</mark>\n",
       ") may enter into service agreements with \n",
       "<mark class=\"entity\" style=\"background: #e4e7d2; padding: 0.45em 0.6em; margin: 0 0.25em; line-height: 1; border-radius: 0.35em;\">\n",
       "    one\n",
       "    <span style=\"font-size: 0.8em; font-weight: bold; line-height: 1; border-radius: 0.35em; vertical-align: middle; margin-left: 0.5rem\">CARDINAL</span>\n",
       "</mark>\n",
       " or more cantons.</div></span>"
      ],
      "text/plain": [
       "<IPython.core.display.HTML object>"
      ]
     },
     "metadata": {},
     "output_type": "display_data"
    },
    {
     "name": "stdout",
     "output_type": "stream",
     "text": [
      "True Entity Spans: \n"
     ]
    },
    {
     "data": {
      "text/html": [
       "<span class=\"tex2jax_ignore\"><div class=\"entities\" style=\"line-height: 2.5; direction: ltr\">In order to support cultural businesses and creative artists, the \n",
       "<mark class=\"entity\" style=\"background: #7aecec; padding: 0.45em 0.6em; margin: 0 0.25em; line-height: 1; border-radius: 0.35em;\">\n",
       "    Federal Office of Culture (FOC)\n",
       "    <span style=\"font-size: 0.8em; font-weight: bold; line-height: 1; border-radius: 0.35em; vertical-align: middle; margin-left: 0.5rem\">ORG</span>\n",
       "</mark>\n",
       " may enter into service agreements with one or more cantons.</div></span>"
      ],
      "text/plain": [
       "<IPython.core.display.HTML object>"
      ]
     },
     "metadata": {},
     "output_type": "display_data"
    },
    {
     "name": "stdout",
     "output_type": "stream",
     "text": [
      "Visualization: \n",
      "Predicted Entity Spans: \n"
     ]
    },
    {
     "data": {
      "text/html": [
       "<span class=\"tex2jax_ignore\"><div class=\"entities\" style=\"line-height: 2.5; direction: ltr\">\n",
       "<mark class=\"entity\" style=\"background: #7aecec; padding: 0.45em 0.6em; margin: 0 0.25em; line-height: 1; border-radius: 0.35em;\">\n",
       "    Toulouse University Hospital\n",
       "    <span style=\"font-size: 0.8em; font-weight: bold; line-height: 1; border-radius: 0.35em; vertical-align: middle; margin-left: 0.5rem\">ORG</span>\n",
       "</mark>\n",
       " agreed to comply with reference methodology MR-004 of \n",
       "<mark class=\"entity\" style=\"background: #7aecec; padding: 0.45em 0.6em; margin: 0 0.25em; line-height: 1; border-radius: 0.35em;\">\n",
       "    the French National Commission for Informatics and Liberties\n",
       "    <span style=\"font-size: 0.8em; font-weight: bold; line-height: 1; border-radius: 0.35em; vertical-align: middle; margin-left: 0.5rem\">ORG</span>\n",
       "</mark>\n",
       "</div></span>"
      ],
      "text/plain": [
       "<IPython.core.display.HTML object>"
      ]
     },
     "metadata": {},
     "output_type": "display_data"
    },
    {
     "name": "stdout",
     "output_type": "stream",
     "text": [
      "True Entity Spans: \n"
     ]
    },
    {
     "data": {
      "text/html": [
       "<span class=\"tex2jax_ignore\"><div class=\"entities\" style=\"line-height: 2.5; direction: ltr\">\n",
       "<mark class=\"entity\" style=\"background: #7aecec; padding: 0.45em 0.6em; margin: 0 0.25em; line-height: 1; border-radius: 0.35em;\">\n",
       "    Toulouse University Hospital\n",
       "    <span style=\"font-size: 0.8em; font-weight: bold; line-height: 1; border-radius: 0.35em; vertical-align: middle; margin-left: 0.5rem\">ORG</span>\n",
       "</mark>\n",
       " agreed to comply with reference methodology MR-004 of the \n",
       "<mark class=\"entity\" style=\"background: #7aecec; padding: 0.45em 0.6em; margin: 0 0.25em; line-height: 1; border-radius: 0.35em;\">\n",
       "    French National Commission for Informatics and Liberties\n",
       "    <span style=\"font-size: 0.8em; font-weight: bold; line-height: 1; border-radius: 0.35em; vertical-align: middle; margin-left: 0.5rem\">ORG</span>\n",
       "</mark>\n",
       "</div></span>"
      ],
      "text/plain": [
       "<IPython.core.display.HTML object>"
      ]
     },
     "metadata": {},
     "output_type": "display_data"
    }
   ],
   "source": [
    "all_examples = []\n",
    "all_tags = {\"true\" : [], \"predicted\": []}\n",
    "\n",
    "for sample in ner_dataset[:5]:\n",
    "        visualization = True\n",
    "        true_entity_spans, true_entities = get_entities_from_jsonl(sample)\n",
    "        sentence = sample['text']\n",
    "        prediction = nlp(sentence)\n",
    "        predicted_ent_spans = [(ent.start_char, ent.end_char, ent.label_) for ent in prediction.ents]\n",
    "        \n",
    "        ##### Converting each true and predicted entity span to the IOB2 tags schema\n",
    "        predicted_ent_tags = single_token_tags(prediction, predicted_ent_spans)\n",
    "        true_ent_tags = single_token_tags(prediction, true_entity_spans)\n",
    "\n",
    "        ##### Uncomment for debug        \n",
    "        # print('For Sentence: {}\\n'.format(test_sample['text']))\n",
    "        # print('True Entity Span: {}'.format(true_entity_spans))\n",
    "        # print('Model Prediction: {}\\n'.format(predicted_ent_spans))\n",
    "        # print('Predicted Tags: {}'.format(predicted_ent_tags))\n",
    "        # print('True Tags: {}\\n'.format(true_ent_tags))\n",
    "\n",
    "        all_examples.append(Example.from_dict(prediction, {'entities': true_entity_spans}))\n",
    "        all_tags['true'].append(true_ent_tags)\n",
    "        all_tags['predicted'].append(predicted_ent_tags)        \n",
    "\n",
    "        if visualization:\n",
    "        ##### Visualization Debug\n",
    "                print('Visualization: ')\n",
    "                print('Predicted Entity Spans: ')\n",
    "                displacy.render(prediction, style = 'ent', jupyter = True)\n",
    "                true_example = {\"text\": prediction.text, \"ents\": true_entities, \"title\": None}\n",
    "                print('True Entity Spans: ')\n",
    "                displacy.render(true_example, style = 'ent', jupyter = True, manual = True)"
   ]
  },
  {
   "cell_type": "code",
   "execution_count": 10,
   "metadata": {},
   "outputs": [],
   "source": [
    "#### Remove unwanted labels (set them to Others ('O'), so errors still count)\n",
    "def set_tags_to_fixed_labels(tags_lists):\n",
    "    our_labels = ['GPE', 'LAW', 'LOC', 'ORG', 'PERSON', 'PRODUCT']\n",
    "    for tags in tags_lists:\n",
    "        # print('Before: {}'.format(tags))\n",
    "        for i in range(len(tags)):\n",
    "            if tags[i][2:] not in our_labels:\n",
    "                tags[i] = 'O'\n",
    "        # print('After: {} \\n'.format(tags))\n",
    "    return tags_lists"
   ]
  },
  {
   "cell_type": "code",
   "execution_count": 11,
   "metadata": {},
   "outputs": [
    {
     "data": {
      "text/plain": [
       "{'ents_p': 0.1875,\n",
       " 'ents_r': 0.42857142857142855,\n",
       " 'ents_f': 0.26086956521739124,\n",
       " 'ents_per_type': {'ORG': {'p': 0.3333333333333333, 'r': 0.5, 'f': 0.4},\n",
       "  'GPE': {'p': 0.5, 'r': 0.5, 'f': 0.5},\n",
       "  'DATE': {'p': 0.0, 'r': 0.0, 'f': 0.0},\n",
       "  'NORP': {'p': 0.0, 'r': 0.0, 'f': 0.0},\n",
       "  'LAW': {'p': 0.0, 'r': 0.0, 'f': 0.0},\n",
       "  'WORK_OF_ART': {'p': 0.0, 'r': 0.0, 'f': 0.0},\n",
       "  'CARDINAL': {'p': 0.0, 'r': 0.0, 'f': 0.0}}}"
      ]
     },
     "execution_count": 11,
     "metadata": {},
     "output_type": "execute_result"
    }
   ],
   "source": [
    "from spacy.scorer import Scorer\n",
    "\n",
    "scorer = Scorer(nlp)\n",
    "\n",
    "##### Exact Span Prediction Working Score\n",
    "scorer.score_spans(all_examples, attr=\"ents\")"
   ]
  },
  {
   "cell_type": "code",
   "execution_count": 12,
   "metadata": {},
   "outputs": [
    {
     "name": "stdout",
     "output_type": "stream",
     "text": [
      "Performance with all tags: \n"
     ]
    },
    {
     "data": {
      "text/plain": [
       "['              precision    recall  f1-score   support',\n",
       " '',\n",
       " '    CARDINAL       0.00      1.00      0.00         0',\n",
       " '        DATE       0.00      1.00      0.00         0',\n",
       " '         GPE       0.50      0.50      0.50         2',\n",
       " '         LAW       1.00      0.00      0.00         1',\n",
       " '        NORP       0.00      1.00      0.00         0',\n",
       " '         ORG       0.33      0.50      0.40         4',\n",
       " ' WORK_OF_ART       0.00      1.00      0.00         0',\n",
       " '',\n",
       " '   micro avg       0.19      0.43      0.26         7',\n",
       " '   macro avg       0.26      0.71      0.13         7',\n",
       " 'weighted avg       0.48      0.43      0.37         7']"
      ]
     },
     "execution_count": 12,
     "metadata": {},
     "output_type": "execute_result"
    }
   ],
   "source": [
    "from seqeval.metrics import classification_report as seqclassify\n",
    "\n",
    "# print('Predicted Tags: {}'.format(predicted_ent_tags))\n",
    "# print('True Tags: {}\\n'.format(true_ent_tags))\n",
    "\n",
    "print('Performance with all tags: ')\n",
    "report_1 = seqclassify(all_tags['true'], all_tags['predicted'], zero_division = 1)\n",
    "report_1.splitlines()"
   ]
  },
  {
   "cell_type": "code",
   "execution_count": 13,
   "metadata": {},
   "outputs": [
    {
     "name": "stdout",
     "output_type": "stream",
     "text": [
      "Performance with only our needed tags: \n"
     ]
    },
    {
     "data": {
      "text/plain": [
       "['              precision    recall  f1-score   support',\n",
       " '',\n",
       " '         GPE       0.50      0.50      0.50         2',\n",
       " '         LAW       1.00      0.00      0.00         1',\n",
       " '         ORG       0.33      0.50      0.40         4',\n",
       " '',\n",
       " '   micro avg       0.38      0.43      0.40         7',\n",
       " '   macro avg       0.61      0.33      0.30         7',\n",
       " 'weighted avg       0.48      0.43      0.37         7']"
      ]
     },
     "execution_count": 13,
     "metadata": {},
     "output_type": "execute_result"
    }
   ],
   "source": [
    "print('Performance with only our needed tags: ')\n",
    "fixed_predicted_labels = set_tags_to_fixed_labels(all_tags['predicted'])\n",
    "report_2 = seqclassify(all_tags['true'], fixed_predicted_labels, zero_division = 1)\n",
    "report_2.splitlines()"
   ]
  },
  {
   "cell_type": "code",
   "execution_count": 14,
   "metadata": {},
   "outputs": [
    {
     "name": "stdout",
     "output_type": "stream",
     "text": [
      "Performance with only our needed tags [STRICT VERSION]: \n"
     ]
    },
    {
     "data": {
      "text/plain": [
       "['              precision    recall  f1-score   support',\n",
       " '',\n",
       " '         GPE       0.50      0.50      0.50         2',\n",
       " '         LAW       1.00      0.00      0.00         1',\n",
       " '         ORG       0.33      0.50      0.40         4',\n",
       " '',\n",
       " '   micro avg       0.38      0.43      0.40         7',\n",
       " '   macro avg       0.61      0.33      0.30         7',\n",
       " 'weighted avg       0.48      0.43      0.37         7']"
      ]
     },
     "execution_count": 14,
     "metadata": {},
     "output_type": "execute_result"
    }
   ],
   "source": [
    "print('Performance with only our needed tags [STRICT VERSION]: ')\n",
    "fixed_predicted_labels = set_tags_to_fixed_labels(all_tags['predicted'])\n",
    "report_2 = seqclassify(all_tags['true'], fixed_predicted_labels, mode = 'strict', zero_division = 1)\n",
    "report_2.splitlines()"
   ]
  }
 ],
 "metadata": {
  "kernelspec": {
   "display_name": "Python 3",
   "language": "python",
   "name": "python3"
  },
  "language_info": {
   "codemirror_mode": {
    "name": "ipython",
    "version": 3
   },
   "file_extension": ".py",
   "mimetype": "text/x-python",
   "name": "python",
   "nbconvert_exporter": "python",
   "pygments_lexer": "ipython3",
   "version": "3.9.7"
  },
  "orig_nbformat": 4,
  "vscode": {
   "interpreter": {
    "hash": "6290ab70aa2c9e6859d722745d4fdeafb895ca1190e93c7ac9c8d926153eb965"
   }
  }
 },
 "nbformat": 4,
 "nbformat_minor": 2
}
