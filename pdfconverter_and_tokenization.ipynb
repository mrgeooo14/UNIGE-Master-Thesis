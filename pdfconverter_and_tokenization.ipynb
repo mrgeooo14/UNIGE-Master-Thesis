{
 "cells": [
  {
   "attachments": {},
   "cell_type": "markdown",
   "metadata": {},
   "source": [
    "##### Converting PDFs to text and Tokenization"
   ]
  },
  {
   "cell_type": "code",
   "execution_count": 4,
   "metadata": {},
   "outputs": [
    {
     "name": "stderr",
     "output_type": "stream",
     "text": [
      "Xref table not zero-indexed. ID numbers for objects will be corrected.\n"
     ]
    },
    {
     "name": "stdout",
     "output_type": "stream",
     "text": [
      "Number of Pages: 13\n"
     ]
    }
   ],
   "source": [
    "import PyPDF2\n",
    "import os\n",
    "\n",
    "\n",
    "# Load the PDF file\n",
    "pdf_file = open('data/implementome_publications/test_miner/hypertension_india.pdf', 'rb')\n",
    "pdf_reader = PyPDF2.PdfFileReader(pdf_file)\n",
    "\n",
    "# Extract the text from the PDF file\n",
    "print('Number of Pages: {}'.format(pdf_reader.getNumPages()))\n",
    "publications_text = ''\n",
    "for i in range(pdf_reader.getNumPages()):\n",
    "    page = pdf_reader.getPage(i)\n",
    "    publications_text += page.extractText()\n",
    "    \n",
    "empty_text_file = open('data/implementome_publications/test_miner/test_text.txt', \"w\", encoding=\"utf-8\")\n",
    "# empty_text_file.write(publications_text)"
   ]
  },
  {
   "cell_type": "code",
   "execution_count": 5,
   "metadata": {},
   "outputs": [
    {
     "name": "stdout",
     "output_type": "stream",
     "text": [
      "Number of Pages: 51182\n"
     ]
    },
    {
     "data": {
      "text/plain": [
       "51182"
      ]
     },
     "execution_count": 5,
     "metadata": {},
     "output_type": "execute_result"
    }
   ],
   "source": [
    "from pdfminer.high_level import extract_text, extract_pages\n",
    "\n",
    "\n",
    "publications_text = extract_text(pdf_file)\n",
    "print('Number of Pages: {}'.format(len(list(publications_text))))\n",
    "\n",
    "empty_text_file.write(publications_text)"
   ]
  },
  {
   "cell_type": "code",
   "execution_count": 12,
   "metadata": {},
   "outputs": [
    {
     "name": "stdout",
     "output_type": "stream",
     "text": [
      "[101, 3603, 1104, 4243, 145, 24312, 23826, 1988, 113, 10351, 114, 3081, 131, 4667, 1571, 782, 4650, 1559, 18630, 131, 120, 120, 9465, 119, 8916, 120, 1275, 119, 9550, 1604, 120, 188, 25892, 26303, 1475, 118, 5187, 1604, 118, 5187, 16770, 118, 124, 155, 142, 159, 146, 142, 160, 138, 155, 157, 146, 140, 149, 142, 18653, 27884, 14652, 1107, 177, 24312, 23826, 1988, 174, 25786, 5521, 17288, 1107, 1726, 12707, 3051, 1964, 22560, 1475, 872, 24967, 144, 3984, 1197, 1477, 872, 140, 119, 159, 1424, 24011, 156, 119, 11447, 1495, 117, 125, 11336, 21437, 131, 1542, 1340, 1857, 120, 6750, 3673, 131, 1853, 1351, 1857, 120, 138, 19515, 15384, 1174, 131, 1489, 1360, 1857, 120, 15807, 3294, 131, 1512, 1347, 1857, 206, 18919, 7009, 5975, 1857, 138, 4832, 15017, 145, 24312, 23826, 1988, 1110, 1103, 1211, 1696, 3187, 5318, 1111, 13306, 3653, 11904, 1107, 1726, 119, 3829, 1121, 1672, 2192, 1104, 1726, 1138, 2103, 1344, 22760, 1104, 177, 24312, 23826, 1988, 119, 1636, 2527, 1138, 1145, 2103, 1115, 177, 24312, 23826, 1988, 1110, 4138, 1105, 1175, 1110, 1822, 6885, 1105, 1654, 119, 1960, 2793, 2527, 1138, 1151, 3303, 1114, 6029, 5537, 1105, 9708, 18200, 1106, 4959, 1103, 2276, 22760, 1104, 177, 24312, 23826, 1988, 1107, 1103, 1583, 119, 7652, 1305, 3921, 3225, 8157, 17428, 177, 24312, 23826, 1988, 1107, 170, 1415, 1416, 1359, 6876, 113, 183, 134, 5899, 1580, 117, 24618, 114, 1105, 2103, 177, 24312, 23826, 1988, 1107, 1492, 119, 129, 110, 1441, 5016, 119, 129, 119, 129, 110, 1535, 113, 2905, 1429, 119, 124, 110, 114, 4079, 1405, 782, 3927, 1105, 1405, 782, 4335, 3569, 119, 3046, 4702, 2233, 113, 1425, 135, 1407, 1201, 117, 183, 134, 122, 117, 14116, 117, 3731, 1571, 114, 1107, 7652, 1574, 9583, 25705, 8157, 2103, 177, 24312, 23826, 1988, 1107, 1512, 119, 124, 110, 1114, 3407, 22760, 1107, 1441, 113, 1765, 119, 125, 110, 114, 1190, 1535, 113, 1406, 119, 121, 110, 114, 119, 1188, 17391, 1154, 21606, 1550, 4983, 113, 1441, 11150, 1550, 117, 1535, 4573, 1550, 114, 1114, 177, 24312, 23826, 1988, 1107, 1726, 119, 11689, 25388, 1156, 1129, 1277, 2299, 1606, 1504, 1237, 13112, 119, 5357, 139, 2149, 2883, 1104, 20012, 1116, 2025, 2103, 1115, 177, 24312, 23826, 1988, 1521, 1106, 122, 119, 5519, 1550, 6209, 1107, 1726, 1107, 1446, 1112, 3402, 1106, 121, 119, 5603, 1550, 1107, 1997, 113, 116, 10601, 110, 114, 119, 1109, 3653, 11904, 113, 141, 12507, 3663, 1116, 114, 1120, 19091, 16442, 1895, 1106, 177, 24312, 23826, 1988, 2569, 1121, 1626, 1550, 1107, 1997, 1106, 3614, 1550, 1107, 1446, 113, 116, 5840, 110, 114, 119, 3563, 1260, 2083, 14503, 5240, 1104, 177, 24312, 23826, 1988, 1132, 1696, 1105, 1890, 2231, 1114, 3407, 3953, 2734, 117, 1769, 1718, 1105, 1934, 1718, 1138, 1167, 177, 24312, 23826, 1988, 119, 1247, 1110, 2869, 3852, 1104, 177, 24312, 23826, 1988, 22760, 1114, 12520, 11731, 1780, 1175, 1110, 3112, 3852, 1114, 12520, 2469, 1105, 3068, 119, 1109, 2332, 1449, 1107, 1726, 1431, 2817, 1113, 1618, 177, 24312, 23826, 1988, 11954, 1105, 1654, 1106, 4851, 3621, 25575, 182, 1766, 14598, 102]\n"
     ]
    }
   ],
   "source": [
    "from transformers import AutoTokenizer\n",
    "\n",
    "# Load the tokenizer\n",
    "tokenizer = AutoTokenizer.from_pretrained('bert-base-cased')\n",
    "\n",
    "# Tokenize the text\n",
    "tokens = tokenizer.encode(publications_text, truncation=True, max_length=512)\n",
    "\n",
    "# Print the tokens\n",
    "print(tokens)"
   ]
  },
  {
   "cell_type": "code",
   "execution_count": 13,
   "metadata": {},
   "outputs": [
    {
     "data": {
      "text/plain": [
       "101"
      ]
     },
     "execution_count": 13,
     "metadata": {},
     "output_type": "execute_result"
    }
   ],
   "source": [
    "tokens[0]"
   ]
  }
 ],
 "metadata": {
  "kernelspec": {
   "display_name": "Python 3",
   "language": "python",
   "name": "python3"
  },
  "language_info": {
   "codemirror_mode": {
    "name": "ipython",
    "version": 3
   },
   "file_extension": ".py",
   "mimetype": "text/x-python",
   "name": "python",
   "nbconvert_exporter": "python",
   "pygments_lexer": "ipython3",
   "version": "3.9.7"
  },
  "orig_nbformat": 4
 },
 "nbformat": 4,
 "nbformat_minor": 2
}
