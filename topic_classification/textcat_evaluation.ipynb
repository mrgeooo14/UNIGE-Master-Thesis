{
 "cells": [
  {
   "attachments": {},
   "cell_type": "markdown",
   "metadata": {},
   "source": [
    "This file will concern itself with the evaluation process for both the few-shot and zero-shot text classifiers explained in this project.\n",
    "\n",
    "A **custom** evaluation dataset was built to be adapted to our custom labels."
   ]
  },
  {
   "cell_type": "code",
   "execution_count": 1,
   "metadata": {},
   "outputs": [
    {
     "data": {
      "text/html": [
       "<div>\n",
       "<style scoped>\n",
       "    .dataframe tbody tr th:only-of-type {\n",
       "        vertical-align: middle;\n",
       "    }\n",
       "\n",
       "    .dataframe tbody tr th {\n",
       "        vertical-align: top;\n",
       "    }\n",
       "\n",
       "    .dataframe thead th {\n",
       "        text-align: right;\n",
       "    }\n",
       "</style>\n",
       "<table border=\"1\" class=\"dataframe\">\n",
       "  <thead>\n",
       "    <tr style=\"text-align: right;\">\n",
       "      <th></th>\n",
       "      <th>Sentence</th>\n",
       "      <th>True Label</th>\n",
       "    </tr>\n",
       "  </thead>\n",
       "  <tbody>\n",
       "    <tr>\n",
       "      <th>0</th>\n",
       "      <td>Artificial intelligence is transforming variou...</td>\n",
       "      <td>Artificial Intelligence</td>\n",
       "    </tr>\n",
       "    <tr>\n",
       "      <th>1</th>\n",
       "      <td>Machine learning is a subset of AI that focuse...</td>\n",
       "      <td>Artificial Intelligence</td>\n",
       "    </tr>\n",
       "    <tr>\n",
       "      <th>2</th>\n",
       "      <td>Will artificial intelligence eventually surpas...</td>\n",
       "      <td>Artificial Intelligence</td>\n",
       "    </tr>\n",
       "    <tr>\n",
       "      <th>3</th>\n",
       "      <td>The Turing Test is a measure of a machine's ab...</td>\n",
       "      <td>Artificial Intelligence</td>\n",
       "    </tr>\n",
       "    <tr>\n",
       "      <th>4</th>\n",
       "      <td>AI-powered virtual assistants, such as Siri an...</td>\n",
       "      <td>Artificial Intelligence</td>\n",
       "    </tr>\n",
       "    <tr>\n",
       "      <th>...</th>\n",
       "      <td>...</td>\n",
       "      <td>...</td>\n",
       "    </tr>\n",
       "    <tr>\n",
       "      <th>795</th>\n",
       "      <td>Bullying in schools involves repeated acts of ...</td>\n",
       "      <td>Violence</td>\n",
       "    </tr>\n",
       "    <tr>\n",
       "      <th>796</th>\n",
       "      <td>Healthcare worker violence involves physical o...</td>\n",
       "      <td>Violence</td>\n",
       "    </tr>\n",
       "    <tr>\n",
       "      <th>797</th>\n",
       "      <td>Human rights violations in healthcare settings...</td>\n",
       "      <td>Violence</td>\n",
       "    </tr>\n",
       "    <tr>\n",
       "      <th>798</th>\n",
       "      <td>Drug-related violence occurs within the contex...</td>\n",
       "      <td>Violence</td>\n",
       "    </tr>\n",
       "    <tr>\n",
       "      <th>799</th>\n",
       "      <td>Violence in mental healthcare settings involve...</td>\n",
       "      <td>Violence</td>\n",
       "    </tr>\n",
       "  </tbody>\n",
       "</table>\n",
       "<p>800 rows × 2 columns</p>\n",
       "</div>"
      ],
      "text/plain": [
       "                                              Sentence  \\\n",
       "0    Artificial intelligence is transforming variou...   \n",
       "1    Machine learning is a subset of AI that focuse...   \n",
       "2    Will artificial intelligence eventually surpas...   \n",
       "3    The Turing Test is a measure of a machine's ab...   \n",
       "4    AI-powered virtual assistants, such as Siri an...   \n",
       "..                                                 ...   \n",
       "795  Bullying in schools involves repeated acts of ...   \n",
       "796  Healthcare worker violence involves physical o...   \n",
       "797  Human rights violations in healthcare settings...   \n",
       "798  Drug-related violence occurs within the contex...   \n",
       "799  Violence in mental healthcare settings involve...   \n",
       "\n",
       "                  True Label  \n",
       "0    Artificial Intelligence  \n",
       "1    Artificial Intelligence  \n",
       "2    Artificial Intelligence  \n",
       "3    Artificial Intelligence  \n",
       "4    Artificial Intelligence  \n",
       "..                       ...  \n",
       "795                 Violence  \n",
       "796                 Violence  \n",
       "797                 Violence  \n",
       "798                 Violence  \n",
       "799                 Violence  \n",
       "\n",
       "[800 rows x 2 columns]"
      ]
     },
     "execution_count": 1,
     "metadata": {},
     "output_type": "execute_result"
    }
   ],
   "source": [
    "##### Loading the test set from the corresponding excel file\n",
    "import pandas as pd\n",
    "import random\n",
    "\n",
    "df = pd.read_excel('../data/textcat_evaluation.xlsx')\n",
    "evaluation_set = [tuple(row) for row in df.to_records(index = False)]\n",
    "all_labels = df['True Label'].unique().tolist()\n",
    "df"
   ]
  },
  {
   "cell_type": "code",
   "execution_count": 2,
   "metadata": {},
   "outputs": [],
   "source": [
    "random.seed(596)\n",
    "random.shuffle(evaluation_set)\n",
    "eval_length = len(evaluation_set)\n",
    "all_sentences = [item[0] for item in evaluation_set]"
   ]
  },
  {
   "attachments": {},
   "cell_type": "markdown",
   "metadata": {},
   "source": [
    "##### Zero Shot Classification Model Evaluation\n",
    "\n",
    "The first model to be evaluated will be the custom-trained spaCy one. We begin by loading the model."
   ]
  },
  {
   "cell_type": "code",
   "execution_count": 3,
   "metadata": {},
   "outputs": [
    {
     "name": "stdout",
     "output_type": "stream",
     "text": [
      "Cuda Device Found?  True\n",
      "Type of Cuda Device: NVIDIA GeForce GTX 1650 Ti\n"
     ]
    },
    {
     "name": "stderr",
     "output_type": "stream",
     "text": [
      "Some weights of BartForSequenceClassification were not initialized from the model checkpoint at facebook/bart-base and are newly initialized: ['classification_head.out_proj.bias', 'classification_head.dense.bias', 'classification_head.dense.weight', 'classification_head.out_proj.weight']\n",
      "You should probably TRAIN this model on a down-stream task to be able to use it for predictions and inference.\n",
      "Failed to determine 'entailment' label id from the label2id mapping in the model config. Setting to -1. Define a descriptive label2id mapping in the model config to ensure correct outputs.\n"
     ]
    },
    {
     "name": "stdout",
     "output_type": "stream",
     "text": [
      "'facebook/bart-base' model successfully loaded\n"
     ]
    }
   ],
   "source": [
    "from torch import cuda, device\n",
    "from transformers import pipeline\n",
    "\n",
    "print('Cuda Device Found? ', cuda.is_available())\n",
    "my_device = device('cuda' if cuda.is_available() else 'cpu')\n",
    "\n",
    "if cuda.is_available() == True:\n",
    "    print('Type of Cuda Device:', cuda.get_device_name(my_device))\n",
    "\n",
    "# model_name = \"facebook/bart-large-mnli\"\n",
    "model_name = \"facebook/bart-base\"\n",
    "zero_shot_classifier = pipeline(\"zero-shot-classification\", model = model_name, device = 0, framework = \"pt\")\n",
    "print(\"'{}' model successfully loaded\".format(model_name))"
   ]
  },
  {
   "cell_type": "code",
   "execution_count": 4,
   "metadata": {},
   "outputs": [],
   "source": [
    "import time\n",
    "\n",
    "# print('Topic Classification Evaluation Started...')\n",
    "start = time.time()\n",
    "all_scores = zero_shot_classifier(\n",
    "    sequences = all_sentences,\n",
    "    candidate_labels = all_labels,\n",
    "    multi_label = True,\n",
    "    src_lang=\"en\",\n",
    ")\n",
    "end = time.time() - start"
   ]
  },
  {
   "attachments": {},
   "cell_type": "markdown",
   "metadata": {},
   "source": [
    "##### Scoring Function\n",
    "Computing the total true counts and accuracy of the zero shot classification model."
   ]
  },
  {
   "cell_type": "code",
   "execution_count": 16,
   "metadata": {},
   "outputs": [
    {
     "name": "stdout",
     "output_type": "stream",
     "text": [
      "Topic Classification | Evaluation Finished | Elapsed Time: 603.4790s | Time per Sentence: 0.7543s\n",
      "Accuracy: 92.12%\n"
     ]
    }
   ],
   "source": [
    "correct_count = 0\n",
    "for i, score in enumerate(all_scores):\n",
    "    # print(\"For Sentence: {}\".format(score['sequence']))\n",
    "    high_probas = [proba for proba in score['scores'] if proba >= 0.5]\n",
    "    assigned_labels = []\n",
    "    for j in range(len(high_probas)):\n",
    "        assigned_labels.append(score['labels'][j])\n",
    "    \n",
    "    # print('True: {} | Predictions: {}'.format(evaluation_set[i][1], assigned_labels))\n",
    "    # print(\"Prediction - It's About: {}\".format(assigned_labels))\n",
    "\n",
    "\n",
    "    if evaluation_set[i][1] in assigned_labels:\n",
    "        correct_count += 1\n",
    "\n",
    "print(\"Topic Classification | Evaluation Finished | Elapsed Time: {:.4f}s | Time per Sentence: {:.4f}s\".format(end, end / eval_length))\n",
    "print(\"Accuracy: {:1.2f}%\".format((correct_count / eval_length) * 100))"
   ]
  }
 ],
 "metadata": {
  "kernelspec": {
   "display_name": "Python 3",
   "language": "python",
   "name": "python3"
  },
  "language_info": {
   "codemirror_mode": {
    "name": "ipython",
    "version": 3
   },
   "file_extension": ".py",
   "mimetype": "text/x-python",
   "name": "python",
   "nbconvert_exporter": "python",
   "pygments_lexer": "ipython3",
   "version": "3.9.7"
  },
  "orig_nbformat": 4
 },
 "nbformat": 4,
 "nbformat_minor": 2
}
