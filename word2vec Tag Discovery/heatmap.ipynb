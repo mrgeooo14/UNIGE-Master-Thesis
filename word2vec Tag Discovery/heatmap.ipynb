{
 "cells": [
  {
   "cell_type": "code",
   "execution_count": 72,
   "metadata": {},
   "outputs": [
    {
     "data": {
      "text/html": [
       "<div>\n",
       "<style scoped>\n",
       "    .dataframe tbody tr th:only-of-type {\n",
       "        vertical-align: middle;\n",
       "    }\n",
       "\n",
       "    .dataframe tbody tr th {\n",
       "        vertical-align: top;\n",
       "    }\n",
       "\n",
       "    .dataframe thead th {\n",
       "        text-align: right;\n",
       "    }\n",
       "</style>\n",
       "<table border=\"1\" class=\"dataframe\">\n",
       "  <thead>\n",
       "    <tr style=\"text-align: right;\">\n",
       "      <th></th>\n",
       "      <th>Indent Level</th>\n",
       "      <th>Item and Group</th>\n",
       "      <th>Weight</th>\n",
       "      <th>Parent</th>\n",
       "      <th>Colors</th>\n",
       "    </tr>\n",
       "  </thead>\n",
       "  <tbody>\n",
       "    <tr>\n",
       "      <th>1</th>\n",
       "      <td>2</td>\n",
       "      <td>Occupational Health</td>\n",
       "      <td>0.0240</td>\n",
       "      <td>Health Types</td>\n",
       "      <td>blue</td>\n",
       "    </tr>\n",
       "    <tr>\n",
       "      <th>2</th>\n",
       "      <td>2</td>\n",
       "      <td>Sexual Health</td>\n",
       "      <td>0.0240</td>\n",
       "      <td>Health Types</td>\n",
       "      <td>blue</td>\n",
       "    </tr>\n",
       "    <tr>\n",
       "      <th>3</th>\n",
       "      <td>2</td>\n",
       "      <td>Reproductive Health</td>\n",
       "      <td>0.0240</td>\n",
       "      <td>Health Types</td>\n",
       "      <td>blue</td>\n",
       "    </tr>\n",
       "    <tr>\n",
       "      <th>4</th>\n",
       "      <td>2</td>\n",
       "      <td>eHealth</td>\n",
       "      <td>0.0240</td>\n",
       "      <td>Health Types</td>\n",
       "      <td>blue</td>\n",
       "    </tr>\n",
       "    <tr>\n",
       "      <th>5</th>\n",
       "      <td>2</td>\n",
       "      <td>Mental Health</td>\n",
       "      <td>0.0240</td>\n",
       "      <td>Health Types</td>\n",
       "      <td>blue</td>\n",
       "    </tr>\n",
       "    <tr>\n",
       "      <th>6</th>\n",
       "      <td>2</td>\n",
       "      <td>Child Health</td>\n",
       "      <td>0.0240</td>\n",
       "      <td>Health Types</td>\n",
       "      <td>blue</td>\n",
       "    </tr>\n",
       "    <tr>\n",
       "      <th>7</th>\n",
       "      <td>2</td>\n",
       "      <td>Refugee Health</td>\n",
       "      <td>0.0240</td>\n",
       "      <td>Health Types</td>\n",
       "      <td>blue</td>\n",
       "    </tr>\n",
       "    <tr>\n",
       "      <th>8</th>\n",
       "      <td>2</td>\n",
       "      <td>Telehealth</td>\n",
       "      <td>0.0240</td>\n",
       "      <td>Health Types</td>\n",
       "      <td>blue</td>\n",
       "    </tr>\n",
       "    <tr>\n",
       "      <th>9</th>\n",
       "      <td>2</td>\n",
       "      <td>Public Health</td>\n",
       "      <td>0.0240</td>\n",
       "      <td>Health Types</td>\n",
       "      <td>blue</td>\n",
       "    </tr>\n",
       "    <tr>\n",
       "      <th>11</th>\n",
       "      <td>2</td>\n",
       "      <td>Medication</td>\n",
       "      <td>0.0275</td>\n",
       "      <td>Healthcare Systems</td>\n",
       "      <td>turquoise</td>\n",
       "    </tr>\n",
       "    <tr>\n",
       "      <th>12</th>\n",
       "      <td>2</td>\n",
       "      <td>Healthcare Workforce</td>\n",
       "      <td>0.0275</td>\n",
       "      <td>Healthcare Systems</td>\n",
       "      <td>turquoise</td>\n",
       "    </tr>\n",
       "    <tr>\n",
       "      <th>13</th>\n",
       "      <td>2</td>\n",
       "      <td>Healthcare Access</td>\n",
       "      <td>0.0275</td>\n",
       "      <td>Healthcare Systems</td>\n",
       "      <td>turquoise</td>\n",
       "    </tr>\n",
       "    <tr>\n",
       "      <th>14</th>\n",
       "      <td>2</td>\n",
       "      <td>Clinical Research</td>\n",
       "      <td>0.0275</td>\n",
       "      <td>Healthcare Systems</td>\n",
       "      <td>turquoise</td>\n",
       "    </tr>\n",
       "    <tr>\n",
       "      <th>15</th>\n",
       "      <td>2</td>\n",
       "      <td>Health Professionals</td>\n",
       "      <td>0.0275</td>\n",
       "      <td>Healthcare Systems</td>\n",
       "      <td>turquoise</td>\n",
       "    </tr>\n",
       "    <tr>\n",
       "      <th>16</th>\n",
       "      <td>2</td>\n",
       "      <td>Clinical Implementation</td>\n",
       "      <td>0.0275</td>\n",
       "      <td>Healthcare Systems</td>\n",
       "      <td>turquoise</td>\n",
       "    </tr>\n",
       "    <tr>\n",
       "      <th>17</th>\n",
       "      <td>2</td>\n",
       "      <td>Hospital Stay</td>\n",
       "      <td>0.0275</td>\n",
       "      <td>Healthcare Systems</td>\n",
       "      <td>turquoise</td>\n",
       "    </tr>\n",
       "    <tr>\n",
       "      <th>18</th>\n",
       "      <td>2</td>\n",
       "      <td>Patient Experience</td>\n",
       "      <td>0.0275</td>\n",
       "      <td>Healthcare Systems</td>\n",
       "      <td>turquoise</td>\n",
       "    </tr>\n",
       "    <tr>\n",
       "      <th>20</th>\n",
       "      <td>2</td>\n",
       "      <td>Epidemic</td>\n",
       "      <td>0.0300</td>\n",
       "      <td>Global Threats</td>\n",
       "      <td>indianred</td>\n",
       "    </tr>\n",
       "    <tr>\n",
       "      <th>21</th>\n",
       "      <td>2</td>\n",
       "      <td>Poverty</td>\n",
       "      <td>0.0300</td>\n",
       "      <td>Global Threats</td>\n",
       "      <td>indianred</td>\n",
       "    </tr>\n",
       "    <tr>\n",
       "      <th>22</th>\n",
       "      <td>2</td>\n",
       "      <td>Social Inequality</td>\n",
       "      <td>0.0300</td>\n",
       "      <td>Global Threats</td>\n",
       "      <td>indianred</td>\n",
       "    </tr>\n",
       "    <tr>\n",
       "      <th>23</th>\n",
       "      <td>2</td>\n",
       "      <td>STDs</td>\n",
       "      <td>0.0300</td>\n",
       "      <td>Global Threats</td>\n",
       "      <td>indianred</td>\n",
       "    </tr>\n",
       "    <tr>\n",
       "      <th>24</th>\n",
       "      <td>2</td>\n",
       "      <td>Communicable Diseases</td>\n",
       "      <td>0.0300</td>\n",
       "      <td>Global Threats</td>\n",
       "      <td>indianred</td>\n",
       "    </tr>\n",
       "    <tr>\n",
       "      <th>26</th>\n",
       "      <td>2</td>\n",
       "      <td>Low Cost</td>\n",
       "      <td>0.0560</td>\n",
       "      <td>Telemedicine</td>\n",
       "      <td>beige</td>\n",
       "    </tr>\n",
       "    <tr>\n",
       "      <th>27</th>\n",
       "      <td>2</td>\n",
       "      <td>Geographic Inaccessibility</td>\n",
       "      <td>0.0560</td>\n",
       "      <td>Telemedicine</td>\n",
       "      <td>beige</td>\n",
       "    </tr>\n",
       "    <tr>\n",
       "      <th>28</th>\n",
       "      <td>2</td>\n",
       "      <td>Mobile Based</td>\n",
       "      <td>0.0560</td>\n",
       "      <td>Telemedicine</td>\n",
       "      <td>beige</td>\n",
       "    </tr>\n",
       "    <tr>\n",
       "      <th>29</th>\n",
       "      <td>2</td>\n",
       "      <td>Digital Illiteracy</td>\n",
       "      <td>0.0560</td>\n",
       "      <td>Telemedicine</td>\n",
       "      <td>beige</td>\n",
       "    </tr>\n",
       "    <tr>\n",
       "      <th>30</th>\n",
       "      <td>2</td>\n",
       "      <td>Electronic Consultation</td>\n",
       "      <td>0.0560</td>\n",
       "      <td>Telemedicine</td>\n",
       "      <td>beige</td>\n",
       "    </tr>\n",
       "    <tr>\n",
       "      <th>32</th>\n",
       "      <td>2</td>\n",
       "      <td>Medical Informatics</td>\n",
       "      <td>0.0180</td>\n",
       "      <td>Computer Science</td>\n",
       "      <td>orange</td>\n",
       "    </tr>\n",
       "    <tr>\n",
       "      <th>33</th>\n",
       "      <td>2</td>\n",
       "      <td>Artifical Intelligence</td>\n",
       "      <td>0.0180</td>\n",
       "      <td>Computer Science</td>\n",
       "      <td>orange</td>\n",
       "    </tr>\n",
       "    <tr>\n",
       "      <th>34</th>\n",
       "      <td>2</td>\n",
       "      <td>Data Collection</td>\n",
       "      <td>0.0180</td>\n",
       "      <td>Computer Science</td>\n",
       "      <td>orange</td>\n",
       "    </tr>\n",
       "    <tr>\n",
       "      <th>35</th>\n",
       "      <td>2</td>\n",
       "      <td>EHRs</td>\n",
       "      <td>0.0180</td>\n",
       "      <td>Computer Science</td>\n",
       "      <td>orange</td>\n",
       "    </tr>\n",
       "    <tr>\n",
       "      <th>36</th>\n",
       "      <td>2</td>\n",
       "      <td>Computer Vision</td>\n",
       "      <td>0.0180</td>\n",
       "      <td>Computer Science</td>\n",
       "      <td>orange</td>\n",
       "    </tr>\n",
       "    <tr>\n",
       "      <th>37</th>\n",
       "      <td>2</td>\n",
       "      <td>Knowledge Management</td>\n",
       "      <td>0.0180</td>\n",
       "      <td>Computer Science</td>\n",
       "      <td>orange</td>\n",
       "    </tr>\n",
       "    <tr>\n",
       "      <th>38</th>\n",
       "      <td>2</td>\n",
       "      <td>Robotic Surgery</td>\n",
       "      <td>0.0180</td>\n",
       "      <td>Computer Science</td>\n",
       "      <td>orange</td>\n",
       "    </tr>\n",
       "  </tbody>\n",
       "</table>\n",
       "</div>"
      ],
      "text/plain": [
       "    Indent Level              Item and Group  Weight              Parent  \\\n",
       "1              2         Occupational Health  0.0240        Health Types   \n",
       "2              2               Sexual Health  0.0240        Health Types   \n",
       "3              2         Reproductive Health  0.0240        Health Types   \n",
       "4              2                     eHealth  0.0240        Health Types   \n",
       "5              2               Mental Health  0.0240        Health Types   \n",
       "6              2                Child Health  0.0240        Health Types   \n",
       "7              2              Refugee Health  0.0240        Health Types   \n",
       "8              2                  Telehealth  0.0240        Health Types   \n",
       "9              2               Public Health  0.0240        Health Types   \n",
       "11             2                  Medication  0.0275  Healthcare Systems   \n",
       "12             2        Healthcare Workforce  0.0275  Healthcare Systems   \n",
       "13             2           Healthcare Access  0.0275  Healthcare Systems   \n",
       "14             2           Clinical Research  0.0275  Healthcare Systems   \n",
       "15             2        Health Professionals  0.0275  Healthcare Systems   \n",
       "16             2     Clinical Implementation  0.0275  Healthcare Systems   \n",
       "17             2               Hospital Stay  0.0275  Healthcare Systems   \n",
       "18             2          Patient Experience  0.0275  Healthcare Systems   \n",
       "20             2                    Epidemic  0.0300      Global Threats   \n",
       "21             2                     Poverty  0.0300      Global Threats   \n",
       "22             2           Social Inequality  0.0300      Global Threats   \n",
       "23             2                        STDs  0.0300      Global Threats   \n",
       "24             2       Communicable Diseases  0.0300      Global Threats   \n",
       "26             2                    Low Cost  0.0560        Telemedicine   \n",
       "27             2  Geographic Inaccessibility  0.0560        Telemedicine   \n",
       "28             2                Mobile Based  0.0560        Telemedicine   \n",
       "29             2          Digital Illiteracy  0.0560        Telemedicine   \n",
       "30             2     Electronic Consultation  0.0560        Telemedicine   \n",
       "32             2         Medical Informatics  0.0180    Computer Science   \n",
       "33             2      Artifical Intelligence  0.0180    Computer Science   \n",
       "34             2             Data Collection  0.0180    Computer Science   \n",
       "35             2                        EHRs  0.0180    Computer Science   \n",
       "36             2             Computer Vision  0.0180    Computer Science   \n",
       "37             2        Knowledge Management  0.0180    Computer Science   \n",
       "38             2             Robotic Surgery  0.0180    Computer Science   \n",
       "\n",
       "       Colors  \n",
       "1        blue  \n",
       "2        blue  \n",
       "3        blue  \n",
       "4        blue  \n",
       "5        blue  \n",
       "6        blue  \n",
       "7        blue  \n",
       "8        blue  \n",
       "9        blue  \n",
       "11  turquoise  \n",
       "12  turquoise  \n",
       "13  turquoise  \n",
       "14  turquoise  \n",
       "15  turquoise  \n",
       "16  turquoise  \n",
       "17  turquoise  \n",
       "18  turquoise  \n",
       "20  indianred  \n",
       "21  indianred  \n",
       "22  indianred  \n",
       "23  indianred  \n",
       "24  indianred  \n",
       "26      beige  \n",
       "27      beige  \n",
       "28      beige  \n",
       "29      beige  \n",
       "30      beige  \n",
       "32     orange  \n",
       "33     orange  \n",
       "34     orange  \n",
       "35     orange  \n",
       "36     orange  \n",
       "37     orange  \n",
       "38     orange  "
      ]
     },
     "execution_count": 72,
     "metadata": {},
     "output_type": "execute_result"
    }
   ],
   "source": [
    "import pandas as pd\n",
    "\n",
    "df = pd.read_excel('../data/news-test.xlsx')\n",
    "df = df.dropna()\n",
    "df"
   ]
  },
  {
   "cell_type": "code",
   "execution_count": 110,
   "metadata": {},
   "outputs": [
    {
     "data": {
      "application/vnd.plotly.v1+json": {
       "config": {
        "plotlyServerURL": "https://plot.ly"
       },
       "data": [
        {
         "branchvalues": "total",
         "customdata": [
          [
           "Health Types"
          ],
          [
           "Global Threats"
          ],
          [
           "Global Threats"
          ],
          [
           "Computer Science"
          ],
          [
           "Health Types"
          ],
          [
           "Health Types"
          ],
          [
           "Health Types"
          ],
          [
           "Health Types"
          ],
          [
           "Healthcare Systems"
          ],
          [
           "Computer Science"
          ],
          [
           "Telemedicine"
          ],
          [
           "Computer Science"
          ],
          [
           "Health Types"
          ],
          [
           "Computer Science"
          ],
          [
           "Health Types"
          ],
          [
           "Healthcare Systems"
          ],
          [
           "Healthcare Systems"
          ],
          [
           "Global Threats"
          ],
          [
           "Telemedicine"
          ],
          [
           "Computer Science"
          ],
          [
           "Computer Science"
          ],
          [
           "Healthcare Systems"
          ],
          [
           "Telemedicine"
          ],
          [
           "Healthcare Systems"
          ],
          [
           "Computer Science"
          ],
          [
           "Telemedicine"
          ],
          [
           "Global Threats"
          ],
          [
           "Healthcare Systems"
          ],
          [
           "Healthcare Systems"
          ],
          [
           "Healthcare Systems"
          ],
          [
           "Global Threats"
          ],
          [
           "Health Types"
          ],
          [
           "Telemedicine"
          ],
          [
           "Health Types"
          ],
          [
           "Computer Science"
          ],
          [
           "Global Threats"
          ],
          [
           "Health Types"
          ],
          [
           "Healthcare Systems"
          ],
          [
           "Telemedicine"
          ]
         ],
         "domain": {
          "x": [
           0,
           1
          ],
          "y": [
           0,
           1
          ]
         },
         "hovertemplate": "labels=%{label}<br>Weight=%{value}<br>parent=%{parent}<br>id=%{id}<br>Parent=%{customdata[0]}<extra></extra>",
         "ids": [
          "Health Types/eHealth",
          "Global Threats/Social Inequality",
          "Global Threats/STDs",
          "Computer Science/Robotic Surgery",
          "Health Types/Reproductive Health",
          "Health Types/Refugee Health",
          "Health Types/Telehealth",
          "Health Types/Mental Health",
          "Healthcare Systems/Medication",
          "Computer Science/Medical Informatics",
          "Telemedicine/Low Cost",
          "Computer Science/Knowledge Management",
          "Health Types/      Sexual Health",
          "Computer Science/Artifical Intelligence",
          "Health Types/Child Health",
          "Healthcare Systems/Clinical Implementation",
          "Healthcare Systems/Clinical Research",
          "Global Threats/Communicable Diseases",
          "Telemedicine/Digital Illiteracy",
          "Computer Science/Data Collection",
          "Computer Science/Computer Vision",
          "Healthcare Systems/Health Professionals",
          "Telemedicine/Geographic Inaccessibility",
          "Healthcare Systems/Hospital Stay",
          "Computer Science/EHRs",
          "Telemedicine/Electronic Consultation",
          "Global Threats/Epidemic",
          "Healthcare Systems/Healthcare Workforce",
          "Healthcare Systems/Healthcare Access",
          "Healthcare Systems/Patient Experience",
          "Global Threats/Poverty",
          "Health Types/Public Health",
          "Telemedicine/Mobile Based",
          "Health Types/Occupational Health",
          "Computer Science",
          "Global Threats",
          "Health Types",
          "Healthcare Systems",
          "Telemedicine"
         ],
         "labels": [
          "eHealth",
          "Social Inequality",
          "STDs",
          "Robotic Surgery",
          "Reproductive Health",
          "Refugee Health",
          "Telehealth",
          "Mental Health",
          "Medication",
          "Medical Informatics",
          "Low Cost",
          "Knowledge Management",
          "      Sexual Health",
          "Artifical Intelligence",
          "Child Health",
          "Clinical Implementation",
          "Clinical Research",
          "Communicable Diseases",
          "Digital Illiteracy",
          "Data Collection",
          "Computer Vision",
          "Health Professionals",
          "Geographic Inaccessibility",
          "Hospital Stay",
          "EHRs",
          "Electronic Consultation",
          "Epidemic",
          "Healthcare Workforce",
          "Healthcare Access",
          "Patient Experience",
          "Poverty",
          "Public Health",
          "Mobile Based",
          "Occupational Health",
          "Computer Science",
          "Global Threats",
          "Health Types",
          "Healthcare Systems",
          "Telemedicine"
         ],
         "marker": {
          "colors": [
           "lightpink",
           "indianred",
           "indianred",
           "darkslateblue",
           "lightpink",
           "lightpink",
           "lightpink",
           "lightpink",
           "mediumturquoise",
           "darkslateblue",
           "khaki",
           "darkslateblue",
           "lightpink",
           "darkslateblue",
           "lightpink",
           "mediumturquoise",
           "mediumturquoise",
           "indianred",
           "khaki",
           "darkslateblue",
           "darkslateblue",
           "mediumturquoise",
           "khaki",
           "mediumturquoise",
           "darkslateblue",
           "khaki",
           "indianred",
           "mediumturquoise",
           "mediumturquoise",
           "mediumturquoise",
           "indianred",
           "lightpink",
           "khaki",
           "lightpink",
           "darkslateblue",
           "indianred",
           "lightpink",
           "mediumturquoise",
           "khaki"
          ]
         },
         "maxdepth": 2,
         "name": "",
         "parents": [
          "Health Types",
          "Global Threats",
          "Global Threats",
          "Computer Science",
          "Health Types",
          "Health Types",
          "Health Types",
          "Health Types",
          "Healthcare Systems",
          "Computer Science",
          "Telemedicine",
          "Computer Science",
          "Health Types",
          "Computer Science",
          "Health Types",
          "Healthcare Systems",
          "Healthcare Systems",
          "Global Threats",
          "Telemedicine",
          "Computer Science",
          "Computer Science",
          "Healthcare Systems",
          "Telemedicine",
          "Healthcare Systems",
          "Computer Science",
          "Telemedicine",
          "Global Threats",
          "Healthcare Systems",
          "Healthcare Systems",
          "Healthcare Systems",
          "Global Threats",
          "Health Types",
          "Telemedicine",
          "Health Types",
          "",
          "",
          "",
          "",
          ""
         ],
         "type": "sunburst",
         "values": [
          0.024,
          0.03,
          0.03,
          0.018,
          0.024,
          0.024,
          0.024,
          0.024,
          0.0275,
          0.018,
          0.056,
          0.018,
          0.024,
          0.018,
          0.024,
          0.0275,
          0.0275,
          0.03,
          0.056,
          0.018,
          0.018,
          0.0275,
          0.056,
          0.0275,
          0.018,
          0.056,
          0.03,
          0.0275,
          0.0275,
          0.0275,
          0.03,
          0.024,
          0.056,
          0.024,
          0.126,
          0.15,
          0.216,
          0.22,
          0.28
         ]
        }
       ],
       "layout": {
        "font": {
         "size": 10
        },
        "legend": {
         "tracegroupgap": 0
        },
        "margin": {
         "t": 60
        },
        "template": {
         "data": {
          "bar": [
           {
            "error_x": {
             "color": "#2a3f5f"
            },
            "error_y": {
             "color": "#2a3f5f"
            },
            "marker": {
             "line": {
              "color": "#E5ECF6",
              "width": 0.5
             },
             "pattern": {
              "fillmode": "overlay",
              "size": 10,
              "solidity": 0.2
             }
            },
            "type": "bar"
           }
          ],
          "barpolar": [
           {
            "marker": {
             "line": {
              "color": "#E5ECF6",
              "width": 0.5
             },
             "pattern": {
              "fillmode": "overlay",
              "size": 10,
              "solidity": 0.2
             }
            },
            "type": "barpolar"
           }
          ],
          "carpet": [
           {
            "aaxis": {
             "endlinecolor": "#2a3f5f",
             "gridcolor": "white",
             "linecolor": "white",
             "minorgridcolor": "white",
             "startlinecolor": "#2a3f5f"
            },
            "baxis": {
             "endlinecolor": "#2a3f5f",
             "gridcolor": "white",
             "linecolor": "white",
             "minorgridcolor": "white",
             "startlinecolor": "#2a3f5f"
            },
            "type": "carpet"
           }
          ],
          "choropleth": [
           {
            "colorbar": {
             "outlinewidth": 0,
             "ticks": ""
            },
            "type": "choropleth"
           }
          ],
          "contour": [
           {
            "colorbar": {
             "outlinewidth": 0,
             "ticks": ""
            },
            "colorscale": [
             [
              0,
              "#0d0887"
             ],
             [
              0.1111111111111111,
              "#46039f"
             ],
             [
              0.2222222222222222,
              "#7201a8"
             ],
             [
              0.3333333333333333,
              "#9c179e"
             ],
             [
              0.4444444444444444,
              "#bd3786"
             ],
             [
              0.5555555555555556,
              "#d8576b"
             ],
             [
              0.6666666666666666,
              "#ed7953"
             ],
             [
              0.7777777777777778,
              "#fb9f3a"
             ],
             [
              0.8888888888888888,
              "#fdca26"
             ],
             [
              1,
              "#f0f921"
             ]
            ],
            "type": "contour"
           }
          ],
          "contourcarpet": [
           {
            "colorbar": {
             "outlinewidth": 0,
             "ticks": ""
            },
            "type": "contourcarpet"
           }
          ],
          "heatmap": [
           {
            "colorbar": {
             "outlinewidth": 0,
             "ticks": ""
            },
            "colorscale": [
             [
              0,
              "#0d0887"
             ],
             [
              0.1111111111111111,
              "#46039f"
             ],
             [
              0.2222222222222222,
              "#7201a8"
             ],
             [
              0.3333333333333333,
              "#9c179e"
             ],
             [
              0.4444444444444444,
              "#bd3786"
             ],
             [
              0.5555555555555556,
              "#d8576b"
             ],
             [
              0.6666666666666666,
              "#ed7953"
             ],
             [
              0.7777777777777778,
              "#fb9f3a"
             ],
             [
              0.8888888888888888,
              "#fdca26"
             ],
             [
              1,
              "#f0f921"
             ]
            ],
            "type": "heatmap"
           }
          ],
          "heatmapgl": [
           {
            "colorbar": {
             "outlinewidth": 0,
             "ticks": ""
            },
            "colorscale": [
             [
              0,
              "#0d0887"
             ],
             [
              0.1111111111111111,
              "#46039f"
             ],
             [
              0.2222222222222222,
              "#7201a8"
             ],
             [
              0.3333333333333333,
              "#9c179e"
             ],
             [
              0.4444444444444444,
              "#bd3786"
             ],
             [
              0.5555555555555556,
              "#d8576b"
             ],
             [
              0.6666666666666666,
              "#ed7953"
             ],
             [
              0.7777777777777778,
              "#fb9f3a"
             ],
             [
              0.8888888888888888,
              "#fdca26"
             ],
             [
              1,
              "#f0f921"
             ]
            ],
            "type": "heatmapgl"
           }
          ],
          "histogram": [
           {
            "marker": {
             "pattern": {
              "fillmode": "overlay",
              "size": 10,
              "solidity": 0.2
             }
            },
            "type": "histogram"
           }
          ],
          "histogram2d": [
           {
            "colorbar": {
             "outlinewidth": 0,
             "ticks": ""
            },
            "colorscale": [
             [
              0,
              "#0d0887"
             ],
             [
              0.1111111111111111,
              "#46039f"
             ],
             [
              0.2222222222222222,
              "#7201a8"
             ],
             [
              0.3333333333333333,
              "#9c179e"
             ],
             [
              0.4444444444444444,
              "#bd3786"
             ],
             [
              0.5555555555555556,
              "#d8576b"
             ],
             [
              0.6666666666666666,
              "#ed7953"
             ],
             [
              0.7777777777777778,
              "#fb9f3a"
             ],
             [
              0.8888888888888888,
              "#fdca26"
             ],
             [
              1,
              "#f0f921"
             ]
            ],
            "type": "histogram2d"
           }
          ],
          "histogram2dcontour": [
           {
            "colorbar": {
             "outlinewidth": 0,
             "ticks": ""
            },
            "colorscale": [
             [
              0,
              "#0d0887"
             ],
             [
              0.1111111111111111,
              "#46039f"
             ],
             [
              0.2222222222222222,
              "#7201a8"
             ],
             [
              0.3333333333333333,
              "#9c179e"
             ],
             [
              0.4444444444444444,
              "#bd3786"
             ],
             [
              0.5555555555555556,
              "#d8576b"
             ],
             [
              0.6666666666666666,
              "#ed7953"
             ],
             [
              0.7777777777777778,
              "#fb9f3a"
             ],
             [
              0.8888888888888888,
              "#fdca26"
             ],
             [
              1,
              "#f0f921"
             ]
            ],
            "type": "histogram2dcontour"
           }
          ],
          "mesh3d": [
           {
            "colorbar": {
             "outlinewidth": 0,
             "ticks": ""
            },
            "type": "mesh3d"
           }
          ],
          "parcoords": [
           {
            "line": {
             "colorbar": {
              "outlinewidth": 0,
              "ticks": ""
             }
            },
            "type": "parcoords"
           }
          ],
          "pie": [
           {
            "automargin": true,
            "type": "pie"
           }
          ],
          "scatter": [
           {
            "fillpattern": {
             "fillmode": "overlay",
             "size": 10,
             "solidity": 0.2
            },
            "type": "scatter"
           }
          ],
          "scatter3d": [
           {
            "line": {
             "colorbar": {
              "outlinewidth": 0,
              "ticks": ""
             }
            },
            "marker": {
             "colorbar": {
              "outlinewidth": 0,
              "ticks": ""
             }
            },
            "type": "scatter3d"
           }
          ],
          "scattercarpet": [
           {
            "marker": {
             "colorbar": {
              "outlinewidth": 0,
              "ticks": ""
             }
            },
            "type": "scattercarpet"
           }
          ],
          "scattergeo": [
           {
            "marker": {
             "colorbar": {
              "outlinewidth": 0,
              "ticks": ""
             }
            },
            "type": "scattergeo"
           }
          ],
          "scattergl": [
           {
            "marker": {
             "colorbar": {
              "outlinewidth": 0,
              "ticks": ""
             }
            },
            "type": "scattergl"
           }
          ],
          "scattermapbox": [
           {
            "marker": {
             "colorbar": {
              "outlinewidth": 0,
              "ticks": ""
             }
            },
            "type": "scattermapbox"
           }
          ],
          "scatterpolar": [
           {
            "marker": {
             "colorbar": {
              "outlinewidth": 0,
              "ticks": ""
             }
            },
            "type": "scatterpolar"
           }
          ],
          "scatterpolargl": [
           {
            "marker": {
             "colorbar": {
              "outlinewidth": 0,
              "ticks": ""
             }
            },
            "type": "scatterpolargl"
           }
          ],
          "scatterternary": [
           {
            "marker": {
             "colorbar": {
              "outlinewidth": 0,
              "ticks": ""
             }
            },
            "type": "scatterternary"
           }
          ],
          "surface": [
           {
            "colorbar": {
             "outlinewidth": 0,
             "ticks": ""
            },
            "colorscale": [
             [
              0,
              "#0d0887"
             ],
             [
              0.1111111111111111,
              "#46039f"
             ],
             [
              0.2222222222222222,
              "#7201a8"
             ],
             [
              0.3333333333333333,
              "#9c179e"
             ],
             [
              0.4444444444444444,
              "#bd3786"
             ],
             [
              0.5555555555555556,
              "#d8576b"
             ],
             [
              0.6666666666666666,
              "#ed7953"
             ],
             [
              0.7777777777777778,
              "#fb9f3a"
             ],
             [
              0.8888888888888888,
              "#fdca26"
             ],
             [
              1,
              "#f0f921"
             ]
            ],
            "type": "surface"
           }
          ],
          "table": [
           {
            "cells": {
             "fill": {
              "color": "#EBF0F8"
             },
             "line": {
              "color": "white"
             }
            },
            "header": {
             "fill": {
              "color": "#C8D4E3"
             },
             "line": {
              "color": "white"
             }
            },
            "type": "table"
           }
          ]
         },
         "layout": {
          "annotationdefaults": {
           "arrowcolor": "#2a3f5f",
           "arrowhead": 0,
           "arrowwidth": 1
          },
          "autotypenumbers": "strict",
          "coloraxis": {
           "colorbar": {
            "outlinewidth": 0,
            "ticks": ""
           }
          },
          "colorscale": {
           "diverging": [
            [
             0,
             "#8e0152"
            ],
            [
             0.1,
             "#c51b7d"
            ],
            [
             0.2,
             "#de77ae"
            ],
            [
             0.3,
             "#f1b6da"
            ],
            [
             0.4,
             "#fde0ef"
            ],
            [
             0.5,
             "#f7f7f7"
            ],
            [
             0.6,
             "#e6f5d0"
            ],
            [
             0.7,
             "#b8e186"
            ],
            [
             0.8,
             "#7fbc41"
            ],
            [
             0.9,
             "#4d9221"
            ],
            [
             1,
             "#276419"
            ]
           ],
           "sequential": [
            [
             0,
             "#0d0887"
            ],
            [
             0.1111111111111111,
             "#46039f"
            ],
            [
             0.2222222222222222,
             "#7201a8"
            ],
            [
             0.3333333333333333,
             "#9c179e"
            ],
            [
             0.4444444444444444,
             "#bd3786"
            ],
            [
             0.5555555555555556,
             "#d8576b"
            ],
            [
             0.6666666666666666,
             "#ed7953"
            ],
            [
             0.7777777777777778,
             "#fb9f3a"
            ],
            [
             0.8888888888888888,
             "#fdca26"
            ],
            [
             1,
             "#f0f921"
            ]
           ],
           "sequentialminus": [
            [
             0,
             "#0d0887"
            ],
            [
             0.1111111111111111,
             "#46039f"
            ],
            [
             0.2222222222222222,
             "#7201a8"
            ],
            [
             0.3333333333333333,
             "#9c179e"
            ],
            [
             0.4444444444444444,
             "#bd3786"
            ],
            [
             0.5555555555555556,
             "#d8576b"
            ],
            [
             0.6666666666666666,
             "#ed7953"
            ],
            [
             0.7777777777777778,
             "#fb9f3a"
            ],
            [
             0.8888888888888888,
             "#fdca26"
            ],
            [
             1,
             "#f0f921"
            ]
           ]
          },
          "colorway": [
           "#636efa",
           "#EF553B",
           "#00cc96",
           "#ab63fa",
           "#FFA15A",
           "#19d3f3",
           "#FF6692",
           "#B6E880",
           "#FF97FF",
           "#FECB52"
          ],
          "font": {
           "color": "#2a3f5f"
          },
          "geo": {
           "bgcolor": "white",
           "lakecolor": "white",
           "landcolor": "#E5ECF6",
           "showlakes": true,
           "showland": true,
           "subunitcolor": "white"
          },
          "hoverlabel": {
           "align": "left"
          },
          "hovermode": "closest",
          "mapbox": {
           "style": "light"
          },
          "paper_bgcolor": "white",
          "plot_bgcolor": "#E5ECF6",
          "polar": {
           "angularaxis": {
            "gridcolor": "white",
            "linecolor": "white",
            "ticks": ""
           },
           "bgcolor": "#E5ECF6",
           "radialaxis": {
            "gridcolor": "white",
            "linecolor": "white",
            "ticks": ""
           }
          },
          "scene": {
           "xaxis": {
            "backgroundcolor": "#E5ECF6",
            "gridcolor": "white",
            "gridwidth": 2,
            "linecolor": "white",
            "showbackground": true,
            "ticks": "",
            "zerolinecolor": "white"
           },
           "yaxis": {
            "backgroundcolor": "#E5ECF6",
            "gridcolor": "white",
            "gridwidth": 2,
            "linecolor": "white",
            "showbackground": true,
            "ticks": "",
            "zerolinecolor": "white"
           },
           "zaxis": {
            "backgroundcolor": "#E5ECF6",
            "gridcolor": "white",
            "gridwidth": 2,
            "linecolor": "white",
            "showbackground": true,
            "ticks": "",
            "zerolinecolor": "white"
           }
          },
          "shapedefaults": {
           "line": {
            "color": "#2a3f5f"
           }
          },
          "ternary": {
           "aaxis": {
            "gridcolor": "white",
            "linecolor": "white",
            "ticks": ""
           },
           "baxis": {
            "gridcolor": "white",
            "linecolor": "white",
            "ticks": ""
           },
           "bgcolor": "#E5ECF6",
           "caxis": {
            "gridcolor": "white",
            "linecolor": "white",
            "ticks": ""
           }
          },
          "title": {
           "x": 0.05
          },
          "xaxis": {
           "automargin": true,
           "gridcolor": "white",
           "linecolor": "white",
           "ticks": "",
           "title": {
            "standoff": 15
           },
           "zerolinecolor": "white",
           "zerolinewidth": 2
          },
          "yaxis": {
           "automargin": true,
           "gridcolor": "white",
           "linecolor": "white",
           "ticks": "",
           "title": {
            "standoff": 15
           },
           "zerolinecolor": "white",
           "zerolinewidth": 2
          }
         }
        },
        "title": {
         "text": "A sub-sample of the filtered tags",
         "x": 0.5,
         "xanchor": "center",
         "y": 0.96,
         "yanchor": "top"
        }
       }
      }
     },
     "metadata": {},
     "output_type": "display_data"
    }
   ],
   "source": [
    "import plotly.express as px\n",
    "\n",
    "color_map = {\n",
    "    'Health Types': 'lightpink',          \n",
    "    'Healthcare Systems': 'mediumturquoise',  \n",
    "    'Telemedicine': 'khaki',      \n",
    "    'Global Threats': 'indianred',       \n",
    "    'Computer Science': 'darkslateblue'    \n",
    "}\n",
    "\n",
    "fig2 = px.sunburst(df, path = ['Parent', 'Item and Group'], values = 'Weight', color = \"Parent\", color_discrete_map=color_map, maxdepth = 2)\n",
    "fig2.update_layout(\n",
    "        title={\n",
    "        'text': \"A sub-sample of the filtered tags\",\n",
    "        'x': 0.5,\n",
    "        'xanchor': 'center',\n",
    "        'y': 0.96,\n",
    "        'yanchor': 'top'\n",
    "    },\n",
    "    # title_text=\"A sub-sample of the filtered tags\", \n",
    "    font_size = 10)\n",
    "fig2.show()"
   ]
  },
  {
   "cell_type": "code",
   "execution_count": 3,
   "metadata": {},
   "outputs": [
    {
     "data": {
      "image/png": "[encoded data removed]",
      "text/plain": [
       "<Figure size 864x576 with 1 Axes>"
      ]
     },
     "metadata": {},
     "output_type": "display_data"
    }
   ],
   "source": [
    "import matplotlib.pyplot as plt\n",
    "import seaborn as sns\n",
    "\n",
    "sns.set()\n",
    "\n",
    "x = [6032, 15322, 76219, 16545452]\n",
    "org = [24.19, 16.13, 0, 1.69]\n",
    "recall = [78.22, 69.13, 41.49, 23.76]\n",
    "\n",
    "annotations = ['Implementome', '100 Publications', '100 Books', 'BioWordVec']\n",
    "\n",
    "plt.figure(figsize = (12, 8))\n",
    "plt.title('Corpora Comparison - Tag Discovery - Unfound Tags')\n",
    "plt.scatter(x, org)\n",
    "plt.scatter(x, recall, color = 'mediumvioletred')\n",
    "plt.plot(x, org, linewidth = 4, alpha = 0.6, label = 'Unigram')\n",
    "plt.plot(x, recall, linewidth = 4, alpha = 0.6, label = 'Bigram', color = 'deeppink')\n",
    "plt.legend(fontsize = 20)\n",
    "plt.ylabel('% of Unfound Tags')\n",
    "plt.xlabel('Vocabulary Size V')\n",
    "plt.ylim(-5, 100)\n",
    "\n",
    "for i, txt in enumerate(annotations):\n",
    "    plt.annotate(txt, (x[i], org[i]), xytext=(10, 10), textcoords='offset points', fontsize=15)\n",
    "    plt.annotate(txt, (x[i], recall[i]), xytext=(10, 10), textcoords='offset points', fontsize=15)\n",
    "\n",
    "plt.show()"
   ]
  },
  {
   "cell_type": "code",
   "execution_count": 26,
   "metadata": {},
   "outputs": [
    {
     "data": {
      "image/png": "[encoded data removed]",
      "text/plain": [
       "<Figure size 864x576 with 1 Axes>"
      ]
     },
     "metadata": {},
     "output_type": "display_data"
    }
   ],
   "source": [
    "sns.set()\n",
    "\n",
    "times = [2, 36.7, 34, 3, 24.3]\n",
    "legend = ['Pre-Processing', 'PDF Extraction', 'NER', 'Results Filtering', 'MeSH Querying']\n",
    "colors = plt.cm.Set3.colors\n",
    "\n",
    "# annotations = ['Implementome', '100 Publications', '100 Books', 'BioWordVec']\n",
    "\n",
    "plt.figure(figsize = (12, 8))\n",
    "plt.title('Document Processing - Runtime Distribution')\n",
    "plt.pie(times, labels=legend, autopct='%1.1f%%', colors = colors)\n",
    "\n",
    "# for i, txt in enumerate(annotations):\n",
    "#     plt.annotate(txt, (x[i], org[i]), xytext=(10, 10), textcoords='offset points', fontsize=10)\n",
    "#     plt.annotate(txt, (x[i], recall[i]), xytext=(10, 10), textcoords='offset points', fontsize=10)\n",
    "\n",
    "plt.show()"
   ]
  },
  {
   "cell_type": "code",
   "execution_count": 2,
   "metadata": {},
   "outputs": [
    {
     "data": {
      "image/png": "[encoded data removed]",
      "text/plain": [
       "<Figure size 1440x576 with 2 Axes>"
      ]
     },
     "metadata": {},
     "output_type": "display_data"
    }
   ],
   "source": [
    "x = [5.1007, 5.8665, 5.9935, 81.7565]\n",
    "x_size = [12, 40, 560, 438]\n",
    "org = [0.69, 0.72, 0.72, 0.81]\n",
    "gpe = [0.74, 0.79, 0.79, 0.80]\n",
    "recall = [0.66, 0.68, 0.68, 0.80]\n",
    "f_score = [0.65, 0.69, 0.69, 0.80]\n",
    "\n",
    "annotations = ['en_core_web_sm', 'en_core_web_md', 'en_core_web_lg', 'en_core_web_trf']\n",
    "\n",
    "\n",
    "fig, axs = plt.subplots(nrows = 1, ncols = 2, figsize=(20, 8))\n",
    "\n",
    "axs[0].scatter(x, f_score, color = 'mediumvioletred')\n",
    "axs[0].plot(x, f_score, linewidth = 3, alpha = 0.2, color = 'deeppink')\n",
    "axs[0].set_title('Performance with relation to Time')\n",
    "axs[0].set_xlabel('Total Evaluation Runtime (seconds)')\n",
    "axs[0].set_ylabel(r'Average $micro_F$-Score')\n",
    "axs[0].set_ylim(0.5, 1.0)\n",
    "\n",
    "axs[1].scatter(x_size, f_score, color = 'mediumvioletred')\n",
    "axs[1].plot(x_size, f_score, linewidth = 3, alpha = 0.2, color = 'deeppink')\n",
    "axs[1].set_title('Performance with relation to Model Size')\n",
    "axs[1].set_xlabel('Model Size (MB)')\n",
    "axs[1].set_ylabel(r'Average $micro_F$-Score')\n",
    "axs[1].set_ylim(0.5, 1.0)\n",
    "\n",
    "\n",
    "for i, txt in enumerate(annotations):\n",
    "    # plt.annotate(txt, (x[i], org[i]), xytext=(10, 10), textcoords='offset points', fontsize=10)\n",
    "    if txt == \"en_core_web_lg\":\n",
    "        axs[0].annotate(txt, (x[i] + 4, f_score[i] + 0.006), xytext=(10, 10), textcoords='offset points', fontsize=10)\n",
    "    elif txt == \"en_core_web_trf\":\n",
    "        axs[0].annotate(txt, (x[i] - 10, f_score[i]), xytext=(10, 10), textcoords='offset points', fontsize=10)\n",
    "    else:\n",
    "        axs[0].annotate(txt, (x[i], f_score[i]), xytext=(10, 10), textcoords='offset points', fontsize=10)\n",
    "\n",
    "for i, txt in enumerate(annotations):\n",
    "    axs[1].annotate(txt, (x_size[i], f_score[i]), xytext=(10, 10), textcoords='offset points', fontsize=10)\n",
    "\n",
    "\n",
    "plt.show()"
   ]
  },
  {
   "cell_type": "code",
   "execution_count": 9,
   "metadata": {},
   "outputs": [
    {
     "data": {
      "image/png": "[encoded data removed]",
      "text/plain": [
       "<Figure size 1296x576 with 1 Axes>"
      ]
     },
     "metadata": {},
     "output_type": "display_data"
    }
   ],
   "source": [
    "x_things = ['PRODUCT', 'PERSON', 'LAW', 'GPE', 'ORG']\n",
    "x = [208, 460, 556, 913, 2912]\n",
    "y_accuracy_finetuned_md = [0.12, 0.65, 0.24, 0.74, 0.69]\n",
    "y_accuracy_md = [0.08, 0.76, 0.28, 0.79, 0.72]\n",
    "y_accuracy_lg = [0.10, 0.75, 0.28, 0.79, 0.72]\n",
    "y_accuracy_finetuned_lg = [0.42, 0.85, 0.77, 0.80, 0.81]\n",
    "\n",
    "annotations = ['PRODUCT', 'PERSON', 'LAW', 'GPE', 'ORG']\n",
    "\n",
    "plt.figure(figsize = (18, 8))\n",
    "plt.title('NER Model Comparison - Performance per Label')\n",
    "\n",
    "plt.scatter(x, y_accuracy_finetuned_md)\n",
    "plt.scatter(x, y_accuracy_md, color = 'mediumvioletred')\n",
    "plt.scatter(x, y_accuracy_lg, color = 'maroon')\n",
    "plt.scatter(x, y_accuracy_finetuned_lg, color = 'teal')\n",
    "\n",
    "plt.plot(x, y_accuracy_finetuned_md, linewidth = 4, alpha = 0.3, label = 'en_core_web_sm')\n",
    "plt.plot(x, y_accuracy_md, linewidth = 4, alpha = 0.3, label = 'en_core_web_md', color = 'deeppink')\n",
    "plt.plot(x, y_accuracy_lg, linewidth = 4, alpha = 0.3, label = 'en_core_web_lg', color = 'maroon')\n",
    "plt.plot(x, y_accuracy_finetuned_lg, linewidth = 4, alpha = 0.3, label = 'en_core_web_trf', color = 'teal')\n",
    "\n",
    "plt.legend(fontsize = 15, loc = 'lower right')\n",
    "plt.ylabel(r'Average $micro_F$-Score')\n",
    "plt.xlabel('Entity Labels (Number of Instances on a Token Level)')\n",
    "plt.ylim(0, 1.0)\n",
    "plt.xticks(x, [f'{label} \\n({value})' for label, value in zip(x_things, x)], rotation=25, fontsize = 12)\n",
    "\n",
    "# for i, txt in enumerate(annotations):\n",
    "#     plt.annotate(txt, (x[i], y_accuracy_sm[i]), xytext=(10, 10), textcoords='offset points', fontsize=10)\n",
    "#     plt.annotate(txt, (x[i], y_accuracy_md[i]), xytext=(10, 10), textcoords='offset points', fontsize=10)\n",
    "\n",
    "plt.show()"
   ]
  },
  {
   "cell_type": "code",
   "execution_count": 8,
   "metadata": {},
   "outputs": [
    {
     "data": {
      "image/png": "[encoded data removed]",
      "text/plain": [
       "<Figure size 1296x576 with 1 Axes>"
      ]
     },
     "metadata": {},
     "output_type": "display_data"
    }
   ],
   "source": [
    "x_things = ['PRODUCT', 'PERSON', 'LAW', 'GPE', 'ORG']\n",
    "x = [208, 460, 556, 913, 2912]\n",
    "\n",
    "y_accuracy_md = [0.08, 0.76, 0.28, 0.79, 0.72]\n",
    "y_accuracy_finetuned_md = [0.83, 0.88, 0.87, 0.96, 0.92]\n",
    "\n",
    "y_accuracy_lg = [0.10, 0.75, 0.28, 0.79, 0.72]\n",
    "y_accuracy_finetuned_lg = [0.85, 0.88, 0.84, 0.95, 0.92]\n",
    "\n",
    "annotations = ['PRODUCT', 'PERSON', 'LAW', 'GPE', 'ORG']\n",
    "\n",
    "plt.figure(figsize = (18, 8))\n",
    "plt.title('NER Model Comparison - Performance per Label')\n",
    "\n",
    "plt.scatter(x, y_accuracy_md, color = 'mediumvioletred')\n",
    "plt.scatter(x, y_accuracy_lg, color = 'maroon')\n",
    "plt.scatter(x, y_accuracy_finetuned_md)\n",
    "plt.scatter(x, y_accuracy_finetuned_lg, color = 'teal')\n",
    "\n",
    "plt.plot(x, y_accuracy_md, linewidth = 4, alpha = 0.3, label = 'en_core_web_md', color = 'deeppink')\n",
    "plt.plot(x, y_accuracy_lg, linewidth = 4, alpha = 0.3, label = 'en_core_web_lg', color = 'maroon')\n",
    "plt.plot(x, y_accuracy_finetuned_md, linewidth = 4, alpha = 0.3, label = 'Fine-Tuned en_core_web_md')\n",
    "plt.plot(x, y_accuracy_finetuned_lg, linewidth = 4, alpha = 0.3, label = 'Fine-Tuned en_core_web_lg', color = 'teal')\n",
    "\n",
    "plt.legend()\n",
    "plt.ylabel(r'Average $micro_F$-Score')\n",
    "plt.xlabel('Entity Labels (Number of Instances on a Token Level)')\n",
    "plt.ylim(0, 1.0)\n",
    "plt.xticks(x, [f'{label} \\n({value})' for label, value in zip(x_things, x)], rotation=25)\n",
    "\n",
    "# for i, txt in enumerate(annotations):\n",
    "#     plt.annotate(txt, (x[i], y_accuracy_sm[i]), xytext=(10, 10), textcoords='offset points', fontsize=10)\n",
    "#     plt.annotate(txt, (x[i], y_accuracy_md[i]), xytext=(10, 10), textcoords='offset points', fontsize=10)\n",
    "\n",
    "plt.show()"
   ]
  }
 ],
 "metadata": {
  "kernelspec": {
   "display_name": "Python 3",
   "language": "python",
   "name": "python3"
  },
  "language_info": {
   "codemirror_mode": {
    "name": "ipython",
    "version": 3
   },
   "file_extension": ".py",
   "mimetype": "text/x-python",
   "name": "python",
   "nbconvert_exporter": "python",
   "pygments_lexer": "ipython3",
   "version": "3.9.7"
  },
  "orig_nbformat": 4
 },
 "nbformat": 4,
 "nbformat_minor": 2
}
