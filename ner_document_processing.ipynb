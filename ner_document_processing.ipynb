{
 "cells": [
  {
   "attachments": {},
   "cell_type": "markdown",
   "metadata": {},
   "source": [
    "#### Single Document NER"
   ]
  },
  {
   "attachments": {},
   "cell_type": "markdown",
   "metadata": {},
   "source": [
    "We expect as input a PDF file which will be converted to a raw text format using *pdfminer*, the text extraction tool selected for this task given that it extracts the most information when compared to others such as *Py2PDF* (used in the word2vec part of the project)."
   ]
  },
  {
   "cell_type": "code",
   "execution_count": 86,
   "metadata": {},
   "outputs": [],
   "source": [
    "from pdfminer.layout import LTTextContainer\n",
    "from pdfminer.high_level import extract_text, extract_pages\n",
    "\n",
    "def extract_text_from_pdf(pdf_file):\n",
    "    page_counter = 0\n",
    "    text_as_list = []\n",
    "    text_as_str = ''\n",
    "\n",
    "    for page_layout in extract_pages(pdf_file):\n",
    "        page_counter += 1\n",
    "        for element in page_layout:\n",
    "            if isinstance(element, LTTextContainer):\n",
    "                extracted_text = element.get_text()\n",
    "                text_as_list.append(extracted_text)\n",
    "                text_as_str += '' + extracted_text\n",
    "    print('Text from PDF File ({} pages) extracted successfully.'.format(page_counter)) \n",
    "    return text_as_str, text_as_list\n",
    "\n",
    "def try_finding_keywords(document_text_str):\n",
    "    potential_keywords_index = document_text_str.find('Keywords')\n",
    "    final_keywords = []\n",
    "\n",
    "    if potential_keywords_index != -1:\n",
    "        found_keywords = []\n",
    "        for i in range(potential_keywords_index, len(document_text_str)):\n",
    "            if document_text_str[i] != '\\n':\n",
    "                found_keywords.append(document_text_str[i])\n",
    "            else:\n",
    "                break     \n",
    "                \n",
    "        keyword = ''\n",
    "        for i in range(len(found_keywords)):\n",
    "            if found_keywords[i].isalpha():\n",
    "                keyword += found_keywords[i]\n",
    "            elif (keyword != ''):\n",
    "                final_keywords.append(keyword)\n",
    "                keyword = ''    \n",
    "    \n",
    "    return final_keywords"
   ]
  },
  {
   "attachments": {},
   "cell_type": "markdown",
   "metadata": {},
   "source": [
    "Loop to treat all publications in our testing set."
   ]
  },
  {
   "cell_type": "code",
   "execution_count": 94,
   "metadata": {},
   "outputs": [
    {
     "name": "stdout",
     "output_type": "stream",
     "text": [
      "For Publication: ai_and_surgical_decision_making\n",
      "Text from PDF File (11 pages) extracted successfully.\n",
      "Potential References Index: -1\n",
      "Potential References Index: 50476\n",
      "Potential Extracted Keywords: None Found\n",
      "\n",
      "For Publication: brachytherapy_lmic\n",
      "Text from PDF File (10 pages) extracted successfully.\n",
      "Potential References Index: -1\n",
      "Potential References Index: 38957\n",
      "Potential Extracted Keywords: None Found\n",
      "\n",
      "For Publication: child_obesity_switzerland\n",
      "Text from PDF File (11 pages) extracted successfully.\n",
      "Potential References Index: 36152\n",
      "Potential References Index: -1\n",
      "Potential Extracted Keywords: ['Overweight', 'Obesity', 'Migration', 'Children']\n",
      "\n",
      "For Publication: haemophilia_senegal\n",
      "Text from PDF File (7 pages) extracted successfully.\n",
      "Potential References Index: -1\n",
      "Potential References Index: -1\n",
      "Potential Extracted Keywords: None Found\n",
      "\n",
      "For Publication: humanitarian_crises_volunteerism\n",
      "Text from PDF File (6 pages) extracted successfully.\n",
      "Potential References Index: 23851\n",
      "Potential References Index: -1\n",
      "Potential Extracted Keywords: ['Volunteerism', 'Humanitarian', 'Disaster', 'Safety', 'Crisis']\n",
      "\n",
      "For Publication: hypertension_global_epidemiology\n",
      "Text from PDF File (15 pages) extracted successfully.\n",
      "Potential References Index: -1\n",
      "Potential References Index: -1\n",
      "Potential Extracted Keywords: None Found\n",
      "\n",
      "For Publication: hypertension_india\n",
      "Text from PDF File (13 pages) extracted successfully.\n",
      "Potential References Index: 41564\n",
      "Potential References Index: -1\n",
      "Potential Extracted Keywords: None Found\n",
      "\n"
     ]
    }
   ],
   "source": [
    "import os\n",
    "\n",
    "pdfs_directory = 'data/implementome_publications/test_miner/'\n",
    "#### Load the paths of the input PDF file and the output empty text notebook\n",
    "for file in os.listdir(pdfs_directory):\n",
    "    filename = os.fsdecode(file)\n",
    "    # print('what are you', filename)\n",
    "    if filename.endswith('.pdf'):\n",
    "        print('For Publication: {}'.format(filename[:-4]))\n",
    "        pdf_file = open(pdfs_directory + filename, 'rb')\n",
    "        doc_as_str, doc_as_list = extract_text_from_pdf(pdf_file)\n",
    "        print('Potential References Index: {}'.format(doc_as_str.find('References')))\n",
    "        print('Potential References Index: {}'.format(doc_as_str.find('REFERENCES')))\n",
    "        doc_keywords = try_finding_keywords(doc_as_str)\n",
    "        print('Potential Extracted Keywords: {}'.format(doc_keywords[1:] if doc_keywords != [] else 'None Found'))\n",
    "        print('')\n",
    "\n",
    "\n",
    "# pdf_file = open('data/implementome_publications/test_miner/child_obesity_switzerland.pdf', 'rb')\n",
    "# empty_text_file = open('data/implementome_publications/test_miner/test_text.txt', \"w\", encoding=\"utf-8\")\n",
    "\n",
    "# #### The extract_text() function is used to extract any text found in the pdf file\n",
    "# #### Text in tables, headers, banners and other graphical representations is also extracted\n",
    "# publications_text = extract_text(pdf_file)\n",
    "# print('Text from PDF File extracted successfully.')\n",
    "# # empty_text_file.write(publications_text)"
   ]
  },
  {
   "cell_type": "code",
   "execution_count": 88,
   "metadata": {},
   "outputs": [
    {
     "name": "stdout",
     "output_type": "stream",
     "text": [
      "Text from PDF File (11 pages) extracted successfully.\n"
     ]
    }
   ],
   "source": [
    "single_pdf = open('data/implementome_publications/test_miner/child_obesity_switzerland.pdf', 'rb')\n",
    "doc_as_str, doc_as_list = extract_text_from_pdf(single_pdf)"
   ]
  },
  {
   "cell_type": "code",
   "execution_count": 89,
   "metadata": {},
   "outputs": [
    {
     "data": {
      "text/plain": [
       "36152"
      ]
     },
     "execution_count": 89,
     "metadata": {},
     "output_type": "execute_result"
    }
   ],
   "source": [
    "doc_as_str.find('References')"
   ]
  },
  {
   "cell_type": "code",
   "execution_count": 90,
   "metadata": {},
   "outputs": [
    {
     "data": {
      "text/plain": [
       "'References\\n1.\\nGarrido-Miguel M, Cavero-Redondo I, Alvarez-Bueno C, Rodriguez-Artalejo F,\\nMoreno LA, Ruiz JR, et al. Prevalence and trends of overweight and obesity\\nin European children from 1999 to 2016: a systematic review and meta-\\nanalysis. JAMA Pediatr. 2019;173:e192430.\\n2.\\n3.\\n4.\\n5.\\n6.\\n7.\\n8.\\n9.\\nHerter-Aeberli I, Osuna E, Sarnovska Z, Zimmermann MB. Significant\\ndecrease in childhood obesity and waist circumference over 15 years in\\nSwitzerland: a repeated cross-sectional study. Nutrients. 2019;11:1922.\\nEiholzer U, Fritz C, Katschnig C, Dinkelmann R, Stephan A. Contemporary\\nheight, weight and body mass index references for children aged 0 to\\nadulthood in Switzerland compared to the Prader reference, WHO and\\nneighbouring countries. Ann Hum Biol. 2019;46:437–47.\\nPrader A, Largo RH, Molinari L, Issler C. Physical growth of Swiss children\\nfrom birth to 20 years of age. First Zurich longitudinal study of growth and\\ndevelopment. Helv Paediatr Acta Suppl. 1989;52:1–125.\\nPanczak R, Galobardes B, Voorpostel M, Spoerri A, Zwahlen M, Egger M. A\\nSwiss neighbourhood index of socioeconomic position: development and\\nassociation with mortality. J Epidemiol Community Health. 2012;66:1129–36.\\nCole TJ, Green PJ. Smoothing reference centile curves: the LMS method and\\npenalized likelihood. Stat Med. 1992;11:1305–19.\\nPan H, Cole TJ. A comparison of goodness of fit tests for age-related\\nreference ranges. Stat Med. 2004;23:1749–65.\\nCole TJ, Bellizzi MC, Flegal KM, Dietz WH. Establishing a standard definition\\nfor child overweight and obesity worldwide: International survey. BMJ. 2000;\\n320:1240–3.\\nCacciari E, Milani S, Balsamo A, Spada E, Bona G, Cavallo L, et al. Italian\\ncross-sectional growth charts for height, weight and BMI (2 to 20 yr). J\\nEndocrinol Investig. 2006;29:581–93.\\n10. Carrascosa A, Yeste D, Moreno-Galdo A, Gussinye M, Ferrandez A, Clemente\\nM, et al. [Body mass index and tri-ponderal mass index of 1,453 healthy\\nnon-obese, non-undernourished millennial children. The Barcelona\\nlongitudinal growth study]. An Pediatr (Barc) 2018;89:137–43.\\n11. Roriz MS, Seabra A, Garganta R, Maia J. Growth reference charts of six to 10\\nyear old children from the Maia County, Portugal. Rev Bras Educ Fís Esporte.\\n2012;26:611–25.\\nTarp J, Jarani J, Muca F, Spahi A, Grontved A. Prevalence of overweight and\\nobesity and anthropometric reference centiles for Albanian children and\\nadolescents living in four Balkan nation-states. J Pediatr Endocrinol Metab.\\n2018;31:1199–206.\\n12.\\n13. Zafirova B, Todorovska L. Anthropometric parameters of growth and\\nnutritional status in children aged 6 to 7 years in R. Macedonia. Adv Med\\nSci. 2009;54:289–95.\\n14. Pavlica TM, Rakic RS, Djuricanin A, Korovljev D, Srdic B. Growth and\\nnutritional status of children and adolescents from 7 to 19 years of age in\\nthe town of Jagodina (central Serbia). Healthmed. 2012;6:284–93.\\n15. Ozer BK. Growth reference centiles and secular changes in Turkish children\\nand adolescents. Econ Hum Biol. 2007;5:280–301.\\n16. Bundak R, Furman A, Gunoz H, Darendeliler F, Bas F, Neyzi O. Body mass\\nindex references for Turkish children. Acta Paediatr. 2006;95:194–8.\\n17. Yuca SA, Cesur Y, Kurtoglu S, Mazicioglu MM, Cimbek EA. Growth patterns\\n18.\\nof children of same geographic background reared in different\\nenvironments. J Clin Res Pediatr Endocrinol. 2014;6:233–7.\\nFredriks AM, van Buuren S, Jeurissen SE, Dekker FW, Verloove-Vanhorick SP,\\nWit JM. Height, weight, body mass index and pubertal development\\nreference values for children of Turkish origin in the Netherlands. Eur J\\nPediatr. 2003;162:788–93.\\n19. Redlefsen T, Commentz J, Meigen C, Hermanussen M. Reference values for\\nheight, weight and body mass index of German born Turkish children.\\nAnthropol Anz. 2007;65:263–74.\\nSchaffrath Rosario A, Kurth B-M, Stolzenberg H, Ellert U, Neuhauser H. Body mass\\nindex percentiles for children and adolescents in Germany based on a nationally\\nrepresentative sample (KiGGS 2003-2006). Eur J Clin Nutr. 2010;64:341–9.\\n21. Mayer M, Gleiss A, Häusler G, Borkenstein M, Kapelari K, Köstl G, et al.\\n20.\\n22.\\nWeight and body mass index (BMI): Current data for Austrian boys and girls\\naged 4 to under 19 years. Ann Hum Biol. 2015;42:45–55.\\nKromeyer-Hauschild K, Zellner K. Trends in overweight and obesity and\\nchanges in the distribution of body mass index in schoolchildren of Jena,\\nEast Germany. Eur J Clin Nutr. 2007;61:404–11.\\n24.\\n23. Cattaneo A, Monasta L, Stamatakis E, Lioret S, Castetbon K, Frenken F, et al.\\nOverweight and obesity in infants and pre-school children in the European\\nUnion: a review of existing data. Obes Rev. 2010;11:389–98.\\nLabree LJ, van de Mheen H, Rutten FF, Foets M. Differences in overweight\\nand obesity among children from migrant and native origin: a systematic\\nreview of the European literature. Obes Rev. 2011;12:e535–47.\\nFederal Statistical Office. Health of the migrant population. Overweight and\\nobesity by nationality, 2017. Swiss Health Survey [Gesundheit der\\n25.\\nEiholzer et al. BMC Public Health          (2021) 21:243 \\nPage 11 of 11\\nMigrationsbevölkerung. Übergewicht und Adipositas nach\\nStaatsangehörigkeit, 2017. Schweizerische Gesundheitsbefragung]. https://\\nwww.bfs.admin.ch/bfs/de/home/statistiken/gesundheit/gesundheitszustand/\\nmigrationsbevoelkerung.html (2019). Accessed 13 Mar 2020.\\n28.\\n27.\\n26. Gesundheitsförderung Schweiz. Monitoring of weight data from the school\\nmedical services of the cities of Basel, Berne and Zurich [Monitoring der\\nGewichtsdaten der schulärztlichen Dienste der Städte Basel, Bern und\\nZürich]. Gesundheitsförderung Schweiz. 2018. https://\\ngesundheitsfoerderung.ch/assets/public/documents/de/5-grundlagen/\\npublikationen/ernaehrung-bewegung/faktenblaetter/Faktenblatt_033_\\nGFCH_2018-04_-_BMI-Monitoring.pdf. Accessed 13 Mar 2020.\\nJeannot E, Mahler P, Elia N, Cerruti B, Chastonnay P. Sociodemographic and\\neconomic determinants of overweight and obesity for public-school\\nchildren in Geneva State, Switzerland: a cross-sectional study. Int J Prev\\nMed. 2015;6:39.\\nKanton Zürich. Primary school pupils by school district according to\\nnationality and first language [Lernende in der Volksschule nach Schulort\\nnach Nationalitäten und Erstsprache] https://pub.bista.zh.ch/de/zahlen-und-\\nfakten/sdl/lernende-in-der-volksschule-nach-schulort/uebersicht-nach-\\nnationalitaeten-und-erstsprache/#2475 (2020). Accessed 10 Jun 2020.\\nEbner C, Helbing M. Social distance and wage inequalities for immigrants in\\nSwitzerland. Work Employ Soc. 2015;30:436–54.\\nFederal Statistical Office. Permanent and non-permanent resident\\npopulation by year, canton, population type, age group and nationality.\\nStatistics on population and households, 2018. [Ständige und nichtständige\\nWohnbevölkerung nach Jahr, Kanton, Bevölkerungstyp, Altersklasse und\\nStaatsangehörigkeit. Statistik der Bevölkerung und der Haushalte, 2018]\\nhttps://www.bfs.admin.ch/bfs/de/home/statistiken/kataloge-datenbanken/\\ntabellen.assetdetail.9566416.html (2019). Accessed 13 Mar 2020.\\n31. Bucher H-P. Naturalizations in the Canton of Zurich 1994-2009\\n30.\\n29.\\n32.\\n33.\\n[Einbürgerungen im Kanton Zürich 1994–2009]. Statistisches Amt des\\nKantons Zürich 2010. https://statistik.zh.ch/dam/justiz_innern/statistik/\\nPublikationen/statistik_info/si_2010_08_einbuergerungen.pdf.spooler.\\ndownload.1326986455779.pdf/si_2010_08_einbuergerungen.pdf. Accessed\\n30 Mar 2020.\\nFederal Statistical Office. Population by migration status. https://www.bfs.\\nadmin.ch/bfs/en/home/statistics/population/migration-integration/by-\\nmigration-status.html (2020). Accessed 11 Nov 2020.\\nFederal Statistical Office. Permanent resident population aged 0 to 14 years,\\nby place of birth, sex, age and nationality [Ständige Wohnbevölkerung im\\nAlter von 0 bis 14 Jahren, nach Geburtsort, Geschlecht, Alter und\\nStaatsangehörigkeit] https://www.bfs.admin.ch/bfs/en/home/statistics/\\npopulation/migration-integration.assetdetail.14347376.html (2020). Accessed\\n11 Nov 2020.\\nPublisher’s Note\\nSpringer Nature remains neutral with regard to jurisdictional claims in\\npublished maps and institutional affiliations.\\n'"
      ]
     },
     "execution_count": 90,
     "metadata": {},
     "output_type": "execute_result"
    }
   ],
   "source": [
    "doc_as_str[36152:]"
   ]
  }
 ],
 "metadata": {
  "kernelspec": {
   "display_name": "Python 3",
   "language": "python",
   "name": "python3"
  },
  "language_info": {
   "codemirror_mode": {
    "name": "ipython",
    "version": 3
   },
   "file_extension": ".py",
   "mimetype": "text/x-python",
   "name": "python",
   "nbconvert_exporter": "python",
   "pygments_lexer": "ipython3",
   "version": "3.9.7"
  },
  "orig_nbformat": 4
 },
 "nbformat": 4,
 "nbformat_minor": 2
}
