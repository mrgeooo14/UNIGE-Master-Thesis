{
 "cells": [
  {
   "attachments": {},
   "cell_type": "markdown",
   "metadata": {},
   "source": [
    "This Jupyter notebook file will concern itself with the Topic Classification part of the project. Specifically, the **textcat** pipeline that will be added to our spaCy model."
   ]
  },
  {
   "cell_type": "code",
   "execution_count": 12,
   "metadata": {},
   "outputs": [
    {
     "name": "stdout",
     "output_type": "stream",
     "text": [
      "['label1', 'label3', 'label5', 'label10', 'label20']\n"
     ]
    }
   ],
   "source": [
    "import spacy\n",
    "\n",
    "nlp = spacy.load(\"en_core_web_lg\")\n",
    "\n",
    "# Test the model on some text\n",
    "doc = nlp(\"This is a test article about technology and politics.\")\n",
    "doc.cats = [\"label1\", \"label3\", \"label5\", \"label10\", \"label20\"]\n",
    "print(doc.cats)"
   ]
  },
  {
   "attachments": {},
   "cell_type": "markdown",
   "metadata": {},
   "source": [
    "##### Automatic MeSh indexing\n",
    "\n",
    "Query diseases to their corresponding representation in MeSh Terms, potentially locating their **[C]** - Disease Category."
   ]
  },
  {
   "cell_type": "code",
   "execution_count": 1,
   "metadata": {},
   "outputs": [
    {
     "name": "stdout",
     "output_type": "stream",
     "text": [
      "\n",
      "For Queried Disease: child obesity\n",
      "Potential Corresponding MeSh Tree: ['Nutritional and Metabolic Diseases', 'Nutrition Disorders', 'Overnutrition', 'Overweight']\n",
      "\n",
      "\n",
      "For Queried Disease: aids\n",
      "Potential Corresponding MeSh Tree: ['Infections', 'Communicable Diseases', 'Blood-Borne Infections', 'HIV Infections']\n",
      "\n",
      "\n",
      "For Queried Disease: coronary heart disease\n",
      "Potential Corresponding MeSh Tree: ['Cardiovascular Diseases', 'Heart Diseases', 'Myocardial Ischemia', 'Coronary Disease']\n",
      "\n",
      "\n",
      "For Queried Disease: hiv\n",
      "Potential Corresponding MeSh Tree: []\n",
      "\n",
      "\n",
      "For Queried Disease: malaria\n",
      "Potential Corresponding MeSh Tree: ['Infections', 'Parasitic Diseases', 'Protozoan Infections', 'Malaria']\n",
      "\n",
      "\n",
      "For Queried Disease: covid\n",
      "Potential Corresponding MeSh Tree: []\n",
      "\n",
      "\n",
      "For Queried Disease: asthma\n",
      "Potential Corresponding MeSh Tree: ['Respiratory Tract Diseases', 'Bronchial Diseases', 'Asthma', 'Asthma, Aspirin-Induced']\n",
      "\n",
      "\n",
      "For Queried Disease: hypertension\n",
      "Potential Corresponding MeSh Tree: ['Cardiovascular Diseases', 'Vascular Diseases', 'Hypertension', 'Masked Hypertension']\n",
      "\n",
      "\n",
      "For Queried Disease: diabetes\n",
      "Potential Corresponding MeSh Tree: []\n",
      "\n"
     ]
    }
   ],
   "source": [
    "from query_for_mesh_terms import get_mesh_tree\n",
    "\n",
    "queries = ['child obesity', 'aids', 'coronary heart disease', 'hiv', 'malaria', 'covid', 'asthma', 'hypertension', 'diabetes']\n",
    "# queries = ['diabetes mellitus']\n",
    "for query in queries:\n",
    "    mesh_terms = get_mesh_tree(query)\n",
    "    print('\\nFor Queried Disease: {}'.format(query))\n",
    "    print('Potential Corresponding MeSh Tree: {}'.format(mesh_terms))\n",
    "    print('')"
   ]
  },
  {
   "attachments": {},
   "cell_type": "markdown",
   "metadata": {},
   "source": [
    "##### **Eurlex** Dataset Tryout"
   ]
  },
  {
   "cell_type": "code",
   "execution_count": 1,
   "metadata": {},
   "outputs": [
    {
     "name": "stderr",
     "output_type": "stream",
     "text": [
      "c:\\Users\\Genis\\AppData\\Local\\Programs\\Python\\Python39\\lib\\site-packages\\requests\\__init__.py:102: RequestsDependencyWarning: urllib3 (1.26.15) or chardet (5.1.0)/charset_normalizer (2.0.12) doesn't match a supported version!\n",
      "  warnings.warn(\"urllib3 ({}) or chardet ({})/charset_normalizer ({}) doesn't match a supported \"\n",
      "No config specified, defaulting to: eurlex/eurlex57k\n",
      "Found cached dataset eurlex (C:/Users/Genis/.cache/huggingface/datasets/eurlex/eurlex57k/1.1.0/d2fdeaa4fcb5f41394d2ed0317c8541d7f9be85d2d601b9fa586c8b461bc3a34)\n"
     ]
    },
    {
     "data": {
      "application/vnd.jupyter.widget-view+json": {
       "model_id": "0de15740e8f94089bbba409b5ac7ef5b",
       "version_major": 2,
       "version_minor": 0
      },
      "text/plain": [
       "  0%|          | 0/3 [00:00<?, ?it/s]"
      ]
     },
     "metadata": {},
     "output_type": "display_data"
    },
    {
     "data": {
      "text/plain": [
       "DatasetDict({\n",
       "    train: Dataset({\n",
       "        features: ['celex_id', 'title', 'text', 'eurovoc_concepts'],\n",
       "        num_rows: 45000\n",
       "    })\n",
       "    test: Dataset({\n",
       "        features: ['celex_id', 'title', 'text', 'eurovoc_concepts'],\n",
       "        num_rows: 6000\n",
       "    })\n",
       "    validation: Dataset({\n",
       "        features: ['celex_id', 'title', 'text', 'eurovoc_concepts'],\n",
       "        num_rows: 6000\n",
       "    })\n",
       "})"
      ]
     },
     "execution_count": 1,
     "metadata": {},
     "output_type": "execute_result"
    }
   ],
   "source": [
    "from datasets import load_dataset\n",
    "\n",
    "dataset = load_dataset(\"eurlex\")\n",
    "dataset"
   ]
  },
  {
   "cell_type": "code",
   "execution_count": 3,
   "metadata": {},
   "outputs": [
    {
     "name": "stdout",
     "output_type": "stream",
     "text": [
      "Mapping:  {'3474': 'international affairs', '3363': 'union representative', '4488': 'data processing', '6303': 'scientific discovery', '3842': 'scientific apparatus', '538': 'rights of the individual', '1909': 'migration', '1600': 'self-defence', '1592': 'anti-trust legislation', '851': 'sociocultural facilities', '1478': 'Workers International', '2577': 'power of implementation', '1641': 'trade licence', '2566': 'postal and telecommunications services', '3586': 'scientific profession', '1760': 'mental illness', '6035': 'urban community', '1172': 'government', '2581': 'power to negotiate', '4536': 'transport under customs control', '6084': 'European Works Council', '5184': 'programmes industry', '5970': 'surgery', '1625': 'freedom of assembly', '7363': 'graphic illustration', '2916': 'applied research', '1941': 'national minority', '7392': 'urban sociology', '582': 'political right', '6401': 'environmental liability', '6744': 'eugenics', '6033': 'rural community', '5938': 'transport of patients', '6230': 'age discrimination', '2798': 'investment project', 'c_7546272f': 'identity theft', '4786': 'climatic zone', '2586': 'legislative power', '526': 'political unrest', '273': 'health costs', '8470': 'digital archiving', '3358': 'social facilities', '7410': 'biometrics', '779': 'distance learning', '4730': 'political violence', '5382': 'social change', '4006': 'economic sector', '1198': 'human rights movement', '186': 'abuse of power', '7135': 'reproductive health', '4800': 'polluted area', '3535': 'water resources', '2479': 'health policy', '2407': 'regional planning', '3697': 'biomaterials', '3164': 'industrial pollution', '5634': 'extremism', '1370': 'communications industry', '3537': 'employment statistics', '1634': 'free movement of workers', '3947': 'political science', '1691': 'illiteracy', '5473': 'scientific calculation', '3910': 'ethnic discrimination', '5887': 'air safety', '922': 'financial aid', '4141': 'domestic waste', '5572': 'sexual offence', '2152': 'public opinion', '5333': 'impact of information technology', '3639': 'traditional technology', '4452': 'terrorism', '3683': 'teaching method', '1279': 'food hygiene', '1957': 'modernisation of industry', '4184': 'marital status', 'c_46f6aaeb': 'policymaking', '4323': 'suicide', '1820': 'social analysis', '4204': 'non-profit organisation', '437': 'regional agency', '5389': 'shareholder', '5188': 'information technology', '5042': 'patent', '5154': 'public financing', '719': 'emancipation', '2478': 'research policy', '3305': 'family protection', '3885': 'public health', '3351': 'mentally disabled', '4268': 'regional statistics', '865': 'protected species', '837': 'epidemic', 'c_406ad4cc': 'risk management', '4308': 'dangerous substance', '2466': 'financing policy', '1761': 'occupational disease', '2062': 'standard of living', '4074': 'environmental risk prevention', '101': 'social conflict', '5878': 'mental health', '1758': 'endemic disease', '4727': 'sexual violence', '86': 'socioeconomic conditions', 'c_67699417': 'medical tourism', '1360': 'food industry', '4504': 'abortion', '1800': 'economic analysis', '2894': 'activity report', '5921': 'health care system', 'c_9a9e5627': 'monitoring report', '974': 'fertility', '6767': 'electronic document', '4359': 'information system', '1955': 'economic model', '788': 'medical training', '6929': 'telemedicine', '2019': 'multilingualism', 'c_1137acd8': 'human development', '6269': 'comparative analysis', '3672': 'university research', '3372': 'social medicine', '881': 'emergency aid', '1991': 'mortality', '8466': 'public policy', '4264': 'industrial statistics', '4881': 'social well-being', '5594': 'medical data', '876': 'medical institution', '3797': 'biotechnology', '5771': 'sponsorship', '5951': 'disease vector', '2501': 'family policy', '5651': 'genetics', '3289': 'alternative medicine', '3030': 'artificial intelligence', '3357': 'social assistance', '3287': 'dental medicine', '637': 'economy', '162': 'contraception', '3085': 'impact study', '2923': 'medical research', '4361': 'communications systems', '766': 'investment aid', '3844': 'medical device', '1856': 'veterinary medicine', '3512': 'health insurance', '3481': 'international aid', '437655': 'digital literacy', '413': 'natural disaster', '2106': 'OECD countries', '5684': 'systems interconnection', '2191': 'non-governmental organisation', '928': 'project management', '811': 'technical barrier', 'c_04ae3ba8': 'information security', '3730': 'health risk', '3375': 'private medical treatment', '1770': 'malnutrition', '221': 'regional cooperation', '5087': 'Comecon countries', '435299': 'open source software', '177': 'pollution control', '584': 'human rights', '77': 'public administration', '5881': 'medical science', '6910': 'knowledge management', '3013': 'economic system', '7219': 'digital technology', '4808': 'tropical zone', '3368': 'hospitalisation', '4474': 'toxicology', '2918': 'document retrieval', '1596': 'health legislation', '4374': 'smoking', '6306': 'research results', '2795': 'research programme', '3255': 'public relations', '838': 'epidemiology', '1951': 'social mobility', '3422': 'information network', '3371': 'public hygiene', '2470': 'environmental policy', '1494': 'international investment', '5659': 'sexual harassment', '5974': 'unemployment', '6189': 'electronic document management', '6290': 'resolution of the European Council', '85': 'social situation', '1680': 'literature', '2816': 'industrial property', '5585': 'sustainable development', '5181': 'data protection', '4136': 'public service', '4230': 'undernourishment', '671': 'comparative education', '1084': 'pharmaceutical expenses', '1493': 'industrial investment', '2524': 'pollution', '1161': 'logistics', '1431': 'medical computing', '5627': 'comparative study', '3356': 'general medicine', '3796': 'bio-industry', '427': 'economic development', '3320': 'migrant', '5907': 'health statistics', '772': 'social survey', '894': 'feasibility study', '1854': 'disease prevention', '5916': 'drug surveillance', '92': 'confidentiality', '6566': 'medical error', '5862': 'computer network', '4485': 'water treatment', '134': 'conservation of resources', '89': 'atmospheric conditions', '5902': 'medical specialisation', '680': 'health education', '5520': 'computer assisted design', '1491': 'direct investment', '5628': 'case study', '223': 'scientific cooperation', '2823': 'prostitution', '4050': 'social security', '1752': 'information analysis', '4259': 'population statistics'}\n",
      "Eurlex Dataset Label Count - Original: 7201 - Curated: 227\n"
     ]
    }
   ],
   "source": [
    "import pandas as pd\n",
    "\n",
    "# Read the JSON file into a DataFrame\n",
    "df = pd.read_json('./data/eurovoc_concepts.jsonl', lines=True)\n",
    "finetuned_df = pd.read_json('./data/eurovoc_concepts_finetuned.jsonl', lines=True)\n",
    "converting_dictionary = finetuned_df.set_index('id')['title'].to_dict()\n",
    "\n",
    "# Print the resulting dictionary\n",
    "print('Mapping: ', converting_dictionary)\n",
    "\n",
    "all_titles = {title: 0 for title in df['title']}\n",
    "all_titles_finetuned = {title: 0 for title in finetuned_df['title']}\n",
    "\n",
    "print('Eurlex Dataset Label Count - Original: {} - Curated: {}'.format(len(all_titles), len(all_titles_finetuned)))"
   ]
  },
  {
   "cell_type": "code",
   "execution_count": 4,
   "metadata": {},
   "outputs": [],
   "source": [
    "def adjust_original_concepts(list_of_concepts, mapping_dictionary):\n",
    "    adjusted_concepts = []\n",
    "    for concept in list_of_concepts:\n",
    "        try: \n",
    "            adjusted_concepts.append(mapping_dictionary[concept])\n",
    "        except KeyError:\n",
    "            continue\n",
    "    return adjusted_concepts"
   ]
  },
  {
   "cell_type": "code",
   "execution_count": 15,
   "metadata": {},
   "outputs": [
    {
     "name": "stdout",
     "output_type": "stream",
     "text": [
      "0/6000\n",
      "Selected Sentences: 0 \n",
      "\n",
      "2500/6000\n",
      "Selected Sentences: 226 \n",
      "\n",
      "5000/6000\n",
      "Selected Sentences: 457 \n",
      "\n"
     ]
    }
   ],
   "source": [
    "from spacy.tokens import DocBin\n",
    "import spacy\n",
    "\n",
    "nlp = spacy.blank(\"en\")\n",
    "    \n",
    "db = DocBin()\n",
    "split_name = 'validation'\n",
    "data = dataset[split_name]\n",
    "\n",
    "count = 0\n",
    "for i in range(0, len(data)):\n",
    "    \n",
    "    #### Performance Counter    \n",
    "    if (i % 2500 == 0):\n",
    "        print(\"{}/{}\".format(i, len(data)))\n",
    "        print(\"Selected Sentences: {} \\n\".format(count))  \n",
    "   \n",
    "    ##### Check that the given sentence contains any of our wanted labels\n",
    "    concepts = [converting_dictionary[concept] for concept in data[i]['eurovoc_concepts'] if concept in converting_dictionary]\n",
    "    \n",
    "    if len(concepts) == 0:\n",
    "        continue\n",
    "    else:\n",
    "        doc = nlp(data[i]['text'])\n",
    "        # print(doc)\n",
    "        doc.cats = all_titles_finetuned.copy()\n",
    "        # print('BEFORE: ', doc.cats)\n",
    "        for concept in concepts:\n",
    "            doc.cats[concept] = 1\n",
    "        # print('After: ', doc.cats)\n",
    "        # print('')\n",
    "        count += 1\n",
    "\n",
    "    db.add(doc)\n",
    "    \n",
    "\n",
    "# db.to_disk('./models/fine_tune/corpus/curated_eurlex_{}.spacy'.format(split_name))    "
   ]
  },
  {
   "attachments": {},
   "cell_type": "markdown",
   "metadata": {},
   "source": [
    "##### Classy Classification - Few-shot Topic Classification "
   ]
  },
  {
   "attachments": {},
   "cell_type": "markdown",
   "metadata": {},
   "source": [
    "Shown example of how the few-shot text classifier works with training sentences for two labels: *politics* and *sports*."
   ]
  },
  {
   "cell_type": "code",
   "execution_count": 1,
   "metadata": {},
   "outputs": [
    {
     "name": "stderr",
     "output_type": "stream",
     "text": [
      "c:\\Users\\Genis\\AppData\\Local\\Programs\\Python\\Python39\\lib\\site-packages\\requests\\__init__.py:102: RequestsDependencyWarning: urllib3 (1.26.15) or chardet (5.1.0)/charset_normalizer (2.0.12) doesn't match a supported version!\n",
      "  warnings.warn(\"urllib3 ({}) or chardet ({})/charset_normalizer ({}) doesn't match a supported \"\n"
     ]
    }
   ],
   "source": [
    "import spacy\n",
    "import classy_classification\n",
    "\n",
    "##### Prepare the training data in a dictionary format with keys as labels and a list of train sentences as values\n",
    "data = {\n",
    "    \"politics\": [\n",
    "        \"Putin orders troops into pro-Russian regions of eastern Ukraine.\",\n",
    "        \"The president decided not to go through with his speech.\",\n",
    "        \"There is much uncertainty surrounding the coming elections.\",\n",
    "        \"Democrats are engaged in a ‘new politics of evasion’\",\n",
    "    ],\n",
    "    \"sports\": [\n",
    "        \"The soccer team lost.\",\n",
    "        \"The team won by two against zero.\",\n",
    "        \"I love all sport.\",\n",
    "        \"The olympics were amazing.\",\n",
    "        \"Yesterday, the tennis players wrapped up wimbledon.\",\n",
    "    ],\n",
    "}\n",
    "\n",
    "\n",
    "##### Model Training & Configuration\n",
    "nlp = spacy.load('en_core_web_md')\n",
    "nlp.add_pipe(\"text_categorizer\", \n",
    "    config={\n",
    "        \"data\": data,\n",
    "        \"model\": \"sentence-transformers/paraphrase-multilingual-MiniLM-L12-v2\",\n",
    "        # \"model\": \"spacy\",\n",
    "        \"multi_label\": True,\n",
    "        \"device\": \"gpu\",\n",
    "    }\n",
    ")"
   ]
  },
  {
   "attachments": {},
   "cell_type": "markdown",
   "metadata": {},
   "source": [
    "Testing the model"
   ]
  },
  {
   "cell_type": "code",
   "execution_count": 3,
   "metadata": {},
   "outputs": [
    {
     "name": "stdout",
     "output_type": "stream",
     "text": [
      "For Sentence: Donald Trump is running again for president in 2024\n",
      "Topic Classification Prediction: {'politics': 0.9148040442917577, 'sports': 0.060666751741570296}\n",
      "\n",
      "For Sentence: Man City is moving to the finals of the UCL.\n",
      "Topic Classification Prediction: {'politics': 0.4187886550089133, 'sports': 0.5130324025304186}\n",
      "\n"
     ]
    }
   ],
   "source": [
    "example_sentence = \"Donald Trump is running again for president in 2024\"\n",
    "print('For Sentence: {}'.format(example_sentence))\n",
    "print('Topic Classification Prediction: {}'.format(nlp(example_sentence)._.cats))\n",
    "print('')\n",
    "\n",
    "example_sentence = \"Man City is moving to the finals of the UCL.\"\n",
    "print('For Sentence: {}'.format(example_sentence))\n",
    "print('Topic Classification Prediction: {}'.format(nlp(example_sentence)._.cats))\n",
    "print('')"
   ]
  },
  {
   "attachments": {},
   "cell_type": "markdown",
   "metadata": {},
   "source": [
    "Training the model from scratch for our custom case"
   ]
  },
  {
   "cell_type": "code",
   "execution_count": 1,
   "metadata": {},
   "outputs": [
    {
     "name": "stderr",
     "output_type": "stream",
     "text": [
      "c:\\Users\\Genis\\AppData\\Local\\Programs\\Python\\Python39\\lib\\site-packages\\requests\\__init__.py:102: RequestsDependencyWarning: urllib3 (1.26.15) or chardet (5.1.0)/charset_normalizer (2.0.12) doesn't match a supported version!\n",
      "  warnings.warn(\"urllib3 ({}) or chardet ({})/charset_normalizer ({}) doesn't match a supported \"\n"
     ]
    },
    {
     "name": "stdout",
     "output_type": "stream",
     "text": [
      "{'Artificial Intelligence': ['Machine learning algorithms employ advanced statistical techniques to analyze vast datasets.', 'Artificial intelligence is reshaping industries such as healthcare, finance, and autonomous vehicles.', 'Neural networks, specifically deep learning models, are pivotal in image recognition tasks.', 'Chatbots leverage natural language processing to provide conversational interactions with users.', 'Cutting-edge self-driving cars utilize computer vision and AI to navigate complex road environments.', 'Reinforcement learning enables AI agents to learn optimal decision-making through trial and error.', 'AI-powered virtual assistants like Siri and Alexa have become ubiquitous in our daily lives.', 'Image recognition technology has achieved remarkable accuracy in object detection and classification.', 'Ethical considerations surrounding AI development encompass issues of bias, privacy, and accountability.', 'Sentiment analysis algorithms can discern emotions and attitudes expressed in textual data with high precision.'], 'Biomedical Engineering': ['Biomedical engineers design and develop medical devices, equipment, and technologies to improve patient care and outcomes.', 'The application of engineering principles in the healthcare domain leads to advancements in diagnostics, treatment, and patient care.', 'Biomedical engineering encompasses areas such as bioinformatics, biomechanics, tissue engineering, and medical robotics.', 'The interdisciplinary nature of biomedical engineering facilitates innovation and drives progress at the intersection of engineering and healthcare.', 'Bioengineering applies engineering principles and techniques to biological systems, organisms, and processes.', 'The field of bioengineering encompasses areas such as tissue engineering, genetic engineering, and synthetic biology.', 'Bioengineers work on projects related to the development of artificial organs, regenerative medicine, and biopharmaceuticals.', 'Biomechanics explores the mechanical behavior of biological systems and applies engineering principles to understand and improve their functionality.', 'Medical robotics in biomedical engineering involves the design and development of robotic systems for medical procedures, diagnostics, and rehabilitation.', 'The field of biomedical engineering also encompasses the design and development of medical sensors, biosensors, and wearable devices for healthcare monitoring and diagnostics.'], 'Clinical Decision Support': ['Clinical decision support systems provide healthcare professionals with real-time guidance and evidence-based recommendations to enhance patient care.', 'Diagnostic support tools assist healthcare providers in making accurate and timely diagnoses by analyzing patient data and medical literature.', 'Treatment recommendation modules in clinical decision support systems offer evidence-based suggestions for optimal patient management.', 'Decision support algorithms help identify potential drug interactions, allergies, and contraindications to improve medication safety.', 'Clinical decision support systems, such as IBM Watson, assist oncologists in analyzing patient data and recommending personalized treatment plans for cancer patients.', 'Robotic surgical support tools, like the da Vinci Surgical System, provide real-time guidance and feedback to surgeons during minimally invasive procedures, enhancing surgical precision and patient outcomes.', 'Clinical pathways integrated into decision support systems offer evidence-based guidelines for managing specific medical conditions, ensuring standardized and efficient care.', 'Decision support algorithms for sepsis management help healthcare providers identify and treat this life-threatening condition promptly, improving patient survival rates.', 'Decision support algorithms in critical care settings aid in hemodynamic monitoring, helping clinicians optimize fluid balance and vasopressor support for patients in shock.', 'Cutting-edge technology platforms integrate medical knowledge and patient information to deliver personalized treatment suggestions, improving clinical decision-making in complex cases.'], 'Community Outreach': ['Our organization actively engages in community outreach programs to promote health and well-being.', 'Through community outreach efforts, we provide educational workshops on various health topics.', 'Our volunteers participate in community clean-up initiatives to improve the local environment.', 'The community outreach team organizes health fairs to offer free screenings and health consultations.', 'We collaborate with local schools to provide after-school programs and mentorship for students.', 'Our organization conducts food drives and distributes meals to vulnerable populations in the community.', 'Community outreach plays a vital role in raising awareness about mental health and reducing stigma.', 'We organize regular neighborhood gatherings to foster a sense of belonging and community connection.', 'Our community outreach initiatives focus on supporting seniors through companionship and assistance.', 'We partner with local businesses to sponsor events that promote community engagement and well-being.'], 'Computer Vision': ['Image classification, object detection, and image segmentation are popular subfields.', 'Convolutional neural networks (CNNs) are widely used due to their ability to capture spatial dependencies in images', 'The goal of this field is to develop algorithms and systems that can automatically extract meaningful information from visual data.', 'Feature extraction techniques such as SIFT, SURF, and HOG are commonly employed.', 'Architectures like ResNet and VGG that use CNNs, have significantly advanced the state-of-the-art as of today.', 'Optical character recognition (OCR) is an important task used to convert scanned documents or images into machine-readable text.', 'Object tracking involves the continuous tracking of a specific object in a video sequence.', 'Pose estimation involves estimating the position and orientation of objects in an image or video.', 'Semantic segmentation aims to assign a class label to each pixel in an image, enabling detailed scene understanding.', 'Computer vision research often relies on large-scale datasets such as ImageNet and COCO for training and evaluating models.', '3D reconstruction techniques enable the creation of 3D models from multiple 2D images or video sequences.', 'Generative adversarial networks (GANs) have been successfully applied to generate realistic images or enhance existing ones.'], 'Data Analysis': ['Data quality management involves ensuring the accuracy, completeness, and reliability of collected data.', 'Data visualization techniques help transform complex datasets into meaningful and easily understandable visual representations.', 'Data collection methodologies and protocols are essential for gathering relevant and reliable information for analysis.', 'Effective data management practices facilitate secure storage, organization, and retrieval of collected data.', 'Data visualization enables insights and patterns to be extracted from data, aiding in decision-making and communication.', 'Accurate and reliable data collection is crucial for generating valid and meaningful conclusions in research and analysis.', 'Data quality assessment involves evaluating data for inconsistencies, errors, and discrepancies to ensure data integrity.', 'Data visualization tools and software assist in creating interactive and informative visual representations of data.', 'Proper data collection procedures involve using validated instruments, standardized protocols, and robust data recording techniques.', 'Data management and analysis play a pivotal role in generating actionable insights and evidence-based decision-making.'], 'Decision Making': ['Decision making is a cognitive process through which individuals or groups select one course of action from among several alternatives based on available information and preferences.', 'Strategic decision making is a process used in organizations to make choices that align with long-term goals, competitive advantages, and resource allocation, often involving analysis of market trends and competitive landscapes.', 'In medical contexts, shared decision making involves collaboration between healthcare providers and patients, where both parties contribute information and preferences to jointly determine the best course of treatment.', 'Decision making in complex systems, such as ecological or socio-economic systems, involves considering interdependencies, feedback loops, and non-linear dynamics to navigate uncertainties and make informed choices.', 'Multi-criteria decision making approaches incorporate multiple dimensions and criteria, such as cost, time, and quality to evaluate and compare different alternatives and facilitate decision making.', 'Real-world decision making often involves dealing with conflicting objectives, limited resources, and time constraints, requiring individuals to balance competing demands and make trade-offs to reach optimal outcomes.', \"Our research aims to investigate the underlying cognitive processes involved in decision making and explore the factors that influence individuals' choices and judgments.\", 'The study presents a novel framework for understanding group decision making dynamics, shedding light on the interplay between social influence, power dynamics, and consensus formation.', 'Through our research, we provide a comprehensive analysis of decision-making biases in complex systems, offering practical recommendations for mitigating bias and improving decision-making outcomes.'], 'Diagnostic Assessments': ['Diagnostics plays a crucial role in assessing and identifying medical conditions in patients accurately.', 'Diagnostic tests provide valuable information to aid in the evaluation and diagnosis of various diseases and disorders.', 'Medical diagnostics involve the use of advanced techniques to analyze patient samples and interpret the results.', 'Accurate diagnostics are essential for guiding appropriate treatment decisions and optimizing patient care.', \"Diagnostic assessments encompass a wide range of tests and procedures to evaluate different aspects of a patient's health.\", 'Molecular diagnostics utilize genetic and molecular analysis to identify specific markers associated with diseases.', 'The field of diagnostics is continuously advancing, leading to the development of innovative diagnostic tools and technologies.', 'Reliable and timely diagnostics are critical for early detection, intervention, and effective management of medical conditions.', 'Diagnostic accuracy relies on the expertise of healthcare professionals and the integration of multiple diagnostic modalities.', 'Diagnostic imaging techniques provide detailed information about the internal structures and assist in evaluating various medical conditions.'], 'Digital Accelerators': ['Digital accelerators leverage technology to expedite and enhance various processes and operations.', 'Digital transformation initiatives drive innovation and efficiency by adopting and integrating digital technologies.', 'Technology advancements serve as catalysts for accelerating progress and growth in various sectors.', 'Digital accelerators enable organizations to streamline workflows, automate tasks, and improve overall productivity.', 'Emerging technologies, such as blockchain, act as accelerators in transforming industries.', 'The adoption of digital tools and platforms accelerates collaboration, communication, and knowledge sharing.', 'Digital acceleration empowers businesses to adapt quickly to changing market dynamics and customer needs.', 'Technology-driven solutions and strategies unlock new opportunities and drive competitive advantage.', 'Digital accelerators play a vital role in bridging the digital divide and promoting inclusivity in the digital era.', 'Organizations that embrace digital acceleration are better positioned to navigate disruptive challenges and drive sustainable growth.'], 'Digital Health': ['Digital health encompasses the use of technology and digital solutions to enhance healthcare delivery, improve patient outcomes, and empower individuals to actively manage their health.', 'Mobile health applications and wearable devices enable individuals to monitor their health parameters, track fitness goals, and access personalized health information on the go.', \"Remote patient monitoring devices enable healthcare professionals to remotely monitor patients' vital signs and health conditions, allowing early detection of potential issues and timely interventions.\", 'Health chatbots and virtual assistants provide interactive support and health-related information to individuals, helping them make informed decisions about their health and well-being.', 'Digital therapeutics deliver evidence-based interventions and treatments through digital platforms, offering scalable and accessible solutions for managing chronic conditions and improving health outcomes.', 'Digital health innovations hold the potential to transform healthcare delivery, improve patient engagement, enhance preventive care, and reduce healthcare costs, paving the way for a more efficient and patient-centric healthcare system.', 'Cloud-based health platforms facilitate secure storage and sharing of electronic health records, enabling seamless access to patient information across healthcare settings.', 'Health apps and wearable devices enable individuals to track their daily activities, monitor sleep patterns, and receive personalized recommendations for maintaining a healthy lifestyle.', 'Health wearables with built-in sensors can detect and alert individuals to potential health risks, such as irregular heartbeats or falls, ensuring timely medical attention.', 'Health informatics systems aggregate and analyze health data from various sources, facilitating evidence-based decision-making and improved healthcare delivery.'], 'Discrimination': ['This research article investigates the prevalence of racial discrimination in hiring practices for minority populations.', 'Our study aims to examine the discriminatory treatment faced by individuals with disabilities.', 'We explore the intersectional discrimination experienced by marginalized groups based on their race, gender, and socioeconomic status.', 'There is a systemic discrimination faced by the LGBTQ+ community that has consequences on their well-being.', 'Subtle forms of age discrimination are experienced by older employees in the workplace, affecting their job security.', 'Educational discrimination is usually faced by students from low-income backgrounds, exploring the unequal distribution of resources and opportunities.', 'Our research investigates the discriminatory practices and policies within the criminal justice system, focusing on racial disparities in arrests, sentencing, and incarceration rates.', 'We explore the impact of language-based discrimination on immigrant communities.', 'Gender discrimination in the labor market assesses the wage gap and disparities in career advancement opportunities.', 'Religious discrimination encompasses prejudiced attitudes, unequal treatment, and systemic barriers faced by individuals and communities based on their religious beliefs or affiliations.'], 'eHealth': ['eHealth technologies enable patients to securely access their medical records online.', 'The adoption of eHealth solutions has streamlined healthcare processes and improved patient outcomes.', \"Telemonitoring systems in eHealth allow healthcare providers to remotely monitor patients' vital signs.\", 'eHealth platforms facilitate online consultations, providing convenient access to healthcare professionals.', 'Electronic prescribing through eHealth systems reduces medication errors and enhances medication management.', 'Mobile health (mHealth) apps are a popular component of eHealth, empowering individuals to track their health and wellness.', 'eHealth initiatives support the exchange of health information between healthcare organizations for improved care coordination.', 'Personal health records (PHRs) are an integral part of eHealth, allowing patients to maintain and manage their health information.', 'eHealth solutions promote patient engagement by providing educational resources and interactive tools.', 'The implementation of eHealth technologies has the potential to enhance healthcare accessibility and improve population health outcomes.'], 'Electronic Health Records': [\"Electronic Health Records (EHRs) digitize patients' medical history, diagnoses, treatments, and other healthcare information.\", 'EHR systems streamline healthcare workflows by providing easy access to patient data for healthcare providers.', \"EHRs enhance coordination of care among different healthcare providers involved in a patient's treatment.\", 'Electronic prescribing through EHRs reduces medication errors and improves medication management.', 'EHRs support data-driven decision-making by providing comprehensive patient information at the point of care.', 'EHR systems improve communication and information sharing among healthcare professionals, leading to better care coordination.', 'EHRs facilitate secure and efficient sharing of patient records across healthcare organizations and providers.', 'Meaningful Use criteria ensure that EHR systems meet specific standards for functionality and interoperability.', 'EHRs enable patients to access and manage their own health records through patient portals.', 'The adoption of EHRs has the potential to improve healthcare quality, patient safety, and healthcare efficiency.'], 'Empirical Study': ['Our data-driven study employed regression analysis to investigate the effects of all measured variables.', 'In this statistical study, we aimed to analyze the correlation between age and cognitive performance in a sample of individuals.', 'In this analytical research, we utilized a large dataset to explore the association between habits and the risk of developing the condition.', 'This empirical study investigates the impact of employee motivation on productivity in the workplace using a comprehensive survey and statistical analysis.', 'Using advanced statistical techniques such as factor analysis and cluster analysis, this study examined the factors influencing consumer behavior in the industry.', 'This study employed a random sample of participants to conduct a statistical analysis of the relationship between the variables.', 'Our statistical study employed a longitudinal design to investigate long-term effects.', 'Using logistic regression analysis, this study examined the predictors of job satisfaction among professionals in a large setting.', 'This empirical study employed structural equation modeling (SEM) to examine the complex relationships between the different variables.', 'As the authors of this empirical study, we collected extensive data through surveys.', 'In this research article, we present the results of our statistical investigation into the association.', 'In this interdisciplinary collaboration, we integrated data from various sources to perform a statistical study that examined the impact of our topic.'], 'Environmental Conservation': [\"Environmental protection is crucial for preserving the planet's natural resources and biodiversity.\", 'Air pollution poses significant health risks and necessitates effective mitigation measures.', 'Proper health waste incineration practices are essential to prevent environmental contamination.', 'Water treatment processes ensure the supply of clean and safe drinking water to communities.', 'Pollution, whether from industrial activities or improper waste disposal, has detrimental effects on the environment.', 'Sustainable waste management practices help reduce pollution and promote environmental sustainability.', 'The adoption of renewable energy sources plays a vital role in achieving environmental sustainability goals.', 'Conservation efforts are necessary to protect fragile ecosystems and endangered species.', 'Recycling initiatives help reduce the amount of waste sent to landfills and conserve valuable resources.', 'Sustainable agriculture practices focus on minimizing environmental impacts and preserving soil health.'], 'Evidence From Patients': [\"Patient testimonials and surveys were collected to provide evidence of the treatment's effectiveness.\", 'A randomized controlled trial was conducted with a sample of 200 patients, showing strong evidence of positive outcomes.', 'Patient-reported outcomes were measured using validated questionnaires, providing valuable evidence for treatment efficacy.', 'In-depth interviews with patients revealed important insights into their experiences, supporting the evidence for alternative therapies.', 'Patient satisfaction surveys demonstrated overwhelming support for the new healthcare model, adding robust evidence to its implementation.', \"Patients' medical records were analyzed, and the data indicated a significant correlation between treatment adherence and positive health outcomes.\", \"Qualitative analysis of patients' narratives highlighted common themes and experiences, contributing valuable evidence to the study.\", 'A large-scale observational study involving 5,000 patients provided substantial evidence of the long-term effects of the intervention.', \"Patients' self-reported pain levels were measured using a standardized scale, revealing a statistically significant reduction after the treatment.\", 'Patient focus groups were conducted to gather qualitative data, adding depth and richness to the evidence base.'], 'Global Health': ['Addressing health disparities and promoting equitable access to healthcare services across borders, global health initiatives strive to improve health outcomes for populations around the world.', 'International health programs focus on capacity building, knowledge transfer, and sustainable interventions to empower local communities and promote self-sufficiency in healthcare delivery.', 'Global health research and data analysis inform evidence-based policies and interventions, guiding decision-makers in shaping effective strategies to address the health needs of diverse populations worldwide.', 'Global health initiatives aim to tackle the health challenges faced by populations worldwide, focusing on disease prevention, health promotion, and equitable access to healthcare services.', 'Collaborative efforts among governments, NGOs, and international organizations drive global health programs to address infectious diseases, maternal and child health, nutrition, and other pressing health issues.', 'Global health research plays a crucial role in understanding disease patterns, identifying risk factors, and developing effective interventions for global health challenges.', 'Strengthening health systems and infrastructure in low- and middle-income countries is a core objective of global health initiatives, enabling effective healthcare delivery and improving population health.', 'Vaccination campaigns and immunization programs are vital components of global health strategies, preventing the spread of infectious diseases and saving countless lives.', 'Health education and community engagement initiatives promote awareness, empower individuals, and facilitate behavior change to improve health outcomes in diverse communities worldwide.', 'Access to essential medicines and affordable healthcare is a key focus of global health efforts, aiming to ensure that all individuals have access to life-saving treatments.'], 'Global Threats': ['Climate change poses a significant threat as rising temperatures lead to extreme weather events, sea-level rise, and ecosystem disruption.', 'Emerging infectious diseases, such as the recent outbreaks of Ebola and Zika, demonstrate the risk posed by the rapid spread of novel pathogens.', 'Global health security, encompassing preparedness for pandemics and emerging infectious diseases, requires international cooperation.', 'The burden of malnutrition, encompassing undernutrition, micronutrient deficiencies, and obesity, remains a multifaceted challenge.', 'Ongoing war conflicts in regions like Syria, Yemen, and Afghanistan have resulted in humanitarian crises, displacement, and loss of life.', 'The proliferation of nuclear weapons and the escalating tensions between nuclear-armed nations raise the specter of a potential nuclear war.', 'The COVID-19 pandemic, originating from a zoonotic virus, has demonstrated the devastating impact of infectious diseases on a global scale.', 'The intersection of armed conflicts and the COVID-19 pandemic has exacerbated humanitarian challenges, including limited access to healthcare.', 'Armed conflicts, fueled by political, social, or ethnic tensions, result in widespread violence, displacement, and human suffering.'], 'Healthcare Financing': ['Health financing mechanisms, such as taxation and insurance schemes, play a vital role in ensuring equitable access to healthcare services.', 'The rising cost of healthcare has become a major concern for governments, as it poses challenges to sustainable health financing.', 'Health system financing can be influenced by macroeconomic factors, such as economic growth rates, inflation, and government budget allocations.', \"International cooperation and financial assistance can play a pivotal role in supporting low-income countries' efforts to strengthen their health financing systems and achieve sustainable healthcare.\", 'Economic indicators, such as GDP (Gross Domestic Product) and CPI (Consumer Price Index), provide measures of economic activity and inflation, respectively.', 'In the realm of health financing and the economy, I navigate the complex landscape where inadequate funding poses significant challenges.', 'With a keen eye on economic indicators and demographic factors, I delve into the intricate process of allocating health budgets.', 'Investigating sustainable health financing strategies that ensure comprehensive care for all members of society, irrespective of their socioeconomic status.', 'By examining cost-per-patient, we can identify variations in healthcare expenses across different patient populations.', 'Cost-per-patient analysis plays a pivotal role in evaluating the cost-effectiveness of healthcare interventions.'], 'Human Rights': ['The Universal Declaration of Human Rights, adopted by the United Nations General Assembly in 1948, establishes the fundamental rights and freedoms to which all individuals are entitled, regardless of their nationality, race, religion, or gender.', 'Freedom of expression is crucial, encompassing the right to hold opinions, seek, receive, and impart information and ideas through any media, without interference.', 'Equality before the law ensures that all individuals have the right to be treated equally by the legal system, irrespective of their race, color, sex, language, religion, political or other opinion, national or social origin, property, birth, or other status.', 'The prohibition of slavery and forced labor upholds the fundamental right that no one should be held in servitude or compelled to work against their will.', 'The rights of refugees and asylum seekers include the right to seek and enjoy asylum from persecution, protection from refoulement, access to fair procedures, and assistance in rebuilding their lives.', 'In a just society, every individual deserves the right to be treated with dignity and respect, free from any form of discrimination or oppression.', 'This fight extends beyond national borders, as the international community strives to establish a universal framework that safeguards the inherent rights of every human being.', 'The right to freedom of thought, conscience, and religion encompasses the freedom to embrace or reject beliefs, fostering a society that values diversity and tolerance.', 'Universal healthcare access promotes social justice by eliminating barriers to medical care, guaranteeing that no one is left behind due to financial constraints or discriminatory practices.', 'The vision of universal healthcare access transcends borders, aiming to create a world where everyone, regardless of their nationality or residence, can access necessary healthcare services.'], 'Humanitarian Response': ['International organizations provide emergency relief and humanitarian aid to regions affected by natural disasters.', 'Humanitarian crises require immediate response and coordinated efforts to deliver lifesaving assistance to affected populations.', 'Disaster relief efforts aim to provide food, water, medical supplies, and shelter to communities devastated by natural or man-made disasters.', 'Humanitarian organizations play a crucial role in responding to humanitarian disasters and supporting affected communities.', 'Rapid deployment of humanitarian aid teams is essential in addressing the urgent needs of populations affected by crises.', 'The international community comes together to provide humanitarian assistance during times of humanitarian disasters.', 'Humanitarian relief operations focus on delivering aid and restoring essential services in disaster-stricken areas.', 'Collaborative efforts between governments, NGOs, and local communities are vital in providing effective emergency relief and humanitarian support.', 'Humanitarian actors work tirelessly to alleviate the suffering of individuals affected by humanitarian crises and disasters.', 'Timely and well-coordinated humanitarian interventions are critical for saving lives and rebuilding communities in the aftermath of disasters.'], 'Knowledge Management': ['Knowledge management plays a pivotal role in fostering innovation and driving evidence-informed policy and practice in global health, enabling stakeholders to leverage existing knowledge for impactful decision-making.', 'Collaborative platforms and social media can be utilized within knowledge management frameworks to foster dialogue, peer-to-peer learning, and the exchange of innovative ideas among global health professionals.', 'Knowledge management practices should incorporate mechanisms for ongoing monitoring and evaluation to assess the effectiveness and impact of information dissemination and knowledge sharing initiatives.', 'The use of semantic technologies, such as ontologies and metadata standards, can enhance the interoperability and discoverability of global health scientific reports and journal publications within knowledge management systems.', 'Knowledge management also involves the development of knowledge sharing networks and communities of practice, where professionals from diverse backgrounds collaborate to solve complex health challenges and share their experiences.', 'Knowledge management systems can utilize various approaches, such as content management, data mining, and knowledge discovery, to extract valuable insights and patterns from scientific reports and journal publications.', 'One example of knowledge management in the global health context is the development of a centralized database that consolidates research findings, clinical trials, and epidemiological data to inform evidence-based decision-making.', 'Knowledge management is a multidisciplinary field that encompasses the systematic collection, organization, and dissemination of information and expertise within an organization or community.'], 'Lifestyle Factors': [\"Various lifestyle factors such as diet, physical activity, smoking, and alcohol consumption have a significant impact on an individual's overall health and well-being.\", 'Sedentary behavior, such as spending excessive time sitting or lying down, is associated with an increased risk of chronic diseases like obesity and cardiovascular disorders.', 'Engaging in regular exercise, including both aerobic and strength training activities, is a crucial factor that promotes physical fitness, improves cardiovascular health, and enhances mental well-being.', 'A balanced and nutritious diet that includes a variety of fruits, vegetables, whole grains, lean proteins, and healthy fats.', 'Stress management techniques are ones such as mindfulness meditation, deep breathing exercises, and engaging in hobbies or activities that promote relaxation.', 'Modifiable lifestyle factors, such as avoiding excessive sugar and processed food consumption, maintaining a healthy body weight, and limiting alcohol intake, are key strategies for reducing the risk of developing chronic diseases.', 'Developing coping mechanisms, seeking support during challenging times, and maintaining a positive outlook contributes to overall well-being and the ability to bounce back from adversity.', 'Chronic stress resulting from work-related pressures, excessive responsibilities, or personal issues can negatively affect mental well-being, leading to anxiety, depression, and burnout.', 'Engaging in risky behaviors, such as unprotected sex, reckless driving, or participating in dangerous activities, increases the likelihood of injury, illness, or adverse outcomes.', 'Neglecting personal self-care, such as failing to prioritize regular exercise, healthy eating, and relaxation, can result in poor physical health and reduced well-being.', 'Consuming a diet high in processed foods, sugary beverages, and unhealthy fats, coupled with a sedentary lifestyle, significantly increases the risk of obesity and related health complications.'], 'Literature Review': [\"This manuscript represents an author's perspective on the existing literature, aiming to bridge the gap between research and practice in the field of health informatics, advocating for the integration of innovative technologies to improve healthcare delivery and patient outcomes.\", 'The literature review encompasses a wide range of studies, including randomized controlled trials, cohort studies, systematic reviews, and meta-analyses, to present a balanced view of the existing evidence.', 'Through an extensive literature search, we analyze the various risk factors associated with mental health disorders, including genetic predisposition, environmental influences, and socio-economic determinants.', 'The literature review section provides a comprehensive analysis of existing research on the topic, highlighting key findings and identifying research gaps.', 'The literature review examines a wide range of methodologies employed in previous studies, including experimental designs, surveys, and case studies.', 'The literature review discusses the evolution of research in the field, tracing the historical development of concepts and theories.', 'Various subtopics within the broader research area have been addressed in the literature review, including risk factors, prevention strategies, and treatment modalities.', 'Extensive literature on the topic reveals the challenges faced by researchers in data collection, measurement, and analysis, as discussed in the review.', 'The literature review encompasses a broad range of sources, including scholarly articles, books, conference proceedings, and reports from reputable organizations.', 'Our review encompasses studies conducted across different countries and settings, ensuring a global perspective on the research topic.', 'As researchers, we critically evaluate the strengths and weaknesses of prior studies, offering a nuanced perspective on the research landscape.', 'Our review of the literature serves as a foundational framework for our own study, enabling us to build upon existing knowledge and make meaningful contributions to the field.'], 'Logistics and Supply Chain': ['Logistics and supply chain management play a vital role in ensuring the efficient flow of medical resources and supplies.', 'Effective logistics planning is crucial for timely delivery of essential medical equipment and medications.', 'Supply chain coordination is necessary to optimize inventory management and prevent shortages in healthcare settings.', 'Logistics strategies help streamline the distribution of medical resources.', 'Efficient supply chain operations contribute to improved accessibility of healthcare products and services.', 'Warehouse management and distribution systems are essential components of logistics and supply chain in the healthcare industry.', 'Transportation logistics ensure the safe and secure movement of medical supplies from manufacturers to healthcare facilities.', 'Supply chain optimization techniques help minimize costs, reduce waste, and improve overall resource allocation.', 'Effective supply chain management enhances the resilience and responsiveness of healthcare systems during challenging circumstances.', 'Logistics and supply chain professionals play a critical role in ensuring the availability and efficient utilization of medical resources.'], 'Medical Imaging': ['The CT scan revealed a well-defined mass in the lung parenchyma.', \"MRI imaging showed a torn meniscus in the patient's right knee.\", 'Ultrasound examination displayed an enlarged liver with multiple cystic lesions.', 'PET-CT imaging demonstrated increased metabolic activity in the lymph nodes.', 'The mammogram revealed a suspicious microcalcification cluster in the left breast.', \"Nuclear medicine imaging revealed decreased perfusion in the patient's brain.\", 'The angiogram showed a severe blockage in the coronary artery.', 'Diffusion-weighted MRI detected restricted diffusion in the ischemic brain region.', \"X-ray imaging demonstrated a fracture in the patient's left radius.\", 'The bone scan revealed increased uptake in the sacroiliac joint, indicating inflammation.'], 'Medical Report': ['Patient presented with persistent dry cough, high-grade fever (39.5°C), and shortness of breath.', 'Lab results indicated elevated levels of LDL cholesterol (180 mg/dL) and triglycerides (200 mg/dL).', 'X-ray revealed a displaced fracture of the right distal radius, confirmed by the angulated fracture line.', 'MRI scan demonstrated a 3 cm intracranial tumor with irregular borders and perifocal edema.', 'Blood tests exhibited severe vitamin D deficiency (serum 25-hydroxyvitamin D level: 8 ng/mL).', 'Patient complained of exertional dyspnea, fatigue, and reduced exercise tolerance during the past month.', 'ECG displayed sinus tachycardia with occasional premature ventricular contractions (PVCs).', 'Antibiotics (Amoxicillin-Clavulanate 875/125 mg) prescribed for the treatment of acute bacterial sinusitis.', 'Ultrasound scan revealed multiple hypoechoic liver lesions, suggesting possible metastatic disease.', 'Detailed medical history revealed a strong family history of type 2 diabetes mellitus, affecting parents and siblings.'], 'Natural Language Processing': ['Sentiment analysis, part-of-speech tagging, and named entity recognition are the main pillars of it.', 'Machine translation aims to automatically translate text from one language to another.', 'Question answering systems enable computers to understand and respond to user queries in a human-like manner.', 'Topic modeling techniques, such as Latent Dirichlet Allocation (LDA) and Non-negative Matrix Factorization (NMF), are commonly used in natural language processing to discover hidden themes and patterns within a corpus.', 'Language generation models, such as RNNs with attention mechanisms, have been used to generate coherent and contextually relevant text in applications like text summarization and dialogue systems.', 'Language modeling involves predicting the next word or phrase in a sentence based on the context and previously observed text.', 'Clinical text mining aims to extract valuable information from health records, medical literature, and other healthcare texts to support clinical decision-making and research.', 'ELMo (Embeddings from Language Models) is a deep contextualized word representation model that leverages bidirectional LSTMs (Long Short-Term Memory) to generate word embeddings that capture contextual information.', 'Word2Vec, a popular word embedding model, has been widely employed to capture semantic relationships between words.', 'GPT-3 (Generative Pre-trained Transformer 3) is a powerful language model that has demonstrated impressive capabilities in generating coherent and contextually relevant text, enabling applications like text completion, dialogue systems, and content generation.'], 'Propositions and Guidelines': ['The proposed guidelines outline best practices for infection control in healthcare settings.', 'The study puts forth a proposition for a new screening method to detect early signs of cardiovascular disease.', 'These guidelines recommend a standardized approach for patient counseling in cases of chronic illness.', 'The research paper presents evidence-based propositions for improving mental health services in underserved communities.', 'The guidelines propose a framework for implementing telemedicine in rural areas to improve access to healthcare.', 'Based on a comprhensive study, we offer guidelines for the management of pediatric asthma.', 'The research team suggests a set of guidelines to optimize medication dosages in elderly patients.', 'The proposed framework provides guidelines for developing and evaluating health education interventions.', 'The study introduces evidence-based propositions for reducing hospital-acquired infections.', 'These guidelines offer recommendations for the prevention and control of infectious diseases in schools and educational institutions.'], 'Public Health Law': ['Public laws play a crucial role in shaping policies and regulations to protect and promote the well-being of communities.', 'Legislative power in the realm of public health law empowers governments to establish regulations and enforce measures aimed at safeguarding population health.', 'These laws may also address issues such as tobacco control, food safety regulations, and environmental health policies.', 'Legislators play a critical role in shaping policies by drafting, debating, and voting on bills that address pressing public health challenges.', 'Legal frameworks for epidemic emergencies grant authorities the power to implement measures such as mandatory testing, contact tracing, and isolation to mitigate the impact of outbreaks.', 'It grants us the authority to implement measures such as mandatory vaccinations, quarantine protocols, and food safety regulations.', 'By crafting laws that promote health equity, we can work towards narrowing the gap in health outcomes and improving overall population well-being.', 'As we draft and debate public health bills, we must engage with legal experts, healthcare professionals, and community stakeholders to ensure a fair and inclusive approach.', 'Pursuant to Articles of the Constitution, this law shall grant the competent public health authority the power to declare a public health emergency in the event of an outbreak or disaster. ', 'It may encompass regulations such as mandatory vaccination requirements, food safety standards, tobacco control measures, disease surveillance and reporting systems, and the power to declare and respond to public health emergencies.'], 'Publicly Funded Science': ['Government-sponsored research programs play a crucial role in advancing scientific knowledge and innovation.', 'The National Science Foundation (NSF) grants provide substantial support for research initiatives in various scientific disciplines.', \"The Government's program offers substantial financial backing to scientific research across member countries.\", 'Many scientific breakthroughs and technological advancements are a result of public-private partnerships and government funding.', 'As authors, we would like to express our gratitude to the generous government-sponsored funding provided by them.', 'In this collaborative effort, we acknowledge the support of public funding that has allowed us to delve into the intricate mechanisms of our topic.', 'With the backing of government-sponsored grants, we embarked on a groundbreaking study.', 'The invaluable financial support from government-funded programs has empowered us, as researchers, to explore novel approaches.', 'This publication marks the culmination of years of dedicated research, made possible by the unwavering support from government-sponsored initiatives.'], 'Regional Implementation': ['The implementation of these type of policies is crucial for addressing the specific challenges and impacts faced by different geographical areas.', 'Healthcare initiatives implemented in remote communities requires collaboration between multiple stakeholders, such as governments, healthcare providers, and community organizations.', 'Successful execution of public health campaigns, such as vaccination drives or disease prevention programs, relies on engagement with local communities.', 'Health projects in remote areas require overcoming logistical challenges, such as limited infrastructure and access to healthcare facilities.', 'It is crucial to reach vulnerable populations in remote regions with limited healthcare resources.', 'Health project implementation in conflict-affected regions requires careful coordination with humanitarian organizations, local authorities, and community leaders, particularly in low-income countries.', 'LMICs, such as Rwanda or Bangladesh, requires tailored strategies that address the unique socio-economic and healthcare challenges faced by these countries.', 'Digital health solutions have shown great potential in improving healthcare access and outcomes in LMICs like Kenya or India.', 'Global health initiatives, such as the implementation of HIV/AIDS prevention and treatment programs in LMICs like South Africa or Zambia, have played a pivotal role in reducing infection rates.', 'Digital health solutions have the potential to revolutionize access and delivery in sub-continents like South America, West Africa, and Oceania, where remote consultations can bridge geographical barriers.'], 'Risk Management': ['It involves identifying, assessing, and mitigating potential risks to ensure the success and safety of a project, process, or organization.', 'We aim to proactively anticipate and address potential threats that may arise during the course of scientific research or publication.', 'Most of our time was spent to developing contingency plans to minimize the adverse effects of identified risks and maintain project objectives.', 'These strategies should encompass both external risks, such as market fluctuations or regulatory changes, and internal risks like team conflicts or resource constraints.', 'In global health, it involves identifying and addressing potential threats to public health on a global scale, such as infectious disease outbreaks or natural disasters.', 'A way to mitigate the spread and impact of diseases by implementing preventive measures, early detection systems, and rapid response protocols.', 'We should ensure buildings of resilient healthcare systems that can withstand and respond to various health risks.', 'Preparedness methods may involve developing and implementing vaccination strategies, disease surveillance systems, and infection control measures to prevent the spread of communicable diseases.', 'In the context of humanitarian crises, risk management encompasses assessing and managing risks related to food insecurity, water scarcity, disease outbreaks, and displacement.', 'Humanitarian organizations employ such approaches to develop and implement emergency response plans, ensuring the timely and appropriate delivery of life-saving assistance.'], 'Social Analysis': ['In our research, we employed a mixed-methods approach to explore the social dynamics and cultural influences.', 'This analysis was conducted through an examination of historical records and interviews with community members.', 'Using network analysis techniques, we explored the social interactions and information flow within online communities.', 'Using a combination of archival research and discourse analysis, we conducted a social analysis of media representations of marginalized communities, examining the perpetuation of stereotypes.', 'Our study utilized social network analysis to examine patterns of collaboration and information sharing.', 'Our study conducted a social analysis of the influence of social media fitness influencers on shaping exercise behaviors and promoting healthy lifestyles, focusing on platforms such as Instagram and YouTube.', 'By analyzing social structures, cultural norms, and interpersonal relationships, we gained insights into social determinants.', \"We conducted an in-depth investigation into the societal and cultural dimensions that shape individuals' attitudes and behaviors.\", 'We employed a mixed-methods approach, combining quantitative surveys and qualitative interviews, to gain a comprehensive understanding of social dynamics.', 'Our study involved mapping social networks and analyzing social connections to identify influential individuals and groups.'], 'Substance Abuse': ['It refers to the harmful or excessive use of substances such as alcohol, tobacco, prescription drugs, or illicit drugs, leading to negative psychological consequences.', 'There has been an alarming increase in the prevalence of substance abuse among adolescents, with a particular focus on illicit drug use such as marijuana, cocaine, and ecstasy.', 'Some treatment options for addictions exist and may include detoxification, counseling, support groups, medication-assisted therapy, or residential rehabilitation programs.', 'The use of opioids, including prescription painkillers and heroin, has reached epidemic levels in many countries.', 'Stimulant abuse, such as the misuse of amphetamines or cocaine, can have profound effects on the central nervous system.', 'Alcoholism, characterized by the chronic and excessive consumption of alcohol, is a common cause of liver damage.', 'Polydrug use, the simultaneous or sequential use of multiple substances, can exacerbate the risks lead to overdose, organ damage, and cognitive impairment.', 'I found myself relying on prescription painkillers like oxycodone just to get through the day.', 'The pressure to fit in during college led me to experiment with binge drinking, which eventually spiraled into a full-blown alcohol addiction.', 'I started experimenting with cocaine during my college years, thinking it was just a recreational activity among friends.'], 'Surgery': ['The plastic surgeon performed a reconstructive surgery to repair facial injuries sustained in an accident.', \"The surgeon conducted a bilateral mastectomy as part of the patient's treatment for breast cancer.\", 'The patient underwent a corneal transplant surgery to improve vision in the affected eye.', 'Bariatric surgery was performed as a weight-loss intervention for the morbidly obese patient.', 'The patient underwent a laparoscopic cholecystectomy to remove the gallbladder.', 'Open-heart surgery was performed to repair a congenital heart defect in the newborn.', 'The surgeon conducted a robotic-assisted prostatectomy to treat localized prostate cancer.', 'Emergency appendectomy was performed to address acute appendicitis in the patient.', 'The orthopedic surgeon performed a total knee replacement surgery to alleviate severe joint pain.', 'Neurosurgery was conducted to remove a brain tumor and relieve pressure on the surrounding tissues.'], 'Sustainable Development Goals': ['SDGs are a set of 17 global objectives established by the United Nations to address various social, economic, and environmental challenges.', 'It focuses on eradicating poverty and achieving economic prosperity while ensuring social inclusion and reducing inequality.', 'Goal 2 emphasizes the need to end hunger, achieve food security, improve nutrition, and promote sustainable agriculture practices.', 'An important objective is to secure universal access to healthcare.', 'Main addresses are made towards gender equality and empowerment of women and girls, promoting their participation in decision-making processes.', 'Ensuring availability and sustainable management of water and sanitation for all, including access to clean drinking water and adequate sanitation facilities, is a priority.', 'SDGs aim to reduce inequalities within and among countries, addressing issues related to income inequality, social inclusion, and the promotion of equal opportunities.', 'They represent an ambitious and comprehensive framework to address the pressing global challenges facing humanity in the 21st century.', 'The Paris Agreement is an international treaty adopted in 2015 that aims to limit global warming to well below 2 degrees Celsius above pre-industrial levels and pursue efforts to keep it below 1.5 degrees Celsius.', 'The 2030 Agenda for Sustainable Development is a resolution adopted by the United Nations General Assembly that provides a framework for countries to implement the SDGs through national laws and policies.', 'Rising global temperatures as a result of climate change have led to more frequent and intense extreme weather events, such as hurricanes, droughts, and heatwaves.'], 'Systematic Review': ['In a systematic review, researchers conduct a thorough literature search, identify relevant studies, and critically appraise their quality and methodology.', 'Systematic reviews often involve meta-analysis, which combines data from multiple studies to generate more robust and precise estimates of treatment effects.', 'The process of data extraction in a systematic review involves extracting key information from selected studies, such as study design, population characteristics, and intervention details.', 'Systematic reviews often employ statistical techniques, such as subgroup analyses and sensitivity analyses, to explore heterogeneity and evaluate the robustness of the findings.', 'The Preferred Reporting Items for Systematic Reviews and Meta-Analyses (PRISMA) statement provides guidelines for transparent reporting of systematic reviews.', 'In my systematic review, I meticulously performed a literature search, identified relevant studies, and critically assessed their quality and methodology.', 'In my publication, I incorporated meta-analysis techniques to combine data from multiple studies, producing more robust and precise estimates of treatment effects.', 'Throughout the process of data extraction, I carefully extracted key information from the selected studies, including study design, population characteristics, and intervention details.', 'Assessing the quality of each individual study was a crucial step in my systematic review, as it allowed me to evaluate the risk of bias and the overall strength of the evidence.', 'Through my systematic review, I aimed to provide clinicians, policymakers, and fellow researchers with a comprehensive overview of the available evidence, assisting them in making informed decisions and identifying areas for future research.', 'As authors of a systematic review, our collective goal is to conduct a comprehensive evaluation and synthesis of the existing evidence on a specific research question.'], 'Telemedicine': ['Telemedicine enables patients to consult with healthcare providers remotely using video conferencing technology.', \"Remote monitoring devices in telemedicine allow healthcare professionals to track patients' vital signs from a distance.\", 'Telemedicine appointments provide convenient access to healthcare for individuals in remote or underserved areas.', 'Virtual consultations through telemedicine reduce unnecessary travel and wait times for patients.', 'Telemedicine offers the opportunity for healthcare professionals to collaborate and consult with specialists remotely.', 'Through telemedicine, healthcare providers can remotely diagnose and manage non-emergency medical conditions.', 'Telemedicine has gained popularity during the COVID-19 pandemic as a way to provide safe and accessible healthcare services.', 'Telemedicine improves healthcare access for individuals with mobility limitations or transportation challenges.'], 'Violence': ['Violence includes physical assaults, verbal threats, and harassment towards professional and poses significant risks to their well-being.', 'Violence refers to the intentional use of physical force or power, resulting in harm or injury to individuals or communities.', 'Domestic violence on women has shown a strong association between intimate partner violence and various adverse outcomes, including physical injuries and mental disorders.', 'Violence against children, encompassing physical abuse, sexual abuse, and neglect, poses significant threats to their overall well-being and can have long-lasting consequences on their physical and mental well-being.', 'Individuals living in areas with high levels of violence are at increased risk of developing post-traumatic stress disorder (PTSD), depression, and anxiety disorders.', 'Domestic violence is characterized by the perpetration of abuse within intimate partner relationships.', 'Gender-based violence, including sexual assault and domestic violence, represents an entrenched societal challenge.', 'Youth violence, which encompasses gang-related violence and interpersonal conflicts leads to a vulnerable population.', 'Political violence, encompassing civil unrest and armed conflict, engenders a deterioration of health services and infrastructure, precipitating grave public health consequences in affected regions.', 'Violence within educational settings includes bullying and school shootings.', 'Violence, a multifaceted and pervasive phenomenon, encompasses a broad spectrum of aggressive and destructive behaviors, ranging from physical assaults and sexual abuse to psychological torment and systemic oppression and poses a significant threat.', 'Violence manifests in various forms, including interpersonal violence, armed conflicts, acts of terrorism, and structural violence, leading to widespread suffering, trauma, and profound disruptions in social cohesion.']}\n",
      "Training Custom Dataset Loaded\n"
     ]
    }
   ],
   "source": [
    "import pandas as pd\n",
    "import spacy\n",
    "import classy_classification\n",
    "\n",
    "\n",
    "df = pd.read_excel('data/textcat_fewshot_data.xlsx')\n",
    "data = {}\n",
    "\n",
    "for column in df.columns:\n",
    "    data[column] = df[column].dropna().tolist()\n",
    "\n",
    "# Print the resulting dictionary\n",
    "print(data)\n",
    "print('Training Custom Dataset Loaded')"
   ]
  },
  {
   "cell_type": "code",
   "execution_count": 3,
   "metadata": {},
   "outputs": [
    {
     "data": {
      "application/vnd.jupyter.widget-view+json": {
       "model_id": "24b239188a8c4743b391f956f5c4279c",
       "version_major": 2,
       "version_minor": 0
      },
      "text/plain": [
       "Downloading:   0%|          | 0.00/1.18k [00:00<?, ?B/s]"
      ]
     },
     "metadata": {},
     "output_type": "display_data"
    },
    {
     "data": {
      "application/vnd.jupyter.widget-view+json": {
       "model_id": "6a35b649bf9c49b893073f2076d867ae",
       "version_major": 2,
       "version_minor": 0
      },
      "text/plain": [
       "Downloading:   0%|          | 0.00/190 [00:00<?, ?B/s]"
      ]
     },
     "metadata": {},
     "output_type": "display_data"
    },
    {
     "data": {
      "application/vnd.jupyter.widget-view+json": {
       "model_id": "f567e7c7bd66485aafd5b01319182019",
       "version_major": 2,
       "version_minor": 0
      },
      "text/plain": [
       "Downloading:   0%|          | 0.00/10.6k [00:00<?, ?B/s]"
      ]
     },
     "metadata": {},
     "output_type": "display_data"
    },
    {
     "data": {
      "application/vnd.jupyter.widget-view+json": {
       "model_id": "a54174e44fdd4abbbbdf2c37698be0f4",
       "version_major": 2,
       "version_minor": 0
      },
      "text/plain": [
       "Downloading:   0%|          | 0.00/612 [00:00<?, ?B/s]"
      ]
     },
     "metadata": {},
     "output_type": "display_data"
    },
    {
     "data": {
      "application/vnd.jupyter.widget-view+json": {
       "model_id": "43f4787b48394637b911a9e0b222bef9",
       "version_major": 2,
       "version_minor": 0
      },
      "text/plain": [
       "Downloading:   0%|          | 0.00/116 [00:00<?, ?B/s]"
      ]
     },
     "metadata": {},
     "output_type": "display_data"
    },
    {
     "data": {
      "application/vnd.jupyter.widget-view+json": {
       "model_id": "f9b7168bf0ea4a848264c5269a99a981",
       "version_major": 2,
       "version_minor": 0
      },
      "text/plain": [
       "Downloading:   0%|          | 0.00/39.3k [00:00<?, ?B/s]"
      ]
     },
     "metadata": {},
     "output_type": "display_data"
    },
    {
     "data": {
      "application/vnd.jupyter.widget-view+json": {
       "model_id": "22e41c5b0aa642b3a25e06edf7ae9cdd",
       "version_major": 2,
       "version_minor": 0
      },
      "text/plain": [
       "Downloading:   0%|          | 0.00/90.9M [00:00<?, ?B/s]"
      ]
     },
     "metadata": {},
     "output_type": "display_data"
    },
    {
     "data": {
      "application/vnd.jupyter.widget-view+json": {
       "model_id": "e267fa5e1bb5418eb76aab74728a6290",
       "version_major": 2,
       "version_minor": 0
      },
      "text/plain": [
       "Downloading:   0%|          | 0.00/53.0 [00:00<?, ?B/s]"
      ]
     },
     "metadata": {},
     "output_type": "display_data"
    },
    {
     "data": {
      "application/vnd.jupyter.widget-view+json": {
       "model_id": "15e41d4b88bd424ba44b4f547ebca62c",
       "version_major": 2,
       "version_minor": 0
      },
      "text/plain": [
       "Downloading:   0%|          | 0.00/112 [00:00<?, ?B/s]"
      ]
     },
     "metadata": {},
     "output_type": "display_data"
    },
    {
     "data": {
      "application/vnd.jupyter.widget-view+json": {
       "model_id": "2a6b30eed8aa4923b3708383476de602",
       "version_major": 2,
       "version_minor": 0
      },
      "text/plain": [
       "Downloading:   0%|          | 0.00/466k [00:00<?, ?B/s]"
      ]
     },
     "metadata": {},
     "output_type": "display_data"
    },
    {
     "data": {
      "application/vnd.jupyter.widget-view+json": {
       "model_id": "d1d9d769cf1b481c8701d6d76e189a9b",
       "version_major": 2,
       "version_minor": 0
      },
      "text/plain": [
       "Downloading:   0%|          | 0.00/350 [00:00<?, ?B/s]"
      ]
     },
     "metadata": {},
     "output_type": "display_data"
    },
    {
     "data": {
      "application/vnd.jupyter.widget-view+json": {
       "model_id": "f4f4179633d74c7abf59d5dd88a1b418",
       "version_major": 2,
       "version_minor": 0
      },
      "text/plain": [
       "Downloading:   0%|          | 0.00/13.2k [00:00<?, ?B/s]"
      ]
     },
     "metadata": {},
     "output_type": "display_data"
    },
    {
     "data": {
      "application/vnd.jupyter.widget-view+json": {
       "model_id": "21d167b28ade443a85313fe9c6b3c379",
       "version_major": 2,
       "version_minor": 0
      },
      "text/plain": [
       "Downloading:   0%|          | 0.00/232k [00:00<?, ?B/s]"
      ]
     },
     "metadata": {},
     "output_type": "display_data"
    },
    {
     "data": {
      "application/vnd.jupyter.widget-view+json": {
       "model_id": "269336578cfa4dcda8d34f550c063f91",
       "version_major": 2,
       "version_minor": 0
      },
      "text/plain": [
       "Downloading:   0%|          | 0.00/349 [00:00<?, ?B/s]"
      ]
     },
     "metadata": {},
     "output_type": "display_data"
    },
    {
     "data": {
      "text/plain": [
       "<classy_classification.classifiers.classy_spacy.ClassySpacyExternalFewShot at 0x1af850b7370>"
      ]
     },
     "execution_count": 3,
     "metadata": {},
     "output_type": "execute_result"
    }
   ],
   "source": [
    "##### Load either a SpaCy model to be fine-tuned or train from zero a blank model\n",
    "# nlp = spacy.load('en_core_web_md')\n",
    "nlp = spacy.blank(\"en\")\n",
    "\n",
    "##### Add Text Classifier Pipeline\n",
    "nlp.add_pipe(\"text_categorizer\", \n",
    "    config = { \n",
    "        \"data\": data,\n",
    "        # \"model\": \"sentence-transformers/paraphrase-multilingual-MiniLM-L12-v2\",\n",
    "        \"model\": \"sentence-transformers/all-MiniLM-L6-v2\",\n",
    "        # \"model\": \"spacy\",\n",
    "        \"multi_label\": True,\n",
    "        \"device\": \"gpu\",\n",
    "    }\n",
    ")"
   ]
  },
  {
   "cell_type": "code",
   "execution_count": 3,
   "metadata": {},
   "outputs": [
    {
     "name": "stdout",
     "output_type": "stream",
     "text": [
      "Topic Classification\n",
      "For Sentence: who developed these medical and bio sensors?\n",
      "Prediction - This sentence seems to be about: Biomedical Engineering | 0.82375\n",
      "\n",
      "For Sentence: AI will surely be the future of Digital Health.\n",
      "Prediction - This sentence seems to be about: Artificial Intelligence | 0.57328\n",
      "\n",
      "For Sentence: She works as PR to outreach communities in LinkedIn and organize workshops.\n",
      "Prediction - This sentence seems to be about: Community Outreach | 0.81108\n",
      "\n",
      "For Sentence: Developing Image Segmentation systems is one my favourite hobbies.\n",
      "Prediction - This sentence seems to be about: Computer Vision | 0.56477\n",
      "\n",
      "For Sentence: This digital application will accelerate communication in LMICs.\n",
      "Prediction - This sentence seems to be about: Digital Accelerators | 0.47649\n",
      "\n",
      "For Sentence: Immigrant communities are often faced with racism.\n",
      "Prediction - This sentence seems to be about: Discrimination | 1.00000\n",
      "\n",
      "For Sentence: I might start a PhD related to EHRs in health systems.\n",
      "Prediction - This sentence seems to be about: Biomedical Engineering | 0.19800\n",
      "\n",
      "For Sentence: We performed statistical analysis between variables during this research.\n",
      "Prediction - This sentence seems to be about: Electronic Health Records | 0.95827\n",
      "\n",
      "For Sentence: Waste incineration is often overlooked as a cause of air pollution.\n",
      "Prediction - This sentence seems to be about: Empirical Study | 0.97293\n",
      "\n",
      "For Sentence: Every human should have a right to universal healthcare access.\n",
      "Prediction - This sentence seems to be about: Healthcare Financing | 0.87364\n",
      "\n",
      "For Sentence: Smoking and alcohol consumption often lead to obesity.\n",
      "Prediction - This sentence seems to be about: Social Analysis | 0.60909\n",
      "\n",
      "For Sentence: Virtual doctor consultations are essential for remote areas where there is a lack of health professionals.\n",
      "Prediction - This sentence seems to be about: Systematic Review | 0.64079\n",
      "\n"
     ]
    }
   ],
   "source": [
    "example_sentences = [\"who developed these medical and bio sensors?\", \"AI will surely be the future of Digital Health.\", \n",
    "                     \"She works as PR to outreach communities in LinkedIn and organize workshops.\", \"Developing Image Segmentation systems is one my favourite hobbies.\", \n",
    "                     \"This digital application will accelerate communication in LMICs.\", \"Immigrant communities are often faced with racism.\", \n",
    "                     \"I might start a PhD related to EHRs in health systems.\", \"We performed statistical analysis between variables during this research.\",\n",
    "                     \"Waste incineration is often overlooked as a cause of air pollution.\", \"Every human should have a right to universal healthcare access.\", \n",
    "                     \"Smoking and alcohol consumption often lead to obesity.\", \n",
    "                     \"Virtual doctor consultations are essential for remote areas where there is a lack of health professionals.\"]\n",
    "\n",
    "\n",
    "print('Topic Classification')\n",
    "for sentence in example_sentences:\n",
    "    prediction = nlp(sentence)._.cats\n",
    "    max_value_key = max(prediction, key = prediction.get)\n",
    "\n",
    "    print('For Sentence: {}'.format(sentence))\n",
    "    # print('Topic Classification Prediction: {}'.format(sorted(predictions.items(), key = lambda x: x[1], reverse = True)))\n",
    "    print('Prediction - This sentence seems to be about: {} | {:.5f}'.format(max_value_key, prediction[max_value_key]))\n",
    "    print('')"
   ]
  },
  {
   "attachments": {},
   "cell_type": "markdown",
   "metadata": {},
   "source": [
    "##### Custom Evaluation Set Score"
   ]
  },
  {
   "cell_type": "code",
   "execution_count": 4,
   "metadata": {},
   "outputs": [],
   "source": [
    "##### Loading the test set from the corresponding excel file\n",
    "import pandas as pd\n",
    "import random\n",
    "\n",
    "random.seed(596)\n",
    "df = pd.read_excel('data/textcat_evaluation.xlsx')\n",
    "evaluation_set = [tuple(row) for row in df.to_records(index = False)]\n",
    "eval_length = len(evaluation_set)\n",
    "random.shuffle(evaluation_set)"
   ]
  },
  {
   "cell_type": "code",
   "execution_count": 5,
   "metadata": {},
   "outputs": [],
   "source": [
    "all_sentences = [item[0] for item in evaluation_set]"
   ]
  },
  {
   "cell_type": "code",
   "execution_count": 6,
   "metadata": {},
   "outputs": [
    {
     "name": "stdout",
     "output_type": "stream",
     "text": [
      "Topic Classification Evaluation Started...\n",
      "Topic Classification | Evaluation Finished | Elapsed Time: 12.5684s | Time per Sentence: 0.0157s\n",
      "Accuracy: 31.00%\n"
     ]
    }
   ],
   "source": [
    "import time\n",
    "\n",
    "start = time.time()\n",
    "prediction_tuples = []\n",
    "correct_count = 0\n",
    "print('Topic Classification Evaluation Started...')\n",
    "for i, sentence in enumerate(all_sentences):\n",
    "    prediction = nlp(sentence)._.cats\n",
    "    max_value_key = max(prediction, key = prediction.get)\n",
    "    predictions = sorted(prediction.items(), key = lambda x: x[1], reverse = True)\n",
    "    predictions = [prediction[0] for prediction in predictions[:5]]\n",
    "        \n",
    "    if evaluation_set[i][1] in predictions:\n",
    "        correct_count += 1\n",
    "        \n",
    "    # print('For Sentence: {}'.format(sentence))\n",
    "    # print('Topic Classification Prediction: {}'.format(predictions))\n",
    "    # print('True: {} | Prediction: {} ({:.3f})'.format(evaluation_set[i][1], max_value_key, prediction[max_value_key]))\n",
    "    # print('')\n",
    "end = time.time() - start\n",
    "\n",
    "print(\"Topic Classification | Evaluation Finished | Elapsed Time: {:.4f}s | Time per Sentence: {:.4f}s\".format(end, end / eval_length))\n",
    "print(\"Accuracy: {:1.2f}%\".format((correct_count / eval_length) * 100))"
   ]
  },
  {
   "attachments": {},
   "cell_type": "markdown",
   "metadata": {},
   "source": [
    "##### Test on Documents"
   ]
  },
  {
   "cell_type": "code",
   "execution_count": 4,
   "metadata": {},
   "outputs": [
    {
     "name": "stdout",
     "output_type": "stream",
     "text": [
      "For Document: ai_and_surgical_decision_making.pdf\n",
      "Text from PDF File (11 pages) extracted successfully.\n",
      "Original document character length: 66451\n",
      "References removed, new document character length: 50476\n",
      "Final Topic Classification Count: [('Natural Language Processing', 15), ('Computer Vision', 9), ('eHealth', 3), ('Global Health', 2), ('Biomedical Engineering', 1), ('Discrimination', 1), ('Global Threats', 1), ('Healthcare Financing', 1), ('Medical Imaging', 1), ('Public Health Law', 1), ('Social Analysis', 1), ('Substance Abuse', 1), ('Artificial Intelligence', 0), ('Clinical Decision Support', 0), ('Community Outreach', 0), ('Data Analysis', 0), ('Decision Making', 0), ('Diagnostic Assessments', 0), ('Digital Accelerators', 0), ('Digital Health', 0), ('Electronic Health Records', 0), ('Empirical Study', 0), ('Environmental Conservation', 0), ('Evidence From Patients', 0), ('Human Rights', 0), ('Humanitarian Response', 0), ('Knowledge Management', 0), ('Lifestyle Factors', 0), ('Literature Review', 0), ('Logistics and Supply Chain', 0), ('Medical Report', 0), ('Others', 0), ('Propositions and Guidelines', 0), ('Publicly Funded Science', 0), ('Regional Implementation', 0), ('Risk Management', 0), ('Surgery', 0), ('Sustainable Development Goals', 0), ('Systematic Review', 0), ('Telemedicine', 0), ('Violence', 0)]\n",
      "\n",
      "For Document: brachytherapy_lmic.pdf\n",
      "Text from PDF File (10 pages) extracted successfully.\n",
      "Original document character length: 43351\n",
      "References removed, new document character length: 38957\n",
      "Final Topic Classification Count: [('Natural Language Processing', 15), ('Environmental Conservation', 5), ('Social Analysis', 3), ('Sustainable Development Goals', 3), ('Biomedical Engineering', 2), ('Community Outreach', 2), ('Healthcare Financing', 2), ('Clinical Decision Support', 1), ('Computer Vision', 1), ('Discrimination', 1), ('eHealth', 1), ('Global Threats', 1), ('Medical Report', 1), ('Publicly Funded Science', 1), ('Risk Management', 1), ('Surgery', 1), ('Artificial Intelligence', 0), ('Data Analysis', 0), ('Decision Making', 0), ('Diagnostic Assessments', 0), ('Digital Accelerators', 0), ('Digital Health', 0), ('Electronic Health Records', 0), ('Empirical Study', 0), ('Evidence From Patients', 0), ('Global Health', 0), ('Human Rights', 0), ('Humanitarian Response', 0), ('Knowledge Management', 0), ('Lifestyle Factors', 0), ('Literature Review', 0), ('Logistics and Supply Chain', 0), ('Medical Imaging', 0), ('Others', 0), ('Propositions and Guidelines', 0), ('Public Health Law', 0), ('Regional Implementation', 0), ('Substance Abuse', 0), ('Systematic Review', 0), ('Telemedicine', 0), ('Violence', 0)]\n",
      "\n",
      "For Document: child_obesity_switzerland.pdf\n",
      "Text from PDF File (11 pages) extracted successfully.\n",
      "Original document character length: 44197\n",
      "References removed, new document character length: 36152\n",
      "Final Topic Classification Count: [('Discrimination', 6), ('Environmental Conservation', 6), ('Global Threats', 6), ('Medical Imaging', 6), ('Computer Vision', 5), ('Natural Language Processing', 4), ('Healthcare Financing', 3), ('eHealth', 2), ('Logistics and Supply Chain', 2), ('Community Outreach', 1), ('Global Health', 1), ('Public Health Law', 1), ('Publicly Funded Science', 1), ('Artificial Intelligence', 0), ('Biomedical Engineering', 0), ('Clinical Decision Support', 0), ('Data Analysis', 0), ('Decision Making', 0), ('Diagnostic Assessments', 0), ('Digital Accelerators', 0), ('Digital Health', 0), ('Electronic Health Records', 0), ('Empirical Study', 0), ('Evidence From Patients', 0), ('Human Rights', 0), ('Humanitarian Response', 0), ('Knowledge Management', 0), ('Lifestyle Factors', 0), ('Literature Review', 0), ('Medical Report', 0), ('Others', 0), ('Propositions and Guidelines', 0), ('Regional Implementation', 0), ('Risk Management', 0), ('Social Analysis', 0), ('Substance Abuse', 0), ('Surgery', 0), ('Sustainable Development Goals', 0), ('Systematic Review', 0), ('Telemedicine', 0), ('Violence', 0)]\n",
      "\n",
      "For Document: haemophilia_senegal.pdf\n",
      "Text from PDF File (7 pages) extracted successfully.\n",
      "Original document character length: 29549\n",
      "References string index not found\n",
      "Final Topic Classification Count: [('Natural Language Processing', 14), ('eHealth', 10), ('Global Threats', 4), ('Medical Imaging', 3), ('Clinical Decision Support', 2), ('Computer Vision', 2), ('Environmental Conservation', 2), ('Healthcare Financing', 2), ('Diagnostic Assessments', 1), ('Discrimination', 1), ('Publicly Funded Science', 1), ('Substance Abuse', 1), ('Telemedicine', 1), ('Artificial Intelligence', 0), ('Biomedical Engineering', 0), ('Community Outreach', 0), ('Data Analysis', 0), ('Decision Making', 0), ('Digital Accelerators', 0), ('Digital Health', 0), ('Electronic Health Records', 0), ('Empirical Study', 0), ('Evidence From Patients', 0), ('Global Health', 0), ('Human Rights', 0), ('Humanitarian Response', 0), ('Knowledge Management', 0), ('Lifestyle Factors', 0), ('Literature Review', 0), ('Logistics and Supply Chain', 0), ('Medical Report', 0), ('Others', 0), ('Propositions and Guidelines', 0), ('Public Health Law', 0), ('Regional Implementation', 0), ('Risk Management', 0), ('Social Analysis', 0), ('Surgery', 0), ('Sustainable Development Goals', 0), ('Systematic Review', 0), ('Violence', 0)]\n",
      "\n",
      "For Document: humanitarian_crises_volunteerism.pdf\n",
      "Text from PDF File (6 pages) extracted successfully.\n",
      "Original document character length: 28199\n",
      "References removed, new document character length: 23851\n",
      "Final Topic Classification Count: [('Natural Language Processing', 14), ('Computer Vision', 5), ('eHealth', 3), ('Healthcare Financing', 2), ('Artificial Intelligence', 1), ('Decision Making', 1), ('Global Threats', 1), ('Systematic Review', 1), ('Biomedical Engineering', 0), ('Clinical Decision Support', 0), ('Community Outreach', 0), ('Data Analysis', 0), ('Diagnostic Assessments', 0), ('Digital Accelerators', 0), ('Digital Health', 0), ('Discrimination', 0), ('Electronic Health Records', 0), ('Empirical Study', 0), ('Environmental Conservation', 0), ('Evidence From Patients', 0), ('Global Health', 0), ('Human Rights', 0), ('Humanitarian Response', 0), ('Knowledge Management', 0), ('Lifestyle Factors', 0), ('Literature Review', 0), ('Logistics and Supply Chain', 0), ('Medical Imaging', 0), ('Medical Report', 0), ('Others', 0), ('Propositions and Guidelines', 0), ('Public Health Law', 0), ('Publicly Funded Science', 0), ('Regional Implementation', 0), ('Risk Management', 0), ('Social Analysis', 0), ('Substance Abuse', 0), ('Surgery', 0), ('Sustainable Development Goals', 0), ('Telemedicine', 0), ('Violence', 0)]\n",
      "\n",
      "For Document: hypertension_global_epidemiology.pdf\n",
      "Text from PDF File (15 pages) extracted successfully.\n",
      "Original document character length: 101255\n",
      "References string index not found\n",
      "Final Topic Classification Count: [('Global Threats', 38), ('Natural Language Processing', 17), ('eHealth', 9), ('Medical Imaging', 9), ('Environmental Conservation', 7), ('Biomedical Engineering', 6), ('Publicly Funded Science', 6), ('Telemedicine', 5), ('Global Health', 4), ('Discrimination', 3), ('Sustainable Development Goals', 3), ('Computer Vision', 2), ('Empirical Study', 2), ('Knowledge Management', 2), ('Logistics and Supply Chain', 2), ('Clinical Decision Support', 1), ('Electronic Health Records', 1), ('Healthcare Financing', 1), ('Public Health Law', 1), ('Social Analysis', 1), ('Artificial Intelligence', 0), ('Community Outreach', 0), ('Data Analysis', 0), ('Decision Making', 0), ('Diagnostic Assessments', 0), ('Digital Accelerators', 0), ('Digital Health', 0), ('Evidence From Patients', 0), ('Human Rights', 0), ('Humanitarian Response', 0), ('Lifestyle Factors', 0), ('Literature Review', 0), ('Medical Report', 0), ('Others', 0), ('Propositions and Guidelines', 0), ('Regional Implementation', 0), ('Risk Management', 0), ('Substance Abuse', 0), ('Surgery', 0), ('Systematic Review', 0), ('Violence', 0)]\n",
      "\n",
      "For Document: hypertension_india.pdf\n",
      "Text from PDF File (13 pages) extracted successfully.\n",
      "Original document character length: 49933\n",
      "References removed, new document character length: 41564\n",
      "Final Topic Classification Count: [('Publicly Funded Science', 13), ('Global Threats', 9), ('Discrimination', 8), ('Environmental Conservation', 7), ('Natural Language Processing', 7), ('Computer Vision', 3), ('Diagnostic Assessments', 2), ('Logistics and Supply Chain', 2), ('Artificial Intelligence', 1), ('eHealth', 1), ('Electronic Health Records', 1), ('Healthcare Financing', 1), ('Knowledge Management', 1), ('Medical Imaging', 1), ('Sustainable Development Goals', 1), ('Telemedicine', 1), ('Biomedical Engineering', 0), ('Clinical Decision Support', 0), ('Community Outreach', 0), ('Data Analysis', 0), ('Decision Making', 0), ('Digital Accelerators', 0), ('Digital Health', 0), ('Empirical Study', 0), ('Evidence From Patients', 0), ('Global Health', 0), ('Human Rights', 0), ('Humanitarian Response', 0), ('Lifestyle Factors', 0), ('Literature Review', 0), ('Medical Report', 0), ('Others', 0), ('Propositions and Guidelines', 0), ('Public Health Law', 0), ('Regional Implementation', 0), ('Risk Management', 0), ('Social Analysis', 0), ('Substance Abuse', 0), ('Surgery', 0), ('Systematic Review', 0), ('Violence', 0)]\n",
      "\n",
      "For Document: test_text.txt\n",
      "For Document: test_text_for_references.txt\n",
      "For Document: test_text_PyPdf.txt\n"
     ]
    }
   ],
   "source": [
    "import os\n",
    "import re\n",
    "from nltk.tokenize import sent_tokenize\n",
    "from process_single_document import extract_text_from_pdf, remove_references, try_finding_keywords\n",
    "\n",
    "for file in os.listdir('data/implementome_publications/test_miner/'):\n",
    "     filename = os.fsdecode(file)\n",
    "     print('For Document: {}'.format(filename))\n",
    "     if filename.endswith('.pdf'):\n",
    "        ##### Document extraction and pre-processing (Removing Referencesn & Potentially finding Keywords) \n",
    "        single_pdf = open('data/implementome_publications/test_miner/' + filename, 'rb')\n",
    "        # single_pdf = open('data/implementome_publications/test_miner/child_obesity_switzerland.pdf', 'rb')\n",
    "        doc_as_str, doc_as_list = extract_text_from_pdf(single_pdf)\n",
    "        doc_as_str = remove_references(doc_as_str)\n",
    "        doc_keywords = try_finding_keywords(doc_as_str)\n",
    "\n",
    "        ###### Tokenization process of the string containing the entire document text\n",
    "        ###### Regular Expression pattern removes '\\n' characters and tries to concatenate words separated by a '-'\n",
    "        sentences = sent_tokenize(doc_as_str)\n",
    "        pattern = r'(?<![a-zA-Z])-|-(?![a-zA-Z])'\n",
    "        sentences = [re.sub(pattern, '', sentence.replace('\\n', ' ')) for sentence in sentences]\n",
    "\n",
    "        # sorted_categories = sorted(predicted_categories.items(), key = lambda x: x[1], reverse=True)\n",
    "        \n",
    "        fixed_sentences = [sentence for sentence in sentences if len(sentence) >= 50]\n",
    "        topics_count = {label: 0 for label in data.keys()}\n",
    "        docs = list(nlp.pipe(fixed_sentences))\n",
    "\n",
    "        for doc in docs:\n",
    "            prediction = doc._.cats\n",
    "            # prediction = classifier(doc.text)\n",
    "            max_value_key = max(prediction, key = prediction.get)\n",
    "            if 0.95 > prediction[max_value_key] >= 0.4:\n",
    "                topics_count[max_value_key] += 1\n",
    "\n",
    "            # print('For Sentence: {}'.format(doc.text))\n",
    "            # # print('Topic Classification Prediction: {}'.format(sorted(predictions.items(), key = lambda x: x[1], reverse = True)))\n",
    "            # print('Prediction - This sentence seems to be about: {} | {:.5f}'.format(max_value_key, prediction[max_value_key]))\n",
    "            # print('')\n",
    "\n",
    "        print('Final Topic Classification Count: {}'.format(sorted(topics_count.items(), key = lambda x: x[1], reverse = True)))\n",
    "        print('')"
   ]
  }
 ],
 "metadata": {
  "kernelspec": {
   "display_name": "Python 3",
   "language": "python",
   "name": "python3"
  },
  "language_info": {
   "codemirror_mode": {
    "name": "ipython",
    "version": 3
   },
   "file_extension": ".py",
   "mimetype": "text/x-python",
   "name": "python",
   "nbconvert_exporter": "python",
   "pygments_lexer": "ipython3",
   "version": "3.9.7"
  },
  "orig_nbformat": 4
 },
 "nbformat": 4,
 "nbformat_minor": 2
}
