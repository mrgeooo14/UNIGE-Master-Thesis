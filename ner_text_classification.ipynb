{
 "cells": [
  {
   "attachments": {},
   "cell_type": "markdown",
   "metadata": {},
   "source": [
    "This Jupyter notebook file will concern itself with the Topic Classification part of the project. Specifically, the **textcat** pipeline that will be added to our spaCy model."
   ]
  },
  {
   "cell_type": "code",
   "execution_count": 12,
   "metadata": {},
   "outputs": [
    {
     "name": "stdout",
     "output_type": "stream",
     "text": [
      "['label1', 'label3', 'label5', 'label10', 'label20']\n"
     ]
    }
   ],
   "source": [
    "import spacy\n",
    "\n",
    "nlp = spacy.load(\"en_core_web_lg\")\n",
    "\n",
    "# Test the model on some text\n",
    "doc = nlp(\"This is a test article about technology and politics.\")\n",
    "doc.cats = [\"label1\", \"label3\", \"label5\", \"label10\", \"label20\"]\n",
    "print(doc.cats)"
   ]
  },
  {
   "cell_type": "code",
   "execution_count": 3,
   "metadata": {},
   "outputs": [
    {
     "name": "stderr",
     "output_type": "stream",
     "text": [
      "Found cached dataset reuters21578 (C:/Users/Genis/.cache/huggingface/datasets/reuters21578/ModApte/1.0.0/98a2ad6a0242627562db83992f9625261854c40a88619322596153a5a16a206c)\n"
     ]
    },
    {
     "data": {
      "application/vnd.jupyter.widget-view+json": {
       "model_id": "03323d07c88a4002b7608f0688a246db",
       "version_major": 2,
       "version_minor": 0
      },
      "text/plain": [
       "  0%|          | 0/3 [00:00<?, ?it/s]"
      ]
     },
     "metadata": {},
     "output_type": "display_data"
    }
   ],
   "source": [
    "from datasets import load_dataset\n",
    "\n",
    "dataset = load_dataset(\"reuters21578\", 'ModApte')\n",
    "\n",
    "test_data = dataset['train']\n",
    "test_data = dataset['test']\n",
    "test_data = dataset['unused']"
   ]
  },
  {
   "cell_type": "code",
   "execution_count": 5,
   "metadata": {},
   "outputs": [
    {
     "name": "stdout",
     "output_type": "stream",
     "text": [
      "The European Community Commission said\n",
      "it has opened an enquiry into allegations that the Soviet Union\n",
      "is dumping mercury on the European market at below-cost prices.\n",
      "    The Commission said its decision follows a complaint from\n",
      "EC non-ferrous metals producers that the sales of Soviet\n",
      "mercury were harming their business and threatening jobs in the\n",
      "European industry.\n",
      "    According to the complaint, Soviet mercury sales in the EC\n",
      "had risen from zero in recent years to 100 tonnes between\n",
      "August and October last year and threaten to capture 25 pct of\n",
      "the EC market if they continue at the same pace.\n",
      "    The industry said the mercury was being sold at more than\n",
      "40 pct below prices charged by EC producers, forcing them to\n",
      "cut their prices to levels that no longer covered costs. The\n",
      "imports had caused producers heavy financial losses, it said.\n",
      "    The Commission said the industry would probably be unable\n",
      "to hold prices at current levels and that any increase would\n",
      "result in loss of sales and jobs.\n",
      "    The so-called anti-dumping procedure opened by the\n",
      "Commission will allow all interested parties to state their\n",
      "cases to the authority.\n",
      " REUTER\n",
      " ['strategic-metal']\n"
     ]
    }
   ],
   "source": [
    "example_text = test_data[244]['text']\n",
    "example_topics = test_data[244]['topics']\n",
    "print(example_text, example_topics)"
   ]
  },
  {
   "cell_type": "code",
   "execution_count": 27,
   "metadata": {},
   "outputs": [],
   "source": [
    "all_topics = {}\n",
    "\n",
    "for sample in test_data:\n",
    "    for topic in sample['topics']:\n",
    "        all_topics[topic] = 0\n",
    "        \n",
    "for sample in test_data:\n",
    "    for topic in sample['topics']:\n",
    "        all_topics[topic] = 0\n",
    "        \n",
    "for sample in test_data:\n",
    "    for topic in sample['topics']:\n",
    "        all_topics[topic] = 0        "
   ]
  },
  {
   "cell_type": "code",
   "execution_count": 61,
   "metadata": {},
   "outputs": [
    {
     "data": {
      "text/html": [
       "<div>\n",
       "<style scoped>\n",
       "    .dataframe tbody tr th:only-of-type {\n",
       "        vertical-align: middle;\n",
       "    }\n",
       "\n",
       "    .dataframe tbody tr th {\n",
       "        vertical-align: top;\n",
       "    }\n",
       "\n",
       "    .dataframe thead th {\n",
       "        text-align: right;\n",
       "    }\n",
       "</style>\n",
       "<table border=\"1\" class=\"dataframe\">\n",
       "  <thead>\n",
       "    <tr style=\"text-align: right;\">\n",
       "      <th></th>\n",
       "      <th>Section</th>\n",
       "      <th>Text</th>\n",
       "    </tr>\n",
       "  </thead>\n",
       "  <tbody>\n",
       "    <tr>\n",
       "      <th>948866</th>\n",
       "      <td>CONCLUSIONS</td>\n",
       "      <td>These findings support the American College of...</td>\n",
       "    </tr>\n",
       "    <tr>\n",
       "      <th>1104766</th>\n",
       "      <td>OBJECTIVE</td>\n",
       "      <td>Insulin resistance is associated with abnormal...</td>\n",
       "    </tr>\n",
       "    <tr>\n",
       "      <th>1945806</th>\n",
       "      <td>METHODS</td>\n",
       "      <td>Data were analysed with PC20 as the dependent ...</td>\n",
       "    </tr>\n",
       "    <tr>\n",
       "      <th>1087697</th>\n",
       "      <td>RESULTS</td>\n",
       "      <td>Overall , the difference in photopic and mesop...</td>\n",
       "    </tr>\n",
       "    <tr>\n",
       "      <th>1337463</th>\n",
       "      <td>RESULTS</td>\n",
       "      <td>All control subjects underwent overnight polys...</td>\n",
       "    </tr>\n",
       "    <tr>\n",
       "      <th>...</th>\n",
       "      <td>...</td>\n",
       "      <td>...</td>\n",
       "    </tr>\n",
       "    <tr>\n",
       "      <th>645464</th>\n",
       "      <td>METHODS</td>\n",
       "      <td>The psycho-educational program consisted of te...</td>\n",
       "    </tr>\n",
       "    <tr>\n",
       "      <th>648850</th>\n",
       "      <td>METHODS</td>\n",
       "      <td>Propofol was infused using a target-controlled...</td>\n",
       "    </tr>\n",
       "    <tr>\n",
       "      <th>53760</th>\n",
       "      <td>BACKGROUND</td>\n",
       "      <td>The solubility of valsartan is dependent on pH...</td>\n",
       "    </tr>\n",
       "    <tr>\n",
       "      <th>928495</th>\n",
       "      <td>METHODS</td>\n",
       "      <td>Seven-week exposure ( 100 , 150 , 200mg/day ) ...</td>\n",
       "    </tr>\n",
       "    <tr>\n",
       "      <th>761775</th>\n",
       "      <td>RESULTS</td>\n",
       "      <td>Disability at baseline ( measured with the Fib...</td>\n",
       "    </tr>\n",
       "  </tbody>\n",
       "</table>\n",
       "<p>2211861 rows × 2 columns</p>\n",
       "</div>"
      ],
      "text/plain": [
       "             Section                                               Text\n",
       "948866   CONCLUSIONS  These findings support the American College of...\n",
       "1104766    OBJECTIVE  Insulin resistance is associated with abnormal...\n",
       "1945806      METHODS  Data were analysed with PC20 as the dependent ...\n",
       "1087697      RESULTS  Overall , the difference in photopic and mesop...\n",
       "1337463      RESULTS  All control subjects underwent overnight polys...\n",
       "...              ...                                                ...\n",
       "645464       METHODS  The psycho-educational program consisted of te...\n",
       "648850       METHODS  Propofol was infused using a target-controlled...\n",
       "53760     BACKGROUND  The solubility of valsartan is dependent on pH...\n",
       "928495       METHODS  Seven-week exposure ( 100 , 150 , 200mg/day ) ...\n",
       "761775       RESULTS  Disability at baseline ( measured with the Fib...\n",
       "\n",
       "[2211861 rows x 2 columns]"
      ]
     },
     "execution_count": 61,
     "metadata": {},
     "output_type": "execute_result"
    }
   ],
   "source": [
    "import pandas as pd\n",
    "from sklearn.utils import shuffle\n",
    "\n",
    "\n",
    "with open('data/pubmed200k_train.txt', 'r') as f:\n",
    "    rows = []\n",
    "    for line in f:\n",
    "        # Split each line into columns based on the tab delimiter\n",
    "        columns = line.strip().split('\\t')\n",
    "        rows.append(columns)\n",
    "    \n",
    "# Create a pandas DataFrame from the list of rows\n",
    "df = pd.DataFrame(rows, columns=['Section', 'Text'])\n",
    "df = df.dropna()\n",
    "df = shuffle(df)\n",
    "df"
   ]
  },
  {
   "cell_type": "code",
   "execution_count": null,
   "metadata": {},
   "outputs": [],
   "source": []
  },
  {
   "cell_type": "code",
   "execution_count": 67,
   "metadata": {},
   "outputs": [
    {
     "name": "stdout",
     "output_type": "stream",
     "text": [
      "1110000/2211861\n",
      "1120000/2211861\n",
      "1130000/2211861\n",
      "1140000/2211861\n",
      "1150000/2211861\n",
      "1160000/2211861\n",
      "1170000/2211861\n",
      "1180000/2211861\n",
      "1190000/2211861\n",
      "1200000/2211861\n",
      "1210000/2211861\n",
      "1220000/2211861\n",
      "1230000/2211861\n",
      "1240000/2211861\n",
      "1250000/2211861\n",
      "1260000/2211861\n",
      "1270000/2211861\n",
      "1280000/2211861\n",
      "1290000/2211861\n",
      "1300000/2211861\n",
      "1310000/2211861\n",
      "1320000/2211861\n",
      "1330000/2211861\n",
      "1340000/2211861\n",
      "1350000/2211861\n",
      "1360000/2211861\n",
      "1370000/2211861\n",
      "1380000/2211861\n",
      "1390000/2211861\n",
      "1400000/2211861\n",
      "1410000/2211861\n",
      "1420000/2211861\n",
      "1430000/2211861\n",
      "1440000/2211861\n",
      "1450000/2211861\n",
      "1460000/2211861\n",
      "1470000/2211861\n",
      "1480000/2211861\n",
      "1490000/2211861\n",
      "1500000/2211861\n",
      "1510000/2211861\n",
      "1520000/2211861\n",
      "1530000/2211861\n",
      "1540000/2211861\n",
      "1550000/2211861\n",
      "1560000/2211861\n",
      "1570000/2211861\n",
      "1580000/2211861\n",
      "1590000/2211861\n",
      "1600000/2211861\n",
      "1610000/2211861\n",
      "1620000/2211861\n",
      "1630000/2211861\n",
      "1640000/2211861\n",
      "1650000/2211861\n",
      "1660000/2211861\n",
      "1670000/2211861\n",
      "1680000/2211861\n",
      "1690000/2211861\n",
      "1700000/2211861\n",
      "1710000/2211861\n",
      "1720000/2211861\n",
      "1730000/2211861\n",
      "1740000/2211861\n",
      "1750000/2211861\n",
      "1760000/2211861\n",
      "1770000/2211861\n",
      "1780000/2211861\n",
      "1790000/2211861\n",
      "1800000/2211861\n",
      "1810000/2211861\n",
      "1820000/2211861\n",
      "1830000/2211861\n",
      "1840000/2211861\n",
      "1850000/2211861\n",
      "1860000/2211861\n",
      "1870000/2211861\n",
      "1880000/2211861\n",
      "1890000/2211861\n",
      "1900000/2211861\n",
      "1910000/2211861\n",
      "1920000/2211861\n",
      "1930000/2211861\n",
      "1940000/2211861\n",
      "1950000/2211861\n",
      "1960000/2211861\n",
      "1970000/2211861\n",
      "1980000/2211861\n",
      "1990000/2211861\n",
      "2000000/2211861\n",
      "2010000/2211861\n",
      "2020000/2211861\n",
      "2030000/2211861\n",
      "2040000/2211861\n",
      "2050000/2211861\n",
      "2060000/2211861\n",
      "2070000/2211861\n",
      "2080000/2211861\n",
      "2090000/2211861\n",
      "2100000/2211861\n",
      "2110000/2211861\n",
      "2120000/2211861\n",
      "2130000/2211861\n",
      "2140000/2211861\n",
      "2150000/2211861\n",
      "2160000/2211861\n",
      "2170000/2211861\n",
      "2180000/2211861\n",
      "2190000/2211861\n",
      "2200000/2211861\n",
      "2210000/2211861\n"
     ]
    }
   ],
   "source": [
    "from spacy.tokens import DocBin\n",
    "import spacy\n",
    "\n",
    "nlp = spacy.blank(\"en\")\n",
    "\n",
    "all_topics = {'CONCLUSIONS': 0, 'RESULTS': 0, 'METHODS': 0, 'BACKGROUND': 0, 'OBJECTIVE': 0}\n",
    "    \n",
    "db = DocBin()\n",
    "split_name = 'train_full_2'\n",
    "\n",
    "for i in range(len(df.values) // 2, len(df.values)):\n",
    "    doc = nlp(df.values[i][1])\n",
    "    # print(doc)\n",
    "    doc.cats = all_topics.copy()\n",
    "    # print('BEFORE: ', doc.cats)\n",
    "    doc.cats[df.values[i][0]] = 1\n",
    "    # print('After: ', doc.cats)\n",
    "    # print('')\n",
    "\n",
    "    if (i % 10000 == 0):\n",
    "        print(\"{}/{}\".format(i, len(df.values)))  \n",
    "    db.add(doc)\n",
    "    \n",
    "\n",
    "db.to_disk('./models/fine_tune/corpus/pubmed200k_{}.spacy'.format(split_name))    "
   ]
  },
  {
   "attachments": {},
   "cell_type": "markdown",
   "metadata": {},
   "source": [
    "Test on document"
   ]
  },
  {
   "cell_type": "code",
   "execution_count": 1,
   "metadata": {},
   "outputs": [
    {
     "name": "stderr",
     "output_type": "stream",
     "text": [
      "c:\\Users\\Genis\\AppData\\Local\\Programs\\Python\\Python39\\lib\\site-packages\\requests\\__init__.py:102: RequestsDependencyWarning: urllib3 (2.0.2) or chardet (5.1.0)/charset_normalizer (2.0.12) doesn't match a supported version!\n",
      "  warnings.warn(\"urllib3 ({}) or chardet ({})/charset_normalizer ({}) doesn't match a supported \"\n"
     ]
    },
    {
     "name": "stdout",
     "output_type": "stream",
     "text": [
      "Text from PDF File (11 pages) extracted successfully.\n",
      "Original document character length: 44197\n",
      "References removed, new document character length: 36152\n"
     ]
    }
   ],
   "source": [
    "import re\n",
    "from nltk.tokenize import sent_tokenize\n",
    "from process_single_document import extract_text_from_pdf, remove_references, try_finding_keywords\n",
    "\n",
    "##### Document extraction and pre-processing (Removing Referencesn & Potentially finding Keywords) \n",
    "single_pdf = open('data/implementome_publications/test_miner/child_obesity_switzerland.pdf', 'rb')\n",
    "doc_as_str, doc_as_list = extract_text_from_pdf(single_pdf)\n",
    "# doc_as_str = extract_text_from_pdf_2(single_pdf)\n",
    "doc_as_str = remove_references(doc_as_str)\n",
    "doc_keywords = try_finding_keywords(doc_as_str)\n",
    "\n",
    "###### Tokenization process of the string containing the entire document text\n",
    "###### Regular Expression pattern removes '\\n' characters and tries to concatenate words separated by a '-'\n",
    "sentences = sent_tokenize(doc_as_str)\n",
    "pattern = r'(?<![a-zA-Z])-|-(?![a-zA-Z])'\n",
    "sentences = [re.sub(pattern, '', sentence.replace('\\n', ' ')) for sentence in sentences]"
   ]
  },
  {
   "cell_type": "code",
   "execution_count": 13,
   "metadata": {},
   "outputs": [],
   "source": [
    "import spacy\n",
    "\n",
    "textcat_nlp = spacy.load('./models/pubmed-model-best')\n",
    "docs = list(textcat_nlp.pipe(sentences))\n",
    "resulted_topics = {'CONCLUSIONS': [], 'RESULTS': [], 'METHODS': [], 'BACKGROUND': [], 'OBJECTIVE': []}\n",
    "\n",
    "for doc in docs:\n",
    "    # print('Text: ', doc)\n",
    "    # print('Classification: ', doc.cats)\n",
    "    for label, score in doc.cats.items():\n",
    "        if score >= 0.5:\n",
    "            resulted_topics[label].append(doc.text)"
   ]
  },
  {
   "cell_type": "code",
   "execution_count": 16,
   "metadata": {},
   "outputs": [
    {
     "data": {
      "text/plain": [
       "{'CONCLUSIONS': 2.061153470123145e-09,\n",
       " 'RESULTS': 0.6469292640686035,\n",
       " 'METHODS': 0.0021996202412992716,\n",
       " 'BACKGROUND': 2.061153470123145e-09,\n",
       " 'OBJECTIVE': 2.061153470123145e-09}"
      ]
     },
     "execution_count": 16,
     "metadata": {},
     "output_type": "execute_result"
    }
   ],
   "source": [
    "example_doc = textcat_nlp(\"In the Swiss population, 13% of the children have parents from Southern Europe and the proportion of obesity is 57 and 42% in these boys and girls, respectively.\")\n",
    "example_doc.cats"
   ]
  },
  {
   "attachments": {},
   "cell_type": "markdown",
   "metadata": {},
   "source": [
    "##### Automatic MeSh indexing\n",
    "\n",
    "Query diseases to their corresponding representation in MeSh Terms, potentially locating their **[C]** - Disease Category."
   ]
  },
  {
   "cell_type": "code",
   "execution_count": 1,
   "metadata": {},
   "outputs": [
    {
     "name": "stdout",
     "output_type": "stream",
     "text": [
      "\n",
      "For Queried Disease: child obesity\n",
      "Potential Corresponding MeSh Tree: ['Nutritional and Metabolic Diseases', 'Nutrition Disorders', 'Overnutrition', 'Overweight']\n",
      "\n",
      "\n",
      "For Queried Disease: aids\n",
      "Potential Corresponding MeSh Tree: ['Infections', 'Communicable Diseases', 'Blood-Borne Infections', 'HIV Infections']\n",
      "\n",
      "\n",
      "For Queried Disease: coronary heart disease\n",
      "Potential Corresponding MeSh Tree: ['Cardiovascular Diseases', 'Heart Diseases', 'Myocardial Ischemia', 'Coronary Disease']\n",
      "\n",
      "\n",
      "For Queried Disease: hiv\n",
      "Potential Corresponding MeSh Tree: []\n",
      "\n",
      "\n",
      "For Queried Disease: malaria\n",
      "Potential Corresponding MeSh Tree: ['Infections', 'Parasitic Diseases', 'Protozoan Infections', 'Malaria']\n",
      "\n",
      "\n",
      "For Queried Disease: covid\n",
      "Potential Corresponding MeSh Tree: []\n",
      "\n",
      "\n",
      "For Queried Disease: asthma\n",
      "Potential Corresponding MeSh Tree: ['Respiratory Tract Diseases', 'Bronchial Diseases', 'Asthma', 'Asthma, Aspirin-Induced']\n",
      "\n",
      "\n",
      "For Queried Disease: hypertension\n",
      "Potential Corresponding MeSh Tree: ['Cardiovascular Diseases', 'Vascular Diseases', 'Hypertension', 'Masked Hypertension']\n",
      "\n",
      "\n",
      "For Queried Disease: diabetes\n",
      "Potential Corresponding MeSh Tree: []\n",
      "\n"
     ]
    }
   ],
   "source": [
    "from query_for_mesh_terms import get_mesh_tree\n",
    "\n",
    "queries = ['child obesity', 'aids', 'coronary heart disease', 'hiv', 'malaria', 'covid', 'asthma', 'hypertension', 'diabetes']\n",
    "# queries = ['diabetes mellitus']\n",
    "for query in queries:\n",
    "    mesh_terms = get_mesh_tree(query)\n",
    "    print('\\nFor Queried Disease: {}'.format(query))\n",
    "    print('Potential Corresponding MeSh Tree: {}'.format(mesh_terms))\n",
    "    print('')"
   ]
  },
  {
   "cell_type": "code",
   "execution_count": 1,
   "metadata": {},
   "outputs": [
    {
     "name": "stderr",
     "output_type": "stream",
     "text": [
      "c:\\Users\\Genis\\AppData\\Local\\Programs\\Python\\Python39\\lib\\site-packages\\requests\\__init__.py:102: RequestsDependencyWarning: urllib3 (1.26.15) or chardet (5.1.0)/charset_normalizer (2.0.12) doesn't match a supported version!\n",
      "  warnings.warn(\"urllib3 ({}) or chardet ({})/charset_normalizer ({}) doesn't match a supported \"\n",
      "No config specified, defaulting to: eurlex/eurlex57k\n",
      "Found cached dataset eurlex (C:/Users/Genis/.cache/huggingface/datasets/eurlex/eurlex57k/1.1.0/d2fdeaa4fcb5f41394d2ed0317c8541d7f9be85d2d601b9fa586c8b461bc3a34)\n"
     ]
    },
    {
     "data": {
      "application/vnd.jupyter.widget-view+json": {
       "model_id": "0de15740e8f94089bbba409b5ac7ef5b",
       "version_major": 2,
       "version_minor": 0
      },
      "text/plain": [
       "  0%|          | 0/3 [00:00<?, ?it/s]"
      ]
     },
     "metadata": {},
     "output_type": "display_data"
    },
    {
     "data": {
      "text/plain": [
       "DatasetDict({\n",
       "    train: Dataset({\n",
       "        features: ['celex_id', 'title', 'text', 'eurovoc_concepts'],\n",
       "        num_rows: 45000\n",
       "    })\n",
       "    test: Dataset({\n",
       "        features: ['celex_id', 'title', 'text', 'eurovoc_concepts'],\n",
       "        num_rows: 6000\n",
       "    })\n",
       "    validation: Dataset({\n",
       "        features: ['celex_id', 'title', 'text', 'eurovoc_concepts'],\n",
       "        num_rows: 6000\n",
       "    })\n",
       "})"
      ]
     },
     "execution_count": 1,
     "metadata": {},
     "output_type": "execute_result"
    }
   ],
   "source": [
    "from datasets import load_dataset\n",
    "\n",
    "dataset = load_dataset(\"eurlex\")\n",
    "dataset"
   ]
  },
  {
   "cell_type": "code",
   "execution_count": 2,
   "metadata": {},
   "outputs": [
    {
     "data": {
      "text/plain": [
       "{'celex_id': '32014R0727',\n",
       " 'title': \"Commission Implementing Regulation (EU) No 727/2014 of 30 June 2014 initiating a ‘new exporter’ review of Council Implementing Regulation (EU) No 1389/2011 imposing a definitive anti-dumping duty on imports of trichloroisocyanuric acid originating in the People's Republic of China, repealing the duty with regard to imports from one exporter in this country and making these imports subject to registration\\n\",\n",
       " 'text': \"1.7.2014 EN Official Journal of the European Union L 192/42\\nCOMMISSION IMPLEMENTING REGULATION (EU) No 727/2014\\nof 30 June 2014\\ninitiating a ‘new exporter’ review of Council Implementing Regulation (EU) No 1389/2011 imposing a definitive anti-dumping duty on imports of trichloroisocyanuric acid originating in the People's Republic of China, repealing the duty with regard to imports from one exporter in this country and making these imports subject to registration\\nTHE EUROPEAN COMMISSION\\n,\\nHaving regard to the Treaty on the Functioning of the European Union,\\nHaving regard to Council Regulation (EC) No 1225/2009 of 30 November 2009 on protection against dumped imports from countries not members of the European Community\\xa0(1) (‘the basic Regulation’) and in particular Article 11(4) thereof,\\nAfter informing the Member States,\\nWhereas:\\n1.\\xa0\\xa0\\xa0REQUEST\\n(1) The European Commission (‘Commission’) has received a request for a ‘new exporter’ review pursuant to Article 11(4) of the basic Regulation.\\n(2) The request was lodged on 4 January 2014 by Juancheng Kangtai Chemical Co. Ltd (‘the applicant’), an exporting producer in the People's Republic of China (‘PRC’) of trichloroisocyanuric acid.\\n2.\\xa0\\xa0\\xa0PRODUCT\\n(3) The product under review is trichloroisocyanuric acid and preparations thereof (TCCA), also referred to as ‘symclosene’ under the international non-proprietary name (INN), currently falling within CN codes ex\\xa02933\\xa069\\xa080 and ex\\xa03808\\xa094\\xa020 (TARIC codes 2933698070 and 3808942020), and originating in the PRC (‘the product under review’).\\n3.\\xa0\\xa0\\xa0EXISTING MEASURES\\n(4) The measures currently in force are a definitive anti-dumping duty imposed by Council Implementing Regulation (EU) No 1389/2011\\xa0(2) under which imports into the Union of the product under review originating in the PRC, including the product produced by the applicant, are subject to a definitive anti-dumping duty of 42,6 % with the exception of several companies specially mentioned in Article 1(2) of that Regulation which are subject to individual duty rates.\\n4.\\xa0\\xa0\\xa0GROUNDS\\n(5) The applicant claims that it did not export the product under review to the Union during the period of investigation on which the anti-dumping measures were based, i.e. the period from 1 April 2003 to 31 March 2004 (‘the original investigation period’).\\n(6) Furthermore, the applicant claims that it is not related to any of the exporting producers of the product under review which are subject to the above-mentioned anti-dumping measures.\\n(7) The applicant further claims that it has begun exporting the product under review to the Union after the end of the original investigation period.\\n5.\\xa0\\xa0\\xa0PROCEDURE\\n(8) Union producers known to be concerned have been informed of the request for a review and have been given an opportunity to comment.\\n(9) Having examined the evidence available, the Commission concludes that there is sufficient evidence to justify the initiation of a ‘new exporter’ review, pursuant to Article 11(4) of the basic Regulation, with a view to determine the applicant's individual margin of dumping and, should dumping be found, the level of the duty to which its imports of the product under review into the Union shall be subject.\\n(10) If it is determined that the applicant fulfils the requirements to have an individual duty established, it may be necessary to amend the rate of duty currently applicable to imports of the product under review from companies not individually mentioned in Article 1(2) of Implementing Regulation (EU) No 1389/2011.\\n(a)\\xa0\\xa0\\xa0Questionnaires\\n(11) In order to obtain information it deems necessary for its investigation, the Commission will send a questionnaire to the applicant.\\n(b)\\xa0\\xa0\\xa0Collection of information and holding of hearings\\n(12) All interested parties are hereby invited to make their views known in writing and to provide supporting evidence.\\n(13) Furthermore, the Commission may hear interested parties, provided that they make a request in writing showing that there are particular reasons why they should be heard.\\n(c)\\xa0\\xa0\\xa0Selection of the market economy country\\n(14) Since the applicant expressly waived the right to claim that market economy conditions prevail for it, normal value shall be determined on the basis of Article 2(7)(a) of the basic Regulation. Therefore, an appropriate market economy country will be used for the purpose of establishing normal value in respect of the PRC. The Commission envisages using Japan again for this purpose as was done in the investigation which led to the imposition of measures on imports of the product under review from the PRC. Interested parties are hereby invited to comment on the appropriateness of this choice within the specific time limit set in Article 4(3) of this Regulation. According to the information available to the Commission, other market economy suppliers of the Union may be located, inter alia, in Switzerland, Malaysia and Indonesia. The Commission will examine whether there is production and sales of the product under investigation in those market economy third countries for which there are indications that production of the product under investigation is taking place.\\n6.\\xa0\\xa0\\xa0REPEAL OF THE DUTY IN FORCE AND REGISTRATION OF IMPORTS\\n(15) Pursuant to Article 11(4) of the basic Regulation, the anti-dumping duty in force should be repealed with regard to imports of the product under review which are produced and sold for export to the Union by the applicant. At the same time, such imports should be made subject to registration in accordance with Article 14(5) of the basic Regulation, in order to ensure that, should the review result in a finding of dumping in respect of the applicant, anti-dumping duties can be levied retroactively to the date of the initiation of the review. The amount of the applicant's possible future liabilities cannot be estimated at this stage of the proceeding.\\n7.\\xa0\\xa0\\xa0TIME-LIMITS\\n(16) In the interest of sound administration, time-limits should be stated within which:\\n— interested parties may make themselves known to the Commission, present their views in writing and submit any information to be taken into account during the investigation,\\n— interested parties may make a written request to be heard by the Commission,\\n— interested parties may comment on the appropriateness of Japan which is envisaged as a market-economy country for the purpose of establishing normal value,\\n— Attention is drawn to the fact that the exercise of most procedural rights set out in the basic Regulation depends on the party's making itself known within the time-limits indicated in Article 4 of this Regulation.\\n8.\\xa0\\xa0\\xa0COMMUNICATION WITH INTERESTED PARTIES\\n(17) Interested parties are invited to make all submissions and requests by e-mail including scanned powers of attorney and certification sheets, with the exception of voluminous replies which shall be submitted on a CD-ROM or DVD by hand or by registered mail. Their use of e-mail will constitute an agreement for the communication by e-mail and acceptance of the rules specified in the communication instructions with interested parties which are published on the website of the Directorate-General for Trade: http://trade.ec.europa.eu/doclib/docs/2011/june/tradoc_148003.pdf. The interested parties must indicate their name, address, telephone and a valid e-mail address and they should ensure that the provided e-mail address is a functioning official business e-mail which is checked on a daily basis. Once contact details are provided, the Commission will communicate with interested parties by e-mail only, unless they explicitly request to receive all documents from the Commission by another means of communication or unless the nature of the document to be sent requires the use of a registered mail. For further rules and information concerning correspondence with the Commission including principles that apply to submissions by e-mail, interested parties should consult the communication instructions with interested parties referred to above.\\n(18) All written submissions, including the information requested in this Regulation, questionnaire replies and correspondence provided by interested parties on a confidential basis must be labelled as ‘Limited’ and, in accordance with Article 19(2) of Regulation (EC) No 1225/2009, must be accompanied by a non-confidential version, which must be labelled ‘For inspection by interested parties’.\\nEuropean Commission\\nDirectorate-General for Trade\\nDirectorate H\\nOffice: N105\\xa08/21\\n1049 Bruxelles/Brussel\\nBELGIQUE/BELGIË\\nE-mail: trade-tcca-review-bis@ec.europa.eu\\n9.\\xa0\\xa0\\xa0NON-COOPERATION\\n(19) In cases in which any interested party refuses access to or does not provide the necessary information within the time-limits, or significantly impedes the investigation, findings, affirmative or negative, may be made in accordance with Article 18 of the basic Regulation, on the basis of the facts available.\\n(20) Where it is found that any interested party has supplied false or misleading information, the information shall be disregarded and use may be made of facts available.\\n(21) If an interested party does not cooperate or cooperates only partially and findings are therefore based on the facts available in accordance with Article 18 of the basic Regulation, the result may be less favourable to that party than if it had cooperated.\\n(22) Failure to give a computerised response shall not be deemed to constitute non-cooperation, provided that the interested party shows that presenting the response as requested would result in an unreasonable extra burden or unreasonable additional cost. The interested party should immediately contact the Commission.\\n10.\\xa0\\xa0\\xa0SCHEDULE OF THE INVESTIGATION\\n(23) The investigation will be concluded, pursuant to Article 11(5) of the basic Regulation, within nine months of the date of initiation of this review.\\n11.\\xa0\\xa0\\xa0PROCESSING OF PERSONAL DATA\\n(24) It is noted that any personal data collected in this investigation will be treated in accordance with Regulation (EC) No 45/2001 of the European Parliament and of the Council of 18 December 2000 on the protection of individuals with regard to the processing of personal data by the Community institutions and bodies and on the free movement of such data\\xa0(3).\\n12.\\xa0\\xa0\\xa0HEARING OFFICER\\n(25) Interested parties may request the intervention of the Hearing Officer of the Directorate-General for Trade. The Hearing Officer acts as an interface between the interested parties and the Commission investigation services. The Hearing Officer reviews requests for access to the file, disputes regarding the confidentiality of documents, requests for extension of time-limits and requests by third parties to be heard. The Hearing Officer may organise a hearing with an individual interested party and mediate to ensure that the interested party's rights of defence are being fully exercised. The Hearing Officer will also provide opportunities for a hearing involving parties to take place which would allow different views to be presented and rebuttal arguments offered.\\n(26) A request for a hearing with the Hearing Officer should be made in writing and should specify the reasons for the request. For hearings on issues pertaining to the initial stage of the investigation the request must be submitted within 15 days of the date of entry into force of this Regulation. Thereafter, a request to be heard must be submitted within specific deadlines set by the Commission in its communication with the parties.\\n(27) For further information and contact details interested parties may consult the Hearing Officer's web pages on the Directorate-General for Trade's website: http://ec.europa.eu/commission_2010-2014/degucht/contact/hearing-officer,\\nA review of Implementing Regulation (EU) No 1389/2011 is hereby initiated pursuant to Article 11(4) of Regulation (EC) No 1225/2009 in order to determine if and to what extent the imports of trichloroisocyanuric acid and preparations thereof, also referred to as ‘symclosene’ under the international non-proprietary name (INN), currently falling within within CN codes ex\\xa02933\\xa069\\xa080 and ex\\xa03808\\xa094\\xa020 (TARIC codes 2933698070 and 3808942020), originating in the People's Republic of China, produced and sold for export to the Union by Juancheng Kangtai Chemical Co. Ltd (TARIC additional code A101) should be subject to the anti-dumping duty imposed by Implementing Regulation (EU) No 1389/2011.\\nThe anti-dumping duty imposed by Implementing Regulation (EU) No 1389/2011 is hereby repealed with regard to the imports identified in Article 1 of the present Regulation.\\nThe Customs authorities are hereby directed, pursuant to Article 11(4) and Article 14(5) of Regulation (EC) No\\xa01225/2009, to take the appropriate steps to register the imports into the Union identified in Article 1 of this Regulation.\\nRegistration shall expire nine months following the date of entry into force of this Regulation.\\n1.\\xa0\\xa0\\xa0Interested parties, if their representations are to be taken into account during the investigation, must make themselves known by contacting the Commission, present their views in writing and submit a reply to the questionnaire indicated in recital 11 of this Regulation or any information to be taken into account within 37 days from the date of the entry into force of this Regulation, unless otherwise specified.\\n2.\\xa0\\xa0\\xa0Interested parties may request to be heard by the Commission investigation services. Any request to be heard must be made in writing and must specify the reasons for the request. For hearings on issues pertaining to the initial stage of the investigation the request must be submitted within 15 days of the date of entry into force of this Regulation. Thereafter, a request to be heard must be submitted within the specific deadlines set by the Commission in its communication with the parties.\\n3.\\xa0\\xa0\\xa0Parties to the investigation wanting to comment on the appropriateness of Japan, which is envisaged as a market-economy third country for the purpose of establishing normal value in respect of the People's Republic of China, must submit their comments within 10 days of the date of entry into force of this Regulation.\\nThis Regulation shall enter into force on the day following that of its publication in the Official Journal of the European Union.\\nThis Regulation shall be binding in its entirety and directly applicable in all Member States.\",\n",
       " 'eurovoc_concepts': ['1402', '2771', '3191', '5055', '519', '5969', '5971']}"
      ]
     },
     "execution_count": 2,
     "metadata": {},
     "output_type": "execute_result"
    }
   ],
   "source": [
    "train_set = dataset['train']\n",
    "example_data = train_set[0]\n",
    "example_data"
   ]
  },
  {
   "cell_type": "code",
   "execution_count": 3,
   "metadata": {},
   "outputs": [
    {
     "name": "stdout",
     "output_type": "stream",
     "text": [
      "Mapping:  {'3474': 'international affairs', '3363': 'union representative', '4488': 'data processing', '6303': 'scientific discovery', '3842': 'scientific apparatus', '538': 'rights of the individual', '1909': 'migration', '1600': 'self-defence', '1592': 'anti-trust legislation', '851': 'sociocultural facilities', '1478': 'Workers International', '2577': 'power of implementation', '1641': 'trade licence', '2566': 'postal and telecommunications services', '3586': 'scientific profession', '1760': 'mental illness', '6035': 'urban community', '1172': 'government', '2581': 'power to negotiate', '4536': 'transport under customs control', '6084': 'European Works Council', '5184': 'programmes industry', '5970': 'surgery', '1625': 'freedom of assembly', '7363': 'graphic illustration', '2916': 'applied research', '1941': 'national minority', '7392': 'urban sociology', '582': 'political right', '6401': 'environmental liability', '6744': 'eugenics', '6033': 'rural community', '5938': 'transport of patients', '6230': 'age discrimination', '2798': 'investment project', 'c_7546272f': 'identity theft', '4786': 'climatic zone', '2586': 'legislative power', '526': 'political unrest', '273': 'health costs', '8470': 'digital archiving', '3358': 'social facilities', '7410': 'biometrics', '779': 'distance learning', '4730': 'political violence', '5382': 'social change', '4006': 'economic sector', '1198': 'human rights movement', '186': 'abuse of power', '7135': 'reproductive health', '4800': 'polluted area', '3535': 'water resources', '2479': 'health policy', '2407': 'regional planning', '3697': 'biomaterials', '3164': 'industrial pollution', '5634': 'extremism', '1370': 'communications industry', '3537': 'employment statistics', '1634': 'free movement of workers', '3947': 'political science', '1691': 'illiteracy', '5473': 'scientific calculation', '3910': 'ethnic discrimination', '5887': 'air safety', '922': 'financial aid', '4141': 'domestic waste', '5572': 'sexual offence', '2152': 'public opinion', '5333': 'impact of information technology', '3639': 'traditional technology', '4452': 'terrorism', '3683': 'teaching method', '1279': 'food hygiene', '1957': 'modernisation of industry', '4184': 'marital status', 'c_46f6aaeb': 'policymaking', '4323': 'suicide', '1820': 'social analysis', '4204': 'non-profit organisation', '437': 'regional agency', '5389': 'shareholder', '5188': 'information technology', '5042': 'patent', '5154': 'public financing', '719': 'emancipation', '2478': 'research policy', '3305': 'family protection', '3885': 'public health', '3351': 'mentally disabled', '4268': 'regional statistics', '865': 'protected species', '837': 'epidemic', 'c_406ad4cc': 'risk management', '4308': 'dangerous substance', '2466': 'financing policy', '1761': 'occupational disease', '2062': 'standard of living', '4074': 'environmental risk prevention', '101': 'social conflict', '5878': 'mental health', '1758': 'endemic disease', '4727': 'sexual violence', '86': 'socioeconomic conditions', 'c_67699417': 'medical tourism', '1360': 'food industry', '4504': 'abortion', '1800': 'economic analysis', '2894': 'activity report', '5921': 'health care system', 'c_9a9e5627': 'monitoring report', '974': 'fertility', '6767': 'electronic document', '4359': 'information system', '1955': 'economic model', '788': 'medical training', '6929': 'telemedicine', '2019': 'multilingualism', 'c_1137acd8': 'human development', '6269': 'comparative analysis', '3672': 'university research', '3372': 'social medicine', '881': 'emergency aid', '1991': 'mortality', '8466': 'public policy', '4264': 'industrial statistics', '4881': 'social well-being', '5594': 'medical data', '876': 'medical institution', '3797': 'biotechnology', '5771': 'sponsorship', '5951': 'disease vector', '2501': 'family policy', '5651': 'genetics', '3289': 'alternative medicine', '3030': 'artificial intelligence', '3357': 'social assistance', '3287': 'dental medicine', '637': 'economy', '162': 'contraception', '3085': 'impact study', '2923': 'medical research', '4361': 'communications systems', '766': 'investment aid', '3844': 'medical device', '1856': 'veterinary medicine', '3512': 'health insurance', '3481': 'international aid', '437655': 'digital literacy', '413': 'natural disaster', '2106': 'OECD countries', '5684': 'systems interconnection', '2191': 'non-governmental organisation', '928': 'project management', '811': 'technical barrier', 'c_04ae3ba8': 'information security', '3730': 'health risk', '3375': 'private medical treatment', '1770': 'malnutrition', '221': 'regional cooperation', '5087': 'Comecon countries', '435299': 'open source software', '177': 'pollution control', '584': 'human rights', '77': 'public administration', '5881': 'medical science', '6910': 'knowledge management', '3013': 'economic system', '7219': 'digital technology', '4808': 'tropical zone', '3368': 'hospitalisation', '4474': 'toxicology', '2918': 'document retrieval', '1596': 'health legislation', '4374': 'smoking', '6306': 'research results', '2795': 'research programme', '3255': 'public relations', '838': 'epidemiology', '1951': 'social mobility', '3422': 'information network', '3371': 'public hygiene', '2470': 'environmental policy', '1494': 'international investment', '5659': 'sexual harassment', '5974': 'unemployment', '6189': 'electronic document management', '6290': 'resolution of the European Council', '85': 'social situation', '1680': 'literature', '2816': 'industrial property', '5585': 'sustainable development', '5181': 'data protection', '4136': 'public service', '4230': 'undernourishment', '671': 'comparative education', '1084': 'pharmaceutical expenses', '1493': 'industrial investment', '2524': 'pollution', '1161': 'logistics', '1431': 'medical computing', '5627': 'comparative study', '3356': 'general medicine', '3796': 'bio-industry', '427': 'economic development', '3320': 'migrant', '5907': 'health statistics', '772': 'social survey', '894': 'feasibility study', '1854': 'disease prevention', '5916': 'drug surveillance', '92': 'confidentiality', '6566': 'medical error', '5862': 'computer network', '4485': 'water treatment', '134': 'conservation of resources', '89': 'atmospheric conditions', '5902': 'medical specialisation', '680': 'health education', '5520': 'computer assisted design', '1491': 'direct investment', '5628': 'case study', '223': 'scientific cooperation', '2823': 'prostitution', '4050': 'social security', '1752': 'information analysis', '4259': 'population statistics'}\n",
      "Eurlex Dataset Label Count - Original: 7201 - Curated: 227\n"
     ]
    }
   ],
   "source": [
    "import pandas as pd\n",
    "\n",
    "# Read the JSON file into a DataFrame\n",
    "df = pd.read_json('./data/eurovoc_concepts.jsonl', lines=True)\n",
    "finetuned_df = pd.read_json('./data/eurovoc_concepts_finetuned.jsonl', lines=True)\n",
    "converting_dictionary = finetuned_df.set_index('id')['title'].to_dict()\n",
    "\n",
    "# Print the resulting dictionary\n",
    "print('Mapping: ', converting_dictionary)\n",
    "\n",
    "all_titles = {title: 0 for title in df['title']}\n",
    "all_titles_finetuned = {title: 0 for title in finetuned_df['title']}\n",
    "\n",
    "print('Eurlex Dataset Label Count - Original: {} - Curated: {}'.format(len(all_titles), len(all_titles_finetuned)))"
   ]
  },
  {
   "cell_type": "code",
   "execution_count": 4,
   "metadata": {},
   "outputs": [],
   "source": [
    "def adjust_original_concepts(list_of_concepts, mapping_dictionary):\n",
    "    adjusted_concepts = []\n",
    "    for concept in list_of_concepts:\n",
    "        try: \n",
    "            adjusted_concepts.append(mapping_dictionary[concept])\n",
    "        except KeyError:\n",
    "            continue\n",
    "    return adjusted_concepts"
   ]
  },
  {
   "cell_type": "code",
   "execution_count": 9,
   "metadata": {},
   "outputs": [
    {
     "name": "stdout",
     "output_type": "stream",
     "text": [
      "Original:  ['1402', '2771', '3191', '5055', '519', '5969', '5971']\n",
      "Adjusted:  []\n",
      "\n",
      "Original:  ['2319', '2713', '2938', '693']\n",
      "Adjusted:  []\n",
      "\n",
      "Original:  ['3560', '365', '4256', '4261', '4353', '4585']\n",
      "Adjusted:  []\n",
      "\n",
      "Original:  ['1091', '3842', '3874', '4110', '4381', '5287']\n",
      "Adjusted:  ['scientific apparatus']\n",
      "\n",
      "Original:  ['1026', '1048', '2300', '3653', '4271', '4390']\n",
      "Adjusted:  []\n",
      "\n",
      "Original:  ['2081', '239', '2871', '4860', '5573', '893']\n",
      "Adjusted:  []\n",
      "\n",
      "Original:  ['2676', '4472', '6042']\n",
      "Adjusted:  []\n",
      "\n",
      "Original:  ['2282', '2437', '2879', '4320', '4790', '5254']\n",
      "Adjusted:  []\n",
      "\n",
      "Original:  ['191', '2232', '2415', '3579', '4490', '5100']\n",
      "Adjusted:  []\n",
      "\n",
      "Original:  ['1519', '235', '2783', '3892']\n",
      "Adjusted:  []\n",
      "\n"
     ]
    }
   ],
   "source": [
    "for i in range(0, 10):\n",
    "    sample_data = train_set[i]\n",
    "    concepts = sample_data['eurovoc_concepts']\n",
    "    print('Original: ', concepts)\n",
    "    concepts = [converting_dictionary[concept] for concept in concepts if concept in converting_dictionary]\n",
    "    print('Adjusted: ', concepts)\n",
    "    print('')"
   ]
  },
  {
   "cell_type": "code",
   "execution_count": 15,
   "metadata": {},
   "outputs": [
    {
     "name": "stdout",
     "output_type": "stream",
     "text": [
      "0/6000\n",
      "Selected Sentences: 0 \n",
      "\n",
      "2500/6000\n",
      "Selected Sentences: 226 \n",
      "\n",
      "5000/6000\n",
      "Selected Sentences: 457 \n",
      "\n"
     ]
    }
   ],
   "source": [
    "from spacy.tokens import DocBin\n",
    "import spacy\n",
    "\n",
    "nlp = spacy.blank(\"en\")\n",
    "    \n",
    "db = DocBin()\n",
    "split_name = 'validation'\n",
    "data = dataset[split_name]\n",
    "\n",
    "count = 0\n",
    "for i in range(0, len(data)):\n",
    "    \n",
    "    #### Performance Counter    \n",
    "    if (i % 2500 == 0):\n",
    "        print(\"{}/{}\".format(i, len(data)))\n",
    "        print(\"Selected Sentences: {} \\n\".format(count))  \n",
    "   \n",
    "    ##### Check that the given sentence contains any of our wanted labels\n",
    "    concepts = [converting_dictionary[concept] for concept in data[i]['eurovoc_concepts'] if concept in converting_dictionary]\n",
    "    \n",
    "    if len(concepts) == 0:\n",
    "        continue\n",
    "    else:\n",
    "        doc = nlp(data[i]['text'])\n",
    "        # print(doc)\n",
    "        doc.cats = all_titles_finetuned.copy()\n",
    "        # print('BEFORE: ', doc.cats)\n",
    "        for concept in concepts:\n",
    "            doc.cats[concept] = 1\n",
    "        # print('After: ', doc.cats)\n",
    "        # print('')\n",
    "        count += 1\n",
    "\n",
    "    db.add(doc)\n",
    "    \n",
    "\n",
    "db.to_disk('./models/fine_tune/corpus/curated_eurlex_{}.spacy'.format(split_name))    "
   ]
  }
 ],
 "metadata": {
  "kernelspec": {
   "display_name": "Python 3",
   "language": "python",
   "name": "python3"
  },
  "language_info": {
   "codemirror_mode": {
    "name": "ipython",
    "version": 3
   },
   "file_extension": ".py",
   "mimetype": "text/x-python",
   "name": "python",
   "nbconvert_exporter": "python",
   "pygments_lexer": "ipython3",
   "version": "3.9.7"
  },
  "orig_nbformat": 4
 },
 "nbformat": 4,
 "nbformat_minor": 2
}
