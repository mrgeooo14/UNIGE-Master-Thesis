{
 "cells": [
  {
   "attachments": {},
   "cell_type": "markdown",
   "metadata": {},
   "source": [
    "##### Fine-tune Example\n",
    "\n",
    "This example will show a glimpse of fine-tuning a Spacy pretrained model and how it can lead to desired results. The fine tuning is achieved through the *model.update()* function which takes as input **Example** objects that contain pairs of sentences and their corresponding entities that follow the IOB2 schema.  "
   ]
  },
  {
   "cell_type": "code",
   "execution_count": 21,
   "metadata": {},
   "outputs": [],
   "source": [
    "import spacy\n",
    "import random\n",
    "from spacy import displacy\n",
    "from spacy.training import Example\n",
    "\n",
    "##### Load a blank model & Enable the NER component\n",
    "model_name = \"en_core_web_md\"\n",
    "nlp = spacy.load(model_name, enable = ['tok2vec', 'ner'])\n",
    "\n",
    "##### Custom Train Set\n",
    "train_set = [\n",
    "     (\"This Digital Health project was funded by the WHO in cooperation with the United Kingdom and the United States, spearheaded by Dr. Christoph John who graduated in Japan\",\n",
    "      [\"O\", \"O\", \"O\", \"O\", \"O\", \"O\", \"O\", \"O\", \"U-ORG\", \"O\", \"O\", \"O\", \"O\", \"B-GPE\", \"L-GPE\", \"O\", \"O\", \"B-GPE\", \"L-GPE\", \"O\", \"O\", \"B-PERSON\", \"I-PERSON\", \"L-PERSON\", \"O\", \"O\",\n",
    "       \"O\", \"O\", \"U-GPE\"]),\n",
    "     (\"What is GDPR, the EU's new data protection law?\", [\"O\", \"O\", \"U-LAW\", \"O\", \"U-ORG\", \"O\", \"O\", \"O\", \"O\", \"O\", \"O\"])]\n",
    "\n",
    "##### Train the NER model\n",
    "optimizer = nlp.resume_training()\n",
    "epochs = 5\n",
    "losses_dictionary = {}\n",
    "dropout = 0.0\n",
    "\n",
    "for i in range(epochs):\n",
    "    random.shuffle(train_set)\n",
    "    for text, annotations in train_set:\n",
    "        doc = nlp.make_doc(text)\n",
    "        example = Example.from_dict(doc, {\"entities\": annotations})\n",
    "        nlp.update([example],  sgd = optimizer, losses = losses_dictionary)"
   ]
  },
  {
   "attachments": {},
   "cell_type": "markdown",
   "metadata": {},
   "source": [
    "On the same example sentence, perform one prediction from the original pretrained model and the fine-tuned version of it to show that the differences (if any) impact our desired performance positively."
   ]
  },
  {
   "cell_type": "code",
   "execution_count": 14,
   "metadata": {},
   "outputs": [
    {
     "name": "stdout",
     "output_type": "stream",
     "text": [
      "Original Model: \n"
     ]
    },
    {
     "data": {
      "text/html": [
       "<span class=\"tex2jax_ignore\"><div class=\"entities\" style=\"line-height: 2.5; direction: ltr\">\n",
       "<mark class=\"entity\" style=\"background: #feca74; padding: 0.45em 0.6em; margin: 0 0.25em; line-height: 1; border-radius: 0.35em;\">\n",
       "    The United States\n",
       "    <span style=\"font-size: 0.8em; font-weight: bold; line-height: 1; border-radius: 0.35em; vertical-align: middle; margin-left: 0.5rem\">GPE</span>\n",
       "</mark>\n",
       " agreed to strengthen it's cooperation with digital health organizations in \n",
       "<mark class=\"entity\" style=\"background: #feca74; padding: 0.45em 0.6em; margin: 0 0.25em; line-height: 1; border-radius: 0.35em;\">\n",
       "    Paris\n",
       "    <span style=\"font-size: 0.8em; font-weight: bold; line-height: 1; border-radius: 0.35em; vertical-align: middle; margin-left: 0.5rem\">GPE</span>\n",
       "</mark>\n",
       " and \n",
       "<mark class=\"entity\" style=\"background: #feca74; padding: 0.45em 0.6em; margin: 0 0.25em; line-height: 1; border-radius: 0.35em;\">\n",
       "    Geneva\n",
       "    <span style=\"font-size: 0.8em; font-weight: bold; line-height: 1; border-radius: 0.35em; vertical-align: middle; margin-left: 0.5rem\">GPE</span>\n",
       "</mark>\n",
       ", while following GDPR</div></span>"
      ],
      "text/plain": [
       "<IPython.core.display.HTML object>"
      ]
     },
     "metadata": {},
     "output_type": "display_data"
    },
    {
     "name": "stdout",
     "output_type": "stream",
     "text": [
      "Fine-tuned:\n"
     ]
    },
    {
     "data": {
      "text/html": [
       "<span class=\"tex2jax_ignore\"><div class=\"entities\" style=\"line-height: 2.5; direction: ltr\">The \n",
       "<mark class=\"entity\" style=\"background: #feca74; padding: 0.45em 0.6em; margin: 0 0.25em; line-height: 1; border-radius: 0.35em;\">\n",
       "    United States\n",
       "    <span style=\"font-size: 0.8em; font-weight: bold; line-height: 1; border-radius: 0.35em; vertical-align: middle; margin-left: 0.5rem\">GPE</span>\n",
       "</mark>\n",
       " agreed to strengthen it's cooperation with digital health organizations in \n",
       "<mark class=\"entity\" style=\"background: #feca74; padding: 0.45em 0.6em; margin: 0 0.25em; line-height: 1; border-radius: 0.35em;\">\n",
       "    Paris\n",
       "    <span style=\"font-size: 0.8em; font-weight: bold; line-height: 1; border-radius: 0.35em; vertical-align: middle; margin-left: 0.5rem\">GPE</span>\n",
       "</mark>\n",
       " and \n",
       "<mark class=\"entity\" style=\"background: #feca74; padding: 0.45em 0.6em; margin: 0 0.25em; line-height: 1; border-radius: 0.35em;\">\n",
       "    Geneva\n",
       "    <span style=\"font-size: 0.8em; font-weight: bold; line-height: 1; border-radius: 0.35em; vertical-align: middle; margin-left: 0.5rem\">GPE</span>\n",
       "</mark>\n",
       ", while following \n",
       "<mark class=\"entity\" style=\"background: #ff8197; padding: 0.45em 0.6em; margin: 0 0.25em; line-height: 1; border-radius: 0.35em;\">\n",
       "    GDPR\n",
       "    <span style=\"font-size: 0.8em; font-weight: bold; line-height: 1; border-radius: 0.35em; vertical-align: middle; margin-left: 0.5rem\">LAW</span>\n",
       "</mark>\n",
       "</div></span>"
      ],
      "text/plain": [
       "<IPython.core.display.HTML object>"
      ]
     },
     "metadata": {},
     "output_type": "display_data"
    }
   ],
   "source": [
    "nlp_orig = spacy.load(model_name, enable = ['tok2vec', 'ner'])\n",
    "\n",
    "#### Test the model on a new sentence\n",
    "example_sentence = \"The United States agreed to strengthen it's cooperation with digital health organizations in Paris and Geneva, while following GDPR\"\n",
    "doc = nlp_orig(example_sentence)\n",
    "docerino = nlp(example_sentence)\n",
    "\n",
    "print('Original Model: ')\n",
    "displacy.render(doc, style = 'ent')\n",
    "print('Fine-tuned:')\n",
    "displacy.render(docerino, style = 'ent')"
   ]
  }
 ],
 "metadata": {
  "kernelspec": {
   "display_name": "Python 3",
   "language": "python",
   "name": "python3"
  },
  "language_info": {
   "codemirror_mode": {
    "name": "ipython",
    "version": 3
   },
   "file_extension": ".py",
   "mimetype": "text/x-python",
   "name": "python",
   "nbconvert_exporter": "python",
   "pygments_lexer": "ipython3",
   "version": "3.9.7"
  },
  "orig_nbformat": 4
 },
 "nbformat": 4,
 "nbformat_minor": 2
}
