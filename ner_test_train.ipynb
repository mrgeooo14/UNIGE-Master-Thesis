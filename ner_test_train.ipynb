{
 "cells": [
  {
   "attachments": {},
   "cell_type": "markdown",
   "metadata": {},
   "source": [
    "Fine-tune example"
   ]
  },
  {
   "cell_type": "code",
   "execution_count": 1,
   "metadata": {},
   "outputs": [],
   "source": [
    "import spacy\n",
    "import random\n",
    "from spacy import displacy\n",
    "from spacy.training import Example\n",
    "\n",
    "#### Load a blank model & Create the NER component\n",
    "nlp = spacy.blank(\"en\")\n",
    "ner = nlp.add_pipe(\"ner\")\n",
    "ner.add_label(\"ORG\")\n",
    "ner.add_label(\"PERSON\")\n",
    "ner.add_label(\"GPE\")\n",
    "\n",
    "#### Custom Train Set\n",
    "train_set = [\n",
    "     (\"This Digital Health project was funded by the WHO in cooperation with the United Kingdom and the United States, spearheaded by Dr. Christoph John who graduated in Japan\",\n",
    "      [\"O\", \"O\", \"O\", \"O\", \"O\", \"O\", \"O\", \"O\", \"U-ORG\", \"O\", \"O\", \"O\", \"O\", \"B-GPE\", \"L-GPE\", \"O\", \"O\", \"B-GPE\", \"L-GPE\", \"O\", \"O\", \"U-PERSON\", \"U-PERSON\", \"U-PERSON\", \"O\", \"O\",\n",
    "       \"O\", \"U-GPE\"])]\n",
    "\n",
    "##### Train the NER model\n",
    "optimizer = nlp.initialize()\n",
    "for i in range(50):\n",
    "    random.shuffle(train_set)\n",
    "    for text, annotations in train_set:\n",
    "        doc = nlp.make_doc(text)\n",
    "        example = Example.from_dict(doc, {\"entities\": annotations})\n",
    "        nlp.update([example],  sgd = optimizer)\n"
   ]
  },
  {
   "cell_type": "code",
   "execution_count": 3,
   "metadata": {},
   "outputs": [
    {
     "name": "stdout",
     "output_type": "stream",
     "text": [
      "Original Model: \n"
     ]
    },
    {
     "data": {
      "text/html": [
       "<span class=\"tex2jax_ignore\"><div class=\"entities\" style=\"line-height: 2.5; direction: ltr\">\n",
       "<mark class=\"entity\" style=\"background: #feca74; padding: 0.45em 0.6em; margin: 0 0.25em; line-height: 1; border-radius: 0.35em;\">\n",
       "    The United States\n",
       "    <span style=\"font-size: 0.8em; font-weight: bold; line-height: 1; border-radius: 0.35em; vertical-align: middle; margin-left: 0.5rem\">GPE</span>\n",
       "</mark>\n",
       " agreed to strengthen it's cooperation with digital health organizations.</div></span>"
      ],
      "text/plain": [
       "<IPython.core.display.HTML object>"
      ]
     },
     "metadata": {},
     "output_type": "display_data"
    },
    {
     "name": "stdout",
     "output_type": "stream",
     "text": [
      "Fine-tuned:\n"
     ]
    },
    {
     "data": {
      "text/html": [
       "<span class=\"tex2jax_ignore\"><div class=\"entities\" style=\"line-height: 2.5; direction: ltr\">The \n",
       "<mark class=\"entity\" style=\"background: #feca74; padding: 0.45em 0.6em; margin: 0 0.25em; line-height: 1; border-radius: 0.35em;\">\n",
       "    United States\n",
       "    <span style=\"font-size: 0.8em; font-weight: bold; line-height: 1; border-radius: 0.35em; vertical-align: middle; margin-left: 0.5rem\">GPE</span>\n",
       "</mark>\n",
       " agreed to strengthen it's cooperation with digital health organizations.</div></span>"
      ],
      "text/plain": [
       "<IPython.core.display.HTML object>"
      ]
     },
     "metadata": {},
     "output_type": "display_data"
    }
   ],
   "source": [
    "nlp_orig = spacy.load(\"en_core_web_sm\", enable = ['ner'])\n",
    "\n",
    "#### Test the model on a new sentence\n",
    "example_sentence = \"The United States agreed to strengthen it's cooperation with digital health organizations.\"\n",
    "doc = nlp_orig(example_sentence)\n",
    "docerino = nlp(example_sentence)\n",
    "\n",
    "print('Original Model: ')\n",
    "displacy.render(doc, style = 'ent')\n",
    "print('Fine-tuned:')\n",
    "displacy.render(docerino, style = 'ent')"
   ]
  }
 ],
 "metadata": {
  "kernelspec": {
   "display_name": "Python 3",
   "language": "python",
   "name": "python3"
  },
  "language_info": {
   "codemirror_mode": {
    "name": "ipython",
    "version": 3
   },
   "file_extension": ".py",
   "mimetype": "text/x-python",
   "name": "python",
   "nbconvert_exporter": "python",
   "pygments_lexer": "ipython3",
   "version": "3.9.7"
  },
  "orig_nbformat": 4
 },
 "nbformat": 4,
 "nbformat_minor": 2
}
